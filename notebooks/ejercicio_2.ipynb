{
 "cells": [
  {
   "cell_type": "code",
   "execution_count": 1,
   "metadata": {},
   "outputs": [],
   "source": [
    "import numpy as np\n",
    "import pandas as pd"
   ]
  },
  {
   "cell_type": "markdown",
   "metadata": {},
   "source": [
    "Ejercicio 1: Operaciones avanzadas con NumPy\n",
    "\n",
    "Crea un array de números aleatorios enteros entre 1 y 100 con forma (5,5) y realiza las siguientes operaciones:\n",
    "\n",
    "* ✅ Encuentra el valor máximo y mínimo del array.\n",
    "* ✅ Calcula la media y la desviación estándar.\n",
    "* ✅ Encuentra la suma de cada fila y cada columna.\n",
    "* ✅ Normaliza el array (resta la media y divide entre la desviación estándar)."
   ]
  },
  {
   "cell_type": "code",
   "execution_count": 2,
   "metadata": {},
   "outputs": [
    {
     "data": {
      "text/plain": [
       "array([[ 70, 100,  22,   2,   9],\n",
       "       [100,   2,  95,  86,  55],\n",
       "       [ 62,   4,  95,  92,  26],\n",
       "       [  4,  63,   3,  99,  24],\n",
       "       [ 20,  29,  92,  42,  43]], dtype=int32)"
      ]
     },
     "execution_count": 2,
     "metadata": {},
     "output_type": "execute_result"
    }
   ],
   "source": [
    "# Crear un array \n",
    "array_aleatorio = np.random.randint(1,101,size=(5,5))\n",
    "#imprimir el array\n",
    "array_aleatorio"
   ]
  },
  {
   "cell_type": "code",
   "execution_count": 3,
   "metadata": {},
   "outputs": [
    {
     "name": "stdout",
     "output_type": "stream",
     "text": [
      "Valor maximo: 100\n",
      "Valor minimo: 2\n"
     ]
    }
   ],
   "source": [
    "# Encontrar el valor maximo y minimo del array\n",
    "valor_maximo = array_aleatorio.max()\n",
    "valor_minimo = array_aleatorio.min()\n",
    "\n",
    "print(f'Valor maximo: {valor_maximo}')\n",
    "print(f'Valor minimo: {valor_minimo}')"
   ]
  },
  {
   "cell_type": "code",
   "execution_count": 4,
   "metadata": {},
   "outputs": [
    {
     "name": "stdout",
     "output_type": "stream",
     "text": [
      "Media: 49.56\n",
      "Desviacion estandar: 36.45718584860877\n"
     ]
    }
   ],
   "source": [
    "# Calcular la media y la desviacion estandar del array\n",
    "media = array_aleatorio.mean()\n",
    "desviacion_estandar = array_aleatorio.std()\n",
    "print(f'Media: {media}')\n",
    "print(f'Desviacion estandar: {desviacion_estandar}')"
   ]
  },
  {
   "cell_type": "code",
   "execution_count": 5,
   "metadata": {},
   "outputs": [
    {
     "name": "stdout",
     "output_type": "stream",
     "text": [
      "Suma de las columnas: [256 198 307 321 157]\n"
     ]
    }
   ],
   "source": [
    "# Encuentra la suma de los valores de cada columna\n",
    "suma_columnas = array_aleatorio.sum(axis=0)\n",
    "print(f'Suma de las columnas: {suma_columnas}')"
   ]
  },
  {
   "cell_type": "code",
   "execution_count": 7,
   "metadata": {},
   "outputs": [
    {
     "data": {
      "text/plain": [
       "array([[ 0.56065765,  1.38354069, -0.75595522, -1.30454392, -1.11253787],\n",
       "       [ 1.38354069, -1.30454392,  1.24639351,  0.9995286 ,  0.14921612],\n",
       "       [ 0.34122217, -1.24968505,  1.24639351,  1.16410521, -0.64623748],\n",
       "       [-1.24968505,  0.3686516 , -1.27711448,  1.35611125, -0.70109635],\n",
       "       [-0.81081409, -0.56394918,  1.16410521, -0.20736653, -0.17993709]])"
      ]
     },
     "execution_count": 7,
     "metadata": {},
     "output_type": "execute_result"
    }
   ],
   "source": [
    "# Normalizar el array\n",
    "array_normalizado = (array_aleatorio - media) / desviacion_estandar\n",
    "array_normalizado"
   ]
  },
  {
   "cell_type": "markdown",
   "metadata": {},
   "source": [
    "Ejercicio 2: Transformación de datos en Pandas\n",
    "Crea el siguiente DataFrame:\n",
    "* Producto: ['Laptop', 'Celular', 'Tablet', 'Monitor', 'Teclado'],\n",
    "* Precio: [15000, 8000, 5000, 3000, 500],\n",
    "* Cantidad: [3, 5, 4, 10, 15],\n",
    "* Fecha Venta: ['2024-03-01', '2024-03-02', '2024-03-03', '2024-03-04', '2024-03-05']\n",
    "\n",
    "Realiza las siguientes tareas:\n",
    "\n",
    "✅ Agrega una columna de \"Descuento\" con un 10% si el precio es mayor a 5000, y 5"
   ]
  },
  {
   "cell_type": "code",
   "execution_count": 8,
   "metadata": {},
   "outputs": [
    {
     "data": {
      "text/html": [
       "<div>\n",
       "<style scoped>\n",
       "    .dataframe tbody tr th:only-of-type {\n",
       "        vertical-align: middle;\n",
       "    }\n",
       "\n",
       "    .dataframe tbody tr th {\n",
       "        vertical-align: top;\n",
       "    }\n",
       "\n",
       "    .dataframe thead th {\n",
       "        text-align: right;\n",
       "    }\n",
       "</style>\n",
       "<table border=\"1\" class=\"dataframe\">\n",
       "  <thead>\n",
       "    <tr style=\"text-align: right;\">\n",
       "      <th></th>\n",
       "      <th>Producto</th>\n",
       "      <th>Precio</th>\n",
       "      <th>Cantidad</th>\n",
       "      <th>Fecha Venta</th>\n",
       "    </tr>\n",
       "  </thead>\n",
       "  <tbody>\n",
       "    <tr>\n",
       "      <th>0</th>\n",
       "      <td>Laptop</td>\n",
       "      <td>15000</td>\n",
       "      <td>3</td>\n",
       "      <td>2024-03-01</td>\n",
       "    </tr>\n",
       "    <tr>\n",
       "      <th>1</th>\n",
       "      <td>Celular</td>\n",
       "      <td>8000</td>\n",
       "      <td>5</td>\n",
       "      <td>2024-03-02</td>\n",
       "    </tr>\n",
       "    <tr>\n",
       "      <th>2</th>\n",
       "      <td>Tablet</td>\n",
       "      <td>5000</td>\n",
       "      <td>4</td>\n",
       "      <td>2024-03-03</td>\n",
       "    </tr>\n",
       "    <tr>\n",
       "      <th>3</th>\n",
       "      <td>Monitor</td>\n",
       "      <td>3000</td>\n",
       "      <td>10</td>\n",
       "      <td>2024-03-04</td>\n",
       "    </tr>\n",
       "    <tr>\n",
       "      <th>4</th>\n",
       "      <td>Teclado</td>\n",
       "      <td>500</td>\n",
       "      <td>15</td>\n",
       "      <td>2024-03-05</td>\n",
       "    </tr>\n",
       "  </tbody>\n",
       "</table>\n",
       "</div>"
      ],
      "text/plain": [
       "  Producto  Precio  Cantidad Fecha Venta\n",
       "0   Laptop   15000         3  2024-03-01\n",
       "1  Celular    8000         5  2024-03-02\n",
       "2   Tablet    5000         4  2024-03-03\n",
       "3  Monitor    3000        10  2024-03-04\n",
       "4  Teclado     500        15  2024-03-05"
      ]
     },
     "execution_count": 8,
     "metadata": {},
     "output_type": "execute_result"
    }
   ],
   "source": [
    "# Crear un DataFrame de pandas\n",
    "data = {\n",
    "    'Producto': ['Laptop', 'Celular', 'Tablet', 'Monitor', 'Teclado'],\n",
    "    'Precio': [15000, 8000, 5000, 3000, 500],\n",
    "    'Cantidad': [3, 5, 4, 10, 15],\n",
    "    'Fecha Venta': ['2024-03-01', '2024-03-02', '2024-03-03', '2024-03-04', '2024-03-05']\n",
    "}\n",
    "\n",
    "df = pd.DataFrame(data)\n",
    "df.head()"
   ]
  },
  {
   "cell_type": "code",
   "execution_count": null,
   "metadata": {},
   "outputs": [
    {
     "data": {
      "text/html": [
       "<div>\n",
       "<style scoped>\n",
       "    .dataframe tbody tr th:only-of-type {\n",
       "        vertical-align: middle;\n",
       "    }\n",
       "\n",
       "    .dataframe tbody tr th {\n",
       "        vertical-align: top;\n",
       "    }\n",
       "\n",
       "    .dataframe thead th {\n",
       "        text-align: right;\n",
       "    }\n",
       "</style>\n",
       "<table border=\"1\" class=\"dataframe\">\n",
       "  <thead>\n",
       "    <tr style=\"text-align: right;\">\n",
       "      <th></th>\n",
       "      <th>Producto</th>\n",
       "      <th>Precio</th>\n",
       "      <th>Cantidad</th>\n",
       "      <th>Fecha Venta</th>\n",
       "      <th>Descuentos</th>\n",
       "    </tr>\n",
       "  </thead>\n",
       "  <tbody>\n",
       "    <tr>\n",
       "      <th>0</th>\n",
       "      <td>Laptop</td>\n",
       "      <td>15000</td>\n",
       "      <td>3</td>\n",
       "      <td>2024-03-01</td>\n",
       "      <td>1500.0</td>\n",
       "    </tr>\n",
       "    <tr>\n",
       "      <th>1</th>\n",
       "      <td>Celular</td>\n",
       "      <td>8000</td>\n",
       "      <td>5</td>\n",
       "      <td>2024-03-02</td>\n",
       "      <td>800.0</td>\n",
       "    </tr>\n",
       "    <tr>\n",
       "      <th>2</th>\n",
       "      <td>Tablet</td>\n",
       "      <td>5000</td>\n",
       "      <td>4</td>\n",
       "      <td>2024-03-03</td>\n",
       "      <td>0.0</td>\n",
       "    </tr>\n",
       "    <tr>\n",
       "      <th>3</th>\n",
       "      <td>Monitor</td>\n",
       "      <td>3000</td>\n",
       "      <td>10</td>\n",
       "      <td>2024-03-04</td>\n",
       "      <td>150.0</td>\n",
       "    </tr>\n",
       "    <tr>\n",
       "      <th>4</th>\n",
       "      <td>Teclado</td>\n",
       "      <td>500</td>\n",
       "      <td>15</td>\n",
       "      <td>2024-03-05</td>\n",
       "      <td>25.0</td>\n",
       "    </tr>\n",
       "  </tbody>\n",
       "</table>\n",
       "</div>"
      ],
      "text/plain": [
       "  Producto  Precio  Cantidad Fecha Venta  Descuentos\n",
       "0   Laptop   15000         3  2024-03-01      1500.0\n",
       "1  Celular    8000         5  2024-03-02       800.0\n",
       "2   Tablet    5000         4  2024-03-03         0.0\n",
       "3  Monitor    3000        10  2024-03-04       150.0\n",
       "4  Teclado     500        15  2024-03-05        25.0"
      ]
     },
     "execution_count": 13,
     "metadata": {},
     "output_type": "execute_result"
    }
   ],
   "source": [
    "df['Descuentos'] = df.apply(lambda row: row['Precio'] * 0.1 if row['Precio'] > 5000 else row['Precio'] * 0.05 if row['Precio'] < 5000 else 0, axis=1)\n",
    "df"
   ]
  }
 ],
 "metadata": {
  "kernelspec": {
   "display_name": "venv",
   "language": "python",
   "name": "python3"
  },
  "language_info": {
   "codemirror_mode": {
    "name": "ipython",
    "version": 3
   },
   "file_extension": ".py",
   "mimetype": "text/x-python",
   "name": "python",
   "nbconvert_exporter": "python",
   "pygments_lexer": "ipython3",
   "version": "3.12.1"
  }
 },
 "nbformat": 4,
 "nbformat_minor": 2
}
