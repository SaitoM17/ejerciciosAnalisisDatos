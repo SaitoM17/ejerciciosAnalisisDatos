{
 "cells": [
  {
   "cell_type": "code",
   "execution_count": 3,
   "metadata": {},
   "outputs": [],
   "source": [
    "import pandas as pd\n",
    "import numpy as np "
   ]
  },
  {
   "cell_type": "markdown",
   "metadata": {},
   "source": [
    "Ejercicio 1: Manipulación de Arrays con NumPy\n",
    "\n",
    "Crea un array NumPy de números enteros aleatorios entre 50 y 150 con forma (4,6). Luego realiza las siguientes operaciones:\n",
    "\n",
    "* ✅ Encuentra el valor máximo y mínimo de cada fila.\n",
    "* ✅ Calcula la media y la mediana de todo el array.\n",
    "* ✅ Genera un nuevo array binario donde los valores mayores a la media sean 1 y los menores o iguales sean 0.\n",
    "* ✅ Ordena el array de menor a mayor en cada fila."
   ]
  },
  {
   "cell_type": "code",
   "execution_count": 4,
   "metadata": {},
   "outputs": [
    {
     "data": {
      "text/plain": [
       "array([[111, 150, 145, 140, 150,  69],\n",
       "       [150,  69,  70, 113,  75, 100],\n",
       "       [ 54,  74,  66,  93,  55,  88],\n",
       "       [108,  78, 100, 116, 122, 150]], dtype=int32)"
      ]
     },
     "execution_count": 4,
     "metadata": {},
     "output_type": "execute_result"
    }
   ],
   "source": [
    "# Creación del array aleatorio\n",
    "array_aleatorio = np.random.randint(50, 151, size=(4, 6))\n",
    "array_aleatorio"
   ]
  },
  {
   "cell_type": "code",
   "execution_count": 6,
   "metadata": {},
   "outputs": [
    {
     "name": "stdout",
     "output_type": "stream",
     "text": [
      "Valores Maximos: [150 150  93 150]    Valores Minimos: [69 69 54 78]\n"
     ]
    }
   ],
   "source": [
    "# Encontrar el valor máximo y mínimo de cada fial\n",
    "valor_minimo_filas = array_aleatorio.min(axis=1)\n",
    "valor_maximo_filas = array_aleatorio.max(axis=1)\n",
    "print(f'Valores Maximos: {valor_maximo_filas}    Valores Minimos: {valor_minimo_filas}')"
   ]
  },
  {
   "cell_type": "code",
   "execution_count": 4,
   "metadata": {},
   "outputs": [
    {
     "name": "stdout",
     "output_type": "stream",
     "text": [
      "Media:104.41666666666667    Mediana:106.5\n"
     ]
    }
   ],
   "source": [
    "# Calcular la media y la mediana de todo el array\n",
    "media = array_aleatorio.mean()\n",
    "mediana = np.median(array_aleatorio)\n",
    "print(f'Media:{media}    Mediana:{mediana}')"
   ]
  },
  {
   "cell_type": "code",
   "execution_count": null,
   "metadata": {},
   "outputs": [
    {
     "data": {
      "text/plain": [
       "array([[0, 0, 1, 1, 1, 1],\n",
       "       [1, 1, 0, 1, 0, 0],\n",
       "       [0, 0, 0, 1, 1, 1],\n",
       "       [1, 0, 0, 1, 0, 0]])"
      ]
     },
     "execution_count": 5,
     "metadata": {},
     "output_type": "execute_result"
    }
   ],
   "source": [
    "# Crear un array binario donde 1 sea si el valor es mayor a la media y 0 si es menor o igual\n",
    "array_binario = np.where(array_aleatorio > media, 1, 0)\n",
    "array_binario"
   ]
  },
  {
   "cell_type": "code",
   "execution_count": 7,
   "metadata": {},
   "outputs": [
    {
     "data": {
      "text/plain": [
       "array([[ 69, 111, 140, 145, 150, 150],\n",
       "       [ 69,  70,  75, 100, 113, 150],\n",
       "       [ 54,  55,  66,  74,  88,  93],\n",
       "       [ 78, 100, 108, 116, 122, 150]], dtype=int32)"
      ]
     },
     "execution_count": 7,
     "metadata": {},
     "output_type": "execute_result"
    }
   ],
   "source": [
    "# Ordenar array de menor a mayor en cada fila\n",
    "ordenar_array = np.sort(array_aleatorio, axis=1)\n",
    "ordenar_array"
   ]
  },
  {
   "cell_type": "markdown",
   "metadata": {},
   "source": [
    "Ejercicio 2: Transformación y análisis de datos en Pandas\n",
    "Crea un DataFrame con los siguientes datos:\n",
    "* 'Producto': ['Laptop', 'Celular', 'Silla Gamer', 'Monitor', 'Escritorio'],\n",
    "* 'Categoría': ['Electrónica', 'Electrónica', 'Muebles', 'Electrónica', 'Muebles'],\n",
    "* 'Precio': [18000, 9000, 4500, 7500, 6000],\n",
    "* 'Stock': [5, 12, 8, 10, 6],\n",
    "* 'Fecha de Ingreso': ['2024-03-10', '2024-03-11', '2024-03-12', '2024-03-13', '2024-03-14']\n",
    "\n",
    "\n",
    "Realiza las siguientes tareas:\n",
    "\n",
    "* ✅ Agregar una nueva columna llamada \"Descuento\" donde:\n",
    "\n",
    "    * Si el producto es de Electrónica, se aplica un 15% de descuento.\n",
    "\n",
    "    * Si es de Muebles, se aplica un 10% de descuento.\n",
    "\n",
    "* ✅ Filtrar solo los productos con un stock mayor a 5.\n",
    "* ✅ Ordenar el DataFrame por Precio de mayor a menor."
   ]
  },
  {
   "cell_type": "code",
   "execution_count": 7,
   "metadata": {},
   "outputs": [
    {
     "data": {
      "text/html": [
       "<div>\n",
       "<style scoped>\n",
       "    .dataframe tbody tr th:only-of-type {\n",
       "        vertical-align: middle;\n",
       "    }\n",
       "\n",
       "    .dataframe tbody tr th {\n",
       "        vertical-align: top;\n",
       "    }\n",
       "\n",
       "    .dataframe thead th {\n",
       "        text-align: right;\n",
       "    }\n",
       "</style>\n",
       "<table border=\"1\" class=\"dataframe\">\n",
       "  <thead>\n",
       "    <tr style=\"text-align: right;\">\n",
       "      <th></th>\n",
       "      <th>Producto</th>\n",
       "      <th>Categoría</th>\n",
       "      <th>Precio</th>\n",
       "      <th>Stock</th>\n",
       "      <th>Fecha de Ingreso</th>\n",
       "    </tr>\n",
       "  </thead>\n",
       "  <tbody>\n",
       "    <tr>\n",
       "      <th>0</th>\n",
       "      <td>Laptop</td>\n",
       "      <td>Electrónica</td>\n",
       "      <td>18000</td>\n",
       "      <td>5</td>\n",
       "      <td>2024-03-10</td>\n",
       "    </tr>\n",
       "    <tr>\n",
       "      <th>1</th>\n",
       "      <td>Celular</td>\n",
       "      <td>Electrónica</td>\n",
       "      <td>9000</td>\n",
       "      <td>12</td>\n",
       "      <td>2024-03-11</td>\n",
       "    </tr>\n",
       "    <tr>\n",
       "      <th>2</th>\n",
       "      <td>Silla Gamer</td>\n",
       "      <td>Muebles</td>\n",
       "      <td>4500</td>\n",
       "      <td>8</td>\n",
       "      <td>2024-03-12</td>\n",
       "    </tr>\n",
       "    <tr>\n",
       "      <th>3</th>\n",
       "      <td>Monitor</td>\n",
       "      <td>Electrónica</td>\n",
       "      <td>7500</td>\n",
       "      <td>10</td>\n",
       "      <td>2024-03-13</td>\n",
       "    </tr>\n",
       "    <tr>\n",
       "      <th>4</th>\n",
       "      <td>Escritorio</td>\n",
       "      <td>Muebles</td>\n",
       "      <td>6000</td>\n",
       "      <td>6</td>\n",
       "      <td>2024-03-14</td>\n",
       "    </tr>\n",
       "  </tbody>\n",
       "</table>\n",
       "</div>"
      ],
      "text/plain": [
       "      Producto    Categoría  Precio  Stock Fecha de Ingreso\n",
       "0       Laptop  Electrónica   18000      5       2024-03-10\n",
       "1      Celular  Electrónica    9000     12       2024-03-11\n",
       "2  Silla Gamer      Muebles    4500      8       2024-03-12\n",
       "3      Monitor  Electrónica    7500     10       2024-03-13\n",
       "4   Escritorio      Muebles    6000      6       2024-03-14"
      ]
     },
     "execution_count": 7,
     "metadata": {},
     "output_type": "execute_result"
    }
   ],
   "source": [
    "# Crear DataFramse\n",
    "data_1 = {\n",
    "    'Producto': ['Laptop', 'Celular', 'Silla Gamer', 'Monitor', 'Escritorio'],\n",
    "    'Categoría': ['Electrónica', 'Electrónica', 'Muebles', 'Electrónica', 'Muebles'],\n",
    "    'Precio': [18000, 9000, 4500, 7500, 6000],\n",
    "    'Stock': [5, 12, 8, 10, 6],\n",
    "    'Fecha de Ingreso': ['2024-03-10', '2024-03-11', '2024-03-12', '2024-03-13', '2024-03-14']\n",
    "}\n",
    "\n",
    "df = pd.DataFrame(data_1)\n",
    "df.head()"
   ]
  },
  {
   "cell_type": "code",
   "execution_count": 8,
   "metadata": {},
   "outputs": [
    {
     "data": {
      "text/html": [
       "<div>\n",
       "<style scoped>\n",
       "    .dataframe tbody tr th:only-of-type {\n",
       "        vertical-align: middle;\n",
       "    }\n",
       "\n",
       "    .dataframe tbody tr th {\n",
       "        vertical-align: top;\n",
       "    }\n",
       "\n",
       "    .dataframe thead th {\n",
       "        text-align: right;\n",
       "    }\n",
       "</style>\n",
       "<table border=\"1\" class=\"dataframe\">\n",
       "  <thead>\n",
       "    <tr style=\"text-align: right;\">\n",
       "      <th></th>\n",
       "      <th>Producto</th>\n",
       "      <th>Categoría</th>\n",
       "      <th>Precio</th>\n",
       "      <th>Stock</th>\n",
       "      <th>Fecha de Ingreso</th>\n",
       "      <th>Descuentos</th>\n",
       "    </tr>\n",
       "  </thead>\n",
       "  <tbody>\n",
       "    <tr>\n",
       "      <th>0</th>\n",
       "      <td>Laptop</td>\n",
       "      <td>Electrónica</td>\n",
       "      <td>18000</td>\n",
       "      <td>5</td>\n",
       "      <td>2024-03-10</td>\n",
       "      <td>2700.0</td>\n",
       "    </tr>\n",
       "    <tr>\n",
       "      <th>1</th>\n",
       "      <td>Celular</td>\n",
       "      <td>Electrónica</td>\n",
       "      <td>9000</td>\n",
       "      <td>12</td>\n",
       "      <td>2024-03-11</td>\n",
       "      <td>1350.0</td>\n",
       "    </tr>\n",
       "    <tr>\n",
       "      <th>2</th>\n",
       "      <td>Silla Gamer</td>\n",
       "      <td>Muebles</td>\n",
       "      <td>4500</td>\n",
       "      <td>8</td>\n",
       "      <td>2024-03-12</td>\n",
       "      <td>450.0</td>\n",
       "    </tr>\n",
       "    <tr>\n",
       "      <th>3</th>\n",
       "      <td>Monitor</td>\n",
       "      <td>Electrónica</td>\n",
       "      <td>7500</td>\n",
       "      <td>10</td>\n",
       "      <td>2024-03-13</td>\n",
       "      <td>1125.0</td>\n",
       "    </tr>\n",
       "    <tr>\n",
       "      <th>4</th>\n",
       "      <td>Escritorio</td>\n",
       "      <td>Muebles</td>\n",
       "      <td>6000</td>\n",
       "      <td>6</td>\n",
       "      <td>2024-03-14</td>\n",
       "      <td>600.0</td>\n",
       "    </tr>\n",
       "  </tbody>\n",
       "</table>\n",
       "</div>"
      ],
      "text/plain": [
       "      Producto    Categoría  Precio  Stock Fecha de Ingreso  Descuentos\n",
       "0       Laptop  Electrónica   18000      5       2024-03-10      2700.0\n",
       "1      Celular  Electrónica    9000     12       2024-03-11      1350.0\n",
       "2  Silla Gamer      Muebles    4500      8       2024-03-12       450.0\n",
       "3      Monitor  Electrónica    7500     10       2024-03-13      1125.0\n",
       "4   Escritorio      Muebles    6000      6       2024-03-14       600.0"
      ]
     },
     "execution_count": 8,
     "metadata": {},
     "output_type": "execute_result"
    }
   ],
   "source": [
    "# Agregar un nueva columnas \"Descuentos\"\n",
    "df['Descuentos'] = df.apply(lambda row: row['Precio'] * 0.15 if row['Categoría'] == 'Electrónica' else row['Precio'] * 0.1 if row['Categoría'] == 'Muebles' else 0, axis=1)\n",
    "df"
   ]
  },
  {
   "cell_type": "code",
   "execution_count": 11,
   "metadata": {},
   "outputs": [
    {
     "data": {
      "text/html": [
       "<div>\n",
       "<style scoped>\n",
       "    .dataframe tbody tr th:only-of-type {\n",
       "        vertical-align: middle;\n",
       "    }\n",
       "\n",
       "    .dataframe tbody tr th {\n",
       "        vertical-align: top;\n",
       "    }\n",
       "\n",
       "    .dataframe thead th {\n",
       "        text-align: right;\n",
       "    }\n",
       "</style>\n",
       "<table border=\"1\" class=\"dataframe\">\n",
       "  <thead>\n",
       "    <tr style=\"text-align: right;\">\n",
       "      <th></th>\n",
       "      <th>Producto</th>\n",
       "      <th>Categoría</th>\n",
       "      <th>Precio</th>\n",
       "      <th>Stock</th>\n",
       "      <th>Fecha de Ingreso</th>\n",
       "      <th>Descuentos</th>\n",
       "    </tr>\n",
       "  </thead>\n",
       "  <tbody>\n",
       "    <tr>\n",
       "      <th>1</th>\n",
       "      <td>Celular</td>\n",
       "      <td>Electrónica</td>\n",
       "      <td>9000</td>\n",
       "      <td>12</td>\n",
       "      <td>2024-03-11</td>\n",
       "      <td>1350.0</td>\n",
       "    </tr>\n",
       "    <tr>\n",
       "      <th>2</th>\n",
       "      <td>Silla Gamer</td>\n",
       "      <td>Muebles</td>\n",
       "      <td>4500</td>\n",
       "      <td>8</td>\n",
       "      <td>2024-03-12</td>\n",
       "      <td>450.0</td>\n",
       "    </tr>\n",
       "    <tr>\n",
       "      <th>3</th>\n",
       "      <td>Monitor</td>\n",
       "      <td>Electrónica</td>\n",
       "      <td>7500</td>\n",
       "      <td>10</td>\n",
       "      <td>2024-03-13</td>\n",
       "      <td>1125.0</td>\n",
       "    </tr>\n",
       "    <tr>\n",
       "      <th>4</th>\n",
       "      <td>Escritorio</td>\n",
       "      <td>Muebles</td>\n",
       "      <td>6000</td>\n",
       "      <td>6</td>\n",
       "      <td>2024-03-14</td>\n",
       "      <td>600.0</td>\n",
       "    </tr>\n",
       "  </tbody>\n",
       "</table>\n",
       "</div>"
      ],
      "text/plain": [
       "      Producto    Categoría  Precio  Stock Fecha de Ingreso  Descuentos\n",
       "1      Celular  Electrónica    9000     12       2024-03-11      1350.0\n",
       "2  Silla Gamer      Muebles    4500      8       2024-03-12       450.0\n",
       "3      Monitor  Electrónica    7500     10       2024-03-13      1125.0\n",
       "4   Escritorio      Muebles    6000      6       2024-03-14       600.0"
      ]
     },
     "execution_count": 11,
     "metadata": {},
     "output_type": "execute_result"
    }
   ],
   "source": [
    "# Filtrar los productos con stock mayor a 5\n",
    "mask_stock = df['Stock'] > 5\n",
    "df_stock_mayor_5 = df[mask_stock]\n",
    "df_stock_mayor_5"
   ]
  },
  {
   "cell_type": "code",
   "execution_count": 13,
   "metadata": {},
   "outputs": [
    {
     "data": {
      "text/html": [
       "<div>\n",
       "<style scoped>\n",
       "    .dataframe tbody tr th:only-of-type {\n",
       "        vertical-align: middle;\n",
       "    }\n",
       "\n",
       "    .dataframe tbody tr th {\n",
       "        vertical-align: top;\n",
       "    }\n",
       "\n",
       "    .dataframe thead th {\n",
       "        text-align: right;\n",
       "    }\n",
       "</style>\n",
       "<table border=\"1\" class=\"dataframe\">\n",
       "  <thead>\n",
       "    <tr style=\"text-align: right;\">\n",
       "      <th></th>\n",
       "      <th>Producto</th>\n",
       "      <th>Categoría</th>\n",
       "      <th>Precio</th>\n",
       "      <th>Stock</th>\n",
       "      <th>Fecha de Ingreso</th>\n",
       "      <th>Descuentos</th>\n",
       "    </tr>\n",
       "  </thead>\n",
       "  <tbody>\n",
       "    <tr>\n",
       "      <th>0</th>\n",
       "      <td>Laptop</td>\n",
       "      <td>Electrónica</td>\n",
       "      <td>18000</td>\n",
       "      <td>5</td>\n",
       "      <td>2024-03-10</td>\n",
       "      <td>2700.0</td>\n",
       "    </tr>\n",
       "    <tr>\n",
       "      <th>1</th>\n",
       "      <td>Celular</td>\n",
       "      <td>Electrónica</td>\n",
       "      <td>9000</td>\n",
       "      <td>12</td>\n",
       "      <td>2024-03-11</td>\n",
       "      <td>1350.0</td>\n",
       "    </tr>\n",
       "    <tr>\n",
       "      <th>3</th>\n",
       "      <td>Monitor</td>\n",
       "      <td>Electrónica</td>\n",
       "      <td>7500</td>\n",
       "      <td>10</td>\n",
       "      <td>2024-03-13</td>\n",
       "      <td>1125.0</td>\n",
       "    </tr>\n",
       "    <tr>\n",
       "      <th>4</th>\n",
       "      <td>Escritorio</td>\n",
       "      <td>Muebles</td>\n",
       "      <td>6000</td>\n",
       "      <td>6</td>\n",
       "      <td>2024-03-14</td>\n",
       "      <td>600.0</td>\n",
       "    </tr>\n",
       "    <tr>\n",
       "      <th>2</th>\n",
       "      <td>Silla Gamer</td>\n",
       "      <td>Muebles</td>\n",
       "      <td>4500</td>\n",
       "      <td>8</td>\n",
       "      <td>2024-03-12</td>\n",
       "      <td>450.0</td>\n",
       "    </tr>\n",
       "  </tbody>\n",
       "</table>\n",
       "</div>"
      ],
      "text/plain": [
       "      Producto    Categoría  Precio  Stock Fecha de Ingreso  Descuentos\n",
       "0       Laptop  Electrónica   18000      5       2024-03-10      2700.0\n",
       "1      Celular  Electrónica    9000     12       2024-03-11      1350.0\n",
       "3      Monitor  Electrónica    7500     10       2024-03-13      1125.0\n",
       "4   Escritorio      Muebles    6000      6       2024-03-14       600.0\n",
       "2  Silla Gamer      Muebles    4500      8       2024-03-12       450.0"
      ]
     },
     "execution_count": 13,
     "metadata": {},
     "output_type": "execute_result"
    }
   ],
   "source": [
    "# Ordenar DataFrame por precio de meayor a menor\n",
    "df_ordenado = df.sort_values('Precio', ascending=False)\n",
    "df_ordenado"
   ]
  }
 ],
 "metadata": {
  "kernelspec": {
   "display_name": "venv",
   "language": "python",
   "name": "python3"
  },
  "language_info": {
   "codemirror_mode": {
    "name": "ipython",
    "version": 3
   },
   "file_extension": ".py",
   "mimetype": "text/x-python",
   "name": "python",
   "nbconvert_exporter": "python",
   "pygments_lexer": "ipython3",
   "version": "3.12.1"
  }
 },
 "nbformat": 4,
 "nbformat_minor": 2
}
