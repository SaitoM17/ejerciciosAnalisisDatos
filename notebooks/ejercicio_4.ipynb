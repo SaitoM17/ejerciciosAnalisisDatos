{
 "cells": [
  {
   "cell_type": "code",
   "execution_count": 4,
   "metadata": {},
   "outputs": [],
   "source": [
    "import pandas as pd\n",
    "import numpy as np"
   ]
  },
  {
   "cell_type": "markdown",
   "metadata": {},
   "source": [
    "Ejercicio 1: Operaciones avanzadas con NumPy\n",
    "Crea un array de números enteros aleatorios entre 10 y 100 con forma (5, 5) y realiza las siguientes operaciones:\n",
    "\n",
    "1. Encuentra la suma de cada fila y de cada columna.\n",
    "2. Calcula la desviación estándar y la varianza de todo el array.\n",
    "3. Encuentra la posición (índice) del valor más alto y más bajo en el array.\n",
    "4. Normaliza los valores del array entre 0 y 1 usando la siguiente fórmula:\n",
    "    * “Xnorm​\\=Xmax​−Xmin​X−Xmin​​”\n",
    "\n"
   ]
  },
  {
   "cell_type": "code",
   "execution_count": 5,
   "metadata": {},
   "outputs": [
    {
     "data": {
      "text/plain": [
       "array([[66, 43, 30, 24, 50],\n",
       "       [36, 67, 81, 43, 23],\n",
       "       [57, 35, 47, 70, 66],\n",
       "       [74, 15, 65, 96, 89],\n",
       "       [14, 15, 70, 99, 31]], dtype=int32)"
      ]
     },
     "execution_count": 5,
     "metadata": {},
     "output_type": "execute_result"
    }
   ],
   "source": [
    "# Creación del array \n",
    "array = np.random.randint(10,101,size=(5,5))\n",
    "array"
   ]
  },
  {
   "cell_type": "code",
   "execution_count": 6,
   "metadata": {},
   "outputs": [
    {
     "data": {
      "text/plain": [
       "array([213, 250, 275, 339, 229])"
      ]
     },
     "execution_count": 6,
     "metadata": {},
     "output_type": "execute_result"
    }
   ],
   "source": [
    "# Encontrar la suma de cada fila y de cada columna\n",
    "suma_fila = array.sum(axis=1)\n",
    "suma_fila"
   ]
  },
  {
   "cell_type": "code",
   "execution_count": 7,
   "metadata": {},
   "outputs": [
    {
     "name": "stdout",
     "output_type": "stream",
     "text": [
      "Desviación estandar: 25.111399801683696 \n",
      "Varianza: 630.5824\n"
     ]
    }
   ],
   "source": [
    "# Calcular la desviación estandar y a varianza de todo el array\n",
    "desviacion_estandar = array.std()\n",
    "varianza = array.var()\n",
    "print(f'''Desviación estandar: {desviacion_estandar} \n",
    "Varianza: {varianza}''')"
   ]
  },
  {
   "cell_type": "code",
   "execution_count": 8,
   "metadata": {},
   "outputs": [
    {
     "name": "stdout",
     "output_type": "stream",
     "text": [
      "Posición del valor máximo: 23\n",
      "Posición del valor mínimo: 20\n"
     ]
    }
   ],
   "source": [
    "# Encontrar la posición (índice) del valor máximo y del valor mínimo\n",
    "posicion_max = np.argmax(array)\n",
    "posicion_min = np.argmin(array)\n",
    "\n",
    "print(f'Posición del valor máximo: {posicion_max}')\n",
    "print(f'Posición del valor mínimo: {posicion_min}')"
   ]
  },
  {
   "cell_type": "code",
   "execution_count": 9,
   "metadata": {},
   "outputs": [
    {
     "data": {
      "text/plain": [
       "array([[0.61176471, 0.34117647, 0.18823529, 0.11764706, 0.42352941],\n",
       "       [0.25882353, 0.62352941, 0.78823529, 0.34117647, 0.10588235],\n",
       "       [0.50588235, 0.24705882, 0.38823529, 0.65882353, 0.61176471],\n",
       "       [0.70588235, 0.01176471, 0.6       , 0.96470588, 0.88235294],\n",
       "       [0.        , 0.01176471, 0.65882353, 1.        , 0.2       ]])"
      ]
     },
     "execution_count": 9,
     "metadata": {},
     "output_type": "execute_result"
    }
   ],
   "source": [
    "# Normalizar los valores del array entre 0 y 1 usado la fórmula de la normalización\n",
    "minimo = array.min() # Mínimo valor del array\n",
    "maximo = array.max() # Máximo valor del array\n",
    "normalizado = (array - minimo) / (maximo - minimo)\n",
    "normalizado"
   ]
  },
  {
   "cell_type": "markdown",
   "metadata": {},
   "source": [
    "Ejercicio 2: Análisis de datos con Pandas\n",
    "Crea un DataFrame con información de ventas en una tienda:\n",
    "\n",
    "   * 'Producto': ['TV', 'Laptop', 'Celular', 'Tablet', 'Monitor'],\n",
    "   * 'Precio': [12000, 18000, 9000, 6000, 7500],\n",
    "   * 'Cantidad Vendida': [10, 5, 12, 8, 7],\n",
    "   * 'Fecha Venta': ['2024-03-01', '2024-03-02', '2024-03-03', '2024-03-04', '2024-03-05']\n",
    "\n",
    "Realiza las siguientes tareas:\n",
    "\n",
    "1. Calcula la ganancia total por producto (Precio * Cantidad Vendida).\n",
    "2. Agrega una nueva columna con el precio después de aplicar un descuento del 10%.\n",
    "3. Encuentra el producto con mayor cantidad vendida y el de menor cantidad vendida.\n",
    "4. Calcula la ganancia total de toda la tienda sumando las ganancias por producto."
   ]
  },
  {
   "cell_type": "code",
   "execution_count": 10,
   "metadata": {},
   "outputs": [
    {
     "data": {
      "text/html": [
       "<div>\n",
       "<style scoped>\n",
       "    .dataframe tbody tr th:only-of-type {\n",
       "        vertical-align: middle;\n",
       "    }\n",
       "\n",
       "    .dataframe tbody tr th {\n",
       "        vertical-align: top;\n",
       "    }\n",
       "\n",
       "    .dataframe thead th {\n",
       "        text-align: right;\n",
       "    }\n",
       "</style>\n",
       "<table border=\"1\" class=\"dataframe\">\n",
       "  <thead>\n",
       "    <tr style=\"text-align: right;\">\n",
       "      <th></th>\n",
       "      <th>Producto</th>\n",
       "      <th>Precio</th>\n",
       "      <th>Cantidad Vendida</th>\n",
       "      <th>Fecha Venta</th>\n",
       "    </tr>\n",
       "  </thead>\n",
       "  <tbody>\n",
       "    <tr>\n",
       "      <th>0</th>\n",
       "      <td>TV</td>\n",
       "      <td>12000</td>\n",
       "      <td>10</td>\n",
       "      <td>2024-03-01</td>\n",
       "    </tr>\n",
       "    <tr>\n",
       "      <th>1</th>\n",
       "      <td>Laptop</td>\n",
       "      <td>18000</td>\n",
       "      <td>5</td>\n",
       "      <td>2024-03-02</td>\n",
       "    </tr>\n",
       "    <tr>\n",
       "      <th>2</th>\n",
       "      <td>Celular</td>\n",
       "      <td>9000</td>\n",
       "      <td>12</td>\n",
       "      <td>2024-03-03</td>\n",
       "    </tr>\n",
       "    <tr>\n",
       "      <th>3</th>\n",
       "      <td>Tablet</td>\n",
       "      <td>6000</td>\n",
       "      <td>8</td>\n",
       "      <td>2024-03-04</td>\n",
       "    </tr>\n",
       "    <tr>\n",
       "      <th>4</th>\n",
       "      <td>Monitor</td>\n",
       "      <td>7500</td>\n",
       "      <td>7</td>\n",
       "      <td>2024-03-05</td>\n",
       "    </tr>\n",
       "  </tbody>\n",
       "</table>\n",
       "</div>"
      ],
      "text/plain": [
       "  Producto  Precio  Cantidad Vendida Fecha Venta\n",
       "0       TV   12000                10  2024-03-01\n",
       "1   Laptop   18000                 5  2024-03-02\n",
       "2  Celular    9000                12  2024-03-03\n",
       "3   Tablet    6000                 8  2024-03-04\n",
       "4  Monitor    7500                 7  2024-03-05"
      ]
     },
     "execution_count": 10,
     "metadata": {},
     "output_type": "execute_result"
    }
   ],
   "source": [
    "data = {\n",
    "    'Producto': ['TV', 'Laptop', 'Celular', 'Tablet', 'Monitor'],\n",
    "    'Precio': [12000, 18000, 9000, 6000, 7500],\n",
    "    'Cantidad Vendida': [10, 5, 12, 8, 7],\n",
    "    'Fecha Venta': ['2024-03-01', '2024-03-02', '2024-03-03', '2024-03-04', '2024-03-05']\n",
    "}\n",
    "df = pd.DataFrame(data)\n",
    "df.head()"
   ]
  },
  {
   "cell_type": "code",
   "execution_count": 11,
   "metadata": {},
   "outputs": [
    {
     "data": {
      "text/html": [
       "<div>\n",
       "<style scoped>\n",
       "    .dataframe tbody tr th:only-of-type {\n",
       "        vertical-align: middle;\n",
       "    }\n",
       "\n",
       "    .dataframe tbody tr th {\n",
       "        vertical-align: top;\n",
       "    }\n",
       "\n",
       "    .dataframe thead th {\n",
       "        text-align: right;\n",
       "    }\n",
       "</style>\n",
       "<table border=\"1\" class=\"dataframe\">\n",
       "  <thead>\n",
       "    <tr style=\"text-align: right;\">\n",
       "      <th></th>\n",
       "      <th>Producto</th>\n",
       "      <th>Precio</th>\n",
       "      <th>Cantidad Vendida</th>\n",
       "      <th>Fecha Venta</th>\n",
       "      <th>Total</th>\n",
       "    </tr>\n",
       "  </thead>\n",
       "  <tbody>\n",
       "    <tr>\n",
       "      <th>0</th>\n",
       "      <td>TV</td>\n",
       "      <td>12000</td>\n",
       "      <td>10</td>\n",
       "      <td>2024-03-01</td>\n",
       "      <td>120000</td>\n",
       "    </tr>\n",
       "    <tr>\n",
       "      <th>1</th>\n",
       "      <td>Laptop</td>\n",
       "      <td>18000</td>\n",
       "      <td>5</td>\n",
       "      <td>2024-03-02</td>\n",
       "      <td>90000</td>\n",
       "    </tr>\n",
       "    <tr>\n",
       "      <th>2</th>\n",
       "      <td>Celular</td>\n",
       "      <td>9000</td>\n",
       "      <td>12</td>\n",
       "      <td>2024-03-03</td>\n",
       "      <td>108000</td>\n",
       "    </tr>\n",
       "    <tr>\n",
       "      <th>3</th>\n",
       "      <td>Tablet</td>\n",
       "      <td>6000</td>\n",
       "      <td>8</td>\n",
       "      <td>2024-03-04</td>\n",
       "      <td>48000</td>\n",
       "    </tr>\n",
       "    <tr>\n",
       "      <th>4</th>\n",
       "      <td>Monitor</td>\n",
       "      <td>7500</td>\n",
       "      <td>7</td>\n",
       "      <td>2024-03-05</td>\n",
       "      <td>52500</td>\n",
       "    </tr>\n",
       "  </tbody>\n",
       "</table>\n",
       "</div>"
      ],
      "text/plain": [
       "  Producto  Precio  Cantidad Vendida Fecha Venta   Total\n",
       "0       TV   12000                10  2024-03-01  120000\n",
       "1   Laptop   18000                 5  2024-03-02   90000\n",
       "2  Celular    9000                12  2024-03-03  108000\n",
       "3   Tablet    6000                 8  2024-03-04   48000\n",
       "4  Monitor    7500                 7  2024-03-05   52500"
      ]
     },
     "execution_count": 11,
     "metadata": {},
     "output_type": "execute_result"
    }
   ],
   "source": [
    "# Calcular el total de la venta (Precio * Cantidad Vendida)\n",
    "df['Total'] = df['Precio'] * df['Cantidad Vendida']\n",
    "df"
   ]
  },
  {
   "cell_type": "code",
   "execution_count": 15,
   "metadata": {},
   "outputs": [
    {
     "data": {
      "text/html": [
       "<div>\n",
       "<style scoped>\n",
       "    .dataframe tbody tr th:only-of-type {\n",
       "        vertical-align: middle;\n",
       "    }\n",
       "\n",
       "    .dataframe tbody tr th {\n",
       "        vertical-align: top;\n",
       "    }\n",
       "\n",
       "    .dataframe thead th {\n",
       "        text-align: right;\n",
       "    }\n",
       "</style>\n",
       "<table border=\"1\" class=\"dataframe\">\n",
       "  <thead>\n",
       "    <tr style=\"text-align: right;\">\n",
       "      <th></th>\n",
       "      <th>Producto</th>\n",
       "      <th>Precio</th>\n",
       "      <th>Cantidad Vendida</th>\n",
       "      <th>Fecha Venta</th>\n",
       "      <th>Total</th>\n",
       "      <th>Descuento_10%</th>\n",
       "    </tr>\n",
       "  </thead>\n",
       "  <tbody>\n",
       "    <tr>\n",
       "      <th>0</th>\n",
       "      <td>TV</td>\n",
       "      <td>12000</td>\n",
       "      <td>10</td>\n",
       "      <td>2024-03-01</td>\n",
       "      <td>120000</td>\n",
       "      <td>1200.0</td>\n",
       "    </tr>\n",
       "    <tr>\n",
       "      <th>1</th>\n",
       "      <td>Laptop</td>\n",
       "      <td>18000</td>\n",
       "      <td>5</td>\n",
       "      <td>2024-03-02</td>\n",
       "      <td>90000</td>\n",
       "      <td>1800.0</td>\n",
       "    </tr>\n",
       "    <tr>\n",
       "      <th>2</th>\n",
       "      <td>Celular</td>\n",
       "      <td>9000</td>\n",
       "      <td>12</td>\n",
       "      <td>2024-03-03</td>\n",
       "      <td>108000</td>\n",
       "      <td>900.0</td>\n",
       "    </tr>\n",
       "    <tr>\n",
       "      <th>3</th>\n",
       "      <td>Tablet</td>\n",
       "      <td>6000</td>\n",
       "      <td>8</td>\n",
       "      <td>2024-03-04</td>\n",
       "      <td>48000</td>\n",
       "      <td>600.0</td>\n",
       "    </tr>\n",
       "    <tr>\n",
       "      <th>4</th>\n",
       "      <td>Monitor</td>\n",
       "      <td>7500</td>\n",
       "      <td>7</td>\n",
       "      <td>2024-03-05</td>\n",
       "      <td>52500</td>\n",
       "      <td>750.0</td>\n",
       "    </tr>\n",
       "  </tbody>\n",
       "</table>\n",
       "</div>"
      ],
      "text/plain": [
       "  Producto  Precio  Cantidad Vendida Fecha Venta   Total  Descuento_10%\n",
       "0       TV   12000                10  2024-03-01  120000         1200.0\n",
       "1   Laptop   18000                 5  2024-03-02   90000         1800.0\n",
       "2  Celular    9000                12  2024-03-03  108000          900.0\n",
       "3   Tablet    6000                 8  2024-03-04   48000          600.0\n",
       "4  Monitor    7500                 7  2024-03-05   52500          750.0"
      ]
     },
     "execution_count": 15,
     "metadata": {},
     "output_type": "execute_result"
    }
   ],
   "source": [
    "df['Descuento_10%'] = df['Precio'] * 0.10\n",
    "df"
   ]
  },
  {
   "cell_type": "code",
   "execution_count": 35,
   "metadata": {},
   "outputs": [
    {
     "name": "stdout",
     "output_type": "stream",
     "text": [
      "Producto más vendido: Celular Cantidad: 12\n",
      "Producto menos vendido: Laptop Cantidad: 5\n"
     ]
    }
   ],
   "source": [
    "producto_mas = df['Cantidad Vendida'].idxmax()\n",
    "producto_menos = df['Cantidad Vendida'].idxmin()\n",
    "\n",
    "print(f'Producto más vendido: {df[\"Producto\"][producto_mas]} Cantidad: {df[\"Cantidad Vendida\"][producto_mas]}')\n",
    "print(f'Producto menos vendido: {df[\"Producto\"][producto_menos]} Cantidad: {df[\"Cantidad Vendida\"][producto_menos]}')\n"
   ]
  },
  {
   "cell_type": "code",
   "execution_count": null,
   "metadata": {},
   "outputs": [
    {
     "name": "stdout",
     "output_type": "stream",
     "text": [
      "Ganancia total: $418500.00\n"
     ]
    }
   ],
   "source": [
    "# Ganacia total de toda la tienda (suma de la columna Total)\n",
    "ganancia_total = df['Total'].sum()\n",
    "print(f'Ganancia total: ${ganancia_total:.2f}')"
   ]
  }
 ],
 "metadata": {
  "kernelspec": {
   "display_name": "venv",
   "language": "python",
   "name": "python3"
  },
  "language_info": {
   "codemirror_mode": {
    "name": "ipython",
    "version": 3
   },
   "file_extension": ".py",
   "mimetype": "text/x-python",
   "name": "python",
   "nbconvert_exporter": "python",
   "pygments_lexer": "ipython3",
   "version": "3.12.1"
  }
 },
 "nbformat": 4,
 "nbformat_minor": 2
}
