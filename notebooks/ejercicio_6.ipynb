{
 "cells": [
  {
   "cell_type": "code",
   "execution_count": 2,
   "metadata": {},
   "outputs": [],
   "source": [
    "import pandas as pd\n",
    "import numpy as np"
   ]
  },
  {
   "cell_type": "markdown",
   "metadata": {},
   "source": [
    "## Ejercicios de NumPy\n",
    "1. Crea una matriz aleatoria de 5x5 con valores enteros entre 10 y 50 e imprime la suma de cada fila.\n",
    "2. Calcula la desviación estándar de una matriz de 4x4 con números aleatorios entre 1 y 100.\n",
    "3. Encuentra la posición del valor máximo y mínimo en una matriz de 6x6 generada con números aleatorios.\n",
    "4. Filtra los valores pares de un arreglo de 20 elementos generados aleatoriamente entre 1 y 100.\n",
    "5. Crea dos matrices de 3x3 y encuentra su producto punto.\n",
    "6. Normaliza los valores de un arreglo de 10 elementos aleatorios entre 0 y 100 usando la fórmula:\n",
    "    * “Xnorm​\\=max(X)−min(X)X−min(X)​”\n",
    "7. Convierte un arreglo de 1D a 2D con dimensiones 3x5.\n",
    "8. Crea una máscara booleana en una matriz de 4x4 que devuelva True para valores mayores al promedio.\n",
    "9. Genera una secuencia de números entre 0 y 1 con un paso de 0.1 usando np.linspace().\n",
    "10. Encuentra el determinante y la inversa de una matriz de 3x3 generada aleatoriamente."
   ]
  },
  {
   "cell_type": "code",
   "execution_count": 5,
   "metadata": {},
   "outputs": [
    {
     "name": "stdout",
     "output_type": "stream",
     "text": [
      "[[26 14 31 47 48]\n",
      " [29 38 11 36 15]\n",
      " [47 30 39 32 35]\n",
      " [35 25 48 22 35]\n",
      " [43 20 14 34 12]]\n",
      "Suma de cada fila de la matriz: [166 129 183 165 123]\n"
     ]
    }
   ],
   "source": [
    "# Crear una matriz aleatroria de 5x5 con valores enteros entre 10 y 50 e imprime la suma de cada fila\n",
    "\n",
    "# Crear la matriz\n",
    "matriz = np.random.randint(10, 51, size=(5,5))\n",
    "print(matriz)\n",
    "\n",
    "suma_por_fila = matriz.sum(axis=1)\n",
    "print(f'Suma de cada fila de la matriz: {suma_por_fila}')"
   ]
  },
  {
   "cell_type": "code",
   "execution_count": 7,
   "metadata": {},
   "outputs": [
    {
     "name": "stdout",
     "output_type": "stream",
     "text": [
      "[[33 41 37 36]\n",
      " [60 55 64  6]\n",
      " [27 95 78 27]\n",
      " [28 12 66 85]]\n",
      "Desviación estandar de Matriz 4x4: 25.139299413468148\n"
     ]
    }
   ],
   "source": [
    "# Calcular la desviación estandar de una matris de 4x4 con números aleatrorios entre 1 y 100\n",
    "\n",
    "#Crear la matriz 4x4\n",
    "matriz_4x4 = np.random.randint(1, 101, size=(4, 4))\n",
    "desviacion_estandar = matriz_4x4.std()\n",
    "print(matriz_4x4)\n",
    "print(f'Desviación estandar de Matriz 4x4: {desviacion_estandar}')"
   ]
  },
  {
   "cell_type": "code",
   "execution_count": 10,
   "metadata": {},
   "outputs": [
    {
     "name": "stdout",
     "output_type": "stream",
     "text": [
      "[[14 36 11 14  1 82]\n",
      " [30 92 44 37 89 74]\n",
      " [98 52 12 53 17 76]\n",
      " [64 16 16 27 67 59]\n",
      " [47 98 58 94 73 69]\n",
      " [15  4 48 27 59 35]]\n",
      "Posición del valor mínimo: (np.int64(0), np.int64(4))\n",
      "Posición del valor máximo: (np.int64(2), np.int64(0))\n"
     ]
    }
   ],
   "source": [
    "# Encuentra la posición del valor máximo y el mínimo en una matriz de 6x6 generada con números aleatorios.\n",
    "\n",
    "#Crear la matriz 6x6\n",
    "matriz_6x6 = np.random.randint(1,101,size=(6,6))\n",
    "print(matriz_6x6)\n",
    "\n",
    "valor_minimo_posicion = np.unravel_index(matriz_6x6.argmin(), matriz_6x6.shape)\n",
    "valor_maximo_posicion = np.unravel_index(matriz_6x6.argmax(), matriz_6x6.shape)\n",
    "print(f'Posición del valor mínimo: {valor_minimo_posicion}')\n",
    "print(f'Posición del valor máximo: {valor_maximo_posicion}')"
   ]
  },
  {
   "cell_type": "code",
   "execution_count": 14,
   "metadata": {},
   "outputs": [
    {
     "name": "stdout",
     "output_type": "stream",
     "text": [
      "[95  1 55 20 26 85 68 62 44 82 31 66 99 80 47  5 67 59 88 95]\n",
      "Valores pares: [20 26 68 62 44 82 66 80 88]\n"
     ]
    }
   ],
   "source": [
    "# Filtra losvalores pares de una arreglo de 20 elementos generados aleatoriamente entre 1 y 100\n",
    "array = np.random.randint(1, 101, 20)\n",
    "print(array)\n",
    "\n",
    "valores_pares = array[array % 2 == 0]\n",
    "print(f'Valores pares: {valores_pares}')"
   ]
  },
  {
   "cell_type": "code",
   "execution_count": null,
   "metadata": {},
   "outputs": [
    {
     "name": "stdout",
     "output_type": "stream",
     "text": [
      "[[ 8833 14760  8938]\n",
      " [ 9930 17617 10402]\n",
      " [ 8805 15612  6626]]\n"
     ]
    }
   ],
   "source": [
    "# Crear 2 matirces de 3x3 y encuentra su producto punto.\n",
    "matriz_3x3_1 = np.random.randint(1, 101, size=(3,3))\n",
    "matriz_3x3_2 = np.random.randint(1, 101, size=(3,3))\n",
    "producto_punto = np.dot(matriz_3x3_1, matriz_3x3_2)\n",
    "print(producto_punto)"
   ]
  },
  {
   "cell_type": "code",
   "execution_count": 17,
   "metadata": {},
   "outputs": [
    {
     "name": "stdout",
     "output_type": "stream",
     "text": [
      "[58.85858586 -0.14141414 22.85858586 44.85858586 14.85858586 26.85858586\n",
      " 34.85858586 78.85858586 84.85858586 18.85858586]\n"
     ]
    }
   ],
   "source": [
    "arreglo_1 = np.random.randint(1, 101, 10)\n",
    "min_arreglo_1 = arreglo_1.min()\n",
    "max_arreglo_1 = arreglo_1.max()\n",
    "arreglo_1_normalizado = arreglo_1 - min_arreglo_1 / max_arreglo_1 - min_arreglo_1\n",
    "print(arreglo_1_normalizado)"
   ]
  },
  {
   "cell_type": "code",
   "execution_count": 19,
   "metadata": {},
   "outputs": [
    {
     "name": "stdout",
     "output_type": "stream",
     "text": [
      "[78 23 41 98 46 38 77 63 56  9 92 55  2 60 37]\n",
      "[[78 23 41 98 46]\n",
      " [38 77 63 56  9]\n",
      " [92 55  2 60 37]]\n"
     ]
    }
   ],
   "source": [
    "# Converiti un arreglo de 1D a 2D con dimensiones 3x5\n",
    "arreglo_1d = np.random.randint(1, 101, 15)\n",
    "arreglo_2d = arreglo_1d.reshape(3, 5)\n",
    "print(arreglo_1d)\n",
    "print(arreglo_2d)"
   ]
  },
  {
   "cell_type": "code",
   "execution_count": null,
   "metadata": {},
   "outputs": [
    {
     "name": "stdout",
     "output_type": "stream",
     "text": [
      "[[96 56 55 13]\n",
      " [13 26 56 46]\n",
      " [69 13 85 68]\n",
      " [98  9 20 30]]\n",
      "Promedio de matriz: 47.0625\n",
      "[[ True  True  True False]\n",
      " [False False  True False]\n",
      " [ True False  True  True]\n",
      " [ True False False False]]\n"
     ]
    }
   ],
   "source": [
    "# Crear una máscara booleana en una matriz 4x4\n",
    "matriz_4_4 = np.random.randint(1, 101, size=(4, 4))\n",
    "print(matriz_4_4)\n",
    "\n",
    "promedio_matriz_4_4 = matriz_4_4.mean()\n",
    "print(f'Promedio de matriz: {promedio_matriz_4_4}')\n",
    "\n",
    "mascara_booleana = matriz_4_4 > promedio_matriz_4_4\n",
    "print(mascara_booleana)"
   ]
  },
  {
   "cell_type": "code",
   "execution_count": 27,
   "metadata": {},
   "outputs": [
    {
     "name": "stdout",
     "output_type": "stream",
     "text": [
      "[0.  0.1 0.2 0.3 0.4 0.5 0.6 0.7 0.8 0.9 1. ]\n"
     ]
    }
   ],
   "source": [
    "# Genra una secuencia de números entre 0 y 1 con paso de 0.1 usando np.linspace()\n",
    "secuencia = np.linspace(0, 1, num=11)\n",
    "print(secuencia)"
   ]
  },
  {
   "cell_type": "code",
   "execution_count": 30,
   "metadata": {},
   "outputs": [
    {
     "name": "stdout",
     "output_type": "stream",
     "text": [
      "[[18 93 92]\n",
      " [91 81 30]\n",
      " [79 45 32]]\n",
      "Determinante: -240017.9999999997\n",
      "Inversa: [[-0.00517461 -0.00484964  0.01942354]\n",
      " [ 0.00225816  0.02788124 -0.03263089]\n",
      " [ 0.00959928 -0.02723546  0.02918531]]\n"
     ]
    }
   ],
   "source": [
    "# Encuentra el determinante y la inversa de una matriz 3x3 generada aleatoriamente.\n",
    "matriz_3x3_2 = np.random.randint(1, 101, size=(3, 3))\n",
    "determinante = np.linalg.det(matriz_3x3_2)\n",
    "inversa = np.linalg.inv(matriz_3x3_2)  \n",
    "\n",
    "print(matriz_3x3_2)\n",
    "print(f'Determinante: {determinante}')\n",
    "print(f'Inversa: {inversa}')"
   ]
  },
  {
   "cell_type": "markdown",
   "metadata": {},
   "source": [
    "Ejercicios de Pandas\n",
    "1. Crea un DataFrame con 5 filas y 3 columnas con valores aleatorios entre 1 y 100. Renombra las columnas como \"A\", \"B\", \"C\" e imprime su media y mediana.\n",
    "2. Carga un archivo CSV en un DataFrame e imprime las primeras 5 filas. Usa pd.read_csv().\n",
    "3. Filtra los registros de un DataFrame donde una columna específica (ej. \"Edad\") sea mayor a 30 años.\n",
    "4. Añade una nueva columna \"Total\" que sea la suma de otras dos columnas de un DataFrame.\n",
    "5. Agrupa datos por una columna categórica y encuentra la media de cada grupo usando groupby().\n",
    "6. Convierte una columna de fechas en formato \"YYYY-MM-DD\" a objetos datetime y extrae el año y mes.\n",
    "7. Elimina los valores nulos de un DataFrame y rellena los vacíos con la media de la columna.\n",
    "8. Crea una tabla pivote con datos ficticios de ventas, agrupando por \"Categoría\" y sumando \"Ventas\".\n",
    "9. Ordena un DataFrame de mayor a menor en función de una columna \"Precio\".\n",
    "10. Aplica una función personalizada a una columna para transformar sus valores (por ejemplo, convertir \"USD\" a \"MXN\")."
   ]
  },
  {
   "cell_type": "code",
   "execution_count": null,
   "metadata": {},
   "outputs": [
    {
     "name": "stdout",
     "output_type": "stream",
     "text": [
      "Media: A    43.00\n",
      "B    41.40\n",
      "C    66.95\n",
      "dtype: float64\n",
      "Mediana: A    39.0\n",
      "B    42.0\n",
      "C    66.5\n",
      "dtype: float64\n"
     ]
    }
   ],
   "source": [
    "fila_A = np.random.randint(1, 101, 20)\n",
    "fila_B = np.random.randint(1, 101, 20)\n",
    "fila_C = np.random.randint(1, 101, 20)\n",
    "data = {\n",
    "    'A': fila_A,\n",
    "    'B': fila_B,\n",
    "    'C': fila_C\n",
    "}\n",
    "df = pd.DataFrame(data)\n",
    "\n",
    "media = df.mean()\n",
    "mediana = df.median()\n",
    "print(f'Media: {media}')\n",
    "print(f'Mediana: {mediana}')\n"
   ]
  },
  {
   "cell_type": "code",
   "execution_count": null,
   "metadata": {},
   "outputs": [
    {
     "data": {
      "text/html": [
       "<div>\n",
       "<style scoped>\n",
       "    .dataframe tbody tr th:only-of-type {\n",
       "        vertical-align: middle;\n",
       "    }\n",
       "\n",
       "    .dataframe tbody tr th {\n",
       "        vertical-align: top;\n",
       "    }\n",
       "\n",
       "    .dataframe thead th {\n",
       "        text-align: right;\n",
       "    }\n",
       "</style>\n",
       "<table border=\"1\" class=\"dataframe\">\n",
       "  <thead>\n",
       "    <tr style=\"text-align: right;\">\n",
       "      <th></th>\n",
       "      <th>A</th>\n",
       "      <th>B</th>\n",
       "      <th>C</th>\n",
       "    </tr>\n",
       "  </thead>\n",
       "  <tbody>\n",
       "    <tr>\n",
       "      <th>0</th>\n",
       "      <td>82</td>\n",
       "      <td>56</td>\n",
       "      <td>37</td>\n",
       "    </tr>\n",
       "    <tr>\n",
       "      <th>1</th>\n",
       "      <td>57</td>\n",
       "      <td>32</td>\n",
       "      <td>95</td>\n",
       "    </tr>\n",
       "    <tr>\n",
       "      <th>2</th>\n",
       "      <td>8</td>\n",
       "      <td>27</td>\n",
       "      <td>67</td>\n",
       "    </tr>\n",
       "    <tr>\n",
       "      <th>3</th>\n",
       "      <td>85</td>\n",
       "      <td>8</td>\n",
       "      <td>47</td>\n",
       "    </tr>\n",
       "    <tr>\n",
       "      <th>4</th>\n",
       "      <td>10</td>\n",
       "      <td>33</td>\n",
       "      <td>65</td>\n",
       "    </tr>\n",
       "  </tbody>\n",
       "</table>\n",
       "</div>"
      ],
      "text/plain": [
       "    A   B   C\n",
       "0  82  56  37\n",
       "1  57  32  95\n",
       "2   8  27  67\n",
       "3  85   8  47\n",
       "4  10  33  65"
      ]
     },
     "execution_count": 4,
     "metadata": {},
     "output_type": "execute_result"
    }
   ],
   "source": [
    "# Cargr un CSV y ver las primeras 5 filas\n",
    "df_2 = pd.read_csv('../data/ejemplo.csv')\n",
    "df_2.head(5)"
   ]
  },
  {
   "cell_type": "code",
   "execution_count": null,
   "metadata": {},
   "outputs": [
    {
     "data": {
      "text/html": [
       "<div>\n",
       "<style scoped>\n",
       "    .dataframe tbody tr th:only-of-type {\n",
       "        vertical-align: middle;\n",
       "    }\n",
       "\n",
       "    .dataframe tbody tr th {\n",
       "        vertical-align: top;\n",
       "    }\n",
       "\n",
       "    .dataframe thead th {\n",
       "        text-align: right;\n",
       "    }\n",
       "</style>\n",
       "<table border=\"1\" class=\"dataframe\">\n",
       "  <thead>\n",
       "    <tr style=\"text-align: right;\">\n",
       "      <th></th>\n",
       "      <th>Nombre</th>\n",
       "      <th>Edad</th>\n",
       "      <th>Ahorro</th>\n",
       "      <th>Fecha</th>\n",
       "      <th>Categorias</th>\n",
       "      <th>Ventas</th>\n",
       "    </tr>\n",
       "  </thead>\n",
       "  <tbody>\n",
       "    <tr>\n",
       "      <th>3</th>\n",
       "      <td>David</td>\n",
       "      <td>35</td>\n",
       "      <td>20000</td>\n",
       "      <td>2024-01-02</td>\n",
       "      <td>C</td>\n",
       "      <td>200</td>\n",
       "    </tr>\n",
       "    <tr>\n",
       "      <th>8</th>\n",
       "      <td>David</td>\n",
       "      <td>35</td>\n",
       "      <td>21000</td>\n",
       "      <td>2024-01-05</td>\n",
       "      <td>C</td>\n",
       "      <td>210</td>\n",
       "    </tr>\n",
       "  </tbody>\n",
       "</table>\n",
       "</div>"
      ],
      "text/plain": [
       "  Nombre  Edad  Ahorro       Fecha Categorias  Ventas\n",
       "3  David    35   20000  2024-01-02          C     200\n",
       "8  David    35   21000  2024-01-05          C     210"
      ]
     },
     "execution_count": 8,
     "metadata": {},
     "output_type": "execute_result"
    }
   ],
   "source": [
    "# Filtrar los registros \n",
    "data_3 = {\n",
    "    'Nombre': ['Alice', 'Bob', 'Charlie', 'David', 'Eve', 'Alice', 'Bob', 'Charlie', 'David', 'Eve'],\n",
    "    'Edad': [25, 30, 22, 35, 28, 25, 30, 22, 35, 28],\n",
    "    'Ahorro': [10000, 15000, 8000, 20000, 12000, 11000, 16000, 9000, 21000, 13000],\n",
    "    'Fecha': ['2024-01-01', '2024-01-01', '2024-01-02', '2024-01-02', '2024-01-03',\n",
    "              '2024-01-03', '2024-01-04', '2024-01-04', '2024-01-05', '2024-01-05'],\n",
    "    'Categorias': ['A', 'B', 'A', 'C', 'B', 'A', 'B', 'A', 'C', 'B'],\n",
    "    'Ventas': [100, 150, 80, 200, 120, 110, 160, 90, 210, 130]\n",
    "}\n",
    "df_3 = pd.DataFrame(data_3)\n",
    "mayor_30 = df_3['Edad'] > 30\n",
    "df_mayor_30 = df_3[mayor_30]\n",
    "df_mayor_30"
   ]
  },
  {
   "cell_type": "code",
   "execution_count": null,
   "metadata": {},
   "outputs": [
    {
     "data": {
      "text/html": [
       "<div>\n",
       "<style scoped>\n",
       "    .dataframe tbody tr th:only-of-type {\n",
       "        vertical-align: middle;\n",
       "    }\n",
       "\n",
       "    .dataframe tbody tr th {\n",
       "        vertical-align: top;\n",
       "    }\n",
       "\n",
       "    .dataframe thead th {\n",
       "        text-align: right;\n",
       "    }\n",
       "</style>\n",
       "<table border=\"1\" class=\"dataframe\">\n",
       "  <thead>\n",
       "    <tr style=\"text-align: right;\">\n",
       "      <th></th>\n",
       "      <th>Nombre</th>\n",
       "      <th>Edad</th>\n",
       "      <th>Ahorro</th>\n",
       "      <th>Fecha</th>\n",
       "      <th>Categorias</th>\n",
       "      <th>Ventas</th>\n",
       "      <th>Total</th>\n",
       "    </tr>\n",
       "  </thead>\n",
       "  <tbody>\n",
       "    <tr>\n",
       "      <th>0</th>\n",
       "      <td>Alice</td>\n",
       "      <td>25</td>\n",
       "      <td>10000</td>\n",
       "      <td>2024-01-01</td>\n",
       "      <td>A</td>\n",
       "      <td>100</td>\n",
       "      <td>1000000</td>\n",
       "    </tr>\n",
       "    <tr>\n",
       "      <th>1</th>\n",
       "      <td>Bob</td>\n",
       "      <td>30</td>\n",
       "      <td>15000</td>\n",
       "      <td>2024-01-01</td>\n",
       "      <td>B</td>\n",
       "      <td>150</td>\n",
       "      <td>2250000</td>\n",
       "    </tr>\n",
       "    <tr>\n",
       "      <th>2</th>\n",
       "      <td>Charlie</td>\n",
       "      <td>22</td>\n",
       "      <td>8000</td>\n",
       "      <td>2024-01-02</td>\n",
       "      <td>A</td>\n",
       "      <td>80</td>\n",
       "      <td>640000</td>\n",
       "    </tr>\n",
       "    <tr>\n",
       "      <th>3</th>\n",
       "      <td>David</td>\n",
       "      <td>35</td>\n",
       "      <td>20000</td>\n",
       "      <td>2024-01-02</td>\n",
       "      <td>C</td>\n",
       "      <td>200</td>\n",
       "      <td>4000000</td>\n",
       "    </tr>\n",
       "    <tr>\n",
       "      <th>4</th>\n",
       "      <td>Eve</td>\n",
       "      <td>28</td>\n",
       "      <td>12000</td>\n",
       "      <td>2024-01-03</td>\n",
       "      <td>B</td>\n",
       "      <td>120</td>\n",
       "      <td>1440000</td>\n",
       "    </tr>\n",
       "    <tr>\n",
       "      <th>5</th>\n",
       "      <td>Alice</td>\n",
       "      <td>25</td>\n",
       "      <td>11000</td>\n",
       "      <td>2024-01-03</td>\n",
       "      <td>A</td>\n",
       "      <td>110</td>\n",
       "      <td>1210000</td>\n",
       "    </tr>\n",
       "    <tr>\n",
       "      <th>6</th>\n",
       "      <td>Bob</td>\n",
       "      <td>30</td>\n",
       "      <td>16000</td>\n",
       "      <td>2024-01-04</td>\n",
       "      <td>B</td>\n",
       "      <td>160</td>\n",
       "      <td>2560000</td>\n",
       "    </tr>\n",
       "    <tr>\n",
       "      <th>7</th>\n",
       "      <td>Charlie</td>\n",
       "      <td>22</td>\n",
       "      <td>9000</td>\n",
       "      <td>2024-01-04</td>\n",
       "      <td>A</td>\n",
       "      <td>90</td>\n",
       "      <td>810000</td>\n",
       "    </tr>\n",
       "    <tr>\n",
       "      <th>8</th>\n",
       "      <td>David</td>\n",
       "      <td>35</td>\n",
       "      <td>21000</td>\n",
       "      <td>2024-01-05</td>\n",
       "      <td>C</td>\n",
       "      <td>210</td>\n",
       "      <td>4410000</td>\n",
       "    </tr>\n",
       "    <tr>\n",
       "      <th>9</th>\n",
       "      <td>Eve</td>\n",
       "      <td>28</td>\n",
       "      <td>13000</td>\n",
       "      <td>2024-01-05</td>\n",
       "      <td>B</td>\n",
       "      <td>130</td>\n",
       "      <td>1690000</td>\n",
       "    </tr>\n",
       "  </tbody>\n",
       "</table>\n",
       "</div>"
      ],
      "text/plain": [
       "    Nombre  Edad  Ahorro       Fecha Categorias  Ventas    Total\n",
       "0    Alice    25   10000  2024-01-01          A     100  1000000\n",
       "1      Bob    30   15000  2024-01-01          B     150  2250000\n",
       "2  Charlie    22    8000  2024-01-02          A      80   640000\n",
       "3    David    35   20000  2024-01-02          C     200  4000000\n",
       "4      Eve    28   12000  2024-01-03          B     120  1440000\n",
       "5    Alice    25   11000  2024-01-03          A     110  1210000\n",
       "6      Bob    30   16000  2024-01-04          B     160  2560000\n",
       "7  Charlie    22    9000  2024-01-04          A      90   810000\n",
       "8    David    35   21000  2024-01-05          C     210  4410000\n",
       "9      Eve    28   13000  2024-01-05          B     130  1690000"
      ]
     },
     "execution_count": 9,
     "metadata": {},
     "output_type": "execute_result"
    }
   ],
   "source": [
    "# Añadir una columna 'Total'\n",
    "df_3['Total'] = df_3['Ahorro'] * df_3['Ventas']\n",
    "df_3"
   ]
  },
  {
   "cell_type": "code",
   "execution_count": null,
   "metadata": {},
   "outputs": [
    {
     "data": {
      "text/plain": [
       "Nombre\n",
       "Alice      10500.0\n",
       "Bob        15500.0\n",
       "Charlie     8500.0\n",
       "David      20500.0\n",
       "Eve        12500.0\n",
       "Name: Ahorro, dtype: float64"
      ]
     },
     "execution_count": 13,
     "metadata": {},
     "output_type": "execute_result"
    }
   ],
   "source": [
    "# Agrupar los datos y encontrar lo media de cada grupo \n",
    "agrupar_nombres = df_3.groupby('Nombre')['Ahorro'].mean()\n",
    "agrupar_nombres"
   ]
  },
  {
   "cell_type": "code",
   "execution_count": 14,
   "metadata": {},
   "outputs": [
    {
     "data": {
      "text/html": [
       "<div>\n",
       "<style scoped>\n",
       "    .dataframe tbody tr th:only-of-type {\n",
       "        vertical-align: middle;\n",
       "    }\n",
       "\n",
       "    .dataframe tbody tr th {\n",
       "        vertical-align: top;\n",
       "    }\n",
       "\n",
       "    .dataframe thead th {\n",
       "        text-align: right;\n",
       "    }\n",
       "</style>\n",
       "<table border=\"1\" class=\"dataframe\">\n",
       "  <thead>\n",
       "    <tr style=\"text-align: right;\">\n",
       "      <th></th>\n",
       "      <th>Nombre</th>\n",
       "      <th>Edad</th>\n",
       "      <th>Ahorro</th>\n",
       "      <th>Fecha</th>\n",
       "      <th>Categorias</th>\n",
       "      <th>Ventas</th>\n",
       "      <th>Total</th>\n",
       "      <th>Año</th>\n",
       "      <th>Mes</th>\n",
       "    </tr>\n",
       "  </thead>\n",
       "  <tbody>\n",
       "    <tr>\n",
       "      <th>0</th>\n",
       "      <td>Alice</td>\n",
       "      <td>25</td>\n",
       "      <td>10000</td>\n",
       "      <td>2024-01-01</td>\n",
       "      <td>A</td>\n",
       "      <td>100</td>\n",
       "      <td>1000000</td>\n",
       "      <td>2024</td>\n",
       "      <td>1</td>\n",
       "    </tr>\n",
       "    <tr>\n",
       "      <th>1</th>\n",
       "      <td>Bob</td>\n",
       "      <td>30</td>\n",
       "      <td>15000</td>\n",
       "      <td>2024-01-01</td>\n",
       "      <td>B</td>\n",
       "      <td>150</td>\n",
       "      <td>2250000</td>\n",
       "      <td>2024</td>\n",
       "      <td>1</td>\n",
       "    </tr>\n",
       "    <tr>\n",
       "      <th>2</th>\n",
       "      <td>Charlie</td>\n",
       "      <td>22</td>\n",
       "      <td>8000</td>\n",
       "      <td>2024-01-02</td>\n",
       "      <td>A</td>\n",
       "      <td>80</td>\n",
       "      <td>640000</td>\n",
       "      <td>2024</td>\n",
       "      <td>1</td>\n",
       "    </tr>\n",
       "    <tr>\n",
       "      <th>3</th>\n",
       "      <td>David</td>\n",
       "      <td>35</td>\n",
       "      <td>20000</td>\n",
       "      <td>2024-01-02</td>\n",
       "      <td>C</td>\n",
       "      <td>200</td>\n",
       "      <td>4000000</td>\n",
       "      <td>2024</td>\n",
       "      <td>1</td>\n",
       "    </tr>\n",
       "    <tr>\n",
       "      <th>4</th>\n",
       "      <td>Eve</td>\n",
       "      <td>28</td>\n",
       "      <td>12000</td>\n",
       "      <td>2024-01-03</td>\n",
       "      <td>B</td>\n",
       "      <td>120</td>\n",
       "      <td>1440000</td>\n",
       "      <td>2024</td>\n",
       "      <td>1</td>\n",
       "    </tr>\n",
       "    <tr>\n",
       "      <th>5</th>\n",
       "      <td>Alice</td>\n",
       "      <td>25</td>\n",
       "      <td>11000</td>\n",
       "      <td>2024-01-03</td>\n",
       "      <td>A</td>\n",
       "      <td>110</td>\n",
       "      <td>1210000</td>\n",
       "      <td>2024</td>\n",
       "      <td>1</td>\n",
       "    </tr>\n",
       "    <tr>\n",
       "      <th>6</th>\n",
       "      <td>Bob</td>\n",
       "      <td>30</td>\n",
       "      <td>16000</td>\n",
       "      <td>2024-01-04</td>\n",
       "      <td>B</td>\n",
       "      <td>160</td>\n",
       "      <td>2560000</td>\n",
       "      <td>2024</td>\n",
       "      <td>1</td>\n",
       "    </tr>\n",
       "    <tr>\n",
       "      <th>7</th>\n",
       "      <td>Charlie</td>\n",
       "      <td>22</td>\n",
       "      <td>9000</td>\n",
       "      <td>2024-01-04</td>\n",
       "      <td>A</td>\n",
       "      <td>90</td>\n",
       "      <td>810000</td>\n",
       "      <td>2024</td>\n",
       "      <td>1</td>\n",
       "    </tr>\n",
       "    <tr>\n",
       "      <th>8</th>\n",
       "      <td>David</td>\n",
       "      <td>35</td>\n",
       "      <td>21000</td>\n",
       "      <td>2024-01-05</td>\n",
       "      <td>C</td>\n",
       "      <td>210</td>\n",
       "      <td>4410000</td>\n",
       "      <td>2024</td>\n",
       "      <td>1</td>\n",
       "    </tr>\n",
       "    <tr>\n",
       "      <th>9</th>\n",
       "      <td>Eve</td>\n",
       "      <td>28</td>\n",
       "      <td>13000</td>\n",
       "      <td>2024-01-05</td>\n",
       "      <td>B</td>\n",
       "      <td>130</td>\n",
       "      <td>1690000</td>\n",
       "      <td>2024</td>\n",
       "      <td>1</td>\n",
       "    </tr>\n",
       "  </tbody>\n",
       "</table>\n",
       "</div>"
      ],
      "text/plain": [
       "    Nombre  Edad  Ahorro      Fecha Categorias  Ventas    Total   Año  Mes\n",
       "0    Alice    25   10000 2024-01-01          A     100  1000000  2024    1\n",
       "1      Bob    30   15000 2024-01-01          B     150  2250000  2024    1\n",
       "2  Charlie    22    8000 2024-01-02          A      80   640000  2024    1\n",
       "3    David    35   20000 2024-01-02          C     200  4000000  2024    1\n",
       "4      Eve    28   12000 2024-01-03          B     120  1440000  2024    1\n",
       "5    Alice    25   11000 2024-01-03          A     110  1210000  2024    1\n",
       "6      Bob    30   16000 2024-01-04          B     160  2560000  2024    1\n",
       "7  Charlie    22    9000 2024-01-04          A      90   810000  2024    1\n",
       "8    David    35   21000 2024-01-05          C     210  4410000  2024    1\n",
       "9      Eve    28   13000 2024-01-05          B     130  1690000  2024    1"
      ]
     },
     "execution_count": 14,
     "metadata": {},
     "output_type": "execute_result"
    }
   ],
   "source": [
    "# Convertir una columna fehca en formato \"YYYY-MM-DD\" a objeto datetime y extaer el año y mes\n",
    "df_3['Fecha'] = pd.to_datetime(df_3['Fecha'])\n",
    "df_3['Año'] = df_3['Fecha'].dt.year\n",
    "df_3['Mes'] = df_3['Fecha'].dt.month   \n",
    "df_3"
   ]
  },
  {
   "cell_type": "code",
   "execution_count": null,
   "metadata": {},
   "outputs": [],
   "source": [
    "# Eliminar valores nulos y llegarlos con la media de la columna\n",
    "df_sin_nulos = df_3.dropna()\n",
    "df_sin_nulos\n",
    "\n",
    "# En mi caso no hay valores nulos ni valores vacio que llenar\n",
    "df_rellenar = df_3.fillna(df_3.mean())\n",
    "df_rellenar"
   ]
  },
  {
   "cell_type": "code",
   "execution_count": 18,
   "metadata": {},
   "outputs": [
    {
     "name": "stderr",
     "output_type": "stream",
     "text": [
      "C:\\Users\\52771\\AppData\\Local\\Temp\\ipykernel_21112\\4246951305.py:2: FutureWarning: The provided callable <function sum at 0x0000025B731998A0> is currently using DataFrameGroupBy.sum. In a future version of pandas, the provided callable will be used directly. To keep current behavior pass the string \"sum\" instead.\n",
      "  tabla_pivite = pd.pivot_table(df_3, values='Ventas', index='Categorias', aggfunc=np.sum)\n"
     ]
    },
    {
     "data": {
      "text/html": [
       "<div>\n",
       "<style scoped>\n",
       "    .dataframe tbody tr th:only-of-type {\n",
       "        vertical-align: middle;\n",
       "    }\n",
       "\n",
       "    .dataframe tbody tr th {\n",
       "        vertical-align: top;\n",
       "    }\n",
       "\n",
       "    .dataframe thead th {\n",
       "        text-align: right;\n",
       "    }\n",
       "</style>\n",
       "<table border=\"1\" class=\"dataframe\">\n",
       "  <thead>\n",
       "    <tr style=\"text-align: right;\">\n",
       "      <th></th>\n",
       "      <th>Ventas</th>\n",
       "    </tr>\n",
       "    <tr>\n",
       "      <th>Categorias</th>\n",
       "      <th></th>\n",
       "    </tr>\n",
       "  </thead>\n",
       "  <tbody>\n",
       "    <tr>\n",
       "      <th>A</th>\n",
       "      <td>380</td>\n",
       "    </tr>\n",
       "    <tr>\n",
       "      <th>B</th>\n",
       "      <td>560</td>\n",
       "    </tr>\n",
       "    <tr>\n",
       "      <th>C</th>\n",
       "      <td>410</td>\n",
       "    </tr>\n",
       "  </tbody>\n",
       "</table>\n",
       "</div>"
      ],
      "text/plain": [
       "            Ventas\n",
       "Categorias        \n",
       "A              380\n",
       "B              560\n",
       "C              410"
      ]
     },
     "execution_count": 18,
     "metadata": {},
     "output_type": "execute_result"
    }
   ],
   "source": [
    "# Crear una tabla pivote co datos ficticios de ventas, agrupados por categoria y sumando ventas\n",
    "tabla_pivite = pd.pivot_table(df_3, values='Ventas', index='Categorias', aggfunc=np.sum)\n",
    "tabla_pivite"
   ]
  },
  {
   "cell_type": "code",
   "execution_count": null,
   "metadata": {},
   "outputs": [
    {
     "data": {
      "text/html": [
       "<div>\n",
       "<style scoped>\n",
       "    .dataframe tbody tr th:only-of-type {\n",
       "        vertical-align: middle;\n",
       "    }\n",
       "\n",
       "    .dataframe tbody tr th {\n",
       "        vertical-align: top;\n",
       "    }\n",
       "\n",
       "    .dataframe thead th {\n",
       "        text-align: right;\n",
       "    }\n",
       "</style>\n",
       "<table border=\"1\" class=\"dataframe\">\n",
       "  <thead>\n",
       "    <tr style=\"text-align: right;\">\n",
       "      <th></th>\n",
       "      <th>Nombre</th>\n",
       "      <th>Edad</th>\n",
       "      <th>Ahorro</th>\n",
       "      <th>Fecha</th>\n",
       "      <th>Categorias</th>\n",
       "      <th>Ventas</th>\n",
       "      <th>Total</th>\n",
       "      <th>Año</th>\n",
       "      <th>Mes</th>\n",
       "    </tr>\n",
       "  </thead>\n",
       "  <tbody>\n",
       "    <tr>\n",
       "      <th>8</th>\n",
       "      <td>David</td>\n",
       "      <td>35</td>\n",
       "      <td>21000</td>\n",
       "      <td>2024-01-05</td>\n",
       "      <td>C</td>\n",
       "      <td>210</td>\n",
       "      <td>4410000</td>\n",
       "      <td>2024</td>\n",
       "      <td>1</td>\n",
       "    </tr>\n",
       "    <tr>\n",
       "      <th>3</th>\n",
       "      <td>David</td>\n",
       "      <td>35</td>\n",
       "      <td>20000</td>\n",
       "      <td>2024-01-02</td>\n",
       "      <td>C</td>\n",
       "      <td>200</td>\n",
       "      <td>4000000</td>\n",
       "      <td>2024</td>\n",
       "      <td>1</td>\n",
       "    </tr>\n",
       "    <tr>\n",
       "      <th>6</th>\n",
       "      <td>Bob</td>\n",
       "      <td>30</td>\n",
       "      <td>16000</td>\n",
       "      <td>2024-01-04</td>\n",
       "      <td>B</td>\n",
       "      <td>160</td>\n",
       "      <td>2560000</td>\n",
       "      <td>2024</td>\n",
       "      <td>1</td>\n",
       "    </tr>\n",
       "    <tr>\n",
       "      <th>1</th>\n",
       "      <td>Bob</td>\n",
       "      <td>30</td>\n",
       "      <td>15000</td>\n",
       "      <td>2024-01-01</td>\n",
       "      <td>B</td>\n",
       "      <td>150</td>\n",
       "      <td>2250000</td>\n",
       "      <td>2024</td>\n",
       "      <td>1</td>\n",
       "    </tr>\n",
       "    <tr>\n",
       "      <th>9</th>\n",
       "      <td>Eve</td>\n",
       "      <td>28</td>\n",
       "      <td>13000</td>\n",
       "      <td>2024-01-05</td>\n",
       "      <td>B</td>\n",
       "      <td>130</td>\n",
       "      <td>1690000</td>\n",
       "      <td>2024</td>\n",
       "      <td>1</td>\n",
       "    </tr>\n",
       "    <tr>\n",
       "      <th>4</th>\n",
       "      <td>Eve</td>\n",
       "      <td>28</td>\n",
       "      <td>12000</td>\n",
       "      <td>2024-01-03</td>\n",
       "      <td>B</td>\n",
       "      <td>120</td>\n",
       "      <td>1440000</td>\n",
       "      <td>2024</td>\n",
       "      <td>1</td>\n",
       "    </tr>\n",
       "    <tr>\n",
       "      <th>5</th>\n",
       "      <td>Alice</td>\n",
       "      <td>25</td>\n",
       "      <td>11000</td>\n",
       "      <td>2024-01-03</td>\n",
       "      <td>A</td>\n",
       "      <td>110</td>\n",
       "      <td>1210000</td>\n",
       "      <td>2024</td>\n",
       "      <td>1</td>\n",
       "    </tr>\n",
       "    <tr>\n",
       "      <th>0</th>\n",
       "      <td>Alice</td>\n",
       "      <td>25</td>\n",
       "      <td>10000</td>\n",
       "      <td>2024-01-01</td>\n",
       "      <td>A</td>\n",
       "      <td>100</td>\n",
       "      <td>1000000</td>\n",
       "      <td>2024</td>\n",
       "      <td>1</td>\n",
       "    </tr>\n",
       "    <tr>\n",
       "      <th>7</th>\n",
       "      <td>Charlie</td>\n",
       "      <td>22</td>\n",
       "      <td>9000</td>\n",
       "      <td>2024-01-04</td>\n",
       "      <td>A</td>\n",
       "      <td>90</td>\n",
       "      <td>810000</td>\n",
       "      <td>2024</td>\n",
       "      <td>1</td>\n",
       "    </tr>\n",
       "    <tr>\n",
       "      <th>2</th>\n",
       "      <td>Charlie</td>\n",
       "      <td>22</td>\n",
       "      <td>8000</td>\n",
       "      <td>2024-01-02</td>\n",
       "      <td>A</td>\n",
       "      <td>80</td>\n",
       "      <td>640000</td>\n",
       "      <td>2024</td>\n",
       "      <td>1</td>\n",
       "    </tr>\n",
       "  </tbody>\n",
       "</table>\n",
       "</div>"
      ],
      "text/plain": [
       "    Nombre  Edad  Ahorro      Fecha Categorias  Ventas    Total   Año  Mes\n",
       "8    David    35   21000 2024-01-05          C     210  4410000  2024    1\n",
       "3    David    35   20000 2024-01-02          C     200  4000000  2024    1\n",
       "6      Bob    30   16000 2024-01-04          B     160  2560000  2024    1\n",
       "1      Bob    30   15000 2024-01-01          B     150  2250000  2024    1\n",
       "9      Eve    28   13000 2024-01-05          B     130  1690000  2024    1\n",
       "4      Eve    28   12000 2024-01-03          B     120  1440000  2024    1\n",
       "5    Alice    25   11000 2024-01-03          A     110  1210000  2024    1\n",
       "0    Alice    25   10000 2024-01-01          A     100  1000000  2024    1\n",
       "7  Charlie    22    9000 2024-01-04          A      90   810000  2024    1\n",
       "2  Charlie    22    8000 2024-01-02          A      80   640000  2024    1"
      ]
     },
     "execution_count": 19,
     "metadata": {},
     "output_type": "execute_result"
    }
   ],
   "source": [
    "# Ordenar un DataFrame por ventas de mayor a menor (No cuento con la columna precio)\n",
    "df_ordenado = df_3.sort_values('Ventas', ascending=False)\n",
    "df_ordenado"
   ]
  },
  {
   "cell_type": "code",
   "execution_count": 20,
   "metadata": {},
   "outputs": [
    {
     "name": "stdout",
     "output_type": "stream",
     "text": [
      "    Nombre  Ahorro  Ahorro_MXN\n",
      "0    Alice   10000      200000\n",
      "1      Bob   15000      300000\n",
      "2  Charlie    8000      160000\n",
      "3    David   20000      400000\n",
      "4      Eve   12000      240000\n",
      "5    Alice   11000      220000\n",
      "6      Bob   16000      320000\n",
      "7  Charlie    9000      180000\n",
      "8    David   21000      420000\n",
      "9      Eve   13000      260000\n"
     ]
    }
   ],
   "source": [
    "# Supongamos que la columna 'Ahorro' está en USD y queremos convertirla a MXN\n",
    "tasa_conversion = 20  # 1 USD = 20 MXN\n",
    "df_3['Ahorro_MXN'] = df_3['Ahorro'].apply(lambda x: x * tasa_conversion)\n",
    "print(df_3[['Nombre', 'Ahorro', 'Ahorro_MXN']])"
   ]
  }
 ],
 "metadata": {
  "kernelspec": {
   "display_name": "venv",
   "language": "python",
   "name": "python3"
  },
  "language_info": {
   "codemirror_mode": {
    "name": "ipython",
    "version": 3
   },
   "file_extension": ".py",
   "mimetype": "text/x-python",
   "name": "python",
   "nbconvert_exporter": "python",
   "pygments_lexer": "ipython3",
   "version": "3.12.1"
  }
 },
 "nbformat": 4,
 "nbformat_minor": 2
}
