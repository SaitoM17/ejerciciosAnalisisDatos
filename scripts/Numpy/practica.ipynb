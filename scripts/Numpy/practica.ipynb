{
 "cells": [
  {
   "cell_type": "code",
   "execution_count": 1,
   "id": "67af4621",
   "metadata": {},
   "outputs": [],
   "source": [
    "import pandas as pd\n",
    "import numpy as np\n",
    "import seaborn as sns\n",
    "import matplotlib.pyplot as plt\n",
    "import unidecode"
   ]
  },
  {
   "cell_type": "markdown",
   "id": "2b1ac359",
   "metadata": {},
   "source": [
    "**Cargar datos**"
   ]
  },
  {
   "cell_type": "code",
   "execution_count": 2,
   "id": "7754c967",
   "metadata": {},
   "outputs": [
    {
     "data": {
      "text/html": [
       "<div>\n",
       "<style scoped>\n",
       "    .dataframe tbody tr th:only-of-type {\n",
       "        vertical-align: middle;\n",
       "    }\n",
       "\n",
       "    .dataframe tbody tr th {\n",
       "        vertical-align: top;\n",
       "    }\n",
       "\n",
       "    .dataframe thead th {\n",
       "        text-align: right;\n",
       "    }\n",
       "</style>\n",
       "<table border=\"1\" class=\"dataframe\">\n",
       "  <thead>\n",
       "    <tr style=\"text-align: right;\">\n",
       "      <th></th>\n",
       "      <th>cliente</th>\n",
       "      <th>cantidad</th>\n",
       "      <th>precio</th>\n",
       "      <th>total_venta</th>\n",
       "    </tr>\n",
       "  </thead>\n",
       "  <tbody>\n",
       "    <tr>\n",
       "      <th>0</th>\n",
       "      <td>Juan Perez</td>\n",
       "      <td>5.0</td>\n",
       "      <td>100.00</td>\n",
       "      <td>500.00</td>\n",
       "    </tr>\n",
       "    <tr>\n",
       "      <th>1</th>\n",
       "      <td>JUAN PÉREZ</td>\n",
       "      <td>5.0</td>\n",
       "      <td>100.00</td>\n",
       "      <td>500.00</td>\n",
       "    </tr>\n",
       "    <tr>\n",
       "      <th>2</th>\n",
       "      <td>juan p.</td>\n",
       "      <td>5.0</td>\n",
       "      <td>100.00</td>\n",
       "      <td>500.00</td>\n",
       "    </tr>\n",
       "    <tr>\n",
       "      <th>3</th>\n",
       "      <td>Maria Gómez</td>\n",
       "      <td>2.0</td>\n",
       "      <td>500.00</td>\n",
       "      <td>1000.00</td>\n",
       "    </tr>\n",
       "    <tr>\n",
       "      <th>4</th>\n",
       "      <td>María Gómez</td>\n",
       "      <td>2.0</td>\n",
       "      <td>500.00</td>\n",
       "      <td>1000.00</td>\n",
       "    </tr>\n",
       "    <tr>\n",
       "      <th>5</th>\n",
       "      <td>Carlos Lòpez</td>\n",
       "      <td>10000.0</td>\n",
       "      <td>100.00</td>\n",
       "      <td>1000000.00</td>\n",
       "    </tr>\n",
       "    <tr>\n",
       "      <th>6</th>\n",
       "      <td>Pedro</td>\n",
       "      <td>NaN</td>\n",
       "      <td>150.00</td>\n",
       "      <td>NaN</td>\n",
       "    </tr>\n",
       "    <tr>\n",
       "      <th>7</th>\n",
       "      <td>Ana Torres</td>\n",
       "      <td>3.0</td>\n",
       "      <td>0.01</td>\n",
       "      <td>0.03</td>\n",
       "    </tr>\n",
       "    <tr>\n",
       "      <th>8</th>\n",
       "      <td>anA torres</td>\n",
       "      <td>3.0</td>\n",
       "      <td>1000.00</td>\n",
       "      <td>3000.00</td>\n",
       "    </tr>\n",
       "    <tr>\n",
       "      <th>9</th>\n",
       "      <td>Laura</td>\n",
       "      <td>2.0</td>\n",
       "      <td>NaN</td>\n",
       "      <td>200.00</td>\n",
       "    </tr>\n",
       "    <tr>\n",
       "      <th>10</th>\n",
       "      <td>Jose</td>\n",
       "      <td>2.0</td>\n",
       "      <td>120.00</td>\n",
       "      <td>240.00</td>\n",
       "    </tr>\n",
       "    <tr>\n",
       "      <th>11</th>\n",
       "      <td>Jose</td>\n",
       "      <td>2.0</td>\n",
       "      <td>120.00</td>\n",
       "      <td>240.00</td>\n",
       "    </tr>\n",
       "    <tr>\n",
       "      <th>12</th>\n",
       "      <td>Jòsé</td>\n",
       "      <td>2.0</td>\n",
       "      <td>120.00</td>\n",
       "      <td>240.00</td>\n",
       "    </tr>\n",
       "  </tbody>\n",
       "</table>\n",
       "</div>"
      ],
      "text/plain": [
       "         cliente  cantidad   precio  total_venta\n",
       "0     Juan Perez       5.0   100.00       500.00\n",
       "1    JUAN PÉREZ        5.0   100.00       500.00\n",
       "2        juan p.       5.0   100.00       500.00\n",
       "3    Maria Gómez       2.0   500.00      1000.00\n",
       "4    María Gómez       2.0   500.00      1000.00\n",
       "5   Carlos Lòpez   10000.0   100.00   1000000.00\n",
       "6          Pedro       NaN   150.00          NaN\n",
       "7     Ana Torres       3.0     0.01         0.03\n",
       "8     anA torres       3.0  1000.00      3000.00\n",
       "9          Laura       2.0      NaN       200.00\n",
       "10          Jose       2.0   120.00       240.00\n",
       "11          Jose       2.0   120.00       240.00\n",
       "12          Jòsé       2.0   120.00       240.00"
      ]
     },
     "execution_count": 2,
     "metadata": {},
     "output_type": "execute_result"
    }
   ],
   "source": [
    "df = pd.read_csv('ventas.csv')\n",
    "df"
   ]
  },
  {
   "cell_type": "markdown",
   "id": "a3803f2a",
   "metadata": {},
   "source": [
    "**Información de los datos**"
   ]
  },
  {
   "cell_type": "code",
   "execution_count": 3,
   "id": "b2e3db52",
   "metadata": {},
   "outputs": [
    {
     "name": "stdout",
     "output_type": "stream",
     "text": [
      "<class 'pandas.core.frame.DataFrame'>\n",
      "RangeIndex: 13 entries, 0 to 12\n",
      "Data columns (total 4 columns):\n",
      " #   Column       Non-Null Count  Dtype  \n",
      "---  ------       --------------  -----  \n",
      " 0   cliente      13 non-null     object \n",
      " 1   cantidad     12 non-null     float64\n",
      " 2   precio       12 non-null     float64\n",
      " 3   total_venta  12 non-null     float64\n",
      "dtypes: float64(3), object(1)\n",
      "memory usage: 548.0+ bytes\n"
     ]
    }
   ],
   "source": [
    "df.info()"
   ]
  },
  {
   "cell_type": "markdown",
   "id": "b67592ee",
   "metadata": {},
   "source": [
    "**Filas y columnas del DatFrame**"
   ]
  },
  {
   "cell_type": "code",
   "execution_count": 4,
   "id": "bef60bc6",
   "metadata": {},
   "outputs": [
    {
     "name": "stdout",
     "output_type": "stream",
     "text": [
      "Cantidad de Filas: 13\n",
      "Cantidad de Columnas: 4\n"
     ]
    }
   ],
   "source": [
    "filas, columnas = df.shape\n",
    "print(f'Cantidad de Filas: {filas}\\nCantidad de Columnas: {columnas}')"
   ]
  },
  {
   "cell_type": "markdown",
   "id": "b44e75a3",
   "metadata": {},
   "source": [
    "**Errores de entrada**"
   ]
  },
  {
   "cell_type": "markdown",
   "id": "3a78a00e",
   "metadata": {},
   "source": [
    "**1. Valores únicos sospechosos**"
   ]
  },
  {
   "cell_type": "code",
   "execution_count": 5,
   "id": "a993112e",
   "metadata": {},
   "outputs": [
    {
     "data": {
      "text/plain": [
       "cliente\n",
       "Jose            2\n",
       "Juan Perez      1\n",
       "juan p.         1\n",
       "JUAN PÉREZ      1\n",
       "Maria Gómez     1\n",
       "María Gómez     1\n",
       "Pedro           1\n",
       "Carlos Lòpez    1\n",
       "Ana Torres      1\n",
       "anA torres      1\n",
       "Laura           1\n",
       "Jòsé            1\n",
       "Name: count, dtype: int64"
      ]
     },
     "execution_count": 5,
     "metadata": {},
     "output_type": "execute_result"
    }
   ],
   "source": [
    "nombre_cliente = df['cliente'].value_counts()\n",
    "nombre_cliente"
   ]
  },
  {
   "cell_type": "markdown",
   "id": "4b0f9a7a",
   "metadata": {},
   "source": [
    "**2. Normalización básica del texto**"
   ]
  },
  {
   "cell_type": "code",
   "execution_count": 6,
   "id": "64baf44a",
   "metadata": {},
   "outputs": [],
   "source": [
    "df['nombre_normalizado'] = df['cliente'].str.lower()  # o .str.upper()\n",
    "df['nombre_normalizado'] = df['nombre_normalizado'].apply(unidecode.unidecode)\n",
    "df['nombre_normalizado'] = df['nombre_normalizado'].str.strip()"
   ]
  },
  {
   "cell_type": "markdown",
   "id": "591b767e",
   "metadata": {},
   "source": [
    "**3. Agrupación por similitud de texto (fuzzy matching)**"
   ]
  },
  {
   "cell_type": "code",
   "execution_count": 7,
   "id": "a313afef",
   "metadata": {},
   "outputs": [
    {
     "data": {
      "text/plain": [
       "nombre_normalizado\n",
       "jose            3\n",
       "juan perez      2\n",
       "ana torres      2\n",
       "maria gomez     2\n",
       "carlos lopez    1\n",
       "juan p.         1\n",
       "pedro           1\n",
       "laura           1\n",
       "Name: count, dtype: int64"
      ]
     },
     "execution_count": 7,
     "metadata": {},
     "output_type": "execute_result"
    }
   ],
   "source": [
    "nombre_normalizados = df['nombre_normalizado'].value_counts()\n",
    "nombre_normalizados"
   ]
  },
  {
   "cell_type": "markdown",
   "id": "a26175be",
   "metadata": {},
   "source": [
    "**4. Visualización de frecuencias**"
   ]
  },
  {
   "cell_type": "code",
   "execution_count": 8,
   "id": "78ff340f",
   "metadata": {},
   "outputs": [
    {
     "data": {
      "image/png": "[encoded data removed]",
      "text/plain": [
       "<Figure size 640x480 with 1 Axes>"
      ]
     },
     "metadata": {},
     "output_type": "display_data"
    }
   ],
   "source": [
    "df['nombre_normalizado'].value_counts().head(10).plot(kind='barh')\n",
    "plt.title(\"Nombres más frecuentes (normalizados)\")\n",
    "plt.show()"
   ]
  },
  {
   "cell_type": "markdown",
   "id": "ac779438",
   "metadata": {},
   "source": [
    "**5.-Correcciones**"
   ]
  },
  {
   "cell_type": "code",
   "execution_count": 9,
   "id": "58d5c083",
   "metadata": {},
   "outputs": [
    {
     "data": {
      "text/html": [
       "<div>\n",
       "<style scoped>\n",
       "    .dataframe tbody tr th:only-of-type {\n",
       "        vertical-align: middle;\n",
       "    }\n",
       "\n",
       "    .dataframe tbody tr th {\n",
       "        vertical-align: top;\n",
       "    }\n",
       "\n",
       "    .dataframe thead th {\n",
       "        text-align: right;\n",
       "    }\n",
       "</style>\n",
       "<table border=\"1\" class=\"dataframe\">\n",
       "  <thead>\n",
       "    <tr style=\"text-align: right;\">\n",
       "      <th></th>\n",
       "      <th>cliente</th>\n",
       "      <th>cantidad</th>\n",
       "      <th>precio</th>\n",
       "      <th>total_venta</th>\n",
       "    </tr>\n",
       "  </thead>\n",
       "  <tbody>\n",
       "    <tr>\n",
       "      <th>0</th>\n",
       "      <td>Juan Pérez</td>\n",
       "      <td>5.0</td>\n",
       "      <td>100.00</td>\n",
       "      <td>500.00</td>\n",
       "    </tr>\n",
       "    <tr>\n",
       "      <th>1</th>\n",
       "      <td>Juan Pérez</td>\n",
       "      <td>5.0</td>\n",
       "      <td>100.00</td>\n",
       "      <td>500.00</td>\n",
       "    </tr>\n",
       "    <tr>\n",
       "      <th>2</th>\n",
       "      <td>Juan Pérez</td>\n",
       "      <td>5.0</td>\n",
       "      <td>100.00</td>\n",
       "      <td>500.00</td>\n",
       "    </tr>\n",
       "    <tr>\n",
       "      <th>3</th>\n",
       "      <td>María Gómez</td>\n",
       "      <td>2.0</td>\n",
       "      <td>500.00</td>\n",
       "      <td>1000.00</td>\n",
       "    </tr>\n",
       "    <tr>\n",
       "      <th>4</th>\n",
       "      <td>María Gómez</td>\n",
       "      <td>2.0</td>\n",
       "      <td>500.00</td>\n",
       "      <td>1000.00</td>\n",
       "    </tr>\n",
       "    <tr>\n",
       "      <th>5</th>\n",
       "      <td>Carlos López</td>\n",
       "      <td>10000.0</td>\n",
       "      <td>100.00</td>\n",
       "      <td>1000000.00</td>\n",
       "    </tr>\n",
       "    <tr>\n",
       "      <th>6</th>\n",
       "      <td>pedro</td>\n",
       "      <td>NaN</td>\n",
       "      <td>150.00</td>\n",
       "      <td>NaN</td>\n",
       "    </tr>\n",
       "    <tr>\n",
       "      <th>7</th>\n",
       "      <td>Ana Torres</td>\n",
       "      <td>3.0</td>\n",
       "      <td>0.01</td>\n",
       "      <td>0.03</td>\n",
       "    </tr>\n",
       "    <tr>\n",
       "      <th>8</th>\n",
       "      <td>Ana Torres</td>\n",
       "      <td>3.0</td>\n",
       "      <td>1000.00</td>\n",
       "      <td>3000.00</td>\n",
       "    </tr>\n",
       "    <tr>\n",
       "      <th>9</th>\n",
       "      <td>Laura</td>\n",
       "      <td>2.0</td>\n",
       "      <td>NaN</td>\n",
       "      <td>200.00</td>\n",
       "    </tr>\n",
       "    <tr>\n",
       "      <th>10</th>\n",
       "      <td>José</td>\n",
       "      <td>2.0</td>\n",
       "      <td>120.00</td>\n",
       "      <td>240.00</td>\n",
       "    </tr>\n",
       "    <tr>\n",
       "      <th>11</th>\n",
       "      <td>José</td>\n",
       "      <td>2.0</td>\n",
       "      <td>120.00</td>\n",
       "      <td>240.00</td>\n",
       "    </tr>\n",
       "    <tr>\n",
       "      <th>12</th>\n",
       "      <td>José</td>\n",
       "      <td>2.0</td>\n",
       "      <td>120.00</td>\n",
       "      <td>240.00</td>\n",
       "    </tr>\n",
       "  </tbody>\n",
       "</table>\n",
       "</div>"
      ],
      "text/plain": [
       "         cliente  cantidad   precio  total_venta\n",
       "0     Juan Pérez       5.0   100.00       500.00\n",
       "1     Juan Pérez       5.0   100.00       500.00\n",
       "2     Juan Pérez       5.0   100.00       500.00\n",
       "3    María Gómez       2.0   500.00      1000.00\n",
       "4    María Gómez       2.0   500.00      1000.00\n",
       "5   Carlos López   10000.0   100.00   1000000.00\n",
       "6          pedro       NaN   150.00          NaN\n",
       "7     Ana Torres       3.0     0.01         0.03\n",
       "8     Ana Torres       3.0  1000.00      3000.00\n",
       "9          Laura       2.0      NaN       200.00\n",
       "10          José       2.0   120.00       240.00\n",
       "11          José       2.0   120.00       240.00\n",
       "12          José       2.0   120.00       240.00"
      ]
     },
     "execution_count": 9,
     "metadata": {},
     "output_type": "execute_result"
    }
   ],
   "source": [
    "correcciones = {\n",
    "    'laura': 'Laura',\n",
    "    'juan p.':'Juan Pérez',\n",
    "    'carlos lopez':'Carlos López',\n",
    "    'maria gomez':'María Gómez',\n",
    "    'ana torres':'Ana Torres',\n",
    "    'juan perez':'Juan Pérez',\n",
    "    'jose':'José'\n",
    "}\n",
    "\n",
    "df['cliente'] = df['nombre_normalizado'].replace(correcciones)\n",
    "df = df.drop(columns=['nombre_normalizado'])\n",
    "df"
   ]
  },
  {
   "cell_type": "markdown",
   "id": "db15e799",
   "metadata": {},
   "source": [
    "**6.-Corrovoramos las correcciones**"
   ]
  },
  {
   "cell_type": "code",
   "execution_count": 10,
   "id": "a6e8dff1",
   "metadata": {},
   "outputs": [
    {
     "data": {
      "text/plain": [
       "cliente\n",
       "Juan Pérez      3\n",
       "José            3\n",
       "María Gómez     2\n",
       "Ana Torres      2\n",
       "Carlos López    1\n",
       "pedro           1\n",
       "Laura           1\n",
       "Name: count, dtype: int64"
      ]
     },
     "execution_count": 10,
     "metadata": {},
     "output_type": "execute_result"
    }
   ],
   "source": [
    "nombre_cliente = df['cliente'].value_counts()\n",
    "nombre_cliente"
   ]
  },
  {
   "cell_type": "markdown",
   "id": "5396662a",
   "metadata": {},
   "source": [
    "**Valores faltentes**"
   ]
  },
  {
   "cell_type": "code",
   "execution_count": 11,
   "id": "15dcb888",
   "metadata": {},
   "outputs": [
    {
     "name": "stdout",
     "output_type": "stream",
     "text": [
      "Cantidad de valores nulos\n",
      "cliente        0\n",
      "cantidad       1\n",
      "precio         1\n",
      "total_venta    1\n",
      "dtype: int64\n"
     ]
    }
   ],
   "source": [
    "valores_nulos = df.isnull().sum()\n",
    "print(f'Cantidad de valores nulos\\n{valores_nulos}')"
   ]
  },
  {
   "cell_type": "markdown",
   "id": "2e9c5817",
   "metadata": {},
   "source": [
    "**Identificar las filas con valores faltantes**"
   ]
  },
  {
   "cell_type": "code",
   "execution_count": 13,
   "id": "23a20f1b",
   "metadata": {},
   "outputs": [
    {
     "name": "stdout",
     "output_type": "stream",
     "text": [
      "Filas con valores nulos\n"
     ]
    },
    {
     "data": {
      "text/html": [
       "<div>\n",
       "<style scoped>\n",
       "    .dataframe tbody tr th:only-of-type {\n",
       "        vertical-align: middle;\n",
       "    }\n",
       "\n",
       "    .dataframe tbody tr th {\n",
       "        vertical-align: top;\n",
       "    }\n",
       "\n",
       "    .dataframe thead th {\n",
       "        text-align: right;\n",
       "    }\n",
       "</style>\n",
       "<table border=\"1\" class=\"dataframe\">\n",
       "  <thead>\n",
       "    <tr style=\"text-align: right;\">\n",
       "      <th></th>\n",
       "      <th>cliente</th>\n",
       "      <th>cantidad</th>\n",
       "      <th>precio</th>\n",
       "      <th>total_venta</th>\n",
       "    </tr>\n",
       "  </thead>\n",
       "  <tbody>\n",
       "    <tr>\n",
       "      <th>6</th>\n",
       "      <td>pedro</td>\n",
       "      <td>NaN</td>\n",
       "      <td>150.0</td>\n",
       "      <td>NaN</td>\n",
       "    </tr>\n",
       "    <tr>\n",
       "      <th>9</th>\n",
       "      <td>Laura</td>\n",
       "      <td>2.0</td>\n",
       "      <td>NaN</td>\n",
       "      <td>200.0</td>\n",
       "    </tr>\n",
       "  </tbody>\n",
       "</table>\n",
       "</div>"
      ],
      "text/plain": [
       "  cliente  cantidad  precio  total_venta\n",
       "6   pedro       NaN   150.0          NaN\n",
       "9   Laura       2.0     NaN        200.0"
      ]
     },
     "execution_count": 13,
     "metadata": {},
     "output_type": "execute_result"
    }
   ],
   "source": [
    "filas_nulas = df[df.isnull().any(axis=1)]\n",
    "print(f'Filas con valores nulos')\n",
    "filas_nulas"
   ]
  },
  {
   "cell_type": "markdown",
   "id": "74b04e8c",
   "metadata": {},
   "source": [
    "Corregir valor nulo (En este caso se puede realizar ya que se cuenta con la información necesaria)"
   ]
  },
  {
   "cell_type": "code",
   "execution_count": 16,
   "id": "b2edc1fb",
   "metadata": {},
   "outputs": [
    {
     "name": "stdout",
     "output_type": "stream",
     "text": [
      "Verificamos los cambios\n"
     ]
    },
    {
     "data": {
      "text/plain": [
       "cliente        Laura\n",
       "cantidad         2.0\n",
       "precio         100.0\n",
       "total_venta    200.0\n",
       "Name: 9, dtype: object"
      ]
     },
     "execution_count": 16,
     "metadata": {},
     "output_type": "execute_result"
    }
   ],
   "source": [
    "df.loc[9,'precio'] = 100\n",
    "print('Verificamos los cambios')\n",
    "df.loc[9]"
   ]
  },
  {
   "cell_type": "markdown",
   "id": "c419e4e7",
   "metadata": {},
   "source": [
    "Eliminar valores nulos(En esteco se eliminan valoes nulos ya que no es posible corregirlos con valores correctos)"
   ]
  },
  {
   "cell_type": "code",
   "execution_count": 18,
   "id": "59ae8404",
   "metadata": {},
   "outputs": [],
   "source": [
    "df = df.dropna()"
   ]
  },
  {
   "cell_type": "markdown",
   "id": "38041a0f",
   "metadata": {},
   "source": [
    "**Verificamos los valores nulos**"
   ]
  },
  {
   "cell_type": "code",
   "execution_count": 20,
   "id": "f4235541",
   "metadata": {},
   "outputs": [
    {
     "name": "stdout",
     "output_type": "stream",
     "text": [
      "Cantidad de valores nulos\n",
      "cliente        0\n",
      "cantidad       0\n",
      "precio         0\n",
      "total_venta    0\n",
      "dtype: int64\n",
      "\n",
      "Filas con valores nulos\n",
      "Empty DataFrame\n",
      "Columns: [cliente, cantidad, precio, total_venta]\n",
      "Index: []\n"
     ]
    }
   ],
   "source": [
    "print(f'Cantidad de valores nulos\\n{df.isnull().sum()}')\n",
    "print(f'\\nFilas con valores nulos\\n{df[df.isnull().any(axis=1)]}')"
   ]
  },
  {
   "cell_type": "markdown",
   "id": "e8582c2a",
   "metadata": {},
   "source": [
    "**Identificar valores Duplicados**"
   ]
  },
  {
   "cell_type": "code",
   "execution_count": 21,
   "id": "92931385",
   "metadata": {},
   "outputs": [
    {
     "name": "stdout",
     "output_type": "stream",
     "text": [
      "Cantidad de valores duplicados\n",
      "5\n"
     ]
    }
   ],
   "source": [
    "valores_duplicados = df.duplicated().sum()\n",
    "print(f'Cantidad de valores duplicados\\n{valores_duplicados}')"
   ]
  },
  {
   "cell_type": "markdown",
   "id": "197f0e5a",
   "metadata": {},
   "source": [
    "Identificar filas con lo valores duplicados"
   ]
  },
  {
   "cell_type": "code",
   "execution_count": 22,
   "id": "15d6e374",
   "metadata": {},
   "outputs": [
    {
     "name": "stdout",
     "output_type": "stream",
     "text": [
      "Filas duplicadas\n"
     ]
    },
    {
     "data": {
      "text/html": [
       "<div>\n",
       "<style scoped>\n",
       "    .dataframe tbody tr th:only-of-type {\n",
       "        vertical-align: middle;\n",
       "    }\n",
       "\n",
       "    .dataframe tbody tr th {\n",
       "        vertical-align: top;\n",
       "    }\n",
       "\n",
       "    .dataframe thead th {\n",
       "        text-align: right;\n",
       "    }\n",
       "</style>\n",
       "<table border=\"1\" class=\"dataframe\">\n",
       "  <thead>\n",
       "    <tr style=\"text-align: right;\">\n",
       "      <th></th>\n",
       "      <th>cliente</th>\n",
       "      <th>cantidad</th>\n",
       "      <th>precio</th>\n",
       "      <th>total_venta</th>\n",
       "    </tr>\n",
       "  </thead>\n",
       "  <tbody>\n",
       "    <tr>\n",
       "      <th>0</th>\n",
       "      <td>Juan Pérez</td>\n",
       "      <td>5.0</td>\n",
       "      <td>100.0</td>\n",
       "      <td>500.0</td>\n",
       "    </tr>\n",
       "    <tr>\n",
       "      <th>1</th>\n",
       "      <td>Juan Pérez</td>\n",
       "      <td>5.0</td>\n",
       "      <td>100.0</td>\n",
       "      <td>500.0</td>\n",
       "    </tr>\n",
       "    <tr>\n",
       "      <th>2</th>\n",
       "      <td>Juan Pérez</td>\n",
       "      <td>5.0</td>\n",
       "      <td>100.0</td>\n",
       "      <td>500.0</td>\n",
       "    </tr>\n",
       "    <tr>\n",
       "      <th>3</th>\n",
       "      <td>María Gómez</td>\n",
       "      <td>2.0</td>\n",
       "      <td>500.0</td>\n",
       "      <td>1000.0</td>\n",
       "    </tr>\n",
       "    <tr>\n",
       "      <th>4</th>\n",
       "      <td>María Gómez</td>\n",
       "      <td>2.0</td>\n",
       "      <td>500.0</td>\n",
       "      <td>1000.0</td>\n",
       "    </tr>\n",
       "    <tr>\n",
       "      <th>10</th>\n",
       "      <td>José</td>\n",
       "      <td>2.0</td>\n",
       "      <td>120.0</td>\n",
       "      <td>240.0</td>\n",
       "    </tr>\n",
       "    <tr>\n",
       "      <th>11</th>\n",
       "      <td>José</td>\n",
       "      <td>2.0</td>\n",
       "      <td>120.0</td>\n",
       "      <td>240.0</td>\n",
       "    </tr>\n",
       "    <tr>\n",
       "      <th>12</th>\n",
       "      <td>José</td>\n",
       "      <td>2.0</td>\n",
       "      <td>120.0</td>\n",
       "      <td>240.0</td>\n",
       "    </tr>\n",
       "  </tbody>\n",
       "</table>\n",
       "</div>"
      ],
      "text/plain": [
       "        cliente  cantidad  precio  total_venta\n",
       "0    Juan Pérez       5.0   100.0        500.0\n",
       "1    Juan Pérez       5.0   100.0        500.0\n",
       "2    Juan Pérez       5.0   100.0        500.0\n",
       "3   María Gómez       2.0   500.0       1000.0\n",
       "4   María Gómez       2.0   500.0       1000.0\n",
       "10         José       2.0   120.0        240.0\n",
       "11         José       2.0   120.0        240.0\n",
       "12         José       2.0   120.0        240.0"
      ]
     },
     "execution_count": 22,
     "metadata": {},
     "output_type": "execute_result"
    }
   ],
   "source": [
    "filas_duplicadas = df[df.duplicated(keep=False)]\n",
    "print('Filas duplicadas')\n",
    "filas_duplicadas"
   ]
  },
  {
   "cell_type": "markdown",
   "id": "9f446300",
   "metadata": {},
   "source": [
    "\n",
    "Eliminar valores duplicados"
   ]
  },
  {
   "cell_type": "code",
   "execution_count": 23,
   "id": "1eb783f1",
   "metadata": {},
   "outputs": [],
   "source": [
    "df = df.drop_duplicates()"
   ]
  },
  {
   "cell_type": "markdown",
   "id": "3c7b867e",
   "metadata": {},
   "source": [
    "**Verificar los valores duplicados**"
   ]
  },
  {
   "cell_type": "code",
   "execution_count": 24,
   "id": "479b6195",
   "metadata": {},
   "outputs": [
    {
     "name": "stdout",
     "output_type": "stream",
     "text": [
      "Cantidad de valores duplicados\n",
      "0\n"
     ]
    }
   ],
   "source": [
    "print(f'Cantidad de valores duplicados\\n{df.duplicated().sum()}')"
   ]
  },
  {
   "cell_type": "code",
   "execution_count": 25,
   "id": "46082a23",
   "metadata": {},
   "outputs": [
    {
     "data": {
      "text/html": [
       "<div>\n",
       "<style scoped>\n",
       "    .dataframe tbody tr th:only-of-type {\n",
       "        vertical-align: middle;\n",
       "    }\n",
       "\n",
       "    .dataframe tbody tr th {\n",
       "        vertical-align: top;\n",
       "    }\n",
       "\n",
       "    .dataframe thead th {\n",
       "        text-align: right;\n",
       "    }\n",
       "</style>\n",
       "<table border=\"1\" class=\"dataframe\">\n",
       "  <thead>\n",
       "    <tr style=\"text-align: right;\">\n",
       "      <th></th>\n",
       "      <th>cliente</th>\n",
       "      <th>cantidad</th>\n",
       "      <th>precio</th>\n",
       "      <th>total_venta</th>\n",
       "    </tr>\n",
       "  </thead>\n",
       "  <tbody>\n",
       "    <tr>\n",
       "      <th>0</th>\n",
       "      <td>Juan Pérez</td>\n",
       "      <td>5.0</td>\n",
       "      <td>100.00</td>\n",
       "      <td>500.00</td>\n",
       "    </tr>\n",
       "    <tr>\n",
       "      <th>3</th>\n",
       "      <td>María Gómez</td>\n",
       "      <td>2.0</td>\n",
       "      <td>500.00</td>\n",
       "      <td>1000.00</td>\n",
       "    </tr>\n",
       "    <tr>\n",
       "      <th>5</th>\n",
       "      <td>Carlos López</td>\n",
       "      <td>10000.0</td>\n",
       "      <td>100.00</td>\n",
       "      <td>1000000.00</td>\n",
       "    </tr>\n",
       "    <tr>\n",
       "      <th>7</th>\n",
       "      <td>Ana Torres</td>\n",
       "      <td>3.0</td>\n",
       "      <td>0.01</td>\n",
       "      <td>0.03</td>\n",
       "    </tr>\n",
       "    <tr>\n",
       "      <th>8</th>\n",
       "      <td>Ana Torres</td>\n",
       "      <td>3.0</td>\n",
       "      <td>1000.00</td>\n",
       "      <td>3000.00</td>\n",
       "    </tr>\n",
       "    <tr>\n",
       "      <th>9</th>\n",
       "      <td>Laura</td>\n",
       "      <td>2.0</td>\n",
       "      <td>100.00</td>\n",
       "      <td>200.00</td>\n",
       "    </tr>\n",
       "    <tr>\n",
       "      <th>10</th>\n",
       "      <td>José</td>\n",
       "      <td>2.0</td>\n",
       "      <td>120.00</td>\n",
       "      <td>240.00</td>\n",
       "    </tr>\n",
       "  </tbody>\n",
       "</table>\n",
       "</div>"
      ],
      "text/plain": [
       "         cliente  cantidad   precio  total_venta\n",
       "0     Juan Pérez       5.0   100.00       500.00\n",
       "3    María Gómez       2.0   500.00      1000.00\n",
       "5   Carlos López   10000.0   100.00   1000000.00\n",
       "7     Ana Torres       3.0     0.01         0.03\n",
       "8     Ana Torres       3.0  1000.00      3000.00\n",
       "9          Laura       2.0   100.00       200.00\n",
       "10          José       2.0   120.00       240.00"
      ]
     },
     "execution_count": 25,
     "metadata": {},
     "output_type": "execute_result"
    }
   ],
   "source": [
    "df"
   ]
  },
  {
   "cell_type": "markdown",
   "id": "c1fd44c4",
   "metadata": {},
   "source": [
    "**Crear columnas calculado y defierencia para corroborar los valores numéricos**"
   ]
  },
  {
   "cell_type": "code",
   "execution_count": 26,
   "id": "624b2889",
   "metadata": {},
   "outputs": [
    {
     "data": {
      "text/html": [
       "<div>\n",
       "<style scoped>\n",
       "    .dataframe tbody tr th:only-of-type {\n",
       "        vertical-align: middle;\n",
       "    }\n",
       "\n",
       "    .dataframe tbody tr th {\n",
       "        vertical-align: top;\n",
       "    }\n",
       "\n",
       "    .dataframe thead th {\n",
       "        text-align: right;\n",
       "    }\n",
       "</style>\n",
       "<table border=\"1\" class=\"dataframe\">\n",
       "  <thead>\n",
       "    <tr style=\"text-align: right;\">\n",
       "      <th></th>\n",
       "      <th>cliente</th>\n",
       "      <th>cantidad</th>\n",
       "      <th>precio</th>\n",
       "      <th>total_venta</th>\n",
       "      <th>calculado</th>\n",
       "      <th>diferencia</th>\n",
       "    </tr>\n",
       "  </thead>\n",
       "  <tbody>\n",
       "    <tr>\n",
       "      <th>0</th>\n",
       "      <td>Juan Pérez</td>\n",
       "      <td>5.0</td>\n",
       "      <td>100.00</td>\n",
       "      <td>500.00</td>\n",
       "      <td>500.00</td>\n",
       "      <td>0.0</td>\n",
       "    </tr>\n",
       "    <tr>\n",
       "      <th>3</th>\n",
       "      <td>María Gómez</td>\n",
       "      <td>2.0</td>\n",
       "      <td>500.00</td>\n",
       "      <td>1000.00</td>\n",
       "      <td>1000.00</td>\n",
       "      <td>0.0</td>\n",
       "    </tr>\n",
       "    <tr>\n",
       "      <th>5</th>\n",
       "      <td>Carlos López</td>\n",
       "      <td>10000.0</td>\n",
       "      <td>100.00</td>\n",
       "      <td>1000000.00</td>\n",
       "      <td>1000000.00</td>\n",
       "      <td>0.0</td>\n",
       "    </tr>\n",
       "    <tr>\n",
       "      <th>7</th>\n",
       "      <td>Ana Torres</td>\n",
       "      <td>3.0</td>\n",
       "      <td>0.01</td>\n",
       "      <td>0.03</td>\n",
       "      <td>0.03</td>\n",
       "      <td>0.0</td>\n",
       "    </tr>\n",
       "    <tr>\n",
       "      <th>8</th>\n",
       "      <td>Ana Torres</td>\n",
       "      <td>3.0</td>\n",
       "      <td>1000.00</td>\n",
       "      <td>3000.00</td>\n",
       "      <td>3000.00</td>\n",
       "      <td>0.0</td>\n",
       "    </tr>\n",
       "    <tr>\n",
       "      <th>9</th>\n",
       "      <td>Laura</td>\n",
       "      <td>2.0</td>\n",
       "      <td>100.00</td>\n",
       "      <td>200.00</td>\n",
       "      <td>200.00</td>\n",
       "      <td>0.0</td>\n",
       "    </tr>\n",
       "    <tr>\n",
       "      <th>10</th>\n",
       "      <td>José</td>\n",
       "      <td>2.0</td>\n",
       "      <td>120.00</td>\n",
       "      <td>240.00</td>\n",
       "      <td>240.00</td>\n",
       "      <td>0.0</td>\n",
       "    </tr>\n",
       "  </tbody>\n",
       "</table>\n",
       "</div>"
      ],
      "text/plain": [
       "         cliente  cantidad   precio  total_venta   calculado  diferencia\n",
       "0     Juan Pérez       5.0   100.00       500.00      500.00         0.0\n",
       "3    María Gómez       2.0   500.00      1000.00     1000.00         0.0\n",
       "5   Carlos López   10000.0   100.00   1000000.00  1000000.00         0.0\n",
       "7     Ana Torres       3.0     0.01         0.03        0.03         0.0\n",
       "8     Ana Torres       3.0  1000.00      3000.00     3000.00         0.0\n",
       "9          Laura       2.0   100.00       200.00      200.00         0.0\n",
       "10          José       2.0   120.00       240.00      240.00         0.0"
      ]
     },
     "execution_count": 26,
     "metadata": {},
     "output_type": "execute_result"
    }
   ],
   "source": [
    "df['calculado'] = df['cantidad'] * df['precio']\n",
    "df['diferencia'] = df['calculado'] - df['total_venta']\n",
    "df"
   ]
  },
  {
   "cell_type": "markdown",
   "id": "d0e39571",
   "metadata": {},
   "source": [
    "**Errores numéricos**"
   ]
  },
  {
   "cell_type": "code",
   "execution_count": null,
   "id": "8031e0d6",
   "metadata": {},
   "outputs": [
    {
     "name": "stdout",
     "output_type": "stream",
     "text": [
      "Cantidad\n",
      "Valor Maximo: 10000.0\n",
      "Valor Mínimo: 2.0\n"
     ]
    }
   ],
   "source": [
    "maximo_cantidad = df['cantidad'].max()\n",
    "minimo_cantidad = df['cantidad'].min()\n",
    "print(f'Cantidad\\nValor Maximo: {maximo_cantidad}\\nValor Mínimo: {minimo_cantidad}')"
   ]
  },
  {
   "cell_type": "markdown",
   "id": "1f524f3c",
   "metadata": {},
   "source": [
    "Se encontro una 'valor' sospechosa en la calumna 'cantidad'"
   ]
  },
  {
   "cell_type": "code",
   "execution_count": 28,
   "id": "f6ffca13",
   "metadata": {},
   "outputs": [
    {
     "data": {
      "text/html": [
       "<div>\n",
       "<style scoped>\n",
       "    .dataframe tbody tr th:only-of-type {\n",
       "        vertical-align: middle;\n",
       "    }\n",
       "\n",
       "    .dataframe tbody tr th {\n",
       "        vertical-align: top;\n",
       "    }\n",
       "\n",
       "    .dataframe thead th {\n",
       "        text-align: right;\n",
       "    }\n",
       "</style>\n",
       "<table border=\"1\" class=\"dataframe\">\n",
       "  <thead>\n",
       "    <tr style=\"text-align: right;\">\n",
       "      <th></th>\n",
       "      <th>cliente</th>\n",
       "      <th>cantidad</th>\n",
       "      <th>precio</th>\n",
       "      <th>total_venta</th>\n",
       "      <th>calculado</th>\n",
       "      <th>diferencia</th>\n",
       "    </tr>\n",
       "  </thead>\n",
       "  <tbody>\n",
       "    <tr>\n",
       "      <th>5</th>\n",
       "      <td>Carlos López</td>\n",
       "      <td>10000.0</td>\n",
       "      <td>100.0</td>\n",
       "      <td>1000000.0</td>\n",
       "      <td>1000000.0</td>\n",
       "      <td>0.0</td>\n",
       "    </tr>\n",
       "  </tbody>\n",
       "</table>\n",
       "</div>"
      ],
      "text/plain": [
       "        cliente  cantidad  precio  total_venta  calculado  diferencia\n",
       "5  Carlos López   10000.0   100.0    1000000.0  1000000.0         0.0"
      ]
     },
     "execution_count": 28,
     "metadata": {},
     "output_type": "execute_result"
    }
   ],
   "source": [
    "cantidad_inusual = df[df['cantidad'] == 10000.0]\n",
    "cantidad_inusual"
   ]
  },
  {
   "cell_type": "markdown",
   "id": "d88e8512",
   "metadata": {},
   "source": [
    "Los datos son correctos, como tal la cantidad es inusual pero si es posible."
   ]
  },
  {
   "cell_type": "code",
   "execution_count": 21,
   "id": "7f29961b",
   "metadata": {},
   "outputs": [
    {
     "name": "stdout",
     "output_type": "stream",
     "text": [
      "Precio\n",
      "Valor Máximo: 1000.0\n",
      "Valor Mínimo: 0.01\n"
     ]
    }
   ],
   "source": [
    "maximo_precio = df['precio'].max()\n",
    "minimo_precio = df['precio'].min()\n",
    "print(f'Precio\\nValor Máximo: {maximo_precio}\\nValor Mínimo: {minimo_precio}')"
   ]
  },
  {
   "cell_type": "markdown",
   "id": "5ad5deba",
   "metadata": {},
   "source": [
    "Se contro un 'valor' inusual en la columna 'precio'"
   ]
  },
  {
   "cell_type": "code",
   "execution_count": 29,
   "id": "d6157357",
   "metadata": {},
   "outputs": [
    {
     "data": {
      "text/html": [
       "<div>\n",
       "<style scoped>\n",
       "    .dataframe tbody tr th:only-of-type {\n",
       "        vertical-align: middle;\n",
       "    }\n",
       "\n",
       "    .dataframe tbody tr th {\n",
       "        vertical-align: top;\n",
       "    }\n",
       "\n",
       "    .dataframe thead th {\n",
       "        text-align: right;\n",
       "    }\n",
       "</style>\n",
       "<table border=\"1\" class=\"dataframe\">\n",
       "  <thead>\n",
       "    <tr style=\"text-align: right;\">\n",
       "      <th></th>\n",
       "      <th>cliente</th>\n",
       "      <th>cantidad</th>\n",
       "      <th>precio</th>\n",
       "      <th>total_venta</th>\n",
       "      <th>calculado</th>\n",
       "      <th>diferencia</th>\n",
       "    </tr>\n",
       "  </thead>\n",
       "  <tbody>\n",
       "    <tr>\n",
       "      <th>7</th>\n",
       "      <td>Ana Torres</td>\n",
       "      <td>3.0</td>\n",
       "      <td>0.01</td>\n",
       "      <td>0.03</td>\n",
       "      <td>0.03</td>\n",
       "      <td>0.0</td>\n",
       "    </tr>\n",
       "  </tbody>\n",
       "</table>\n",
       "</div>"
      ],
      "text/plain": [
       "      cliente  cantidad  precio  total_venta  calculado  diferencia\n",
       "7  Ana Torres       3.0    0.01         0.03       0.03         0.0"
      ]
     },
     "execution_count": 29,
     "metadata": {},
     "output_type": "execute_result"
    }
   ],
   "source": [
    "inusual_precio = df[df['precio'] == 0.01]\n",
    "inusual_precio"
   ]
  },
  {
   "cell_type": "markdown",
   "id": "eef4e605",
   "metadata": {},
   "source": [
    "Se corrige el valor de la columa 'precio' y por consiguiente la columnas 'total_venta'"
   ]
  },
  {
   "cell_type": "code",
   "execution_count": 31,
   "id": "1a5c099a",
   "metadata": {},
   "outputs": [
    {
     "data": {
      "text/html": [
       "<div>\n",
       "<style scoped>\n",
       "    .dataframe tbody tr th:only-of-type {\n",
       "        vertical-align: middle;\n",
       "    }\n",
       "\n",
       "    .dataframe tbody tr th {\n",
       "        vertical-align: top;\n",
       "    }\n",
       "\n",
       "    .dataframe thead th {\n",
       "        text-align: right;\n",
       "    }\n",
       "</style>\n",
       "<table border=\"1\" class=\"dataframe\">\n",
       "  <thead>\n",
       "    <tr style=\"text-align: right;\">\n",
       "      <th></th>\n",
       "      <th>cliente</th>\n",
       "      <th>cantidad</th>\n",
       "      <th>precio</th>\n",
       "      <th>total_venta</th>\n",
       "      <th>calculado</th>\n",
       "      <th>diferencia</th>\n",
       "    </tr>\n",
       "  </thead>\n",
       "  <tbody>\n",
       "    <tr>\n",
       "      <th>0</th>\n",
       "      <td>Juan Pérez</td>\n",
       "      <td>5.0</td>\n",
       "      <td>100.0</td>\n",
       "      <td>500.0</td>\n",
       "      <td>500.00</td>\n",
       "      <td>0.0</td>\n",
       "    </tr>\n",
       "    <tr>\n",
       "      <th>3</th>\n",
       "      <td>María Gómez</td>\n",
       "      <td>2.0</td>\n",
       "      <td>500.0</td>\n",
       "      <td>1000.0</td>\n",
       "      <td>1000.00</td>\n",
       "      <td>0.0</td>\n",
       "    </tr>\n",
       "    <tr>\n",
       "      <th>5</th>\n",
       "      <td>Carlos López</td>\n",
       "      <td>10000.0</td>\n",
       "      <td>100.0</td>\n",
       "      <td>1000000.0</td>\n",
       "      <td>1000000.00</td>\n",
       "      <td>0.0</td>\n",
       "    </tr>\n",
       "    <tr>\n",
       "      <th>7</th>\n",
       "      <td>Ana Torres</td>\n",
       "      <td>3.0</td>\n",
       "      <td>200.0</td>\n",
       "      <td>600.0</td>\n",
       "      <td>0.03</td>\n",
       "      <td>0.0</td>\n",
       "    </tr>\n",
       "    <tr>\n",
       "      <th>8</th>\n",
       "      <td>Ana Torres</td>\n",
       "      <td>3.0</td>\n",
       "      <td>1000.0</td>\n",
       "      <td>3000.0</td>\n",
       "      <td>3000.00</td>\n",
       "      <td>0.0</td>\n",
       "    </tr>\n",
       "    <tr>\n",
       "      <th>9</th>\n",
       "      <td>Laura</td>\n",
       "      <td>2.0</td>\n",
       "      <td>100.0</td>\n",
       "      <td>200.0</td>\n",
       "      <td>200.00</td>\n",
       "      <td>0.0</td>\n",
       "    </tr>\n",
       "    <tr>\n",
       "      <th>10</th>\n",
       "      <td>José</td>\n",
       "      <td>2.0</td>\n",
       "      <td>120.0</td>\n",
       "      <td>240.0</td>\n",
       "      <td>240.00</td>\n",
       "      <td>0.0</td>\n",
       "    </tr>\n",
       "  </tbody>\n",
       "</table>\n",
       "</div>"
      ],
      "text/plain": [
       "         cliente  cantidad  precio  total_venta   calculado  diferencia\n",
       "0     Juan Pérez       5.0   100.0        500.0      500.00         0.0\n",
       "3    María Gómez       2.0   500.0       1000.0     1000.00         0.0\n",
       "5   Carlos López   10000.0   100.0    1000000.0  1000000.00         0.0\n",
       "7     Ana Torres       3.0   200.0        600.0        0.03         0.0\n",
       "8     Ana Torres       3.0  1000.0       3000.0     3000.00         0.0\n",
       "9          Laura       2.0   100.0        200.0      200.00         0.0\n",
       "10          José       2.0   120.0        240.0      240.00         0.0"
      ]
     },
     "execution_count": 31,
     "metadata": {},
     "output_type": "execute_result"
    }
   ],
   "source": [
    "df.loc[7,'precio'] = 200\n",
    "df.loc[7,'total_venta'] = 600\n",
    "df"
   ]
  },
  {
   "cell_type": "markdown",
   "id": "c50b21bb",
   "metadata": {},
   "source": [
    "**Verificamos los valores númericos**"
   ]
  },
  {
   "cell_type": "code",
   "execution_count": 32,
   "id": "b0f14163",
   "metadata": {},
   "outputs": [
    {
     "data": {
      "text/html": [
       "<div>\n",
       "<style scoped>\n",
       "    .dataframe tbody tr th:only-of-type {\n",
       "        vertical-align: middle;\n",
       "    }\n",
       "\n",
       "    .dataframe tbody tr th {\n",
       "        vertical-align: top;\n",
       "    }\n",
       "\n",
       "    .dataframe thead th {\n",
       "        text-align: right;\n",
       "    }\n",
       "</style>\n",
       "<table border=\"1\" class=\"dataframe\">\n",
       "  <thead>\n",
       "    <tr style=\"text-align: right;\">\n",
       "      <th></th>\n",
       "      <th>cliente</th>\n",
       "      <th>cantidad</th>\n",
       "      <th>precio</th>\n",
       "      <th>total_venta</th>\n",
       "      <th>calculado</th>\n",
       "      <th>diferencia</th>\n",
       "    </tr>\n",
       "  </thead>\n",
       "  <tbody>\n",
       "    <tr>\n",
       "      <th>0</th>\n",
       "      <td>Juan Pérez</td>\n",
       "      <td>5.0</td>\n",
       "      <td>100.0</td>\n",
       "      <td>500.0</td>\n",
       "      <td>500.0</td>\n",
       "      <td>0.0</td>\n",
       "    </tr>\n",
       "    <tr>\n",
       "      <th>3</th>\n",
       "      <td>María Gómez</td>\n",
       "      <td>2.0</td>\n",
       "      <td>500.0</td>\n",
       "      <td>1000.0</td>\n",
       "      <td>1000.0</td>\n",
       "      <td>0.0</td>\n",
       "    </tr>\n",
       "    <tr>\n",
       "      <th>5</th>\n",
       "      <td>Carlos López</td>\n",
       "      <td>10000.0</td>\n",
       "      <td>100.0</td>\n",
       "      <td>1000000.0</td>\n",
       "      <td>1000000.0</td>\n",
       "      <td>0.0</td>\n",
       "    </tr>\n",
       "    <tr>\n",
       "      <th>7</th>\n",
       "      <td>Ana Torres</td>\n",
       "      <td>3.0</td>\n",
       "      <td>200.0</td>\n",
       "      <td>600.0</td>\n",
       "      <td>600.0</td>\n",
       "      <td>0.0</td>\n",
       "    </tr>\n",
       "    <tr>\n",
       "      <th>8</th>\n",
       "      <td>Ana Torres</td>\n",
       "      <td>3.0</td>\n",
       "      <td>1000.0</td>\n",
       "      <td>3000.0</td>\n",
       "      <td>3000.0</td>\n",
       "      <td>0.0</td>\n",
       "    </tr>\n",
       "    <tr>\n",
       "      <th>9</th>\n",
       "      <td>Laura</td>\n",
       "      <td>2.0</td>\n",
       "      <td>100.0</td>\n",
       "      <td>200.0</td>\n",
       "      <td>200.0</td>\n",
       "      <td>0.0</td>\n",
       "    </tr>\n",
       "    <tr>\n",
       "      <th>10</th>\n",
       "      <td>José</td>\n",
       "      <td>2.0</td>\n",
       "      <td>120.0</td>\n",
       "      <td>240.0</td>\n",
       "      <td>240.0</td>\n",
       "      <td>0.0</td>\n",
       "    </tr>\n",
       "  </tbody>\n",
       "</table>\n",
       "</div>"
      ],
      "text/plain": [
       "         cliente  cantidad  precio  total_venta  calculado  diferencia\n",
       "0     Juan Pérez       5.0   100.0        500.0      500.0         0.0\n",
       "3    María Gómez       2.0   500.0       1000.0     1000.0         0.0\n",
       "5   Carlos López   10000.0   100.0    1000000.0  1000000.0         0.0\n",
       "7     Ana Torres       3.0   200.0        600.0      600.0         0.0\n",
       "8     Ana Torres       3.0  1000.0       3000.0     3000.0         0.0\n",
       "9          Laura       2.0   100.0        200.0      200.0         0.0\n",
       "10          José       2.0   120.0        240.0      240.0         0.0"
      ]
     },
     "execution_count": 32,
     "metadata": {},
     "output_type": "execute_result"
    }
   ],
   "source": [
    "df['calculado'] = df['cantidad'] * df['precio']\n",
    "df['diferencia'] = df['calculado'] - df['total_venta']\n",
    "df"
   ]
  },
  {
   "cell_type": "markdown",
   "id": "a3504b0b",
   "metadata": {},
   "source": [
    "**Detectar outliers**"
   ]
  },
  {
   "cell_type": "code",
   "execution_count": null,
   "id": "aff5ff75",
   "metadata": {},
   "outputs": [],
   "source": [
    "Q1 = df['columna'].quantile(0.25)\n",
    "Q3 = df['columna'].quantile(0.75)\n",
    "IQR = Q3 - Q1\n",
    "outliers = df[(df['columna'] < Q1 - 1.5 * IQR) | (df['columna'] > Q3 + 1.5 * IQR)]\n"
   ]
  },
  {
   "cell_type": "code",
   "execution_count": 34,
   "id": "614cd0b2",
   "metadata": {},
   "outputs": [
    {
     "name": "stdout",
     "output_type": "stream",
     "text": [
      "--- Detección de Outliers usando IQR ---\n",
      "Q1: 2.00, Q3: 4.00, IQR: 2.00\n",
      "Límite Inferior (IQR): -1.00\n",
      "Límite Superior (IQR): 7.00\n",
      "Outliers detectados por IQR:\n"
     ]
    },
    {
     "data": {
      "text/html": [
       "<div>\n",
       "<style scoped>\n",
       "    .dataframe tbody tr th:only-of-type {\n",
       "        vertical-align: middle;\n",
       "    }\n",
       "\n",
       "    .dataframe tbody tr th {\n",
       "        vertical-align: top;\n",
       "    }\n",
       "\n",
       "    .dataframe thead th {\n",
       "        text-align: right;\n",
       "    }\n",
       "</style>\n",
       "<table border=\"1\" class=\"dataframe\">\n",
       "  <thead>\n",
       "    <tr style=\"text-align: right;\">\n",
       "      <th></th>\n",
       "      <th>cliente</th>\n",
       "      <th>cantidad</th>\n",
       "      <th>precio</th>\n",
       "      <th>total_venta</th>\n",
       "      <th>calculado</th>\n",
       "      <th>diferencia</th>\n",
       "    </tr>\n",
       "  </thead>\n",
       "  <tbody>\n",
       "    <tr>\n",
       "      <th>5</th>\n",
       "      <td>Carlos López</td>\n",
       "      <td>10000.0</td>\n",
       "      <td>100.0</td>\n",
       "      <td>1000000.0</td>\n",
       "      <td>1000000.0</td>\n",
       "      <td>0.0</td>\n",
       "    </tr>\n",
       "  </tbody>\n",
       "</table>\n",
       "</div>"
      ],
      "text/plain": [
       "        cliente  cantidad  precio  total_venta  calculado  diferencia\n",
       "5  Carlos López   10000.0   100.0    1000000.0  1000000.0         0.0"
      ]
     },
     "execution_count": 34,
     "metadata": {},
     "output_type": "execute_result"
    }
   ],
   "source": [
    "print(\"--- Detección de Outliers usando IQR ---\")\n",
    "Q1 = df['cantidad'].quantile(0.25)\n",
    "Q3 = df['cantidad'].quantile(0.75)\n",
    "IQR = Q3 - Q1\n",
    "\n",
    "# Límites para identificar outliers\n",
    "lower_bound_iqr = Q1 - 1.5 * IQR\n",
    "upper_bound_iqr = Q3 + 1.5 * IQR\n",
    "\n",
    "outliers_iqr = df[(df['cantidad'] < lower_bound_iqr) | (df['cantidad'] > upper_bound_iqr)]\n",
    "\n",
    "print(f\"Q1: {Q1:.2f}, Q3: {Q3:.2f}, IQR: {IQR:.2f}\")\n",
    "print(f\"Límite Inferior (IQR): {lower_bound_iqr:.2f}\")\n",
    "print(f\"Límite Superior (IQR): {upper_bound_iqr:.2f}\")\n",
    "print(\"Outliers detectados por IQR:\")\n",
    "outliers_iqr"
   ]
  },
  {
   "cell_type": "code",
   "execution_count": 35,
   "id": "b328deb0",
   "metadata": {},
   "outputs": [
    {
     "name": "stdout",
     "output_type": "stream",
     "text": [
      "--- Detección de Outliers usando IQR ---\n",
      "Q1: 100.00, Q3: 350.00, IQR: 250.00\n",
      "Límite Inferior (IQR): -275.00\n",
      "Límite Superior (IQR): 725.00\n",
      "Outliers detectados por IQR:\n"
     ]
    },
    {
     "data": {
      "text/html": [
       "<div>\n",
       "<style scoped>\n",
       "    .dataframe tbody tr th:only-of-type {\n",
       "        vertical-align: middle;\n",
       "    }\n",
       "\n",
       "    .dataframe tbody tr th {\n",
       "        vertical-align: top;\n",
       "    }\n",
       "\n",
       "    .dataframe thead th {\n",
       "        text-align: right;\n",
       "    }\n",
       "</style>\n",
       "<table border=\"1\" class=\"dataframe\">\n",
       "  <thead>\n",
       "    <tr style=\"text-align: right;\">\n",
       "      <th></th>\n",
       "      <th>cliente</th>\n",
       "      <th>cantidad</th>\n",
       "      <th>precio</th>\n",
       "      <th>total_venta</th>\n",
       "      <th>calculado</th>\n",
       "      <th>diferencia</th>\n",
       "    </tr>\n",
       "  </thead>\n",
       "  <tbody>\n",
       "    <tr>\n",
       "      <th>8</th>\n",
       "      <td>Ana Torres</td>\n",
       "      <td>3.0</td>\n",
       "      <td>1000.0</td>\n",
       "      <td>3000.0</td>\n",
       "      <td>3000.0</td>\n",
       "      <td>0.0</td>\n",
       "    </tr>\n",
       "  </tbody>\n",
       "</table>\n",
       "</div>"
      ],
      "text/plain": [
       "      cliente  cantidad  precio  total_venta  calculado  diferencia\n",
       "8  Ana Torres       3.0  1000.0       3000.0     3000.0         0.0"
      ]
     },
     "execution_count": 35,
     "metadata": {},
     "output_type": "execute_result"
    }
   ],
   "source": [
    "print(\"--- Detección de Outliers usando IQR ---\")\n",
    "Q1 = df['precio'].quantile(0.25)\n",
    "Q3 = df['precio'].quantile(0.75)\n",
    "IQR = Q3 - Q1\n",
    "\n",
    "# Límites para identificar outliers\n",
    "lower_bound_iqr = Q1 - 1.5 * IQR\n",
    "upper_bound_iqr = Q3 + 1.5 * IQR\n",
    "\n",
    "outliers_iqr = df[(df['precio'] < lower_bound_iqr) | (df['precio'] > upper_bound_iqr)]\n",
    "\n",
    "print(f\"Q1: {Q1:.2f}, Q3: {Q3:.2f}, IQR: {IQR:.2f}\")\n",
    "print(f\"Límite Inferior (IQR): {lower_bound_iqr:.2f}\")\n",
    "print(f\"Límite Superior (IQR): {upper_bound_iqr:.2f}\")\n",
    "print(\"Outliers detectados por IQR:\")\n",
    "outliers_iqr"
   ]
  },
  {
   "cell_type": "code",
   "execution_count": 36,
   "id": "9d4ce6b9",
   "metadata": {},
   "outputs": [
    {
     "name": "stdout",
     "output_type": "stream",
     "text": [
      "--- Detección de Outliers usando IQR ---\n",
      "Q1: 370.00, Q3: 2000.00, IQR: 1630.00\n",
      "Límite Inferior (IQR): -2075.00\n",
      "Límite Superior (IQR): 4445.00\n",
      "Outliers detectados por IQR:\n"
     ]
    },
    {
     "data": {
      "text/html": [
       "<div>\n",
       "<style scoped>\n",
       "    .dataframe tbody tr th:only-of-type {\n",
       "        vertical-align: middle;\n",
       "    }\n",
       "\n",
       "    .dataframe tbody tr th {\n",
       "        vertical-align: top;\n",
       "    }\n",
       "\n",
       "    .dataframe thead th {\n",
       "        text-align: right;\n",
       "    }\n",
       "</style>\n",
       "<table border=\"1\" class=\"dataframe\">\n",
       "  <thead>\n",
       "    <tr style=\"text-align: right;\">\n",
       "      <th></th>\n",
       "      <th>cliente</th>\n",
       "      <th>cantidad</th>\n",
       "      <th>precio</th>\n",
       "      <th>total_venta</th>\n",
       "      <th>calculado</th>\n",
       "      <th>diferencia</th>\n",
       "    </tr>\n",
       "  </thead>\n",
       "  <tbody>\n",
       "    <tr>\n",
       "      <th>5</th>\n",
       "      <td>Carlos López</td>\n",
       "      <td>10000.0</td>\n",
       "      <td>100.0</td>\n",
       "      <td>1000000.0</td>\n",
       "      <td>1000000.0</td>\n",
       "      <td>0.0</td>\n",
       "    </tr>\n",
       "  </tbody>\n",
       "</table>\n",
       "</div>"
      ],
      "text/plain": [
       "        cliente  cantidad  precio  total_venta  calculado  diferencia\n",
       "5  Carlos López   10000.0   100.0    1000000.0  1000000.0         0.0"
      ]
     },
     "execution_count": 36,
     "metadata": {},
     "output_type": "execute_result"
    }
   ],
   "source": [
    "print(\"--- Detección de Outliers usando IQR ---\")\n",
    "Q1 = df['total_venta'].quantile(0.25)\n",
    "Q3 = df['total_venta'].quantile(0.75)\n",
    "IQR = Q3 - Q1\n",
    "\n",
    "# Límites para identificar outliers\n",
    "lower_bound_iqr = Q1 - 1.5 * IQR\n",
    "upper_bound_iqr = Q3 + 1.5 * IQR\n",
    "\n",
    "outliers_iqr = df[(df['total_venta'] < lower_bound_iqr) | (df['total_venta'] > upper_bound_iqr)]\n",
    "\n",
    "print(f\"Q1: {Q1:.2f}, Q3: {Q3:.2f}, IQR: {IQR:.2f}\")\n",
    "print(f\"Límite Inferior (IQR): {lower_bound_iqr:.2f}\")\n",
    "print(f\"Límite Superior (IQR): {upper_bound_iqr:.2f}\")\n",
    "print(\"Outliers detectados por IQR:\")\n",
    "outliers_iqr"
   ]
  },
  {
   "cell_type": "markdown",
   "id": "8b80b1a4",
   "metadata": {},
   "source": [
    "**Visualizaciones de outliers**"
   ]
  },
  {
   "cell_type": "code",
   "execution_count": 41,
   "id": "22dc9345",
   "metadata": {},
   "outputs": [
    {
     "data": {
      "image/png": "[encoded data removed]",
      "text/plain": [
       "<Figure size 1500x500 with 3 Axes>"
      ]
     },
     "metadata": {},
     "output_type": "display_data"
    }
   ],
   "source": [
    "# Columnas para las que queremos boxplots\n",
    "columns_to_plot = ['cantidad', 'precio', 'total_venta']\n",
    "\n",
    "# Crear subplots para cada boxplot\n",
    "fig, axes = plt.subplots(1, len(columns_to_plot), figsize=(15, 5)) # 1 fila, 3 columnas de gráficos\n",
    "\n",
    "# Iterar sobre las columnas y generar un boxplot para cada una\n",
    "for i, col in enumerate(columns_to_plot):\n",
    "    sns.boxplot(y=df[col], ax=axes[i])\n",
    "    axes[i].set_title(f'Boxplot de {col}')\n",
    "    axes[i].set_ylabel(col.replace('_', ' ').title()) # Formatear el label del eje y\n",
    "\n",
    "plt.tight_layout() # Ajustar el diseño para evitar superposiciones\n",
    "plt.show()"
   ]
  }
 ],
 "metadata": {
  "kernelspec": {
   "display_name": "venv",
   "language": "python",
   "name": "python3"
  },
  "language_info": {
   "codemirror_mode": {
    "name": "ipython",
    "version": 3
   },
   "file_extension": ".py",
   "mimetype": "text/x-python",
   "name": "python",
   "nbconvert_exporter": "python",
   "pygments_lexer": "ipython3",
   "version": "3.12.1"
  }
 },
 "nbformat": 4,
 "nbformat_minor": 5
}
