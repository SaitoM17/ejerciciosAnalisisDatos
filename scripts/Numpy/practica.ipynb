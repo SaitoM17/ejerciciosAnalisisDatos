{
 "cells": [
  {
   "cell_type": "code",
   "execution_count": 1,
   "id": "67af4621",
   "metadata": {},
   "outputs": [],
   "source": [
    "import pandas as pd\n",
    "import numpy as np\n",
    "import seaborn as sns\n",
    "import matplotlib.pyplot as plt\n",
    "import unidecode"
   ]
  },
  {
   "cell_type": "markdown",
   "id": "2b1ac359",
   "metadata": {},
   "source": [
    "**Cargar datos**"
   ]
  },
  {
   "cell_type": "code",
   "execution_count": 2,
   "id": "7754c967",
   "metadata": {},
   "outputs": [
    {
     "data": {
      "text/html": [
       "<div>\n",
       "<style scoped>\n",
       "    .dataframe tbody tr th:only-of-type {\n",
       "        vertical-align: middle;\n",
       "    }\n",
       "\n",
       "    .dataframe tbody tr th {\n",
       "        vertical-align: top;\n",
       "    }\n",
       "\n",
       "    .dataframe thead th {\n",
       "        text-align: right;\n",
       "    }\n",
       "</style>\n",
       "<table border=\"1\" class=\"dataframe\">\n",
       "  <thead>\n",
       "    <tr style=\"text-align: right;\">\n",
       "      <th></th>\n",
       "      <th>cliente</th>\n",
       "      <th>cantidad</th>\n",
       "      <th>precio</th>\n",
       "      <th>total_venta</th>\n",
       "    </tr>\n",
       "  </thead>\n",
       "  <tbody>\n",
       "    <tr>\n",
       "      <th>0</th>\n",
       "      <td>Juan Perez</td>\n",
       "      <td>5.0</td>\n",
       "      <td>100.00</td>\n",
       "      <td>500.00</td>\n",
       "    </tr>\n",
       "    <tr>\n",
       "      <th>1</th>\n",
       "      <td>JUAN PÉREZ</td>\n",
       "      <td>5.0</td>\n",
       "      <td>100.00</td>\n",
       "      <td>500.00</td>\n",
       "    </tr>\n",
       "    <tr>\n",
       "      <th>2</th>\n",
       "      <td>juan p.</td>\n",
       "      <td>5.0</td>\n",
       "      <td>100.00</td>\n",
       "      <td>500.00</td>\n",
       "    </tr>\n",
       "    <tr>\n",
       "      <th>3</th>\n",
       "      <td>Maria Gómez</td>\n",
       "      <td>2.0</td>\n",
       "      <td>500.00</td>\n",
       "      <td>1000.00</td>\n",
       "    </tr>\n",
       "    <tr>\n",
       "      <th>4</th>\n",
       "      <td>María Gómez</td>\n",
       "      <td>2.0</td>\n",
       "      <td>500.00</td>\n",
       "      <td>1000.00</td>\n",
       "    </tr>\n",
       "    <tr>\n",
       "      <th>5</th>\n",
       "      <td>Carlos Lòpez</td>\n",
       "      <td>10000.0</td>\n",
       "      <td>100.00</td>\n",
       "      <td>1000000.00</td>\n",
       "    </tr>\n",
       "    <tr>\n",
       "      <th>6</th>\n",
       "      <td>Pedro</td>\n",
       "      <td>NaN</td>\n",
       "      <td>150.00</td>\n",
       "      <td>NaN</td>\n",
       "    </tr>\n",
       "    <tr>\n",
       "      <th>7</th>\n",
       "      <td>Ana Torres</td>\n",
       "      <td>3.0</td>\n",
       "      <td>0.01</td>\n",
       "      <td>0.03</td>\n",
       "    </tr>\n",
       "    <tr>\n",
       "      <th>8</th>\n",
       "      <td>anA torres</td>\n",
       "      <td>3.0</td>\n",
       "      <td>1000.00</td>\n",
       "      <td>3000.00</td>\n",
       "    </tr>\n",
       "    <tr>\n",
       "      <th>9</th>\n",
       "      <td>Laura</td>\n",
       "      <td>2.0</td>\n",
       "      <td>NaN</td>\n",
       "      <td>200.00</td>\n",
       "    </tr>\n",
       "    <tr>\n",
       "      <th>10</th>\n",
       "      <td>Jose</td>\n",
       "      <td>2.0</td>\n",
       "      <td>120.00</td>\n",
       "      <td>240.00</td>\n",
       "    </tr>\n",
       "    <tr>\n",
       "      <th>11</th>\n",
       "      <td>Jose</td>\n",
       "      <td>2.0</td>\n",
       "      <td>120.00</td>\n",
       "      <td>240.00</td>\n",
       "    </tr>\n",
       "    <tr>\n",
       "      <th>12</th>\n",
       "      <td>Jòsé</td>\n",
       "      <td>2.0</td>\n",
       "      <td>120.00</td>\n",
       "      <td>240.00</td>\n",
       "    </tr>\n",
       "  </tbody>\n",
       "</table>\n",
       "</div>"
      ],
      "text/plain": [
       "         cliente  cantidad   precio  total_venta\n",
       "0     Juan Perez       5.0   100.00       500.00\n",
       "1    JUAN PÉREZ        5.0   100.00       500.00\n",
       "2        juan p.       5.0   100.00       500.00\n",
       "3    Maria Gómez       2.0   500.00      1000.00\n",
       "4    María Gómez       2.0   500.00      1000.00\n",
       "5   Carlos Lòpez   10000.0   100.00   1000000.00\n",
       "6          Pedro       NaN   150.00          NaN\n",
       "7     Ana Torres       3.0     0.01         0.03\n",
       "8     anA torres       3.0  1000.00      3000.00\n",
       "9          Laura       2.0      NaN       200.00\n",
       "10          Jose       2.0   120.00       240.00\n",
       "11          Jose       2.0   120.00       240.00\n",
       "12          Jòsé       2.0   120.00       240.00"
      ]
     },
     "execution_count": 2,
     "metadata": {},
     "output_type": "execute_result"
    }
   ],
   "source": [
    "df = pd.read_csv('ventas.csv')\n",
    "df"
   ]
  },
  {
   "cell_type": "markdown",
   "id": "a3803f2a",
   "metadata": {},
   "source": [
    "**Información de los datos**"
   ]
  },
  {
   "cell_type": "code",
   "execution_count": 3,
   "id": "b2e3db52",
   "metadata": {},
   "outputs": [
    {
     "name": "stdout",
     "output_type": "stream",
     "text": [
      "<class 'pandas.core.frame.DataFrame'>\n",
      "RangeIndex: 13 entries, 0 to 12\n",
      "Data columns (total 4 columns):\n",
      " #   Column       Non-Null Count  Dtype  \n",
      "---  ------       --------------  -----  \n",
      " 0   cliente      13 non-null     object \n",
      " 1   cantidad     12 non-null     float64\n",
      " 2   precio       12 non-null     float64\n",
      " 3   total_venta  12 non-null     float64\n",
      "dtypes: float64(3), object(1)\n",
      "memory usage: 548.0+ bytes\n"
     ]
    }
   ],
   "source": [
    "df.info()"
   ]
  },
  {
   "cell_type": "markdown",
   "id": "b67592ee",
   "metadata": {},
   "source": [
    "**Filas y columnas del DatFrame**"
   ]
  },
  {
   "cell_type": "code",
   "execution_count": 4,
   "id": "bef60bc6",
   "metadata": {},
   "outputs": [
    {
     "name": "stdout",
     "output_type": "stream",
     "text": [
      "Cantidad de Filas: 13\n",
      "Cantidad de Columnas: 4\n"
     ]
    }
   ],
   "source": [
    "filas, columnas = df.shape\n",
    "print(f'Cantidad de Filas: {filas}\\nCantidad de Columnas: {columnas}')"
   ]
  },
  {
   "cell_type": "markdown",
   "id": "36647f95",
   "metadata": {},
   "source": [
    "**Verificar valores nulos en los datos**"
   ]
  },
  {
   "cell_type": "code",
   "execution_count": 5,
   "id": "754ae68f",
   "metadata": {},
   "outputs": [
    {
     "name": "stdout",
     "output_type": "stream",
     "text": [
      "Cantidad de valore nulos\n",
      "cliente        0\n",
      "cantidad       1\n",
      "precio         1\n",
      "total_venta    1\n",
      "dtype: int64\n"
     ]
    }
   ],
   "source": [
    "canti_nulos = df.isnull().sum()\n",
    "print(f'Cantidad de valore nulos\\n{canti_nulos}')"
   ]
  },
  {
   "cell_type": "markdown",
   "id": "ae913688",
   "metadata": {},
   "source": [
    "**Identidificar las filas con los valores nulos**"
   ]
  },
  {
   "cell_type": "code",
   "execution_count": 6,
   "id": "15fbbb0d",
   "metadata": {},
   "outputs": [
    {
     "data": {
      "text/html": [
       "<div>\n",
       "<style scoped>\n",
       "    .dataframe tbody tr th:only-of-type {\n",
       "        vertical-align: middle;\n",
       "    }\n",
       "\n",
       "    .dataframe tbody tr th {\n",
       "        vertical-align: top;\n",
       "    }\n",
       "\n",
       "    .dataframe thead th {\n",
       "        text-align: right;\n",
       "    }\n",
       "</style>\n",
       "<table border=\"1\" class=\"dataframe\">\n",
       "  <thead>\n",
       "    <tr style=\"text-align: right;\">\n",
       "      <th></th>\n",
       "      <th>cliente</th>\n",
       "      <th>cantidad</th>\n",
       "      <th>precio</th>\n",
       "      <th>total_venta</th>\n",
       "    </tr>\n",
       "  </thead>\n",
       "  <tbody>\n",
       "    <tr>\n",
       "      <th>6</th>\n",
       "      <td>Pedro</td>\n",
       "      <td>NaN</td>\n",
       "      <td>150.0</td>\n",
       "      <td>NaN</td>\n",
       "    </tr>\n",
       "    <tr>\n",
       "      <th>9</th>\n",
       "      <td>Laura</td>\n",
       "      <td>2.0</td>\n",
       "      <td>NaN</td>\n",
       "      <td>200.0</td>\n",
       "    </tr>\n",
       "  </tbody>\n",
       "</table>\n",
       "</div>"
      ],
      "text/plain": [
       "  cliente  cantidad  precio  total_venta\n",
       "6   Pedro       NaN   150.0          NaN\n",
       "9   Laura       2.0     NaN        200.0"
      ]
     },
     "execution_count": 6,
     "metadata": {},
     "output_type": "execute_result"
    }
   ],
   "source": [
    "filas_con_nulos = df[df.isnull().any(axis=1)]\n",
    "filas_con_nulos"
   ]
  },
  {
   "cell_type": "markdown",
   "id": "ee0e26ed",
   "metadata": {},
   "source": [
    "**Corregir datos con valores nulos(es posible llenarlo los datos ya que tiene la información necesaria)**"
   ]
  },
  {
   "cell_type": "code",
   "execution_count": 19,
   "id": "a0d3cac3",
   "metadata": {},
   "outputs": [
    {
     "name": "stdout",
     "output_type": "stream",
     "text": [
      "Verificamos\n"
     ]
    },
    {
     "data": {
      "text/plain": [
       "cliente        Laura\n",
       "cantidad         2.0\n",
       "precio         100.0\n",
       "total_venta    200.0\n",
       "Name: 9, dtype: object"
      ]
     },
     "execution_count": 19,
     "metadata": {},
     "output_type": "execute_result"
    }
   ],
   "source": [
    "df.loc[9,'precio'] = 100\n",
    "print('Verificamos')\n",
    "df.loc[9]\n"
   ]
  },
  {
   "cell_type": "markdown",
   "id": "3ee11da8",
   "metadata": {},
   "source": [
    "**Eliminar fila con valores nulos(no es posible llenarlos con datos que sean correctos)**"
   ]
  },
  {
   "cell_type": "code",
   "execution_count": 24,
   "id": "90821fb2",
   "metadata": {},
   "outputs": [],
   "source": [
    "df = df.dropna()"
   ]
  },
  {
   "cell_type": "markdown",
   "id": "5a2c46ee",
   "metadata": {},
   "source": [
    "**Verificamos que los valores nulos fueron tratados**"
   ]
  },
  {
   "cell_type": "code",
   "execution_count": 25,
   "id": "1c137ded",
   "metadata": {},
   "outputs": [
    {
     "name": "stdout",
     "output_type": "stream",
     "text": [
      "Cantidad de valores nulos\n",
      "cliente        0\n",
      "cantidad       0\n",
      "precio         0\n",
      "total_venta    0\n",
      "dtype: int64\n",
      "\n",
      "Filas con valores nulos\n",
      "Empty DataFrame\n",
      "Columns: [cliente, cantidad, precio, total_venta]\n",
      "Index: []\n"
     ]
    }
   ],
   "source": [
    "\n",
    "print(f'Cantidad de valores nulos\\n{df.isnull().sum()}')\n",
    "print(f'\\nFilas con valores nulos\\n{df[df.isnull().any(axis=1)]}')"
   ]
  },
  {
   "cell_type": "markdown",
   "id": "3a9cfaf8",
   "metadata": {},
   "source": [
    "**Verificar valores duplicados por filas(registro)**"
   ]
  },
  {
   "cell_type": "code",
   "execution_count": 75,
   "id": "f011f416",
   "metadata": {},
   "outputs": [
    {
     "name": "stdout",
     "output_type": "stream",
     "text": [
      "Cantidad de valores duplicados\n",
      "1\n"
     ]
    }
   ],
   "source": [
    "cant_duplicados = df.duplicated().sum()\n",
    "print(f'Cantidad de valores duplicados\\n{cant_duplicados}')"
   ]
  },
  {
   "cell_type": "markdown",
   "id": "9e750c41",
   "metadata": {},
   "source": [
    "**Identificar que filas son las duplicadas**"
   ]
  },
  {
   "cell_type": "code",
   "execution_count": 79,
   "id": "b3b0aa1e",
   "metadata": {},
   "outputs": [
    {
     "data": {
      "text/html": [
       "<div>\n",
       "<style scoped>\n",
       "    .dataframe tbody tr th:only-of-type {\n",
       "        vertical-align: middle;\n",
       "    }\n",
       "\n",
       "    .dataframe tbody tr th {\n",
       "        vertical-align: top;\n",
       "    }\n",
       "\n",
       "    .dataframe thead th {\n",
       "        text-align: right;\n",
       "    }\n",
       "</style>\n",
       "<table border=\"1\" class=\"dataframe\">\n",
       "  <thead>\n",
       "    <tr style=\"text-align: right;\">\n",
       "      <th></th>\n",
       "      <th>cliente</th>\n",
       "      <th>cantidad</th>\n",
       "      <th>precio</th>\n",
       "      <th>total_venta</th>\n",
       "    </tr>\n",
       "  </thead>\n",
       "  <tbody>\n",
       "    <tr>\n",
       "      <th>10</th>\n",
       "      <td>Jose</td>\n",
       "      <td>2.0</td>\n",
       "      <td>120.0</td>\n",
       "      <td>240.0</td>\n",
       "    </tr>\n",
       "    <tr>\n",
       "      <th>11</th>\n",
       "      <td>Jose</td>\n",
       "      <td>2.0</td>\n",
       "      <td>120.0</td>\n",
       "      <td>240.0</td>\n",
       "    </tr>\n",
       "  </tbody>\n",
       "</table>\n",
       "</div>"
      ],
      "text/plain": [
       "   cliente  cantidad  precio  total_venta\n",
       "10    Jose       2.0   120.0        240.0\n",
       "11    Jose       2.0   120.0        240.0"
      ]
     },
     "execution_count": 79,
     "metadata": {},
     "output_type": "execute_result"
    }
   ],
   "source": [
    "filas_duplicadas = df[df.duplicated(keep=False)]\n",
    "filas_duplicadas"
   ]
  },
  {
   "cell_type": "markdown",
   "id": "f94bad8c",
   "metadata": {},
   "source": [
    "**Eliminar filas duplicadas**"
   ]
  },
  {
   "cell_type": "code",
   "execution_count": 26,
   "id": "0300d8ca",
   "metadata": {},
   "outputs": [
    {
     "name": "stdout",
     "output_type": "stream",
     "text": [
      "Cantidad de valores duplicados\n",
      "0\n"
     ]
    }
   ],
   "source": [
    "df = df.drop_duplicates()\n",
    "\n",
    "# Verificar los valores duplicados\n",
    "print(f'Cantidad de valores duplicados\\n{df.duplicated().sum()}')"
   ]
  },
  {
   "cell_type": "markdown",
   "id": "b44e75a3",
   "metadata": {},
   "source": [
    "**Errores de entrada**"
   ]
  },
  {
   "cell_type": "markdown",
   "id": "3a78a00e",
   "metadata": {},
   "source": [
    "**1. Valores únicos sospechosos**"
   ]
  },
  {
   "cell_type": "code",
   "execution_count": 27,
   "id": "a993112e",
   "metadata": {},
   "outputs": [
    {
     "data": {
      "text/plain": [
       "cliente\n",
       "Juan Perez      1\n",
       "JUAN PÉREZ      1\n",
       "juan p.         1\n",
       "Maria Gómez     1\n",
       "María Gómez     1\n",
       "Carlos Lòpez    1\n",
       "Ana Torres      1\n",
       "anA torres      1\n",
       "Laura           1\n",
       "Jose            1\n",
       "Jòsé            1\n",
       "Name: count, dtype: int64"
      ]
     },
     "execution_count": 27,
     "metadata": {},
     "output_type": "execute_result"
    }
   ],
   "source": [
    "nombre_cliente = df['cliente'].value_counts()\n",
    "nombre_cliente"
   ]
  },
  {
   "cell_type": "markdown",
   "id": "4b0f9a7a",
   "metadata": {},
   "source": [
    "**2. Normalización básica del texto**"
   ]
  },
  {
   "cell_type": "code",
   "execution_count": 28,
   "id": "64baf44a",
   "metadata": {},
   "outputs": [],
   "source": [
    "df['nombre_normalizado'] = df['cliente'].str.lower()  # o .str.upper()\n",
    "df['nombre_normalizado'] = df['nombre_normalizado'].apply(unidecode.unidecode)\n",
    "df['nombre_normalizado'] = df['nombre_normalizado'].str.strip()"
   ]
  },
  {
   "cell_type": "markdown",
   "id": "591b767e",
   "metadata": {},
   "source": [
    "**3. Agrupación por similitud de texto (fuzzy matching)**"
   ]
  },
  {
   "cell_type": "code",
   "execution_count": 29,
   "id": "a313afef",
   "metadata": {},
   "outputs": [
    {
     "data": {
      "text/plain": [
       "nombre_normalizado\n",
       "juan perez      2\n",
       "maria gomez     2\n",
       "ana torres      2\n",
       "jose            2\n",
       "juan p.         1\n",
       "carlos lopez    1\n",
       "laura           1\n",
       "Name: count, dtype: int64"
      ]
     },
     "execution_count": 29,
     "metadata": {},
     "output_type": "execute_result"
    }
   ],
   "source": [
    "nombre_normalizados = df['nombre_normalizado'].value_counts()\n",
    "nombre_normalizados"
   ]
  },
  {
   "cell_type": "markdown",
   "id": "a26175be",
   "metadata": {},
   "source": [
    "**4. Visualización de frecuencias**"
   ]
  },
  {
   "cell_type": "code",
   "execution_count": 30,
   "id": "78ff340f",
   "metadata": {},
   "outputs": [
    {
     "data": {
      "image/png": "[encoded data removed]",
      "text/plain": [
       "<Figure size 640x480 with 1 Axes>"
      ]
     },
     "metadata": {},
     "output_type": "display_data"
    }
   ],
   "source": [
    "df['nombre_normalizado'].value_counts().head(10).plot(kind='barh')\n",
    "plt.title(\"Nombres más frecuentes (normalizados)\")\n",
    "plt.show()"
   ]
  },
  {
   "cell_type": "markdown",
   "id": "ac779438",
   "metadata": {},
   "source": [
    "**5.-Correcciones**"
   ]
  },
  {
   "cell_type": "code",
   "execution_count": 31,
   "id": "58d5c083",
   "metadata": {},
   "outputs": [
    {
     "data": {
      "text/html": [
       "<div>\n",
       "<style scoped>\n",
       "    .dataframe tbody tr th:only-of-type {\n",
       "        vertical-align: middle;\n",
       "    }\n",
       "\n",
       "    .dataframe tbody tr th {\n",
       "        vertical-align: top;\n",
       "    }\n",
       "\n",
       "    .dataframe thead th {\n",
       "        text-align: right;\n",
       "    }\n",
       "</style>\n",
       "<table border=\"1\" class=\"dataframe\">\n",
       "  <thead>\n",
       "    <tr style=\"text-align: right;\">\n",
       "      <th></th>\n",
       "      <th>cliente</th>\n",
       "      <th>cantidad</th>\n",
       "      <th>precio</th>\n",
       "      <th>total_venta</th>\n",
       "    </tr>\n",
       "  </thead>\n",
       "  <tbody>\n",
       "    <tr>\n",
       "      <th>0</th>\n",
       "      <td>Juan Pérez</td>\n",
       "      <td>5.0</td>\n",
       "      <td>100.00</td>\n",
       "      <td>500.00</td>\n",
       "    </tr>\n",
       "    <tr>\n",
       "      <th>1</th>\n",
       "      <td>Juan Pérez</td>\n",
       "      <td>5.0</td>\n",
       "      <td>100.00</td>\n",
       "      <td>500.00</td>\n",
       "    </tr>\n",
       "    <tr>\n",
       "      <th>2</th>\n",
       "      <td>Juan Pérez</td>\n",
       "      <td>5.0</td>\n",
       "      <td>100.00</td>\n",
       "      <td>500.00</td>\n",
       "    </tr>\n",
       "    <tr>\n",
       "      <th>3</th>\n",
       "      <td>María Gómez</td>\n",
       "      <td>2.0</td>\n",
       "      <td>500.00</td>\n",
       "      <td>1000.00</td>\n",
       "    </tr>\n",
       "    <tr>\n",
       "      <th>4</th>\n",
       "      <td>María Gómez</td>\n",
       "      <td>2.0</td>\n",
       "      <td>500.00</td>\n",
       "      <td>1000.00</td>\n",
       "    </tr>\n",
       "    <tr>\n",
       "      <th>5</th>\n",
       "      <td>Carlos López</td>\n",
       "      <td>10000.0</td>\n",
       "      <td>100.00</td>\n",
       "      <td>1000000.00</td>\n",
       "    </tr>\n",
       "    <tr>\n",
       "      <th>7</th>\n",
       "      <td>Ana Torres</td>\n",
       "      <td>3.0</td>\n",
       "      <td>0.01</td>\n",
       "      <td>0.03</td>\n",
       "    </tr>\n",
       "    <tr>\n",
       "      <th>8</th>\n",
       "      <td>Ana Torres</td>\n",
       "      <td>3.0</td>\n",
       "      <td>1000.00</td>\n",
       "      <td>3000.00</td>\n",
       "    </tr>\n",
       "    <tr>\n",
       "      <th>9</th>\n",
       "      <td>Laura</td>\n",
       "      <td>2.0</td>\n",
       "      <td>100.00</td>\n",
       "      <td>200.00</td>\n",
       "    </tr>\n",
       "    <tr>\n",
       "      <th>10</th>\n",
       "      <td>José</td>\n",
       "      <td>2.0</td>\n",
       "      <td>120.00</td>\n",
       "      <td>240.00</td>\n",
       "    </tr>\n",
       "    <tr>\n",
       "      <th>12</th>\n",
       "      <td>José</td>\n",
       "      <td>2.0</td>\n",
       "      <td>120.00</td>\n",
       "      <td>240.00</td>\n",
       "    </tr>\n",
       "  </tbody>\n",
       "</table>\n",
       "</div>"
      ],
      "text/plain": [
       "         cliente  cantidad   precio  total_venta\n",
       "0     Juan Pérez       5.0   100.00       500.00\n",
       "1     Juan Pérez       5.0   100.00       500.00\n",
       "2     Juan Pérez       5.0   100.00       500.00\n",
       "3    María Gómez       2.0   500.00      1000.00\n",
       "4    María Gómez       2.0   500.00      1000.00\n",
       "5   Carlos López   10000.0   100.00   1000000.00\n",
       "7     Ana Torres       3.0     0.01         0.03\n",
       "8     Ana Torres       3.0  1000.00      3000.00\n",
       "9          Laura       2.0   100.00       200.00\n",
       "10          José       2.0   120.00       240.00\n",
       "12          José       2.0   120.00       240.00"
      ]
     },
     "execution_count": 31,
     "metadata": {},
     "output_type": "execute_result"
    }
   ],
   "source": [
    "correcciones = {\n",
    "    'laura': 'Laura',\n",
    "    'juan p.':'Juan Pérez',\n",
    "    'carlos lopez':'Carlos López',\n",
    "    'maria gomez':'María Gómez',\n",
    "    'ana torres':'Ana Torres',\n",
    "    'juan perez':'Juan Pérez',\n",
    "    'jose':'José'\n",
    "}\n",
    "\n",
    "df['cliente'] = df['nombre_normalizado'].replace(correcciones)\n",
    "df = df.drop(columns=['nombre_normalizado'])\n",
    "df"
   ]
  },
  {
   "cell_type": "markdown",
   "id": "d0e39571",
   "metadata": {},
   "source": [
    "**Errores numéricos**"
   ]
  },
  {
   "cell_type": "code",
   "execution_count": 33,
   "id": "8031e0d6",
   "metadata": {},
   "outputs": [
    {
     "name": "stdout",
     "output_type": "stream",
     "text": [
      "Cantidad\n",
      "Valor Maximo: 10000.0\n",
      "Valor Mínimo: 2.0\n"
     ]
    }
   ],
   "source": [
    "maximo_cantidad = df['cantidad'].max()\n",
    "minimo_cantidad = df['cantidad'].min()\n",
    "\n",
    "print(f'Cantidad\\nValor Maximo: {maximo_cantidad}\\nValor Mínimo: {minimo_cantidad}')"
   ]
  }
 ],
 "metadata": {
  "kernelspec": {
   "display_name": "venv",
   "language": "python",
   "name": "python3"
  },
  "language_info": {
   "codemirror_mode": {
    "name": "ipython",
    "version": 3
   },
   "file_extension": ".py",
   "mimetype": "text/x-python",
   "name": "python",
   "nbconvert_exporter": "python",
   "pygments_lexer": "ipython3",
   "version": "3.12.1"
  }
 },
 "nbformat": 4,
 "nbformat_minor": 5
}
