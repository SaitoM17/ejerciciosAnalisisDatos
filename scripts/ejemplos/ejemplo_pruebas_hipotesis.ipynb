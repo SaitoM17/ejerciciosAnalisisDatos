{
 "cells": [
  {
   "cell_type": "code",
   "execution_count": 1,
   "metadata": {},
   "outputs": [],
   "source": [
    "import numpy as np\n",
    "import scipy.stats as stats"
   ]
  },
  {
   "cell_type": "markdown",
   "metadata": {},
   "source": [
    "🚀 Ejemplo 1: Prueba t (t-test)\n",
    "\n",
    "Escenario: Una tienda en línea quiere saber si una campaña de marketing aumentó las compras. Se comparan las compras de clientes antes y después de la campaña."
   ]
  },
  {
   "cell_type": "code",
   "execution_count": 2,
   "metadata": {},
   "outputs": [
    {
     "name": "stdout",
     "output_type": "stream",
     "text": [
      "Estadístico t: -10.550\n",
      "Valor p: 0.000\n",
      "Rechazamos H₀: La campaña tuvo un impacto en las compras.\n"
     ]
    }
   ],
   "source": [
    "# Datos: Monto gastado antes y después de la campaña\n",
    "antes = np.array([50, 60, 45, 70, 65, 55, 80, 60, 58, 62])\n",
    "despues = np.array([68, 75, 72, 80, 85, 78, 90, 82, 77, 79])\n",
    "\n",
    "# Prueba t de muestras pareadas\n",
    "t_stat, p_value = stats.ttest_rel(antes, despues)\n",
    "\n",
    "print(f\"Estadístico t: {t_stat:.3f}\")\n",
    "print(f\"Valor p: {p_value:.3f}\")\n",
    "\n",
    "# Interpretación\n",
    "if p_value < 0.05:\n",
    "    print(\"Rechazamos H₀: La campaña tuvo un impacto en las compras.\")\n",
    "else:\n",
    "    print(\"No hay suficiente evidencia para afirmar que la campaña cambió las compras.\")\n"
   ]
  },
  {
   "cell_type": "markdown",
   "metadata": {},
   "source": [
    "🚀 Ejemplo 2: Prueba de chi-cuadrado\n",
    "\n",
    "Escenario: Queremos analizar si hay una relación entre el género del cliente y si compra o no un producto."
   ]
  },
  {
   "cell_type": "code",
   "execution_count": 3,
   "metadata": {},
   "outputs": [
    {
     "name": "stdout",
     "output_type": "stream",
     "text": [
      "Estadístico chi-cuadrado: 1.636\n",
      "Valor p: 0.201\n",
      "No hay evidencia suficiente para afirmar que el género influye en la compra.\n"
     ]
    }
   ],
   "source": [
    "# Tabla de frecuencia observada\n",
    "#          Compra   No Compra\n",
    "# Hombres    40        60\n",
    "# Mujeres    50        50\n",
    "\n",
    "observed = np.array([[40, 60], [50, 50]])\n",
    "\n",
    "# Prueba de chi-cuadrado\n",
    "chi2_stat, p_value, dof, expected = stats.chi2_contingency(observed)\n",
    "\n",
    "print(f\"Estadístico chi-cuadrado: {chi2_stat:.3f}\")\n",
    "print(f\"Valor p: {p_value:.3f}\")\n",
    "\n",
    "# Interpretación\n",
    "if p_value < 0.05:\n",
    "    print(\"Rechazamos H₀: Existe relación entre el género y la compra.\")\n",
    "else:\n",
    "    print(\"No hay evidencia suficiente para afirmar que el género influye en la compra.\")\n"
   ]
  }
 ],
 "metadata": {
  "kernelspec": {
   "display_name": "venv",
   "language": "python",
   "name": "python3"
  },
  "language_info": {
   "codemirror_mode": {
    "name": "ipython",
    "version": 3
   },
   "file_extension": ".py",
   "mimetype": "text/x-python",
   "name": "python",
   "nbconvert_exporter": "python",
   "pygments_lexer": "ipython3",
   "version": "3.12.1"
  }
 },
 "nbformat": 4,
 "nbformat_minor": 2
}
