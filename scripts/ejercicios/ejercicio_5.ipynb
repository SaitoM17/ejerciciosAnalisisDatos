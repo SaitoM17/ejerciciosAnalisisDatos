{
 "cells": [
  {
   "cell_type": "code",
   "execution_count": 1,
   "metadata": {},
   "outputs": [],
   "source": [
    "import pandas as pd\n",
    "import numpy as np"
   ]
  },
  {
   "cell_type": "markdown",
   "metadata": {},
   "source": [
    "🔹 Ejercicio 1: Análisis de Datos con NumPy\n",
    "Crea una matriz de 10x10 con valores aleatorios enteros entre 50 y 500 y realiza las siguientes tareas:\n",
    "\n",
    "1. Encuentra los valores máximos y mínimos en cada fila.\n",
    "2. Calcula el promedio de cada columna.\n",
    "3. Convierte los valores de la matriz en logaritmo natural (np.log).\n",
    "4. Reemplaza todos los valores mayores a 400 por el promedio de la matriz.\n",
    "\n",
    "📌 Ejemplo de salida esperada:\n",
    "- Valores máximos por fila: [...]\n",
    "- Valores mínimos por fila: [...]\n",
    "- Promedio de cada columna: [...]\n",
    "- Matriz transformada con logaritmo natural:\n",
    "- [[..., ..., ...], [..., ..., ...], ...]\n"
   ]
  },
  {
   "cell_type": "code",
   "execution_count": 2,
   "metadata": {},
   "outputs": [
    {
     "data": {
      "text/plain": [
       "array([[347, 211, 176, 218, 486, 171, 344, 329, 290, 245],\n",
       "       [180, 414, 139, 319, 444,  57, 181, 379, 322, 302],\n",
       "       [ 90, 388, 452, 490, 438,  53, 168, 215, 353,  97],\n",
       "       [252, 215,  57, 268, 453, 189,  58, 394, 210, 183],\n",
       "       [278, 297, 124, 273, 438, 259, 118, 315, 113, 482],\n",
       "       [125, 309, 285, 135, 484, 409, 393, 162,  88, 229],\n",
       "       [458, 496, 233, 349,  51,  72, 123, 373, 268,  65],\n",
       "       [129, 181, 372, 367, 121, 298, 499, 145, 351, 290],\n",
       "       [301, 385, 353, 284, 238, 154,  73, 123, 312, 356],\n",
       "       [312, 297, 229, 383, 466, 288, 485, 369, 379, 488]], dtype=int32)"
      ]
     },
     "execution_count": 2,
     "metadata": {},
     "output_type": "execute_result"
    }
   ],
   "source": [
    "# Crear una matriz de 10x10 valores entre 50 y 500\n",
    "matriz = np.random.randint(50, 501, size=(10,10))\n",
    "matriz"
   ]
  },
  {
   "cell_type": "code",
   "execution_count": null,
   "metadata": {},
   "outputs": [
    {
     "name": "stdout",
     "output_type": "stream",
     "text": [
      "Valores maximos de cada fila: [486 444 490 453 482 484 496 499 385 488]\n",
      "Valores minimos de cada fila: [171  57  53  57 113  88  51 121  73 229]\n"
     ]
    }
   ],
   "source": [
    "# Encontrar los valores máximos y mínimos de cada fila\n",
    "mas_fila = matriz.max(axis=1)\n",
    "min_fila = matriz.min(axis=1)\n",
    "\n",
    "print(f'Valores maximos de cada fila: {mas_fila}')\n",
    "print(f'Valores minimos de cada fila: {min_fila}')"
   ]
  },
  {
   "cell_type": "code",
   "execution_count": 9,
   "metadata": {},
   "outputs": [
    {
     "name": "stdout",
     "output_type": "stream",
     "text": [
      "Promedio de cada columna: [247.2 319.3 242.  308.6 361.9 195.  244.2 280.4 268.6 273.7]\n"
     ]
    }
   ],
   "source": [
    "# Promedio de cada columna\n",
    "prom_columnas = matriz.mean(axis=0)\n",
    "print(f'Promedio de cada columna: {prom_columnas}')"
   ]
  },
  {
   "cell_type": "code",
   "execution_count": 10,
   "metadata": {},
   "outputs": [
    {
     "data": {
      "text/plain": [
       "array([[5.84932478, 5.35185813, 5.170484  , 5.38449506, 6.18620862,\n",
       "        5.14166356, 5.84064166, 5.79605775, 5.66988092, 5.50125821],\n",
       "       [5.19295685, 6.02586597, 4.93447393, 5.7651911 , 6.09582456,\n",
       "        4.04305127, 5.19849703, 5.93753621, 5.77455155, 5.71042702],\n",
       "       [4.49980967, 5.96100534, 6.11368218, 6.19440539, 6.08221891,\n",
       "        3.97029191, 5.12396398, 5.37063803, 5.86646806, 4.57471098],\n",
       "       [5.52942909, 5.37063803, 4.04305127, 5.59098698, 6.11589213,\n",
       "        5.24174702, 4.06044301, 5.97635091, 5.34710753, 5.20948615],\n",
       "       [5.62762111, 5.69373214, 4.82028157, 5.6094718 , 6.08221891,\n",
       "        5.55682806, 4.77068462, 5.75257264, 4.72738782, 6.17794411],\n",
       "       [4.82831374, 5.73334128, 5.65248918, 4.90527478, 6.18208491,\n",
       "        6.01371516, 5.97380961, 5.08759634, 4.47733681, 5.433722  ],\n",
       "       [6.12686918, 6.20657593, 5.45103845, 5.85507192, 3.93182563,\n",
       "        4.27666612, 4.81218436, 5.92157842, 5.59098698, 4.17438727],\n",
       "       [4.8598124 , 5.19849703, 5.91889385, 5.90536185, 4.79579055,\n",
       "        5.69709349, 6.2126061 , 4.97673374, 5.86078622, 5.66988092],\n",
       "       [5.70711026, 5.95324333, 5.86646806, 5.64897424, 5.47227067,\n",
       "        5.0369526 , 4.29045944, 4.81218436, 5.74300319, 5.87493073],\n",
       "       [5.74300319, 5.69373214, 5.433722  , 5.94803499, 6.14418563,\n",
       "        5.66296048, 6.18414889, 5.91079664, 5.93753621, 6.19031541]])"
      ]
     },
     "execution_count": 10,
     "metadata": {},
     "output_type": "execute_result"
    }
   ],
   "source": [
    "# Convierte los valores de la matriz en logaritmo natural (np.log)\n",
    "matriz_log = np.log(matriz)\n",
    "matriz_log"
   ]
  },
  {
   "cell_type": "code",
   "execution_count": null,
   "metadata": {},
   "outputs": [
    {
     "data": {
      "text/plain": [
       "array([[  5.84932478,   5.35185813,   5.170484  ,   5.38449506,\n",
       "        274.09      ,   5.14166356,   5.84064166,   5.79605775,\n",
       "          5.66988092,   5.50125821],\n",
       "       [  5.19295685, 274.09      ,   4.93447393,   5.7651911 ,\n",
       "        274.09      ,   4.04305127,   5.19849703,   5.93753621,\n",
       "          5.77455155,   5.71042702],\n",
       "       [  4.49980967,   5.96100534, 274.09      , 274.09      ,\n",
       "        274.09      ,   3.97029191,   5.12396398,   5.37063803,\n",
       "          5.86646806,   4.57471098],\n",
       "       [  5.52942909,   5.37063803,   4.04305127,   5.59098698,\n",
       "        274.09      ,   5.24174702,   4.06044301,   5.97635091,\n",
       "          5.34710753,   5.20948615],\n",
       "       [  5.62762111,   5.69373214,   4.82028157,   5.6094718 ,\n",
       "        274.09      ,   5.55682806,   4.77068462,   5.75257264,\n",
       "          4.72738782, 274.09      ],\n",
       "       [  4.82831374,   5.73334128,   5.65248918,   4.90527478,\n",
       "        274.09      , 274.09      ,   5.97380961,   5.08759634,\n",
       "          4.47733681,   5.433722  ],\n",
       "       [274.09      , 274.09      ,   5.45103845,   5.85507192,\n",
       "          3.93182563,   4.27666612,   4.81218436,   5.92157842,\n",
       "          5.59098698,   4.17438727],\n",
       "       [  4.8598124 ,   5.19849703,   5.91889385,   5.90536185,\n",
       "          4.79579055,   5.69709349, 274.09      ,   4.97673374,\n",
       "          5.86078622,   5.66988092],\n",
       "       [  5.70711026,   5.95324333,   5.86646806,   5.64897424,\n",
       "          5.47227067,   5.0369526 ,   4.29045944,   4.81218436,\n",
       "          5.74300319,   5.87493073],\n",
       "       [  5.74300319,   5.69373214,   5.433722  ,   5.94803499,\n",
       "        274.09      ,   5.66296048, 274.09      ,   5.91079664,\n",
       "          5.93753621, 274.09      ]])"
      ]
     },
     "execution_count": 13,
     "metadata": {},
     "output_type": "execute_result"
    }
   ],
   "source": [
    "# Remplazar todos los calores mayores a 400 por el promedio de la matriz\n",
    "promedio_matriz = matriz.mean()\n",
    "\n",
    "matriz_trans = np.where(matriz > 400, promedio_matriz,matriz_log)\n",
    "matriz_trans"
   ]
  },
  {
   "cell_type": "markdown",
   "metadata": {},
   "source": [
    "🔹 Ejercicio 2: Manipulación de Datos con Pandas\n",
    "Crea un DataFrame de películas con las siguientes columnas:\n",
    "\n",
    "* 'Título': 5 películas de tu elección.\n",
    "* 'Género': Acción, drama, comedia, etc.\n",
    "* 'Año Estreno': Año en que se lanzó la película.\n",
    "* 'Rating IMDb': Calificación de IMDb entre 1 y 10.\n",
    "* 'Ingresos (millones USD)': Ganancias de la película en millones de dólares.\n",
    "\n",
    "Ahora realiza las siguientes operaciones:\n",
    "1. Encuentra la película con la mejor y peor calificación.\n",
    "2. Calcula la media y mediana de los ingresos.\n",
    "3. Agrega una nueva columna 'Éxito' con 'Alta' si la película ganó más de 500M, 'Media' si ganó entre 100M y 500M, y 'Baja' si ganó menos de 100M.\n",
    "4. Ordena las películas por rating de mayor a menor."
   ]
  },
  {
   "cell_type": "code",
   "execution_count": 14,
   "metadata": {},
   "outputs": [
    {
     "data": {
      "text/html": [
       "<div>\n",
       "<style scoped>\n",
       "    .dataframe tbody tr th:only-of-type {\n",
       "        vertical-align: middle;\n",
       "    }\n",
       "\n",
       "    .dataframe tbody tr th {\n",
       "        vertical-align: top;\n",
       "    }\n",
       "\n",
       "    .dataframe thead th {\n",
       "        text-align: right;\n",
       "    }\n",
       "</style>\n",
       "<table border=\"1\" class=\"dataframe\">\n",
       "  <thead>\n",
       "    <tr style=\"text-align: right;\">\n",
       "      <th></th>\n",
       "      <th>Título</th>\n",
       "      <th>Género</th>\n",
       "      <th>Año Estreno</th>\n",
       "      <th>Rating IMDb</th>\n",
       "      <th>Ingresos (millones USD)</th>\n",
       "    </tr>\n",
       "  </thead>\n",
       "  <tbody>\n",
       "    <tr>\n",
       "      <th>0</th>\n",
       "      <td>Inception</td>\n",
       "      <td>Ciencia ficción</td>\n",
       "      <td>2010</td>\n",
       "      <td>8.8</td>\n",
       "      <td>828.0</td>\n",
       "    </tr>\n",
       "    <tr>\n",
       "      <th>1</th>\n",
       "      <td>The Shawshank Redemption</td>\n",
       "      <td>Drama</td>\n",
       "      <td>1994</td>\n",
       "      <td>9.3</td>\n",
       "      <td>28.3</td>\n",
       "    </tr>\n",
       "    <tr>\n",
       "      <th>2</th>\n",
       "      <td>Pulp Fiction</td>\n",
       "      <td>Crimen</td>\n",
       "      <td>1994</td>\n",
       "      <td>8.9</td>\n",
       "      <td>213.9</td>\n",
       "    </tr>\n",
       "    <tr>\n",
       "      <th>3</th>\n",
       "      <td>The Dark Knight</td>\n",
       "      <td>Acción</td>\n",
       "      <td>2008</td>\n",
       "      <td>9.0</td>\n",
       "      <td>1005.0</td>\n",
       "    </tr>\n",
       "    <tr>\n",
       "      <th>4</th>\n",
       "      <td>La La Land</td>\n",
       "      <td>Musical</td>\n",
       "      <td>2016</td>\n",
       "      <td>8.0</td>\n",
       "      <td>448.9</td>\n",
       "    </tr>\n",
       "  </tbody>\n",
       "</table>\n",
       "</div>"
      ],
      "text/plain": [
       "                     Título           Género  Año Estreno  Rating IMDb  \\\n",
       "0                 Inception  Ciencia ficción         2010          8.8   \n",
       "1  The Shawshank Redemption            Drama         1994          9.3   \n",
       "2              Pulp Fiction           Crimen         1994          8.9   \n",
       "3           The Dark Knight           Acción         2008          9.0   \n",
       "4                La La Land          Musical         2016          8.0   \n",
       "\n",
       "   Ingresos (millones USD)  \n",
       "0                    828.0  \n",
       "1                     28.3  \n",
       "2                    213.9  \n",
       "3                   1005.0  \n",
       "4                    448.9  "
      ]
     },
     "execution_count": 14,
     "metadata": {},
     "output_type": "execute_result"
    }
   ],
   "source": [
    "# Crear DataFrame\n",
    "data = {\n",
    "    'Título': ['Inception', 'The Shawshank Redemption', 'Pulp Fiction', 'The Dark Knight', 'La La Land'],\n",
    "    'Género': ['Ciencia ficción', 'Drama', 'Crimen', 'Acción', 'Musical'],\n",
    "    'Año Estreno': [2010, 1994, 1994, 2008, 2016],\n",
    "    'Rating IMDb': [8.8, 9.3, 8.9, 9.0, 8.0],\n",
    "    'Ingresos (millones USD)': [828, 28.3, 213.9, 1005, 448.9]\n",
    "}\n",
    "\n",
    "df_peliculas = pd.DataFrame(data)\n",
    "df_peliculas.head()"
   ]
  },
  {
   "cell_type": "code",
   "execution_count": 20,
   "metadata": {},
   "outputs": [
    {
     "name": "stdout",
     "output_type": "stream",
     "text": [
      "Pelicula: The Shawshank Redemption - Rating IMDb:9.3\n",
      "Pelicula: La La Land - Rating IMDb: 8.0\n"
     ]
    }
   ],
   "source": [
    "# Encontrar la pelicula con la mejor y la peor calificación\n",
    "mejor_pelicula = df_peliculas['Rating IMDb'].idxmax()\n",
    "peor_pelicula = df_peliculas['Rating IMDb'].idxmin()\n",
    "\n",
    "print(f'Pelicula: {df_peliculas['Título'][mejor_pelicula]} - Rating IMDb:{df_peliculas['Rating IMDb'][mejor_pelicula]}')\n",
    "print(f'Pelicula: {df_peliculas['Título'][peor_pelicula]} - Rating IMDb: {df_peliculas['Rating IMDb'][peor_pelicula]}')"
   ]
  },
  {
   "cell_type": "code",
   "execution_count": 29,
   "metadata": {},
   "outputs": [
    {
     "name": "stdout",
     "output_type": "stream",
     "text": [
      "Meida de ingresos: 504.82M\n",
      "Mediana de ingresos: 448.90M\n"
     ]
    }
   ],
   "source": [
    "# Calcular la media y la mediana de los ingresos\n",
    "media = df_peliculas['Ingresos (millones USD)'].mean()\n",
    "mediana = df_peliculas['Ingresos (millones USD)'].median()\n",
    "\n",
    "print(f'Meida de ingresos: {media:.2f}M')\n",
    "print(f'Mediana de ingresos: {mediana:.2f}M')"
   ]
  },
  {
   "cell_type": "code",
   "execution_count": 31,
   "metadata": {},
   "outputs": [
    {
     "data": {
      "text/html": [
       "<div>\n",
       "<style scoped>\n",
       "    .dataframe tbody tr th:only-of-type {\n",
       "        vertical-align: middle;\n",
       "    }\n",
       "\n",
       "    .dataframe tbody tr th {\n",
       "        vertical-align: top;\n",
       "    }\n",
       "\n",
       "    .dataframe thead th {\n",
       "        text-align: right;\n",
       "    }\n",
       "</style>\n",
       "<table border=\"1\" class=\"dataframe\">\n",
       "  <thead>\n",
       "    <tr style=\"text-align: right;\">\n",
       "      <th></th>\n",
       "      <th>Título</th>\n",
       "      <th>Género</th>\n",
       "      <th>Año Estreno</th>\n",
       "      <th>Rating IMDb</th>\n",
       "      <th>Ingresos (millones USD)</th>\n",
       "      <th>Éxito</th>\n",
       "    </tr>\n",
       "  </thead>\n",
       "  <tbody>\n",
       "    <tr>\n",
       "      <th>0</th>\n",
       "      <td>Inception</td>\n",
       "      <td>Ciencia ficción</td>\n",
       "      <td>2010</td>\n",
       "      <td>8.8</td>\n",
       "      <td>828.0</td>\n",
       "      <td>Alta</td>\n",
       "    </tr>\n",
       "    <tr>\n",
       "      <th>1</th>\n",
       "      <td>The Shawshank Redemption</td>\n",
       "      <td>Drama</td>\n",
       "      <td>1994</td>\n",
       "      <td>9.3</td>\n",
       "      <td>28.3</td>\n",
       "      <td>Baja</td>\n",
       "    </tr>\n",
       "    <tr>\n",
       "      <th>2</th>\n",
       "      <td>Pulp Fiction</td>\n",
       "      <td>Crimen</td>\n",
       "      <td>1994</td>\n",
       "      <td>8.9</td>\n",
       "      <td>213.9</td>\n",
       "      <td>Media</td>\n",
       "    </tr>\n",
       "    <tr>\n",
       "      <th>3</th>\n",
       "      <td>The Dark Knight</td>\n",
       "      <td>Acción</td>\n",
       "      <td>2008</td>\n",
       "      <td>9.0</td>\n",
       "      <td>1005.0</td>\n",
       "      <td>Alta</td>\n",
       "    </tr>\n",
       "    <tr>\n",
       "      <th>4</th>\n",
       "      <td>La La Land</td>\n",
       "      <td>Musical</td>\n",
       "      <td>2016</td>\n",
       "      <td>8.0</td>\n",
       "      <td>448.9</td>\n",
       "      <td>Media</td>\n",
       "    </tr>\n",
       "  </tbody>\n",
       "</table>\n",
       "</div>"
      ],
      "text/plain": [
       "                     Título           Género  Año Estreno  Rating IMDb  \\\n",
       "0                 Inception  Ciencia ficción         2010          8.8   \n",
       "1  The Shawshank Redemption            Drama         1994          9.3   \n",
       "2              Pulp Fiction           Crimen         1994          8.9   \n",
       "3           The Dark Knight           Acción         2008          9.0   \n",
       "4                La La Land          Musical         2016          8.0   \n",
       "\n",
       "   Ingresos (millones USD)  Éxito  \n",
       "0                    828.0   Alta  \n",
       "1                     28.3   Baja  \n",
       "2                    213.9  Media  \n",
       "3                   1005.0   Alta  \n",
       "4                    448.9  Media  "
      ]
     },
     "execution_count": 31,
     "metadata": {},
     "output_type": "execute_result"
    }
   ],
   "source": [
    "# Agregar columnas \"Éxito\"\n",
    "df_peliculas['Éxito'] = df_peliculas['Ingresos (millones USD)'].apply(lambda ingresos: 'Alta' if ingresos > 500 else 'Media' if 100 <= ingresos <= 500 else 'Baja')\n",
    "df_peliculas"
   ]
  },
  {
   "cell_type": "code",
   "execution_count": 34,
   "metadata": {},
   "outputs": [
    {
     "data": {
      "text/html": [
       "<div>\n",
       "<style scoped>\n",
       "    .dataframe tbody tr th:only-of-type {\n",
       "        vertical-align: middle;\n",
       "    }\n",
       "\n",
       "    .dataframe tbody tr th {\n",
       "        vertical-align: top;\n",
       "    }\n",
       "\n",
       "    .dataframe thead th {\n",
       "        text-align: right;\n",
       "    }\n",
       "</style>\n",
       "<table border=\"1\" class=\"dataframe\">\n",
       "  <thead>\n",
       "    <tr style=\"text-align: right;\">\n",
       "      <th></th>\n",
       "      <th>Título</th>\n",
       "      <th>Género</th>\n",
       "      <th>Año Estreno</th>\n",
       "      <th>Rating IMDb</th>\n",
       "      <th>Ingresos (millones USD)</th>\n",
       "      <th>Éxito</th>\n",
       "    </tr>\n",
       "  </thead>\n",
       "  <tbody>\n",
       "    <tr>\n",
       "      <th>1</th>\n",
       "      <td>The Shawshank Redemption</td>\n",
       "      <td>Drama</td>\n",
       "      <td>1994</td>\n",
       "      <td>9.3</td>\n",
       "      <td>28.3</td>\n",
       "      <td>Baja</td>\n",
       "    </tr>\n",
       "    <tr>\n",
       "      <th>3</th>\n",
       "      <td>The Dark Knight</td>\n",
       "      <td>Acción</td>\n",
       "      <td>2008</td>\n",
       "      <td>9.0</td>\n",
       "      <td>1005.0</td>\n",
       "      <td>Alta</td>\n",
       "    </tr>\n",
       "    <tr>\n",
       "      <th>2</th>\n",
       "      <td>Pulp Fiction</td>\n",
       "      <td>Crimen</td>\n",
       "      <td>1994</td>\n",
       "      <td>8.9</td>\n",
       "      <td>213.9</td>\n",
       "      <td>Media</td>\n",
       "    </tr>\n",
       "    <tr>\n",
       "      <th>0</th>\n",
       "      <td>Inception</td>\n",
       "      <td>Ciencia ficción</td>\n",
       "      <td>2010</td>\n",
       "      <td>8.8</td>\n",
       "      <td>828.0</td>\n",
       "      <td>Alta</td>\n",
       "    </tr>\n",
       "    <tr>\n",
       "      <th>4</th>\n",
       "      <td>La La Land</td>\n",
       "      <td>Musical</td>\n",
       "      <td>2016</td>\n",
       "      <td>8.0</td>\n",
       "      <td>448.9</td>\n",
       "      <td>Media</td>\n",
       "    </tr>\n",
       "  </tbody>\n",
       "</table>\n",
       "</div>"
      ],
      "text/plain": [
       "                     Título           Género  Año Estreno  Rating IMDb  \\\n",
       "1  The Shawshank Redemption            Drama         1994          9.3   \n",
       "3           The Dark Knight           Acción         2008          9.0   \n",
       "2              Pulp Fiction           Crimen         1994          8.9   \n",
       "0                 Inception  Ciencia ficción         2010          8.8   \n",
       "4                La La Land          Musical         2016          8.0   \n",
       "\n",
       "   Ingresos (millones USD)  Éxito  \n",
       "1                     28.3   Baja  \n",
       "3                   1005.0   Alta  \n",
       "2                    213.9  Media  \n",
       "0                    828.0   Alta  \n",
       "4                    448.9  Media  "
      ]
     },
     "execution_count": 34,
     "metadata": {},
     "output_type": "execute_result"
    }
   ],
   "source": [
    "# Ordenar las peliculas por rating de mayor a menor\n",
    "df_peliculas_ordenado = df_peliculas.sort_values('Rating IMDb',ascending=False)\n",
    "df_peliculas_ordenado"
   ]
  },
  {
   "cell_type": "markdown",
   "metadata": {},
   "source": [
    "🔹 Ejercicio 3: Análisis de Ventas con Pandas\n",
    "Crea un DataFrame con información de ventas de 10 productos con las siguientes columnas:\n",
    "- 'Producto': Nombres de productos.\n",
    "- 'Categoría': Electrónica, ropa, hogar, etc.\n",
    "- 'Precio': Precio de cada producto.\n",
    "- 'Cantidad Vendida': Número de unidades vendidas.\n",
    "- 'Fecha Venta': Fecha en formato YYYY-MM-DD.\n",
    "\n",
    "Realiza las siguientes operaciones:\n",
    "1. Calcula las ventas totales de cada producto (Precio * Cantidad Vendida).\n",
    "2. Encuentra el producto con mayores ventas totales.\n",
    "3. Agrupa por 'Categoría' y muestra el total de ventas por cada categoría.\n",
    "4. Encuentra el día con más ventas totales.\n",
    "5. Grafica un histograma de la cantidad vendida de los productos usando Matplotlib o Seaborn."
   ]
  },
  {
   "cell_type": "code",
   "execution_count": 38,
   "metadata": {},
   "outputs": [
    {
     "data": {
      "text/html": [
       "<div>\n",
       "<style scoped>\n",
       "    .dataframe tbody tr th:only-of-type {\n",
       "        vertical-align: middle;\n",
       "    }\n",
       "\n",
       "    .dataframe tbody tr th {\n",
       "        vertical-align: top;\n",
       "    }\n",
       "\n",
       "    .dataframe thead th {\n",
       "        text-align: right;\n",
       "    }\n",
       "</style>\n",
       "<table border=\"1\" class=\"dataframe\">\n",
       "  <thead>\n",
       "    <tr style=\"text-align: right;\">\n",
       "      <th></th>\n",
       "      <th>Producto</th>\n",
       "      <th>Categoría</th>\n",
       "      <th>Precio</th>\n",
       "      <th>Cantidad Vendida</th>\n",
       "      <th>Fecha Venta</th>\n",
       "    </tr>\n",
       "  </thead>\n",
       "  <tbody>\n",
       "    <tr>\n",
       "      <th>0</th>\n",
       "      <td>Laptop</td>\n",
       "      <td>Electrónica</td>\n",
       "      <td>1200</td>\n",
       "      <td>5</td>\n",
       "      <td>2024-03-01</td>\n",
       "    </tr>\n",
       "    <tr>\n",
       "      <th>1</th>\n",
       "      <td>Celular</td>\n",
       "      <td>Electrónica</td>\n",
       "      <td>800</td>\n",
       "      <td>10</td>\n",
       "      <td>2024-03-01</td>\n",
       "    </tr>\n",
       "    <tr>\n",
       "      <th>2</th>\n",
       "      <td>Camiseta</td>\n",
       "      <td>Ropa</td>\n",
       "      <td>30</td>\n",
       "      <td>20</td>\n",
       "      <td>2024-03-02</td>\n",
       "    </tr>\n",
       "    <tr>\n",
       "      <th>3</th>\n",
       "      <td>Laptop</td>\n",
       "      <td>Electrónica</td>\n",
       "      <td>1300</td>\n",
       "      <td>3</td>\n",
       "      <td>2024-03-03</td>\n",
       "    </tr>\n",
       "    <tr>\n",
       "      <th>4</th>\n",
       "      <td>Auriculares</td>\n",
       "      <td>Electrónica</td>\n",
       "      <td>150</td>\n",
       "      <td>15</td>\n",
       "      <td>2024-03-04</td>\n",
       "    </tr>\n",
       "  </tbody>\n",
       "</table>\n",
       "</div>"
      ],
      "text/plain": [
       "      Producto    Categoría  Precio  Cantidad Vendida Fecha Venta\n",
       "0       Laptop  Electrónica    1200                 5  2024-03-01\n",
       "1      Celular  Electrónica     800                10  2024-03-01\n",
       "2     Camiseta         Ropa      30                20  2024-03-02\n",
       "3       Laptop  Electrónica    1300                 3  2024-03-03\n",
       "4  Auriculares  Electrónica     150                15  2024-03-04"
      ]
     },
     "execution_count": 38,
     "metadata": {},
     "output_type": "execute_result"
    }
   ],
   "source": [
    "# Crear el DataFrame\n",
    "data_2 = {\n",
    "    'Producto': ['Laptop', 'Celular', 'Camiseta', 'Laptop', 'Auriculares', 'Mesa', 'Libro', 'Celular', 'Zapatos', 'Lampara'],\n",
    "    'Categoría': ['Electrónica', 'Electrónica', 'Ropa', 'Electrónica', 'Electrónica', 'Hogar', 'Libros', 'Electrónica', 'Ropa', 'Hogar'],\n",
    "    'Precio': [1200, 800, 30, 1300, 150, 200, 25, 850, 60, 80],\n",
    "    'Cantidad Vendida': [5, 10, 20, 3, 15, 8, 30, 12, 25, 18],\n",
    "    'Fecha Venta': ['2024-03-01', '2024-03-01', '2024-03-02', '2024-03-03', '2024-03-04',\n",
    "                    '2024-03-05', '2024-03-06', '2024-03-07', '2024-03-08', '2024-03-09']\n",
    "}\n",
    "\n",
    "df_tienda = pd.DataFrame(data_2)\n",
    "df_tienda.head()"
   ]
  },
  {
   "cell_type": "code",
   "execution_count": 39,
   "metadata": {},
   "outputs": [
    {
     "data": {
      "text/html": [
       "<div>\n",
       "<style scoped>\n",
       "    .dataframe tbody tr th:only-of-type {\n",
       "        vertical-align: middle;\n",
       "    }\n",
       "\n",
       "    .dataframe tbody tr th {\n",
       "        vertical-align: top;\n",
       "    }\n",
       "\n",
       "    .dataframe thead th {\n",
       "        text-align: right;\n",
       "    }\n",
       "</style>\n",
       "<table border=\"1\" class=\"dataframe\">\n",
       "  <thead>\n",
       "    <tr style=\"text-align: right;\">\n",
       "      <th></th>\n",
       "      <th>Producto</th>\n",
       "      <th>Categoría</th>\n",
       "      <th>Precio</th>\n",
       "      <th>Cantidad Vendida</th>\n",
       "      <th>Fecha Venta</th>\n",
       "      <th>Total</th>\n",
       "    </tr>\n",
       "  </thead>\n",
       "  <tbody>\n",
       "    <tr>\n",
       "      <th>0</th>\n",
       "      <td>Laptop</td>\n",
       "      <td>Electrónica</td>\n",
       "      <td>1200</td>\n",
       "      <td>5</td>\n",
       "      <td>2024-03-01</td>\n",
       "      <td>6000</td>\n",
       "    </tr>\n",
       "    <tr>\n",
       "      <th>1</th>\n",
       "      <td>Celular</td>\n",
       "      <td>Electrónica</td>\n",
       "      <td>800</td>\n",
       "      <td>10</td>\n",
       "      <td>2024-03-01</td>\n",
       "      <td>8000</td>\n",
       "    </tr>\n",
       "    <tr>\n",
       "      <th>2</th>\n",
       "      <td>Camiseta</td>\n",
       "      <td>Ropa</td>\n",
       "      <td>30</td>\n",
       "      <td>20</td>\n",
       "      <td>2024-03-02</td>\n",
       "      <td>600</td>\n",
       "    </tr>\n",
       "    <tr>\n",
       "      <th>3</th>\n",
       "      <td>Laptop</td>\n",
       "      <td>Electrónica</td>\n",
       "      <td>1300</td>\n",
       "      <td>3</td>\n",
       "      <td>2024-03-03</td>\n",
       "      <td>3900</td>\n",
       "    </tr>\n",
       "    <tr>\n",
       "      <th>4</th>\n",
       "      <td>Auriculares</td>\n",
       "      <td>Electrónica</td>\n",
       "      <td>150</td>\n",
       "      <td>15</td>\n",
       "      <td>2024-03-04</td>\n",
       "      <td>2250</td>\n",
       "    </tr>\n",
       "    <tr>\n",
       "      <th>5</th>\n",
       "      <td>Mesa</td>\n",
       "      <td>Hogar</td>\n",
       "      <td>200</td>\n",
       "      <td>8</td>\n",
       "      <td>2024-03-05</td>\n",
       "      <td>1600</td>\n",
       "    </tr>\n",
       "    <tr>\n",
       "      <th>6</th>\n",
       "      <td>Libro</td>\n",
       "      <td>Libros</td>\n",
       "      <td>25</td>\n",
       "      <td>30</td>\n",
       "      <td>2024-03-06</td>\n",
       "      <td>750</td>\n",
       "    </tr>\n",
       "    <tr>\n",
       "      <th>7</th>\n",
       "      <td>Celular</td>\n",
       "      <td>Electrónica</td>\n",
       "      <td>850</td>\n",
       "      <td>12</td>\n",
       "      <td>2024-03-07</td>\n",
       "      <td>10200</td>\n",
       "    </tr>\n",
       "    <tr>\n",
       "      <th>8</th>\n",
       "      <td>Zapatos</td>\n",
       "      <td>Ropa</td>\n",
       "      <td>60</td>\n",
       "      <td>25</td>\n",
       "      <td>2024-03-08</td>\n",
       "      <td>1500</td>\n",
       "    </tr>\n",
       "    <tr>\n",
       "      <th>9</th>\n",
       "      <td>Lampara</td>\n",
       "      <td>Hogar</td>\n",
       "      <td>80</td>\n",
       "      <td>18</td>\n",
       "      <td>2024-03-09</td>\n",
       "      <td>1440</td>\n",
       "    </tr>\n",
       "  </tbody>\n",
       "</table>\n",
       "</div>"
      ],
      "text/plain": [
       "      Producto    Categoría  Precio  Cantidad Vendida Fecha Venta  Total\n",
       "0       Laptop  Electrónica    1200                 5  2024-03-01   6000\n",
       "1      Celular  Electrónica     800                10  2024-03-01   8000\n",
       "2     Camiseta         Ropa      30                20  2024-03-02    600\n",
       "3       Laptop  Electrónica    1300                 3  2024-03-03   3900\n",
       "4  Auriculares  Electrónica     150                15  2024-03-04   2250\n",
       "5         Mesa        Hogar     200                 8  2024-03-05   1600\n",
       "6        Libro       Libros      25                30  2024-03-06    750\n",
       "7      Celular  Electrónica     850                12  2024-03-07  10200\n",
       "8      Zapatos         Ropa      60                25  2024-03-08   1500\n",
       "9      Lampara        Hogar      80                18  2024-03-09   1440"
      ]
     },
     "execution_count": 39,
     "metadata": {},
     "output_type": "execute_result"
    }
   ],
   "source": [
    "# Calcular las ventas totales de cada producto\n",
    "df_tienda['Total'] = df_tienda['Precio'] * df_tienda['Cantidad Vendida']\n",
    "df_tienda"
   ]
  },
  {
   "cell_type": "code",
   "execution_count": 54,
   "metadata": {},
   "outputs": [
    {
     "data": {
      "text/plain": [
       "Producto                Celular\n",
       "Categoría           Electrónica\n",
       "Precio                      850\n",
       "Cantidad Vendida             12\n",
       "Fecha Venta          2024-03-07\n",
       "Total                     10200\n",
       "Name: 7, dtype: object"
      ]
     },
     "execution_count": 54,
     "metadata": {},
     "output_type": "execute_result"
    }
   ],
   "source": [
    "# Producto con mayor ventas totales \n",
    "producto_mayor_ventas = df_tienda.loc[df_tienda['Total'].idxmax()]\n",
    "producto_mayor_ventas"
   ]
  },
  {
   "cell_type": "code",
   "execution_count": 63,
   "metadata": {},
   "outputs": [
    {
     "data": {
      "text/plain": [
       "Categoría\n",
       "Electrónica    30350\n",
       "Hogar           3040\n",
       "Libros           750\n",
       "Ropa            2100\n",
       "Name: Total, dtype: int64"
      ]
     },
     "execution_count": 63,
     "metadata": {},
     "output_type": "execute_result"
    }
   ],
   "source": [
    "# Agrupar por 'Categoria' y muestra el total de ventas por cada categoria\n",
    "agrupor_categoria = df_tienda.groupby('Categoría')['Total'].sum()\n",
    "agrupor_categoria"
   ]
  },
  {
   "cell_type": "code",
   "execution_count": 66,
   "metadata": {},
   "outputs": [
    {
     "name": "stdout",
     "output_type": "stream",
     "text": [
      "Dia: 2024-03-01 Venta: 14000\n"
     ]
    }
   ],
   "source": [
    "venta_totales = df_tienda.groupby(df_tienda['Fecha Venta'])['Total'].sum()\n",
    "dia_venta_totales = venta_totales.idxmax()\n",
    "print(f'Dia: {dia_venta_totales} Venta: {venta_totales.max()}')"
   ]
  },
  {
   "cell_type": "code",
   "execution_count": 69,
   "metadata": {},
   "outputs": [
    {
     "data": {
      "image/png": "[encoded data removed]",
      "text/plain": [
       "<Figure size 640x480 with 1 Axes>"
      ]
     },
     "metadata": {},
     "output_type": "display_data"
    }
   ],
   "source": [
    "# Gaficar un histograma usando Matplotlib\n",
    "import matplotlib.pyplot as plt\n",
    "\n",
    "plt.hist(df_tienda['Cantidad Vendida'], bins=5, edgecolor='black')\n",
    "plt.title('Histograma de Cantidad Vendidad')\n",
    "plt.xlabel('Cantidad')\n",
    "plt.ylabel('Frecuencia')\n",
    "plt.show()"
   ]
  }
 ],
 "metadata": {
  "kernelspec": {
   "display_name": "venv",
   "language": "python",
   "name": "python3"
  },
  "language_info": {
   "codemirror_mode": {
    "name": "ipython",
    "version": 3
   },
   "file_extension": ".py",
   "mimetype": "text/x-python",
   "name": "python",
   "nbconvert_exporter": "python",
   "pygments_lexer": "ipython3",
   "version": "3.12.1"
  }
 },
 "nbformat": 4,
 "nbformat_minor": 2
}
