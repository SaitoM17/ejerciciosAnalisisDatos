{
 "cells": [
  {
   "cell_type": "code",
   "execution_count": 10,
   "metadata": {},
   "outputs": [],
   "source": [
    "import numpy as np\n",
    "import statistics\n",
    "from scipy import stats"
   ]
  },
  {
   "cell_type": "markdown",
   "metadata": {},
   "source": [
    "🚀 Ejercicio de Práctica\n",
    "\n",
    "Supongamos que trabajas con un conjunto de datos sobre los tiempos de entrega (en días) de una tienda en línea:\n",
    "\n",
    "- tiempos_entrega = [2, 3, 5, 7, 8, 2, 3, 4, 6, 5, 3, 3, 4, 7, 6, 8, 4, 2, 3, 4]\n",
    "\n",
    "Calcula la media, mediana, moda, varianza y desviación estándar.\n",
    "\n",
    "Interpreta qué tan dispersos están los tiempos de entrega."
   ]
  },
  {
   "cell_type": "code",
   "execution_count": 11,
   "metadata": {},
   "outputs": [
    {
     "name": "stdout",
     "output_type": "stream",
     "text": [
      " \n",
      "Media: 4.45\n",
      "Mediana: 4.0\n",
      "Moda 1: 3\n",
      "Moda 2: 3\n",
      "Varianza: 3.647500000000001\n",
      "Desviación estandar: 1.9098429254784282\n",
      "\n"
     ]
    }
   ],
   "source": [
    "tiempo_entrega = [2,3,5,7,8,2,3,4,6,5,3,3,4,7,6,8,4,2,3,4]\n",
    "\n",
    "# Media\n",
    "media = np.mean(tiempo_entrega)\n",
    "\n",
    "# Mediana\n",
    "mediana = np.median(tiempo_entrega)\n",
    "\n",
    "# Moda 1\n",
    "moda_1 = stats.mode(tiempo_entrega)\n",
    "\n",
    "# Moda 2\n",
    "moda_2 = statistics.mode(tiempo_entrega)\n",
    "\n",
    "# Varianza\n",
    "varianza = np.var(tiempo_entrega)\n",
    "\n",
    "# Desviación estandar\n",
    "desviacion_estandar = np.std(tiempo_entrega)\n",
    "\n",
    "print(f''' \n",
    "Media: {media}\n",
    "Mediana: {mediana}\n",
    "Moda 1: {moda_1[0]}\n",
    "Moda 2: {moda_2}\n",
    "Varianza: {varianza}\n",
    "Desviación estandar: {desviacion_estandar}\n",
    "''')"
   ]
  }
 ],
 "metadata": {
  "kernelspec": {
   "display_name": "venv",
   "language": "python",
   "name": "python3"
  },
  "language_info": {
   "codemirror_mode": {
    "name": "ipython",
    "version": 3
   },
   "file_extension": ".py",
   "mimetype": "text/x-python",
   "name": "python",
   "nbconvert_exporter": "python",
   "pygments_lexer": "ipython3",
   "version": "3.12.1"
  }
 },
 "nbformat": 4,
 "nbformat_minor": 2
}
