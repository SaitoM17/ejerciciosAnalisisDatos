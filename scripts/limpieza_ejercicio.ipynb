{
 "cells": [
  {
   "cell_type": "code",
   "execution_count": 84,
   "id": "6e79bfe3",
   "metadata": {},
   "outputs": [],
   "source": [
    "# Cargamos las librerias\n",
    "import pandas as pd\n",
    "import numpy as np"
   ]
  },
  {
   "cell_type": "code",
   "execution_count": 8,
   "id": "75f2cc3d",
   "metadata": {},
   "outputs": [
    {
     "data": {
      "text/html": [
       "<div>\n",
       "<style scoped>\n",
       "    .dataframe tbody tr th:only-of-type {\n",
       "        vertical-align: middle;\n",
       "    }\n",
       "\n",
       "    .dataframe tbody tr th {\n",
       "        vertical-align: top;\n",
       "    }\n",
       "\n",
       "    .dataframe thead th {\n",
       "        text-align: right;\n",
       "    }\n",
       "</style>\n",
       "<table border=\"1\" class=\"dataframe\">\n",
       "  <thead>\n",
       "    <tr style=\"text-align: right;\">\n",
       "      <th></th>\n",
       "      <th>orden_id</th>\n",
       "      <th>cliente</th>\n",
       "      <th>fecha</th>\n",
       "      <th>producto</th>\n",
       "      <th>cantidad</th>\n",
       "      <th>precio_unitario</th>\n",
       "    </tr>\n",
       "  </thead>\n",
       "  <tbody>\n",
       "    <tr>\n",
       "      <th>0</th>\n",
       "      <td>101</td>\n",
       "      <td>Ana</td>\n",
       "      <td>2024-01-01</td>\n",
       "      <td>Teclado</td>\n",
       "      <td>1</td>\n",
       "      <td>500</td>\n",
       "    </tr>\n",
       "    <tr>\n",
       "      <th>1</th>\n",
       "      <td>102</td>\n",
       "      <td>Luis</td>\n",
       "      <td>2024-01-03</td>\n",
       "      <td>Mouse</td>\n",
       "      <td>2</td>\n",
       "      <td>200</td>\n",
       "    </tr>\n",
       "    <tr>\n",
       "      <th>2</th>\n",
       "      <td>103</td>\n",
       "      <td>Ana</td>\n",
       "      <td>2024-01-10</td>\n",
       "      <td>Pantalla</td>\n",
       "      <td>1</td>\n",
       "      <td>3000</td>\n",
       "    </tr>\n",
       "    <tr>\n",
       "      <th>3</th>\n",
       "      <td>104</td>\n",
       "      <td>Marta</td>\n",
       "      <td>2024-01-10</td>\n",
       "      <td>Laptop</td>\n",
       "      <td>1</td>\n",
       "      <td>15000</td>\n",
       "    </tr>\n",
       "    <tr>\n",
       "      <th>4</th>\n",
       "      <td>105</td>\n",
       "      <td>Luis</td>\n",
       "      <td>2024-01-15</td>\n",
       "      <td>Mouse</td>\n",
       "      <td>1</td>\n",
       "      <td>200</td>\n",
       "    </tr>\n",
       "    <tr>\n",
       "      <th>5</th>\n",
       "      <td>106</td>\n",
       "      <td>Carlos</td>\n",
       "      <td>2024-01-20</td>\n",
       "      <td>Laptop</td>\n",
       "      <td>2</td>\n",
       "      <td>15000</td>\n",
       "    </tr>\n",
       "  </tbody>\n",
       "</table>\n",
       "</div>"
      ],
      "text/plain": [
       "   orden_id cliente      fecha  producto  cantidad  precio_unitario\n",
       "0       101     Ana 2024-01-01   Teclado         1              500\n",
       "1       102    Luis 2024-01-03     Mouse         2              200\n",
       "2       103     Ana 2024-01-10  Pantalla         1             3000\n",
       "3       104   Marta 2024-01-10    Laptop         1            15000\n",
       "4       105    Luis 2024-01-15     Mouse         1              200\n",
       "5       106  Carlos 2024-01-20    Laptop         2            15000"
      ]
     },
     "execution_count": 8,
     "metadata": {},
     "output_type": "execute_result"
    }
   ],
   "source": [
    "data = {\n",
    "    'orden_id': [101, 102, 103, 104, 105, 106],\n",
    "    'cliente': ['Ana', 'Luis', 'Ana', 'Marta', 'Luis', 'Carlos'],\n",
    "    'fecha': pd.to_datetime(['2024-01-01', '2024-01-03', '2024-01-10', '2024-01-10', '2024-01-15', '2024-01-20']),\n",
    "    'producto': ['Teclado', 'Mouse', 'Pantalla', 'Laptop', 'Mouse', 'Laptop'],\n",
    "    'cantidad': [1, 2, 1, 1, 1, 2],\n",
    "    'precio_unitario': [500, 200, 3000, 15000, 200, 15000]\n",
    "}\n",
    "\n",
    "df = pd.DataFrame(data)\n",
    "df"
   ]
  },
  {
   "cell_type": "markdown",
   "id": "2cd2f879",
   "metadata": {},
   "source": [
    "## 🧪 Desafío práctico – Parte 1\n",
    "### 🔧 Objetivo: Demostrar tu dominio de selección, filtrado, operaciones y agregaciones.\n",
    "Responde con código y resultados (si puedes) para las siguientes instrucciones:\n",
    "\n"
   ]
  },
  {
   "cell_type": "markdown",
   "id": "a2898897",
   "metadata": {},
   "source": [
    "##### **1. Agrega una columna llamada 'total_venta' que sea el resultado de cantidad * precio_unitario.**"
   ]
  },
  {
   "cell_type": "code",
   "execution_count": 9,
   "id": "6f275f68",
   "metadata": {},
   "outputs": [
    {
     "data": {
      "text/html": [
       "<div>\n",
       "<style scoped>\n",
       "    .dataframe tbody tr th:only-of-type {\n",
       "        vertical-align: middle;\n",
       "    }\n",
       "\n",
       "    .dataframe tbody tr th {\n",
       "        vertical-align: top;\n",
       "    }\n",
       "\n",
       "    .dataframe thead th {\n",
       "        text-align: right;\n",
       "    }\n",
       "</style>\n",
       "<table border=\"1\" class=\"dataframe\">\n",
       "  <thead>\n",
       "    <tr style=\"text-align: right;\">\n",
       "      <th></th>\n",
       "      <th>orden_id</th>\n",
       "      <th>cliente</th>\n",
       "      <th>fecha</th>\n",
       "      <th>producto</th>\n",
       "      <th>cantidad</th>\n",
       "      <th>precio_unitario</th>\n",
       "      <th>total_venta</th>\n",
       "    </tr>\n",
       "  </thead>\n",
       "  <tbody>\n",
       "    <tr>\n",
       "      <th>0</th>\n",
       "      <td>101</td>\n",
       "      <td>Ana</td>\n",
       "      <td>2024-01-01</td>\n",
       "      <td>Teclado</td>\n",
       "      <td>1</td>\n",
       "      <td>500</td>\n",
       "      <td>500</td>\n",
       "    </tr>\n",
       "    <tr>\n",
       "      <th>1</th>\n",
       "      <td>102</td>\n",
       "      <td>Luis</td>\n",
       "      <td>2024-01-03</td>\n",
       "      <td>Mouse</td>\n",
       "      <td>2</td>\n",
       "      <td>200</td>\n",
       "      <td>400</td>\n",
       "    </tr>\n",
       "    <tr>\n",
       "      <th>2</th>\n",
       "      <td>103</td>\n",
       "      <td>Ana</td>\n",
       "      <td>2024-01-10</td>\n",
       "      <td>Pantalla</td>\n",
       "      <td>1</td>\n",
       "      <td>3000</td>\n",
       "      <td>3000</td>\n",
       "    </tr>\n",
       "    <tr>\n",
       "      <th>3</th>\n",
       "      <td>104</td>\n",
       "      <td>Marta</td>\n",
       "      <td>2024-01-10</td>\n",
       "      <td>Laptop</td>\n",
       "      <td>1</td>\n",
       "      <td>15000</td>\n",
       "      <td>15000</td>\n",
       "    </tr>\n",
       "    <tr>\n",
       "      <th>4</th>\n",
       "      <td>105</td>\n",
       "      <td>Luis</td>\n",
       "      <td>2024-01-15</td>\n",
       "      <td>Mouse</td>\n",
       "      <td>1</td>\n",
       "      <td>200</td>\n",
       "      <td>200</td>\n",
       "    </tr>\n",
       "    <tr>\n",
       "      <th>5</th>\n",
       "      <td>106</td>\n",
       "      <td>Carlos</td>\n",
       "      <td>2024-01-20</td>\n",
       "      <td>Laptop</td>\n",
       "      <td>2</td>\n",
       "      <td>15000</td>\n",
       "      <td>30000</td>\n",
       "    </tr>\n",
       "  </tbody>\n",
       "</table>\n",
       "</div>"
      ],
      "text/plain": [
       "   orden_id cliente      fecha  producto  cantidad  precio_unitario  \\\n",
       "0       101     Ana 2024-01-01   Teclado         1              500   \n",
       "1       102    Luis 2024-01-03     Mouse         2              200   \n",
       "2       103     Ana 2024-01-10  Pantalla         1             3000   \n",
       "3       104   Marta 2024-01-10    Laptop         1            15000   \n",
       "4       105    Luis 2024-01-15     Mouse         1              200   \n",
       "5       106  Carlos 2024-01-20    Laptop         2            15000   \n",
       "\n",
       "   total_venta  \n",
       "0          500  \n",
       "1          400  \n",
       "2         3000  \n",
       "3        15000  \n",
       "4          200  \n",
       "5        30000  "
      ]
     },
     "execution_count": 9,
     "metadata": {},
     "output_type": "execute_result"
    }
   ],
   "source": [
    "df['total_venta'] = df['cantidad'] * df['precio_unitario']\n",
    "df"
   ]
  },
  {
   "cell_type": "markdown",
   "id": "52a90062",
   "metadata": {},
   "source": [
    "##### **2. ¿Cuáles son las ventas totales por cliente? (Suma de total_venta por nombre)**"
   ]
  },
  {
   "cell_type": "code",
   "execution_count": 12,
   "id": "7afd8c26",
   "metadata": {},
   "outputs": [
    {
     "data": {
      "text/plain": [
       "cliente\n",
       "Ana        3500\n",
       "Carlos    30000\n",
       "Luis        600\n",
       "Marta     15000\n",
       "Name: total_venta, dtype: int64"
      ]
     },
     "execution_count": 12,
     "metadata": {},
     "output_type": "execute_result"
    }
   ],
   "source": [
    "sumas_por_cliente = df.groupby('cliente')['total_venta'].sum()\n",
    "sumas_por_cliente"
   ]
  },
  {
   "cell_type": "markdown",
   "id": "c3669165",
   "metadata": {},
   "source": [
    "##### **3. ¿Cuántas unidades se vendieron en total de cada producto?**"
   ]
  },
  {
   "cell_type": "code",
   "execution_count": 14,
   "id": "feded02c",
   "metadata": {},
   "outputs": [
    {
     "data": {
      "text/plain": [
       "producto\n",
       "Laptop      3\n",
       "Mouse       3\n",
       "Pantalla    1\n",
       "Teclado     1\n",
       "Name: cantidad, dtype: int64"
      ]
     },
     "execution_count": 14,
     "metadata": {},
     "output_type": "execute_result"
    }
   ],
   "source": [
    "unidades_por_producto = df.groupby('producto')['cantidad'].sum()\n",
    "unidades_por_producto"
   ]
  },
  {
   "cell_type": "markdown",
   "id": "da508837",
   "metadata": {},
   "source": [
    "##### **4. ¿Cuál fue la venta más alta registrada y quién la hizo?**"
   ]
  },
  {
   "cell_type": "code",
   "execution_count": 21,
   "id": "17e7df7c",
   "metadata": {},
   "outputs": [
    {
     "name": "stdout",
     "output_type": "stream",
     "text": [
      "Carlos  $30000\n"
     ]
    }
   ],
   "source": [
    "indice_venta_mas_alta = df['total_venta'].idxmax()\n",
    "\n",
    "venta_mas_alta_info = df.loc[indice_venta_mas_alta]\n",
    "\n",
    "# 3. Extraer el monto de la venta y el nombre del vendedor\n",
    "venta_mas_alta_monto = venta_mas_alta_info['total_venta']\n",
    "cliente_venta_mas_alta = venta_mas_alta_info['cliente']\n",
    "\n",
    "print(f'{cliente_venta_mas_alta}  ${venta_mas_alta_monto}')"
   ]
  },
  {
   "cell_type": "markdown",
   "id": "44ef39c6",
   "metadata": {},
   "source": [
    "##### **5. Filtra las órdenes donde se vendieron más de 1 unidad y el producto fue un 'Laptop'.**"
   ]
  },
  {
   "cell_type": "code",
   "execution_count": 24,
   "id": "8d57d2eb",
   "metadata": {},
   "outputs": [
    {
     "data": {
      "text/html": [
       "<div>\n",
       "<style scoped>\n",
       "    .dataframe tbody tr th:only-of-type {\n",
       "        vertical-align: middle;\n",
       "    }\n",
       "\n",
       "    .dataframe tbody tr th {\n",
       "        vertical-align: top;\n",
       "    }\n",
       "\n",
       "    .dataframe thead th {\n",
       "        text-align: right;\n",
       "    }\n",
       "</style>\n",
       "<table border=\"1\" class=\"dataframe\">\n",
       "  <thead>\n",
       "    <tr style=\"text-align: right;\">\n",
       "      <th></th>\n",
       "      <th>orden_id</th>\n",
       "      <th>cliente</th>\n",
       "      <th>fecha</th>\n",
       "      <th>producto</th>\n",
       "      <th>cantidad</th>\n",
       "      <th>precio_unitario</th>\n",
       "      <th>total_venta</th>\n",
       "    </tr>\n",
       "  </thead>\n",
       "  <tbody>\n",
       "  </tbody>\n",
       "</table>\n",
       "</div>"
      ],
      "text/plain": [
       "Empty DataFrame\n",
       "Columns: [orden_id, cliente, fecha, producto, cantidad, precio_unitario, total_venta]\n",
       "Index: []"
      ]
     },
     "execution_count": 24,
     "metadata": {},
     "output_type": "execute_result"
    }
   ],
   "source": [
    "mask_1_laptop = (df['cantidad'] > 1) & (df['producto'] == 'laptop')\n",
    "df[mask_1_laptop]"
   ]
  },
  {
   "cell_type": "markdown",
   "id": "2e458dd6",
   "metadata": {},
   "source": [
    "## ⚔️ DESAFÍO PRÁCTICO – PARTE 2: Análisis avanzado"
   ]
  },
  {
   "cell_type": "code",
   "execution_count": 25,
   "id": "933f6799",
   "metadata": {},
   "outputs": [
    {
     "data": {
      "text/html": [
       "<div>\n",
       "<style scoped>\n",
       "    .dataframe tbody tr th:only-of-type {\n",
       "        vertical-align: middle;\n",
       "    }\n",
       "\n",
       "    .dataframe tbody tr th {\n",
       "        vertical-align: top;\n",
       "    }\n",
       "\n",
       "    .dataframe thead th {\n",
       "        text-align: right;\n",
       "    }\n",
       "</style>\n",
       "<table border=\"1\" class=\"dataframe\">\n",
       "  <thead>\n",
       "    <tr style=\"text-align: right;\">\n",
       "      <th></th>\n",
       "      <th>orden_id</th>\n",
       "      <th>cliente</th>\n",
       "      <th>fecha</th>\n",
       "      <th>producto</th>\n",
       "      <th>cantidad</th>\n",
       "      <th>precio_unitario</th>\n",
       "      <th>total_venta</th>\n",
       "    </tr>\n",
       "  </thead>\n",
       "  <tbody>\n",
       "    <tr>\n",
       "      <th>0</th>\n",
       "      <td>101</td>\n",
       "      <td>Ana</td>\n",
       "      <td>2024-01-01</td>\n",
       "      <td>Teclado</td>\n",
       "      <td>1</td>\n",
       "      <td>500</td>\n",
       "      <td>500</td>\n",
       "    </tr>\n",
       "    <tr>\n",
       "      <th>1</th>\n",
       "      <td>102</td>\n",
       "      <td>Luis</td>\n",
       "      <td>2024-01-03</td>\n",
       "      <td>Mouse</td>\n",
       "      <td>2</td>\n",
       "      <td>200</td>\n",
       "      <td>400</td>\n",
       "    </tr>\n",
       "    <tr>\n",
       "      <th>2</th>\n",
       "      <td>103</td>\n",
       "      <td>Ana</td>\n",
       "      <td>2024-01-10</td>\n",
       "      <td>Pantalla</td>\n",
       "      <td>1</td>\n",
       "      <td>3000</td>\n",
       "      <td>3000</td>\n",
       "    </tr>\n",
       "    <tr>\n",
       "      <th>3</th>\n",
       "      <td>104</td>\n",
       "      <td>Marta</td>\n",
       "      <td>2024-01-10</td>\n",
       "      <td>Laptop</td>\n",
       "      <td>1</td>\n",
       "      <td>15000</td>\n",
       "      <td>15000</td>\n",
       "    </tr>\n",
       "    <tr>\n",
       "      <th>4</th>\n",
       "      <td>105</td>\n",
       "      <td>Luis</td>\n",
       "      <td>2024-01-15</td>\n",
       "      <td>Mouse</td>\n",
       "      <td>1</td>\n",
       "      <td>200</td>\n",
       "      <td>200</td>\n",
       "    </tr>\n",
       "    <tr>\n",
       "      <th>5</th>\n",
       "      <td>106</td>\n",
       "      <td>Carlos</td>\n",
       "      <td>2024-01-20</td>\n",
       "      <td>Laptop</td>\n",
       "      <td>2</td>\n",
       "      <td>15000</td>\n",
       "      <td>30000</td>\n",
       "    </tr>\n",
       "  </tbody>\n",
       "</table>\n",
       "</div>"
      ],
      "text/plain": [
       "   orden_id cliente      fecha  producto  cantidad  precio_unitario  \\\n",
       "0       101     Ana 2024-01-01   Teclado         1              500   \n",
       "1       102    Luis 2024-01-03     Mouse         2              200   \n",
       "2       103     Ana 2024-01-10  Pantalla         1             3000   \n",
       "3       104   Marta 2024-01-10    Laptop         1            15000   \n",
       "4       105    Luis 2024-01-15     Mouse         1              200   \n",
       "5       106  Carlos 2024-01-20    Laptop         2            15000   \n",
       "\n",
       "   total_venta  \n",
       "0          500  \n",
       "1          400  \n",
       "2         3000  \n",
       "3        15000  \n",
       "4          200  \n",
       "5        30000  "
      ]
     },
     "execution_count": 25,
     "metadata": {},
     "output_type": "execute_result"
    }
   ],
   "source": [
    "df"
   ]
  },
  {
   "cell_type": "markdown",
   "id": "e674d9ba",
   "metadata": {},
   "source": [
    "### 📌 Objetivos – Parte 2\n",
    "Responde con código y resultados, como hiciste antes. No copies/pegues sin pensar: este nivel requiere precisión quirúrgica."
   ]
  },
  {
   "cell_type": "markdown",
   "id": "1571e8d5",
   "metadata": {},
   "source": [
    "##### **1. Agrupa las ventas por semana y muestra la suma de 'total_venta' por semana.**\n",
    "\n",
    "Pista: Usa .dt.isocalendar().week o resample('W')."
   ]
  },
  {
   "cell_type": "code",
   "execution_count": 39,
   "id": "b2c5f78a",
   "metadata": {},
   "outputs": [
    {
     "data": {
      "text/plain": [
       "semana_iso\n",
       "1      900\n",
       "2    18000\n",
       "3    30200\n",
       "Name: total_venta, dtype: int64"
      ]
     },
     "execution_count": 39,
     "metadata": {},
     "output_type": "execute_result"
    }
   ],
   "source": [
    "df['semana_iso'] = df['fecha'].dt.isocalendar().week\n",
    "suma_por_semana_venta = df.groupby('semana_iso')['total_venta'].sum()\n",
    "suma_por_semana_venta"
   ]
  },
  {
   "cell_type": "markdown",
   "id": "e9f561f1",
   "metadata": {},
   "source": [
    "##### **2. ¿Cuál fue el producto más vendido (en cantidad total) en el mes?**\n"
   ]
  },
  {
   "cell_type": "code",
   "execution_count": null,
   "id": "f5d8a99c",
   "metadata": {},
   "outputs": [
    {
     "name": "stdout",
     "output_type": "stream",
     "text": [
      "El producto con más ventas (desempatado) es: \"Laptop\"\n",
      "Cantidad total vendida de este producto: 3\n"
     ]
    }
   ],
   "source": [
    "# Agrupamos los datos que necesitamos\n",
    "producto_mas_vendido_mes = df.groupby('producto')['cantidad'].sum()\n",
    "\n",
    "# Calcular los rangos desempados (en caso de alla)\n",
    "# ascendig=False nos aseguramos que el mayor tenga el rango 1\n",
    "# 'first' rompe los empates asignando el rango más bajo al que aparece primero\n",
    "productos_ranked = producto_mas_vendido_mes.rank(ascending=False, method='first')\n",
    "\n",
    "# Filtramos para encontrar con el rango 1\n",
    "producto_con_mas_ventas_desempatado = productos_ranked[productos_ranked == 1]\n",
    "\n",
    "# Obtener el producto y la cantidad \n",
    "nombre_producto_desempatado = producto_con_mas_ventas_desempatado.index[0]\n",
    "cantidad_venta_desempatada = producto_mas_vendido_mes.loc[nombre_producto_desempatado]\n",
    "\n",
    "print(f'El producto con más ventas (desempatado) es: \"{nombre_producto_desempatado}\"')\n",
    "print(f'Cantidad total vendida de este producto: {cantidad_venta_desempatada}')"
   ]
  },
  {
   "cell_type": "markdown",
   "id": "1cc61500",
   "metadata": {},
   "source": [
    "##### **3. Calcula el ticket promedio por cliente (total vendido dividido entre número de órdenes).**"
   ]
  },
  {
   "cell_type": "code",
   "execution_count": 76,
   "id": "2d6fd557",
   "metadata": {},
   "outputs": [
    {
     "name": "stdout",
     "output_type": "stream",
     "text": [
      "Ticket Promedio\n",
      "cliente\n",
      "Ana        1750.0\n",
      "Carlos    30000.0\n",
      "Luis        300.0\n",
      "Marta     15000.0\n",
      "Name: total_venta, dtype: float64\n"
     ]
    }
   ],
   "source": [
    "clientes = df.groupby('cliente')['total_venta'].sum()\n",
    "numero = df.groupby('cliente')['total_venta'].count()\n",
    "\n",
    "ticket_promedio = clientes / numero\n",
    "\n",
    "print(f'Ticket Promedio\\n{ticket_promedio}')\n"
   ]
  },
  {
   "cell_type": "markdown",
   "id": "f614aa68",
   "metadata": {},
   "source": [
    "##### **4. Crea un ranking de productos por ventas totales (total_venta) de mayor a menor.**"
   ]
  },
  {
   "cell_type": "code",
   "execution_count": 78,
   "id": "8b8a40b4",
   "metadata": {},
   "outputs": [
    {
     "data": {
      "text/plain": [
       "producto\n",
       "Laptop      45000\n",
       "Mouse         600\n",
       "Pantalla     3000\n",
       "Teclado       500\n",
       "Name: total_venta, dtype: int64"
      ]
     },
     "execution_count": 78,
     "metadata": {},
     "output_type": "execute_result"
    }
   ],
   "source": [
    "productos_por_ventas = df.groupby('producto')['total_venta'].sum()\n",
    "productos_por_ventas"
   ]
  },
  {
   "cell_type": "markdown",
   "id": "cebfe083",
   "metadata": {},
   "source": [
    "##### **5. Identifica a los clientes frecuentes, definidos como aquellos con 2 o más órdenes.**"
   ]
  },
  {
   "cell_type": "code",
   "execution_count": 83,
   "id": "c33d34d5",
   "metadata": {},
   "outputs": [
    {
     "name": "stdout",
     "output_type": "stream",
     "text": [
      "Clientes Frecuenctes\n",
      "cliente\n",
      "Ana     2\n",
      "Luis    2\n",
      "Name: total_venta, dtype: int64\n"
     ]
    }
   ],
   "source": [
    "clientes_frecuentes = numero >= 2\n",
    "print(f'Clientes Frecuenctes\\n{numero[clientes_frecuentes]}')"
   ]
  },
  {
   "cell_type": "markdown",
   "id": "d7294a47",
   "metadata": {},
   "source": [
    "##### **6. [BONUS] Agrega una columna que indique si la orden fue \"alta\" (>5000), \"media\" (entre 1000 y 5000) o \"baja\" (<=1000) según su total_venta.**"
   ]
  },
  {
   "cell_type": "code",
   "execution_count": 85,
   "id": "30268e78",
   "metadata": {},
   "outputs": [
    {
     "data": {
      "text/html": [
       "<div>\n",
       "<style scoped>\n",
       "    .dataframe tbody tr th:only-of-type {\n",
       "        vertical-align: middle;\n",
       "    }\n",
       "\n",
       "    .dataframe tbody tr th {\n",
       "        vertical-align: top;\n",
       "    }\n",
       "\n",
       "    .dataframe thead th {\n",
       "        text-align: right;\n",
       "    }\n",
       "</style>\n",
       "<table border=\"1\" class=\"dataframe\">\n",
       "  <thead>\n",
       "    <tr style=\"text-align: right;\">\n",
       "      <th></th>\n",
       "      <th>orden_id</th>\n",
       "      <th>cliente</th>\n",
       "      <th>fecha</th>\n",
       "      <th>producto</th>\n",
       "      <th>cantidad</th>\n",
       "      <th>precio_unitario</th>\n",
       "      <th>total_venta</th>\n",
       "      <th>semana_iso</th>\n",
       "      <th>BONUS</th>\n",
       "    </tr>\n",
       "  </thead>\n",
       "  <tbody>\n",
       "    <tr>\n",
       "      <th>0</th>\n",
       "      <td>101</td>\n",
       "      <td>Ana</td>\n",
       "      <td>2024-01-01</td>\n",
       "      <td>Teclado</td>\n",
       "      <td>1</td>\n",
       "      <td>500</td>\n",
       "      <td>500</td>\n",
       "      <td>1</td>\n",
       "      <td>Baja</td>\n",
       "    </tr>\n",
       "    <tr>\n",
       "      <th>1</th>\n",
       "      <td>102</td>\n",
       "      <td>Luis</td>\n",
       "      <td>2024-01-03</td>\n",
       "      <td>Mouse</td>\n",
       "      <td>2</td>\n",
       "      <td>200</td>\n",
       "      <td>400</td>\n",
       "      <td>1</td>\n",
       "      <td>Baja</td>\n",
       "    </tr>\n",
       "    <tr>\n",
       "      <th>2</th>\n",
       "      <td>103</td>\n",
       "      <td>Ana</td>\n",
       "      <td>2024-01-10</td>\n",
       "      <td>Pantalla</td>\n",
       "      <td>1</td>\n",
       "      <td>3000</td>\n",
       "      <td>3000</td>\n",
       "      <td>2</td>\n",
       "      <td>Media</td>\n",
       "    </tr>\n",
       "    <tr>\n",
       "      <th>3</th>\n",
       "      <td>104</td>\n",
       "      <td>Marta</td>\n",
       "      <td>2024-01-10</td>\n",
       "      <td>Laptop</td>\n",
       "      <td>1</td>\n",
       "      <td>15000</td>\n",
       "      <td>15000</td>\n",
       "      <td>2</td>\n",
       "      <td>Alta</td>\n",
       "    </tr>\n",
       "    <tr>\n",
       "      <th>4</th>\n",
       "      <td>105</td>\n",
       "      <td>Luis</td>\n",
       "      <td>2024-01-15</td>\n",
       "      <td>Mouse</td>\n",
       "      <td>1</td>\n",
       "      <td>200</td>\n",
       "      <td>200</td>\n",
       "      <td>3</td>\n",
       "      <td>Baja</td>\n",
       "    </tr>\n",
       "    <tr>\n",
       "      <th>5</th>\n",
       "      <td>106</td>\n",
       "      <td>Carlos</td>\n",
       "      <td>2024-01-20</td>\n",
       "      <td>Laptop</td>\n",
       "      <td>2</td>\n",
       "      <td>15000</td>\n",
       "      <td>30000</td>\n",
       "      <td>3</td>\n",
       "      <td>Alta</td>\n",
       "    </tr>\n",
       "  </tbody>\n",
       "</table>\n",
       "</div>"
      ],
      "text/plain": [
       "   orden_id cliente      fecha  producto  cantidad  precio_unitario  \\\n",
       "0       101     Ana 2024-01-01   Teclado         1              500   \n",
       "1       102    Luis 2024-01-03     Mouse         2              200   \n",
       "2       103     Ana 2024-01-10  Pantalla         1             3000   \n",
       "3       104   Marta 2024-01-10    Laptop         1            15000   \n",
       "4       105    Luis 2024-01-15     Mouse         1              200   \n",
       "5       106  Carlos 2024-01-20    Laptop         2            15000   \n",
       "\n",
       "   total_venta  semana_iso  BONUS  \n",
       "0          500           1   Baja  \n",
       "1          400           1   Baja  \n",
       "2         3000           2  Media  \n",
       "3        15000           2   Alta  \n",
       "4          200           3   Baja  \n",
       "5        30000           3   Alta  "
      ]
     },
     "execution_count": 85,
     "metadata": {},
     "output_type": "execute_result"
    }
   ],
   "source": [
    "condicion = [\n",
    "    df['total_venta'] > 5000,\n",
    "    (df['total_venta'] >= 1000) & (df['total_venta'] <= 5000)\n",
    "]\n",
    "\n",
    "opciones = ['Alta','Media']\n",
    "\n",
    "df['BONUS'] = np.select(condicion, opciones, default='Baja')\n",
    "df"
   ]
  }
 ],
 "metadata": {
  "kernelspec": {
   "display_name": "venv",
   "language": "python",
   "name": "python3"
  },
  "language_info": {
   "codemirror_mode": {
    "name": "ipython",
    "version": 3
   },
   "file_extension": ".py",
   "mimetype": "text/x-python",
   "name": "python",
   "nbconvert_exporter": "python",
   "pygments_lexer": "ipython3",
   "version": "3.12.1"
  }
 },
 "nbformat": 4,
 "nbformat_minor": 5
}
