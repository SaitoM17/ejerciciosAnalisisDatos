{
 "cells": [
  {
   "cell_type": "code",
   "execution_count": null,
   "id": "6e79bfe3",
   "metadata": {},
   "outputs": [],
   "source": [
    "# Cargamos las librerias\n",
    "import pandas as pd"
   ]
  },
  {
   "cell_type": "code",
   "execution_count": 8,
   "id": "75f2cc3d",
   "metadata": {},
   "outputs": [
    {
     "data": {
      "text/html": [
       "<div>\n",
       "<style scoped>\n",
       "    .dataframe tbody tr th:only-of-type {\n",
       "        vertical-align: middle;\n",
       "    }\n",
       "\n",
       "    .dataframe tbody tr th {\n",
       "        vertical-align: top;\n",
       "    }\n",
       "\n",
       "    .dataframe thead th {\n",
       "        text-align: right;\n",
       "    }\n",
       "</style>\n",
       "<table border=\"1\" class=\"dataframe\">\n",
       "  <thead>\n",
       "    <tr style=\"text-align: right;\">\n",
       "      <th></th>\n",
       "      <th>orden_id</th>\n",
       "      <th>cliente</th>\n",
       "      <th>fecha</th>\n",
       "      <th>producto</th>\n",
       "      <th>cantidad</th>\n",
       "      <th>precio_unitario</th>\n",
       "    </tr>\n",
       "  </thead>\n",
       "  <tbody>\n",
       "    <tr>\n",
       "      <th>0</th>\n",
       "      <td>101</td>\n",
       "      <td>Ana</td>\n",
       "      <td>2024-01-01</td>\n",
       "      <td>Teclado</td>\n",
       "      <td>1</td>\n",
       "      <td>500</td>\n",
       "    </tr>\n",
       "    <tr>\n",
       "      <th>1</th>\n",
       "      <td>102</td>\n",
       "      <td>Luis</td>\n",
       "      <td>2024-01-03</td>\n",
       "      <td>Mouse</td>\n",
       "      <td>2</td>\n",
       "      <td>200</td>\n",
       "    </tr>\n",
       "    <tr>\n",
       "      <th>2</th>\n",
       "      <td>103</td>\n",
       "      <td>Ana</td>\n",
       "      <td>2024-01-10</td>\n",
       "      <td>Pantalla</td>\n",
       "      <td>1</td>\n",
       "      <td>3000</td>\n",
       "    </tr>\n",
       "    <tr>\n",
       "      <th>3</th>\n",
       "      <td>104</td>\n",
       "      <td>Marta</td>\n",
       "      <td>2024-01-10</td>\n",
       "      <td>Laptop</td>\n",
       "      <td>1</td>\n",
       "      <td>15000</td>\n",
       "    </tr>\n",
       "    <tr>\n",
       "      <th>4</th>\n",
       "      <td>105</td>\n",
       "      <td>Luis</td>\n",
       "      <td>2024-01-15</td>\n",
       "      <td>Mouse</td>\n",
       "      <td>1</td>\n",
       "      <td>200</td>\n",
       "    </tr>\n",
       "    <tr>\n",
       "      <th>5</th>\n",
       "      <td>106</td>\n",
       "      <td>Carlos</td>\n",
       "      <td>2024-01-20</td>\n",
       "      <td>Laptop</td>\n",
       "      <td>2</td>\n",
       "      <td>15000</td>\n",
       "    </tr>\n",
       "  </tbody>\n",
       "</table>\n",
       "</div>"
      ],
      "text/plain": [
       "   orden_id cliente      fecha  producto  cantidad  precio_unitario\n",
       "0       101     Ana 2024-01-01   Teclado         1              500\n",
       "1       102    Luis 2024-01-03     Mouse         2              200\n",
       "2       103     Ana 2024-01-10  Pantalla         1             3000\n",
       "3       104   Marta 2024-01-10    Laptop         1            15000\n",
       "4       105    Luis 2024-01-15     Mouse         1              200\n",
       "5       106  Carlos 2024-01-20    Laptop         2            15000"
      ]
     },
     "execution_count": 8,
     "metadata": {},
     "output_type": "execute_result"
    }
   ],
   "source": [
    "data = {\n",
    "    'orden_id': [101, 102, 103, 104, 105, 106],\n",
    "    'cliente': ['Ana', 'Luis', 'Ana', 'Marta', 'Luis', 'Carlos'],\n",
    "    'fecha': pd.to_datetime(['2024-01-01', '2024-01-03', '2024-01-10', '2024-01-10', '2024-01-15', '2024-01-20']),\n",
    "    'producto': ['Teclado', 'Mouse', 'Pantalla', 'Laptop', 'Mouse', 'Laptop'],\n",
    "    'cantidad': [1, 2, 1, 1, 1, 2],\n",
    "    'precio_unitario': [500, 200, 3000, 15000, 200, 15000]\n",
    "}\n",
    "\n",
    "df = pd.DataFrame(data)\n",
    "df"
   ]
  },
  {
   "cell_type": "markdown",
   "id": "2cd2f879",
   "metadata": {},
   "source": [
    "## 🧪 Desafío práctico – Parte 1\n",
    "### 🔧 Objetivo: Demostrar tu dominio de selección, filtrado, operaciones y agregaciones.\n",
    "Responde con código y resultados (si puedes) para las siguientes instrucciones:\n",
    "\n"
   ]
  },
  {
   "cell_type": "markdown",
   "id": "a2898897",
   "metadata": {},
   "source": [
    "##### **1. Agrega una columna llamada 'total_venta' que sea el resultado de cantidad * precio_unitario.**"
   ]
  },
  {
   "cell_type": "code",
   "execution_count": 9,
   "id": "6f275f68",
   "metadata": {},
   "outputs": [
    {
     "data": {
      "text/html": [
       "<div>\n",
       "<style scoped>\n",
       "    .dataframe tbody tr th:only-of-type {\n",
       "        vertical-align: middle;\n",
       "    }\n",
       "\n",
       "    .dataframe tbody tr th {\n",
       "        vertical-align: top;\n",
       "    }\n",
       "\n",
       "    .dataframe thead th {\n",
       "        text-align: right;\n",
       "    }\n",
       "</style>\n",
       "<table border=\"1\" class=\"dataframe\">\n",
       "  <thead>\n",
       "    <tr style=\"text-align: right;\">\n",
       "      <th></th>\n",
       "      <th>orden_id</th>\n",
       "      <th>cliente</th>\n",
       "      <th>fecha</th>\n",
       "      <th>producto</th>\n",
       "      <th>cantidad</th>\n",
       "      <th>precio_unitario</th>\n",
       "      <th>total_venta</th>\n",
       "    </tr>\n",
       "  </thead>\n",
       "  <tbody>\n",
       "    <tr>\n",
       "      <th>0</th>\n",
       "      <td>101</td>\n",
       "      <td>Ana</td>\n",
       "      <td>2024-01-01</td>\n",
       "      <td>Teclado</td>\n",
       "      <td>1</td>\n",
       "      <td>500</td>\n",
       "      <td>500</td>\n",
       "    </tr>\n",
       "    <tr>\n",
       "      <th>1</th>\n",
       "      <td>102</td>\n",
       "      <td>Luis</td>\n",
       "      <td>2024-01-03</td>\n",
       "      <td>Mouse</td>\n",
       "      <td>2</td>\n",
       "      <td>200</td>\n",
       "      <td>400</td>\n",
       "    </tr>\n",
       "    <tr>\n",
       "      <th>2</th>\n",
       "      <td>103</td>\n",
       "      <td>Ana</td>\n",
       "      <td>2024-01-10</td>\n",
       "      <td>Pantalla</td>\n",
       "      <td>1</td>\n",
       "      <td>3000</td>\n",
       "      <td>3000</td>\n",
       "    </tr>\n",
       "    <tr>\n",
       "      <th>3</th>\n",
       "      <td>104</td>\n",
       "      <td>Marta</td>\n",
       "      <td>2024-01-10</td>\n",
       "      <td>Laptop</td>\n",
       "      <td>1</td>\n",
       "      <td>15000</td>\n",
       "      <td>15000</td>\n",
       "    </tr>\n",
       "    <tr>\n",
       "      <th>4</th>\n",
       "      <td>105</td>\n",
       "      <td>Luis</td>\n",
       "      <td>2024-01-15</td>\n",
       "      <td>Mouse</td>\n",
       "      <td>1</td>\n",
       "      <td>200</td>\n",
       "      <td>200</td>\n",
       "    </tr>\n",
       "    <tr>\n",
       "      <th>5</th>\n",
       "      <td>106</td>\n",
       "      <td>Carlos</td>\n",
       "      <td>2024-01-20</td>\n",
       "      <td>Laptop</td>\n",
       "      <td>2</td>\n",
       "      <td>15000</td>\n",
       "      <td>30000</td>\n",
       "    </tr>\n",
       "  </tbody>\n",
       "</table>\n",
       "</div>"
      ],
      "text/plain": [
       "   orden_id cliente      fecha  producto  cantidad  precio_unitario  \\\n",
       "0       101     Ana 2024-01-01   Teclado         1              500   \n",
       "1       102    Luis 2024-01-03     Mouse         2              200   \n",
       "2       103     Ana 2024-01-10  Pantalla         1             3000   \n",
       "3       104   Marta 2024-01-10    Laptop         1            15000   \n",
       "4       105    Luis 2024-01-15     Mouse         1              200   \n",
       "5       106  Carlos 2024-01-20    Laptop         2            15000   \n",
       "\n",
       "   total_venta  \n",
       "0          500  \n",
       "1          400  \n",
       "2         3000  \n",
       "3        15000  \n",
       "4          200  \n",
       "5        30000  "
      ]
     },
     "execution_count": 9,
     "metadata": {},
     "output_type": "execute_result"
    }
   ],
   "source": [
    "df['total_venta'] = df['cantidad'] * df['precio_unitario']\n",
    "df"
   ]
  },
  {
   "cell_type": "markdown",
   "id": "52a90062",
   "metadata": {},
   "source": [
    "##### **2. ¿Cuáles son las ventas totales por cliente? (Suma de total_venta por nombre)**"
   ]
  },
  {
   "cell_type": "code",
   "execution_count": 12,
   "id": "7afd8c26",
   "metadata": {},
   "outputs": [
    {
     "data": {
      "text/plain": [
       "cliente\n",
       "Ana        3500\n",
       "Carlos    30000\n",
       "Luis        600\n",
       "Marta     15000\n",
       "Name: total_venta, dtype: int64"
      ]
     },
     "execution_count": 12,
     "metadata": {},
     "output_type": "execute_result"
    }
   ],
   "source": [
    "sumas_por_cliente = df.groupby('cliente')['total_venta'].sum()\n",
    "sumas_por_cliente"
   ]
  },
  {
   "cell_type": "markdown",
   "id": "c3669165",
   "metadata": {},
   "source": [
    "##### **3. ¿Cuántas unidades se vendieron en total de cada producto?**"
   ]
  },
  {
   "cell_type": "code",
   "execution_count": 14,
   "id": "feded02c",
   "metadata": {},
   "outputs": [
    {
     "data": {
      "text/plain": [
       "producto\n",
       "Laptop      3\n",
       "Mouse       3\n",
       "Pantalla    1\n",
       "Teclado     1\n",
       "Name: cantidad, dtype: int64"
      ]
     },
     "execution_count": 14,
     "metadata": {},
     "output_type": "execute_result"
    }
   ],
   "source": [
    "unidades_por_producto = df.groupby('producto')['cantidad'].sum()\n",
    "unidades_por_producto"
   ]
  },
  {
   "cell_type": "markdown",
   "id": "da508837",
   "metadata": {},
   "source": [
    "##### **4. ¿Cuál fue la venta más alta registrada y quién la hizo?**"
   ]
  },
  {
   "cell_type": "code",
   "execution_count": 21,
   "id": "17e7df7c",
   "metadata": {},
   "outputs": [
    {
     "name": "stdout",
     "output_type": "stream",
     "text": [
      "Carlos  $30000\n"
     ]
    }
   ],
   "source": [
    "indice_venta_mas_alta = df['total_venta'].idxmax()\n",
    "\n",
    "venta_mas_alta_info = df.loc[indice_venta_mas_alta]\n",
    "\n",
    "# 3. Extraer el monto de la venta y el nombre del vendedor\n",
    "venta_mas_alta_monto = venta_mas_alta_info['total_venta']\n",
    "cliente_venta_mas_alta = venta_mas_alta_info['cliente']\n",
    "\n",
    "print(f'{cliente_venta_mas_alta}  ${venta_mas_alta_monto}')"
   ]
  },
  {
   "cell_type": "markdown",
   "id": "44ef39c6",
   "metadata": {},
   "source": [
    "##### **5. Filtra las órdenes donde se vendieron más de 1 unidad y el producto fue un 'Laptop'.**"
   ]
  },
  {
   "cell_type": "code",
   "execution_count": 24,
   "id": "8d57d2eb",
   "metadata": {},
   "outputs": [
    {
     "data": {
      "text/html": [
       "<div>\n",
       "<style scoped>\n",
       "    .dataframe tbody tr th:only-of-type {\n",
       "        vertical-align: middle;\n",
       "    }\n",
       "\n",
       "    .dataframe tbody tr th {\n",
       "        vertical-align: top;\n",
       "    }\n",
       "\n",
       "    .dataframe thead th {\n",
       "        text-align: right;\n",
       "    }\n",
       "</style>\n",
       "<table border=\"1\" class=\"dataframe\">\n",
       "  <thead>\n",
       "    <tr style=\"text-align: right;\">\n",
       "      <th></th>\n",
       "      <th>orden_id</th>\n",
       "      <th>cliente</th>\n",
       "      <th>fecha</th>\n",
       "      <th>producto</th>\n",
       "      <th>cantidad</th>\n",
       "      <th>precio_unitario</th>\n",
       "      <th>total_venta</th>\n",
       "    </tr>\n",
       "  </thead>\n",
       "  <tbody>\n",
       "  </tbody>\n",
       "</table>\n",
       "</div>"
      ],
      "text/plain": [
       "Empty DataFrame\n",
       "Columns: [orden_id, cliente, fecha, producto, cantidad, precio_unitario, total_venta]\n",
       "Index: []"
      ]
     },
     "execution_count": 24,
     "metadata": {},
     "output_type": "execute_result"
    }
   ],
   "source": [
    "mask_1_laptop = (df['cantidad'] > 1) & (df['producto'] == 'laptop')\n",
    "df[mask_1_laptop]"
   ]
  }
 ],
 "metadata": {
  "kernelspec": {
   "display_name": "venv",
   "language": "python",
   "name": "python3"
  },
  "language_info": {
   "codemirror_mode": {
    "name": "ipython",
    "version": 3
   },
   "file_extension": ".py",
   "mimetype": "text/x-python",
   "name": "python",
   "nbconvert_exporter": "python",
   "pygments_lexer": "ipython3",
   "version": "3.12.1"
  }
 },
 "nbformat": 4,
 "nbformat_minor": 5
}
