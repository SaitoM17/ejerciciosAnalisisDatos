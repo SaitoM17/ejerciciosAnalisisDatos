{
 "cells": [
  {
   "cell_type": "code",
   "execution_count": 115,
   "id": "bcf11c79",
   "metadata": {},
   "outputs": [],
   "source": [
    "# Cargar librerias \n",
    "import pandas as pd\n",
    "import numpy as np"
   ]
  },
  {
   "cell_type": "markdown",
   "id": "980bda67",
   "metadata": {},
   "source": [
    "Una **Serie** es un conjunto unidimensional de estilos array, que contiene una secuencia de valores del mismo tipo, y un array asociado de etioquetas de datos, que corresponde a su índice."
   ]
  },
  {
   "cell_type": "code",
   "execution_count": 2,
   "id": "c41e8bed",
   "metadata": {},
   "outputs": [
    {
     "data": {
      "text/plain": [
       "0    1\n",
       "1    2\n",
       "2    3\n",
       "3    4\n",
       "4    5\n",
       "5    6\n",
       "dtype: int64"
      ]
     },
     "execution_count": 2,
     "metadata": {},
     "output_type": "execute_result"
    }
   ],
   "source": [
    "obj = pd.Series([1,2,3,4,5,6])\n",
    "obj"
   ]
  },
  {
   "cell_type": "markdown",
   "id": "f032aad4",
   "metadata": {},
   "source": [
    "Se puede obtener la representación de en array y el objeto indice de la serie mediantre sus atributos **array** e **index**."
   ]
  },
  {
   "cell_type": "code",
   "execution_count": 3,
   "id": "303dcac3",
   "metadata": {},
   "outputs": [
    {
     "name": "stdout",
     "output_type": "stream",
     "text": [
      "Array: <NumpyExtensionArray>\n",
      "[np.int64(1), np.int64(2), np.int64(3), np.int64(4), np.int64(5), np.int64(6)]\n",
      "Length: 6, dtype: int64\n",
      "Index: RangeIndex(start=0, stop=6, step=1)\n"
     ]
    }
   ],
   "source": [
    "print(f'Array: {obj.array}')\n",
    "print(f'Index: {obj.index}')"
   ]
  },
  {
   "cell_type": "markdown",
   "id": "696c34d2",
   "metadata": {},
   "source": [
    "**Nota:** Cuando no esécificamos un índice para los datos, se crea uno predeterminado, formado por los enteros 0 a ***N***-1 (donde ***N*** es la lomgiyd de los datos)"
   ]
  },
  {
   "cell_type": "markdown",
   "id": "1c86d9ac",
   "metadata": {},
   "source": [
    "Crear una **Serie** con un índice, que identifique cada punto de datos con una etiqueta."
   ]
  },
  {
   "cell_type": "code",
   "execution_count": 4,
   "id": "45dadd8d",
   "metadata": {},
   "outputs": [
    {
     "data": {
      "text/plain": [
       "a    1\n",
       "b    2\n",
       "c    3\n",
       "d    4\n",
       "dtype: int64"
      ]
     },
     "execution_count": 4,
     "metadata": {},
     "output_type": "execute_result"
    }
   ],
   "source": [
    "obj2 = pd.Series([1,2,3,4], index=['a','b','c','d'])\n",
    "obj2"
   ]
  },
  {
   "cell_type": "markdown",
   "id": "f8ba4655",
   "metadata": {},
   "source": [
    "Se puede usar etiquetas en el índice al seleccionar varios valores sencillos o un conjunto de valores."
   ]
  },
  {
   "cell_type": "code",
   "execution_count": 5,
   "id": "54a464d4",
   "metadata": {},
   "outputs": [
    {
     "name": "stdout",
     "output_type": "stream",
     "text": [
      "1\n",
      "10\n",
      "c    10\n",
      "a     1\n",
      "d     4\n",
      "dtype: int64\n"
     ]
    }
   ],
   "source": [
    "print(obj2['a'])\n",
    "obj2['c'] = 10 \n",
    "print(obj2['c'])\n",
    "print(obj2[['c','a','d']])\n",
    "\n",
    "# Se interpreta como una lista de índices"
   ]
  },
  {
   "cell_type": "markdown",
   "id": "c8f55266",
   "metadata": {},
   "source": [
    "Utilizar funciones NumPy u operaciones de estilo NumPy, como el filtro con un array booleano, la multiplicación de escalares o la aplicación de funciones mátematicas, permitirá conservar el vinculo **índice**-**valor**."
   ]
  },
  {
   "cell_type": "code",
   "execution_count": 6,
   "id": "132ed022",
   "metadata": {},
   "outputs": [
    {
     "name": "stdout",
     "output_type": "stream",
     "text": [
      "c    10\n",
      "d     4\n",
      "dtype: int64\n",
      "a     2\n",
      "b     4\n",
      "c    20\n",
      "d     8\n",
      "dtype: int64\n",
      "a        2.718282\n",
      "b        7.389056\n",
      "c    22026.465795\n",
      "d       54.598150\n",
      "dtype: float64\n"
     ]
    }
   ],
   "source": [
    "print(obj2[obj2 > 2])\n",
    "print(obj2 * 2)\n",
    "print(np.exp(obj2))"
   ]
  },
  {
   "cell_type": "markdown",
   "id": "e623649e",
   "metadata": {},
   "source": [
    "Una **Serie** es como un diccionario ordenado de longitud fija, dado que es una asiganación de valores de índice a valores de datos."
   ]
  },
  {
   "cell_type": "code",
   "execution_count": 7,
   "id": "0928151d",
   "metadata": {},
   "outputs": [
    {
     "data": {
      "text/plain": [
       "True"
      ]
     },
     "execution_count": 7,
     "metadata": {},
     "output_type": "execute_result"
    }
   ],
   "source": [
    "'a' in obj2"
   ]
  },
  {
   "cell_type": "markdown",
   "id": "f110614b",
   "metadata": {},
   "source": [
    "Si tenemos un diccionario Python, podemos crear una **Serie** a partir de él pasando el diccionario."
   ]
  },
  {
   "cell_type": "code",
   "execution_count": 8,
   "id": "8356f628",
   "metadata": {},
   "outputs": [
    {
     "data": {
      "text/plain": [
       "a    [1, 2, 3, 4, 5]\n",
       "b    [6, 7, 8.9, 10]\n",
       "dtype: object"
      ]
     },
     "execution_count": 8,
     "metadata": {},
     "output_type": "execute_result"
    }
   ],
   "source": [
    "dic = {\n",
    "    'a': [1,2,3,4,5],\n",
    "    'b': [6,7,8.9,10]\n",
    "}\n",
    "\n",
    "serie = pd.Series(dic)\n",
    "serie"
   ]
  },
  {
   "cell_type": "markdown",
   "id": "21bec250",
   "metadata": {},
   "source": [
    "Una **Serie** se puede convertir de nuevo en un diccionario con su método *to_dict*."
   ]
  },
  {
   "cell_type": "code",
   "execution_count": 9,
   "id": "e3ed984b",
   "metadata": {},
   "outputs": [
    {
     "data": {
      "text/plain": [
       "{'a': [1, 2, 3, 4, 5], 'b': [6, 7, 8.9, 10]}"
      ]
     },
     "execution_count": 9,
     "metadata": {},
     "output_type": "execute_result"
    }
   ],
   "source": [
    "dic_de_nuevo = serie.to_dict()\n",
    "dic_de_nuevo"
   ]
  },
  {
   "cell_type": "markdown",
   "id": "c0403baf",
   "metadata": {},
   "source": [
    "Para detectar datos faltantes o nulos se deben emplear las funciones ***isna*** y ***notna*** de pandas."
   ]
  },
  {
   "cell_type": "code",
   "execution_count": 10,
   "id": "bf71b020",
   "metadata": {},
   "outputs": [
    {
     "name": "stdout",
     "output_type": "stream",
     "text": [
      "Original\n",
      "a     1\n",
      "b     2\n",
      "c    10\n",
      "d     4\n",
      "dtype: int64\n",
      "isna\n",
      "a    False\n",
      "b    False\n",
      "c    False\n",
      "d    False\n",
      "dtype: bool\n",
      "notna\n",
      "a    True\n",
      "b    True\n",
      "c    True\n",
      "d    True\n",
      "dtype: bool\n"
     ]
    }
   ],
   "source": [
    "print(f'Original\\n{obj2}')\n",
    "print(f'isna\\n{pd.isna(obj2)}')\n",
    "print(f'notna\\n{pd.notna(obj2)}')"
   ]
  },
  {
   "cell_type": "markdown",
   "id": "a7dbed3d",
   "metadata": {},
   "source": [
    "Hay muchas formas de construir un ***DataFrame***, auque una de las más habituales es apartir de un diccionario de listas o arrays NumPy de la misma longitud."
   ]
  },
  {
   "cell_type": "code",
   "execution_count": 11,
   "id": "5dc4c39e",
   "metadata": {},
   "outputs": [
    {
     "data": {
      "text/html": [
       "<div>\n",
       "<style scoped>\n",
       "    .dataframe tbody tr th:only-of-type {\n",
       "        vertical-align: middle;\n",
       "    }\n",
       "\n",
       "    .dataframe tbody tr th {\n",
       "        vertical-align: top;\n",
       "    }\n",
       "\n",
       "    .dataframe thead th {\n",
       "        text-align: right;\n",
       "    }\n",
       "</style>\n",
       "<table border=\"1\" class=\"dataframe\">\n",
       "  <thead>\n",
       "    <tr style=\"text-align: right;\">\n",
       "      <th></th>\n",
       "      <th>nombre</th>\n",
       "      <th>valor1</th>\n",
       "      <th>valor2</th>\n",
       "    </tr>\n",
       "  </thead>\n",
       "  <tbody>\n",
       "    <tr>\n",
       "      <th>0</th>\n",
       "      <td>misra</td>\n",
       "      <td>6</td>\n",
       "      <td>5</td>\n",
       "    </tr>\n",
       "    <tr>\n",
       "      <th>1</th>\n",
       "      <td>misra</td>\n",
       "      <td>8</td>\n",
       "      <td>4</td>\n",
       "    </tr>\n",
       "    <tr>\n",
       "      <th>2</th>\n",
       "      <td>misra</td>\n",
       "      <td>3</td>\n",
       "      <td>5</td>\n",
       "    </tr>\n",
       "    <tr>\n",
       "      <th>3</th>\n",
       "      <td>jared</td>\n",
       "      <td>1</td>\n",
       "      <td>2</td>\n",
       "    </tr>\n",
       "    <tr>\n",
       "      <th>4</th>\n",
       "      <td>misra</td>\n",
       "      <td>6</td>\n",
       "      <td>6</td>\n",
       "    </tr>\n",
       "    <tr>\n",
       "      <th>5</th>\n",
       "      <td>misra</td>\n",
       "      <td>8</td>\n",
       "      <td>1</td>\n",
       "    </tr>\n",
       "    <tr>\n",
       "      <th>6</th>\n",
       "      <td>misra</td>\n",
       "      <td>5</td>\n",
       "      <td>8</td>\n",
       "    </tr>\n",
       "    <tr>\n",
       "      <th>7</th>\n",
       "      <td>jared</td>\n",
       "      <td>7</td>\n",
       "      <td>0</td>\n",
       "    </tr>\n",
       "    <tr>\n",
       "      <th>8</th>\n",
       "      <td>jared</td>\n",
       "      <td>4</td>\n",
       "      <td>6</td>\n",
       "    </tr>\n",
       "  </tbody>\n",
       "</table>\n",
       "</div>"
      ],
      "text/plain": [
       "  nombre  valor1  valor2\n",
       "0  misra       6       5\n",
       "1  misra       8       4\n",
       "2  misra       3       5\n",
       "3  jared       1       2\n",
       "4  misra       6       6\n",
       "5  misra       8       1\n",
       "6  misra       5       8\n",
       "7  jared       7       0\n",
       "8  jared       4       6"
      ]
     },
     "execution_count": 11,
     "metadata": {},
     "output_type": "execute_result"
    }
   ],
   "source": [
    "valor1 = np.arange(9)\n",
    "valor2 = np.arange(9)\n",
    "valor3 = ['said','jared', 'misra']\n",
    "\n",
    "lista_valor1 = [np.random.choice(valor1) for _ in range(9)]\n",
    "lista_valor2 = [np.random.choice(valor2) for _ in range(9)]\n",
    "lista_valor3 = [np.random.choice(valor3) for _ in range(9)]\n",
    "\n",
    "dic_2 = {\n",
    "    'nombre': lista_valor3,\n",
    "    'valor1': lista_valor1,\n",
    "    'valor2': lista_valor2\n",
    "}\n",
    "\n",
    "frame = pd.DataFrame(dic_2)\n",
    "frame"
   ]
  },
  {
   "cell_type": "markdown",
   "id": "2148ec7c",
   "metadata": {},
   "source": [
    "El objeto ***DataFrame*** resultante tendrá su índice asignado de manra automática como una ***Serie*** y las columnas se colocarán de acuerdo con el orden de las claves(dependeran del orden de inserción en el diccionario)."
   ]
  },
  {
   "cell_type": "markdown",
   "id": "4bafd0fb",
   "metadata": {},
   "source": [
    "Para grande ***DataFrame***, el métod *head* selecciona solo los **5** primeras filas."
   ]
  },
  {
   "cell_type": "code",
   "execution_count": 12,
   "id": "b6b0fe23",
   "metadata": {},
   "outputs": [
    {
     "data": {
      "text/html": [
       "<div>\n",
       "<style scoped>\n",
       "    .dataframe tbody tr th:only-of-type {\n",
       "        vertical-align: middle;\n",
       "    }\n",
       "\n",
       "    .dataframe tbody tr th {\n",
       "        vertical-align: top;\n",
       "    }\n",
       "\n",
       "    .dataframe thead th {\n",
       "        text-align: right;\n",
       "    }\n",
       "</style>\n",
       "<table border=\"1\" class=\"dataframe\">\n",
       "  <thead>\n",
       "    <tr style=\"text-align: right;\">\n",
       "      <th></th>\n",
       "      <th>nombre</th>\n",
       "      <th>valor1</th>\n",
       "      <th>valor2</th>\n",
       "    </tr>\n",
       "  </thead>\n",
       "  <tbody>\n",
       "    <tr>\n",
       "      <th>0</th>\n",
       "      <td>misra</td>\n",
       "      <td>6</td>\n",
       "      <td>5</td>\n",
       "    </tr>\n",
       "    <tr>\n",
       "      <th>1</th>\n",
       "      <td>misra</td>\n",
       "      <td>8</td>\n",
       "      <td>4</td>\n",
       "    </tr>\n",
       "    <tr>\n",
       "      <th>2</th>\n",
       "      <td>misra</td>\n",
       "      <td>3</td>\n",
       "      <td>5</td>\n",
       "    </tr>\n",
       "    <tr>\n",
       "      <th>3</th>\n",
       "      <td>jared</td>\n",
       "      <td>1</td>\n",
       "      <td>2</td>\n",
       "    </tr>\n",
       "    <tr>\n",
       "      <th>4</th>\n",
       "      <td>misra</td>\n",
       "      <td>6</td>\n",
       "      <td>6</td>\n",
       "    </tr>\n",
       "  </tbody>\n",
       "</table>\n",
       "</div>"
      ],
      "text/plain": [
       "  nombre  valor1  valor2\n",
       "0  misra       6       5\n",
       "1  misra       8       4\n",
       "2  misra       3       5\n",
       "3  jared       1       2\n",
       "4  misra       6       6"
      ]
     },
     "execution_count": 12,
     "metadata": {},
     "output_type": "execute_result"
    }
   ],
   "source": [
    "frame.head()"
   ]
  },
  {
   "cell_type": "markdown",
   "id": "910303ee",
   "metadata": {},
   "source": [
    "De forma similar, *tail* devuelve los 5 últimos."
   ]
  },
  {
   "cell_type": "code",
   "execution_count": 13,
   "id": "ea839d99",
   "metadata": {},
   "outputs": [
    {
     "data": {
      "text/html": [
       "<div>\n",
       "<style scoped>\n",
       "    .dataframe tbody tr th:only-of-type {\n",
       "        vertical-align: middle;\n",
       "    }\n",
       "\n",
       "    .dataframe tbody tr th {\n",
       "        vertical-align: top;\n",
       "    }\n",
       "\n",
       "    .dataframe thead th {\n",
       "        text-align: right;\n",
       "    }\n",
       "</style>\n",
       "<table border=\"1\" class=\"dataframe\">\n",
       "  <thead>\n",
       "    <tr style=\"text-align: right;\">\n",
       "      <th></th>\n",
       "      <th>nombre</th>\n",
       "      <th>valor1</th>\n",
       "      <th>valor2</th>\n",
       "    </tr>\n",
       "  </thead>\n",
       "  <tbody>\n",
       "    <tr>\n",
       "      <th>4</th>\n",
       "      <td>misra</td>\n",
       "      <td>6</td>\n",
       "      <td>6</td>\n",
       "    </tr>\n",
       "    <tr>\n",
       "      <th>5</th>\n",
       "      <td>misra</td>\n",
       "      <td>8</td>\n",
       "      <td>1</td>\n",
       "    </tr>\n",
       "    <tr>\n",
       "      <th>6</th>\n",
       "      <td>misra</td>\n",
       "      <td>5</td>\n",
       "      <td>8</td>\n",
       "    </tr>\n",
       "    <tr>\n",
       "      <th>7</th>\n",
       "      <td>jared</td>\n",
       "      <td>7</td>\n",
       "      <td>0</td>\n",
       "    </tr>\n",
       "    <tr>\n",
       "      <th>8</th>\n",
       "      <td>jared</td>\n",
       "      <td>4</td>\n",
       "      <td>6</td>\n",
       "    </tr>\n",
       "  </tbody>\n",
       "</table>\n",
       "</div>"
      ],
      "text/plain": [
       "  nombre  valor1  valor2\n",
       "4  misra       6       6\n",
       "5  misra       8       1\n",
       "6  misra       5       8\n",
       "7  jared       7       0\n",
       "8  jared       4       6"
      ]
     },
     "execution_count": 13,
     "metadata": {},
     "output_type": "execute_result"
    }
   ],
   "source": [
    "frame.tail()"
   ]
  },
  {
   "cell_type": "markdown",
   "id": "5fa1b1c2",
   "metadata": {},
   "source": [
    "Si se especifica una secuencia de columnas, las columnas del ***DataFrame*** se dispondrán en ese orden."
   ]
  },
  {
   "cell_type": "code",
   "execution_count": 14,
   "id": "5a06f435",
   "metadata": {},
   "outputs": [
    {
     "data": {
      "text/html": [
       "<div>\n",
       "<style scoped>\n",
       "    .dataframe tbody tr th:only-of-type {\n",
       "        vertical-align: middle;\n",
       "    }\n",
       "\n",
       "    .dataframe tbody tr th {\n",
       "        vertical-align: top;\n",
       "    }\n",
       "\n",
       "    .dataframe thead th {\n",
       "        text-align: right;\n",
       "    }\n",
       "</style>\n",
       "<table border=\"1\" class=\"dataframe\">\n",
       "  <thead>\n",
       "    <tr style=\"text-align: right;\">\n",
       "      <th></th>\n",
       "      <th>valor1</th>\n",
       "      <th>nombre</th>\n",
       "      <th>valor2</th>\n",
       "    </tr>\n",
       "  </thead>\n",
       "  <tbody>\n",
       "    <tr>\n",
       "      <th>0</th>\n",
       "      <td>6</td>\n",
       "      <td>misra</td>\n",
       "      <td>5</td>\n",
       "    </tr>\n",
       "    <tr>\n",
       "      <th>1</th>\n",
       "      <td>8</td>\n",
       "      <td>misra</td>\n",
       "      <td>4</td>\n",
       "    </tr>\n",
       "    <tr>\n",
       "      <th>2</th>\n",
       "      <td>3</td>\n",
       "      <td>misra</td>\n",
       "      <td>5</td>\n",
       "    </tr>\n",
       "    <tr>\n",
       "      <th>3</th>\n",
       "      <td>1</td>\n",
       "      <td>jared</td>\n",
       "      <td>2</td>\n",
       "    </tr>\n",
       "    <tr>\n",
       "      <th>4</th>\n",
       "      <td>6</td>\n",
       "      <td>misra</td>\n",
       "      <td>6</td>\n",
       "    </tr>\n",
       "    <tr>\n",
       "      <th>5</th>\n",
       "      <td>8</td>\n",
       "      <td>misra</td>\n",
       "      <td>1</td>\n",
       "    </tr>\n",
       "    <tr>\n",
       "      <th>6</th>\n",
       "      <td>5</td>\n",
       "      <td>misra</td>\n",
       "      <td>8</td>\n",
       "    </tr>\n",
       "    <tr>\n",
       "      <th>7</th>\n",
       "      <td>7</td>\n",
       "      <td>jared</td>\n",
       "      <td>0</td>\n",
       "    </tr>\n",
       "    <tr>\n",
       "      <th>8</th>\n",
       "      <td>4</td>\n",
       "      <td>jared</td>\n",
       "      <td>6</td>\n",
       "    </tr>\n",
       "  </tbody>\n",
       "</table>\n",
       "</div>"
      ],
      "text/plain": [
       "   valor1 nombre  valor2\n",
       "0       6  misra       5\n",
       "1       8  misra       4\n",
       "2       3  misra       5\n",
       "3       1  jared       2\n",
       "4       6  misra       6\n",
       "5       8  misra       1\n",
       "6       5  misra       8\n",
       "7       7  jared       0\n",
       "8       4  jared       6"
      ]
     },
     "execution_count": 14,
     "metadata": {},
     "output_type": "execute_result"
    }
   ],
   "source": [
    "pd.DataFrame(frame, columns=['valor1', 'nombre', 'valor2'])"
   ]
  },
  {
   "cell_type": "markdown",
   "id": "3b070ab8",
   "metadata": {},
   "source": [
    "Si se pasa una columna no contenida en el diccionario, aparecera con valores faltantes en el resultado."
   ]
  },
  {
   "cell_type": "code",
   "execution_count": 15,
   "id": "f1c6e440",
   "metadata": {},
   "outputs": [
    {
     "data": {
      "text/html": [
       "<div>\n",
       "<style scoped>\n",
       "    .dataframe tbody tr th:only-of-type {\n",
       "        vertical-align: middle;\n",
       "    }\n",
       "\n",
       "    .dataframe tbody tr th {\n",
       "        vertical-align: top;\n",
       "    }\n",
       "\n",
       "    .dataframe thead th {\n",
       "        text-align: right;\n",
       "    }\n",
       "</style>\n",
       "<table border=\"1\" class=\"dataframe\">\n",
       "  <thead>\n",
       "    <tr style=\"text-align: right;\">\n",
       "      <th></th>\n",
       "      <th>valor2</th>\n",
       "      <th>valor1</th>\n",
       "      <th>nombre</th>\n",
       "      <th>direccion</th>\n",
       "    </tr>\n",
       "  </thead>\n",
       "  <tbody>\n",
       "    <tr>\n",
       "      <th>0</th>\n",
       "      <td>5</td>\n",
       "      <td>6</td>\n",
       "      <td>misra</td>\n",
       "      <td>NaN</td>\n",
       "    </tr>\n",
       "    <tr>\n",
       "      <th>1</th>\n",
       "      <td>4</td>\n",
       "      <td>8</td>\n",
       "      <td>misra</td>\n",
       "      <td>NaN</td>\n",
       "    </tr>\n",
       "    <tr>\n",
       "      <th>2</th>\n",
       "      <td>5</td>\n",
       "      <td>3</td>\n",
       "      <td>misra</td>\n",
       "      <td>NaN</td>\n",
       "    </tr>\n",
       "    <tr>\n",
       "      <th>3</th>\n",
       "      <td>2</td>\n",
       "      <td>1</td>\n",
       "      <td>jared</td>\n",
       "      <td>NaN</td>\n",
       "    </tr>\n",
       "    <tr>\n",
       "      <th>4</th>\n",
       "      <td>6</td>\n",
       "      <td>6</td>\n",
       "      <td>misra</td>\n",
       "      <td>NaN</td>\n",
       "    </tr>\n",
       "    <tr>\n",
       "      <th>5</th>\n",
       "      <td>1</td>\n",
       "      <td>8</td>\n",
       "      <td>misra</td>\n",
       "      <td>NaN</td>\n",
       "    </tr>\n",
       "    <tr>\n",
       "      <th>6</th>\n",
       "      <td>8</td>\n",
       "      <td>5</td>\n",
       "      <td>misra</td>\n",
       "      <td>NaN</td>\n",
       "    </tr>\n",
       "    <tr>\n",
       "      <th>7</th>\n",
       "      <td>0</td>\n",
       "      <td>7</td>\n",
       "      <td>jared</td>\n",
       "      <td>NaN</td>\n",
       "    </tr>\n",
       "    <tr>\n",
       "      <th>8</th>\n",
       "      <td>6</td>\n",
       "      <td>4</td>\n",
       "      <td>jared</td>\n",
       "      <td>NaN</td>\n",
       "    </tr>\n",
       "  </tbody>\n",
       "</table>\n",
       "</div>"
      ],
      "text/plain": [
       "   valor2  valor1 nombre  direccion\n",
       "0       5       6  misra        NaN\n",
       "1       4       8  misra        NaN\n",
       "2       5       3  misra        NaN\n",
       "3       2       1  jared        NaN\n",
       "4       6       6  misra        NaN\n",
       "5       1       8  misra        NaN\n",
       "6       8       5  misra        NaN\n",
       "7       0       7  jared        NaN\n",
       "8       6       4  jared        NaN"
      ]
     },
     "execution_count": 15,
     "metadata": {},
     "output_type": "execute_result"
    }
   ],
   "source": [
    "frame2 = pd.DataFrame(frame, columns=['valor2','valor1','nombre','direccion'])\n",
    "frame2"
   ]
  },
  {
   "cell_type": "markdown",
   "id": "2b3786c1",
   "metadata": {},
   "source": [
    "Es posible recuperar una columna de un ***DataFrame*** como una ***Serie*** o bien mediante la notación de estilo diccionario o utilizando la notación de atributo de punto."
   ]
  },
  {
   "cell_type": "code",
   "execution_count": 16,
   "id": "060cdbc5",
   "metadata": {},
   "outputs": [
    {
     "name": "stdout",
     "output_type": "stream",
     "text": [
      "0    misra\n",
      "1    misra\n",
      "2    misra\n",
      "3    jared\n",
      "4    misra\n",
      "5    misra\n",
      "6    misra\n",
      "7    jared\n",
      "8    jared\n",
      "Name: nombre, dtype: object\n",
      "\n",
      "0    6\n",
      "1    8\n",
      "2    3\n",
      "3    1\n",
      "4    6\n",
      "5    8\n",
      "6    5\n",
      "7    7\n",
      "8    4\n",
      "Name: valor1, dtype: int64\n"
     ]
    }
   ],
   "source": [
    "print(f'{frame2['nombre']}')\n",
    "print(f'\\n{frame2.valor1}')"
   ]
  },
  {
   "cell_type": "markdown",
   "id": "4673c19b",
   "metadata": {},
   "source": [
    "El método *del* se puede emplear después ára eliminar columnas."
   ]
  },
  {
   "cell_type": "code",
   "execution_count": 17,
   "id": "b6bff90b",
   "metadata": {},
   "outputs": [
    {
     "data": {
      "text/html": [
       "<div>\n",
       "<style scoped>\n",
       "    .dataframe tbody tr th:only-of-type {\n",
       "        vertical-align: middle;\n",
       "    }\n",
       "\n",
       "    .dataframe tbody tr th {\n",
       "        vertical-align: top;\n",
       "    }\n",
       "\n",
       "    .dataframe thead th {\n",
       "        text-align: right;\n",
       "    }\n",
       "</style>\n",
       "<table border=\"1\" class=\"dataframe\">\n",
       "  <thead>\n",
       "    <tr style=\"text-align: right;\">\n",
       "      <th></th>\n",
       "      <th>valor2</th>\n",
       "      <th>valor1</th>\n",
       "      <th>nombre</th>\n",
       "    </tr>\n",
       "  </thead>\n",
       "  <tbody>\n",
       "    <tr>\n",
       "      <th>0</th>\n",
       "      <td>5</td>\n",
       "      <td>6</td>\n",
       "      <td>misra</td>\n",
       "    </tr>\n",
       "    <tr>\n",
       "      <th>1</th>\n",
       "      <td>4</td>\n",
       "      <td>8</td>\n",
       "      <td>misra</td>\n",
       "    </tr>\n",
       "    <tr>\n",
       "      <th>2</th>\n",
       "      <td>5</td>\n",
       "      <td>3</td>\n",
       "      <td>misra</td>\n",
       "    </tr>\n",
       "    <tr>\n",
       "      <th>3</th>\n",
       "      <td>2</td>\n",
       "      <td>1</td>\n",
       "      <td>jared</td>\n",
       "    </tr>\n",
       "    <tr>\n",
       "      <th>4</th>\n",
       "      <td>6</td>\n",
       "      <td>6</td>\n",
       "      <td>misra</td>\n",
       "    </tr>\n",
       "    <tr>\n",
       "      <th>5</th>\n",
       "      <td>1</td>\n",
       "      <td>8</td>\n",
       "      <td>misra</td>\n",
       "    </tr>\n",
       "    <tr>\n",
       "      <th>6</th>\n",
       "      <td>8</td>\n",
       "      <td>5</td>\n",
       "      <td>misra</td>\n",
       "    </tr>\n",
       "    <tr>\n",
       "      <th>7</th>\n",
       "      <td>0</td>\n",
       "      <td>7</td>\n",
       "      <td>jared</td>\n",
       "    </tr>\n",
       "    <tr>\n",
       "      <th>8</th>\n",
       "      <td>6</td>\n",
       "      <td>4</td>\n",
       "      <td>jared</td>\n",
       "    </tr>\n",
       "  </tbody>\n",
       "</table>\n",
       "</div>"
      ],
      "text/plain": [
       "   valor2  valor1 nombre\n",
       "0       5       6  misra\n",
       "1       4       8  misra\n",
       "2       5       3  misra\n",
       "3       2       1  jared\n",
       "4       6       6  misra\n",
       "5       1       8  misra\n",
       "6       8       5  misra\n",
       "7       0       7  jared\n",
       "8       6       4  jared"
      ]
     },
     "execution_count": 17,
     "metadata": {},
     "output_type": "execute_result"
    }
   ],
   "source": [
    "del frame2['direccion']\n",
    "frame2"
   ]
  },
  {
   "cell_type": "markdown",
   "id": "c127ea02",
   "metadata": {},
   "source": [
    "*reindex* reordena los datos segun el nuevo índice, introduciendo los valores faltantes si algunos valores de índice no estaban ya representados."
   ]
  },
  {
   "cell_type": "code",
   "execution_count": 18,
   "id": "b1a2a150",
   "metadata": {},
   "outputs": [
    {
     "data": {
      "text/plain": [
       "9   NaN\n",
       "8   NaN\n",
       "7   NaN\n",
       "6   NaN\n",
       "dtype: float64"
      ]
     },
     "execution_count": 18,
     "metadata": {},
     "output_type": "execute_result"
    }
   ],
   "source": [
    "obj3 = obj2.reindex([9,8,7,6])\n",
    "obj3"
   ]
  },
  {
   "cell_type": "markdown",
   "id": "990d9e9c",
   "metadata": {},
   "source": [
    "Para ***Series*** ordenadas, como, por ejemplo, las ***Series*** temporales, quizas sea más interesante interpolar o rellenar con valores al reidexar. La opcióin *method*\n",
    "los permite hacer esto, utilizando un método como *ffill* que rellena hacia adelantge los valores."
   ]
  },
  {
   "cell_type": "code",
   "execution_count": 19,
   "id": "5195a202",
   "metadata": {},
   "outputs": [
    {
     "data": {
      "text/plain": [
       "0      NaN\n",
       "1     azul\n",
       "2    verde\n",
       "3     rojo\n",
       "4     rojo\n",
       "5     rojo\n",
       "dtype: object"
      ]
     },
     "execution_count": 19,
     "metadata": {},
     "output_type": "execute_result"
    }
   ],
   "source": [
    "obj3 = pd.Series(['azul','verde','rojo'], index=[1,2,3])\n",
    "obj3.reindex(np.arange(6), method='ffill')"
   ]
  },
  {
   "cell_type": "markdown",
   "id": "e89ab8a0",
   "metadata": {},
   "source": [
    "*reindex* puede alterar el índice(fila), las columnas o ambas cosas. Cuando se pasa solo una secuencia, reindexa las filas en el resultado."
   ]
  },
  {
   "cell_type": "code",
   "execution_count": 24,
   "id": "8d67a2e6",
   "metadata": {},
   "outputs": [
    {
     "name": "stdout",
     "output_type": "stream",
     "text": [
      "Frame original\n",
      "  nombre  valor1  valor2\n",
      "0  misra       6       5\n",
      "1  misra       8       4\n",
      "2  misra       3       5\n",
      "3  jared       1       2\n",
      "4  misra       6       6\n",
      "5  misra       8       1\n",
      "6  misra       5       8\n",
      "7  jared       7       0\n",
      "8  jared       4       6\n",
      "Frame modificado\n",
      "   nombre  valor1  valor2\n",
      "1   misra     8.0     4.0\n",
      "2   misra     3.0     5.0\n",
      "3   jared     1.0     2.0\n",
      "4   misra     6.0     6.0\n",
      "5   misra     8.0     1.0\n",
      "6   misra     5.0     8.0\n",
      "7   jared     7.0     0.0\n",
      "8   jared     4.0     6.0\n",
      "9     NaN     NaN     NaN\n",
      "10    NaN     NaN     NaN\n"
     ]
    }
   ],
   "source": [
    "print(f'Frame original\\n{frame}')\n",
    "frame3 = frame.reindex([1,2,3,4,5,6,7,8,9,10])\n",
    "print(f'Frame modificado\\n{frame3}')"
   ]
  },
  {
   "cell_type": "markdown",
   "id": "c160ca87",
   "metadata": {},
   "source": [
    "Las columnas se pueden reindexar con la palabra clave *columns*."
   ]
  },
  {
   "cell_type": "code",
   "execution_count": null,
   "id": "12e0c645",
   "metadata": {},
   "outputs": [
    {
     "data": {
      "text/html": [
       "<div>\n",
       "<style scoped>\n",
       "    .dataframe tbody tr th:only-of-type {\n",
       "        vertical-align: middle;\n",
       "    }\n",
       "\n",
       "    .dataframe tbody tr th {\n",
       "        vertical-align: top;\n",
       "    }\n",
       "\n",
       "    .dataframe thead th {\n",
       "        text-align: right;\n",
       "    }\n",
       "</style>\n",
       "<table border=\"1\" class=\"dataframe\">\n",
       "  <thead>\n",
       "    <tr style=\"text-align: right;\">\n",
       "      <th></th>\n",
       "      <th>Colorado</th>\n",
       "      <th>Nevada</th>\n",
       "      <th>Cansas</th>\n",
       "    </tr>\n",
       "  </thead>\n",
       "  <tbody>\n",
       "    <tr>\n",
       "      <th>1</th>\n",
       "      <td>NaN</td>\n",
       "      <td>NaN</td>\n",
       "      <td>NaN</td>\n",
       "    </tr>\n",
       "    <tr>\n",
       "      <th>2</th>\n",
       "      <td>NaN</td>\n",
       "      <td>NaN</td>\n",
       "      <td>NaN</td>\n",
       "    </tr>\n",
       "    <tr>\n",
       "      <th>3</th>\n",
       "      <td>NaN</td>\n",
       "      <td>NaN</td>\n",
       "      <td>NaN</td>\n",
       "    </tr>\n",
       "    <tr>\n",
       "      <th>4</th>\n",
       "      <td>NaN</td>\n",
       "      <td>NaN</td>\n",
       "      <td>NaN</td>\n",
       "    </tr>\n",
       "    <tr>\n",
       "      <th>5</th>\n",
       "      <td>NaN</td>\n",
       "      <td>NaN</td>\n",
       "      <td>NaN</td>\n",
       "    </tr>\n",
       "    <tr>\n",
       "      <th>6</th>\n",
       "      <td>NaN</td>\n",
       "      <td>NaN</td>\n",
       "      <td>NaN</td>\n",
       "    </tr>\n",
       "    <tr>\n",
       "      <th>7</th>\n",
       "      <td>NaN</td>\n",
       "      <td>NaN</td>\n",
       "      <td>NaN</td>\n",
       "    </tr>\n",
       "    <tr>\n",
       "      <th>8</th>\n",
       "      <td>NaN</td>\n",
       "      <td>NaN</td>\n",
       "      <td>NaN</td>\n",
       "    </tr>\n",
       "    <tr>\n",
       "      <th>9</th>\n",
       "      <td>NaN</td>\n",
       "      <td>NaN</td>\n",
       "      <td>NaN</td>\n",
       "    </tr>\n",
       "    <tr>\n",
       "      <th>10</th>\n",
       "      <td>NaN</td>\n",
       "      <td>NaN</td>\n",
       "      <td>NaN</td>\n",
       "    </tr>\n",
       "  </tbody>\n",
       "</table>\n",
       "</div>"
      ],
      "text/plain": [
       "    Colorado  Nevada  Cansas\n",
       "1        NaN     NaN     NaN\n",
       "2        NaN     NaN     NaN\n",
       "3        NaN     NaN     NaN\n",
       "4        NaN     NaN     NaN\n",
       "5        NaN     NaN     NaN\n",
       "6        NaN     NaN     NaN\n",
       "7        NaN     NaN     NaN\n",
       "8        NaN     NaN     NaN\n",
       "9        NaN     NaN     NaN\n",
       "10       NaN     NaN     NaN"
      ]
     },
     "execution_count": 29,
     "metadata": {},
     "output_type": "execute_result"
    }
   ],
   "source": [
    "state = ['Colorado','Nevada','Cansas']\n",
    "frame3.reindex(columns=state)\n",
    "\n",
    "#Otra opción\n",
    "frame3.reindex(state, axis='columns')"
   ]
  },
  {
   "cell_type": "markdown",
   "id": "e03de578",
   "metadata": {},
   "source": [
    "El método *drop* devolvera un nuevo objeto con el valor 0 valores indicados barrados de un eje."
   ]
  },
  {
   "cell_type": "code",
   "execution_count": 33,
   "id": "7f0db1d3",
   "metadata": {},
   "outputs": [
    {
     "name": "stdout",
     "output_type": "stream",
     "text": [
      "Original\n",
      "a    0\n",
      "b    1\n",
      "c    2\n",
      "d    3\n",
      "e    4\n",
      "dtype: int64\n",
      "New_obj4\n",
      "a    0\n",
      "b    1\n",
      "d    3\n",
      "e    4\n",
      "dtype: int64\n",
      "a    0\n",
      "b    1\n",
      "e    4\n",
      "dtype: int64\n"
     ]
    }
   ],
   "source": [
    "obj4 = pd.Series(np.arange(5), index=['a','b','c','d','e'])\n",
    "new_obj4 = obj4.drop(['c'])\n",
    "print(f'Original\\n{obj4}')\n",
    "print(f'New_obj4\\n{new_obj4}')\n",
    "print(obj4.drop(['d','c']))"
   ]
  },
  {
   "cell_type": "markdown",
   "id": "f46480b6",
   "metadata": {},
   "source": [
    "Con objetos ***DataFrame***, los valores de índice se pueden borrar de cualquier eje."
   ]
  },
  {
   "cell_type": "markdown",
   "id": "f3f39f5b",
   "metadata": {},
   "source": [
    "Llamar a *drop* con una secuencia de etiquetas eliminará valores de las etiquetas de fila(eje 0)."
   ]
  },
  {
   "cell_type": "code",
   "execution_count": 35,
   "id": "c1ee719d",
   "metadata": {},
   "outputs": [
    {
     "data": {
      "text/html": [
       "<div>\n",
       "<style scoped>\n",
       "    .dataframe tbody tr th:only-of-type {\n",
       "        vertical-align: middle;\n",
       "    }\n",
       "\n",
       "    .dataframe tbody tr th {\n",
       "        vertical-align: top;\n",
       "    }\n",
       "\n",
       "    .dataframe thead th {\n",
       "        text-align: right;\n",
       "    }\n",
       "</style>\n",
       "<table border=\"1\" class=\"dataframe\">\n",
       "  <thead>\n",
       "    <tr style=\"text-align: right;\">\n",
       "      <th></th>\n",
       "      <th>nombre</th>\n",
       "      <th>valor1</th>\n",
       "      <th>valor2</th>\n",
       "    </tr>\n",
       "  </thead>\n",
       "  <tbody>\n",
       "    <tr>\n",
       "      <th>0</th>\n",
       "      <td>misra</td>\n",
       "      <td>6</td>\n",
       "      <td>5</td>\n",
       "    </tr>\n",
       "    <tr>\n",
       "      <th>3</th>\n",
       "      <td>jared</td>\n",
       "      <td>1</td>\n",
       "      <td>2</td>\n",
       "    </tr>\n",
       "    <tr>\n",
       "      <th>5</th>\n",
       "      <td>misra</td>\n",
       "      <td>8</td>\n",
       "      <td>1</td>\n",
       "    </tr>\n",
       "    <tr>\n",
       "      <th>6</th>\n",
       "      <td>misra</td>\n",
       "      <td>5</td>\n",
       "      <td>8</td>\n",
       "    </tr>\n",
       "    <tr>\n",
       "      <th>7</th>\n",
       "      <td>jared</td>\n",
       "      <td>7</td>\n",
       "      <td>0</td>\n",
       "    </tr>\n",
       "    <tr>\n",
       "      <th>8</th>\n",
       "      <td>jared</td>\n",
       "      <td>4</td>\n",
       "      <td>6</td>\n",
       "    </tr>\n",
       "  </tbody>\n",
       "</table>\n",
       "</div>"
      ],
      "text/plain": [
       "  nombre  valor1  valor2\n",
       "0  misra       6       5\n",
       "3  jared       1       2\n",
       "5  misra       8       1\n",
       "6  misra       5       8\n",
       "7  jared       7       0\n",
       "8  jared       4       6"
      ]
     },
     "execution_count": 35,
     "metadata": {},
     "output_type": "execute_result"
    }
   ],
   "source": [
    "frame.drop(index=[1,4,2])"
   ]
  },
  {
   "cell_type": "markdown",
   "id": "7b2615d0",
   "metadata": {},
   "source": [
    "Para elimianr etiquetas de las columnas usamois sin embargo la palabra clave *columns*."
   ]
  },
  {
   "cell_type": "code",
   "execution_count": 36,
   "id": "d1744ad8",
   "metadata": {},
   "outputs": [
    {
     "data": {
      "text/html": [
       "<div>\n",
       "<style scoped>\n",
       "    .dataframe tbody tr th:only-of-type {\n",
       "        vertical-align: middle;\n",
       "    }\n",
       "\n",
       "    .dataframe tbody tr th {\n",
       "        vertical-align: top;\n",
       "    }\n",
       "\n",
       "    .dataframe thead th {\n",
       "        text-align: right;\n",
       "    }\n",
       "</style>\n",
       "<table border=\"1\" class=\"dataframe\">\n",
       "  <thead>\n",
       "    <tr style=\"text-align: right;\">\n",
       "      <th></th>\n",
       "      <th>nombre</th>\n",
       "      <th>valor1</th>\n",
       "    </tr>\n",
       "  </thead>\n",
       "  <tbody>\n",
       "    <tr>\n",
       "      <th>0</th>\n",
       "      <td>misra</td>\n",
       "      <td>6</td>\n",
       "    </tr>\n",
       "    <tr>\n",
       "      <th>1</th>\n",
       "      <td>misra</td>\n",
       "      <td>8</td>\n",
       "    </tr>\n",
       "    <tr>\n",
       "      <th>2</th>\n",
       "      <td>misra</td>\n",
       "      <td>3</td>\n",
       "    </tr>\n",
       "    <tr>\n",
       "      <th>3</th>\n",
       "      <td>jared</td>\n",
       "      <td>1</td>\n",
       "    </tr>\n",
       "    <tr>\n",
       "      <th>4</th>\n",
       "      <td>misra</td>\n",
       "      <td>6</td>\n",
       "    </tr>\n",
       "    <tr>\n",
       "      <th>5</th>\n",
       "      <td>misra</td>\n",
       "      <td>8</td>\n",
       "    </tr>\n",
       "    <tr>\n",
       "      <th>6</th>\n",
       "      <td>misra</td>\n",
       "      <td>5</td>\n",
       "    </tr>\n",
       "    <tr>\n",
       "      <th>7</th>\n",
       "      <td>jared</td>\n",
       "      <td>7</td>\n",
       "    </tr>\n",
       "    <tr>\n",
       "      <th>8</th>\n",
       "      <td>jared</td>\n",
       "      <td>4</td>\n",
       "    </tr>\n",
       "  </tbody>\n",
       "</table>\n",
       "</div>"
      ],
      "text/plain": [
       "  nombre  valor1\n",
       "0  misra       6\n",
       "1  misra       8\n",
       "2  misra       3\n",
       "3  jared       1\n",
       "4  misra       6\n",
       "5  misra       8\n",
       "6  misra       5\n",
       "7  jared       7\n",
       "8  jared       4"
      ]
     },
     "execution_count": 36,
     "metadata": {},
     "output_type": "execute_result"
    }
   ],
   "source": [
    "frame.drop(columns=['valor2'])"
   ]
  },
  {
   "cell_type": "markdown",
   "id": "1cb88267",
   "metadata": {},
   "source": [
    "***loc*** selecciona una fila por su etiqueta."
   ]
  },
  {
   "cell_type": "code",
   "execution_count": 58,
   "id": "f9db7d7b",
   "metadata": {},
   "outputs": [
    {
     "data": {
      "text/html": [
       "<div>\n",
       "<style scoped>\n",
       "    .dataframe tbody tr th:only-of-type {\n",
       "        vertical-align: middle;\n",
       "    }\n",
       "\n",
       "    .dataframe tbody tr th {\n",
       "        vertical-align: top;\n",
       "    }\n",
       "\n",
       "    .dataframe thead th {\n",
       "        text-align: right;\n",
       "    }\n",
       "</style>\n",
       "<table border=\"1\" class=\"dataframe\">\n",
       "  <thead>\n",
       "    <tr style=\"text-align: right;\">\n",
       "      <th></th>\n",
       "      <th>valor2</th>\n",
       "      <th>valor1</th>\n",
       "      <th>nombre</th>\n",
       "    </tr>\n",
       "  </thead>\n",
       "  <tbody>\n",
       "    <tr>\n",
       "      <th>rojo</th>\n",
       "      <td>5</td>\n",
       "      <td>6</td>\n",
       "      <td>misra</td>\n",
       "    </tr>\n",
       "    <tr>\n",
       "      <th>morado</th>\n",
       "      <td>6</td>\n",
       "      <td>6</td>\n",
       "      <td>misra</td>\n",
       "    </tr>\n",
       "  </tbody>\n",
       "</table>\n",
       "</div>"
      ],
      "text/plain": [
       "        valor2  valor1 nombre\n",
       "rojo         5       6  misra\n",
       "morado       6       6  misra"
      ]
     },
     "execution_count": 58,
     "metadata": {},
     "output_type": "execute_result"
    }
   ],
   "source": [
    "\n",
    "\n",
    "frame4 = frame2.reindex(['rojo','azul','verde','amarillo','morado','naranja','blanco','negro','cafe'])\n",
    "frame4.loc[['rojo','morado']]"
   ]
  },
  {
   "cell_type": "markdown",
   "id": "3fa56300",
   "metadata": {},
   "source": [
    "Se puede combinar la selección de filas y columnas en ***loc*** separando las selecciones con una coma."
   ]
  },
  {
   "cell_type": "code",
   "execution_count": 59,
   "id": "d5799c7d",
   "metadata": {},
   "outputs": [
    {
     "data": {
      "text/html": [
       "<div>\n",
       "<style scoped>\n",
       "    .dataframe tbody tr th:only-of-type {\n",
       "        vertical-align: middle;\n",
       "    }\n",
       "\n",
       "    .dataframe tbody tr th {\n",
       "        vertical-align: top;\n",
       "    }\n",
       "\n",
       "    .dataframe thead th {\n",
       "        text-align: right;\n",
       "    }\n",
       "</style>\n",
       "<table border=\"1\" class=\"dataframe\">\n",
       "  <thead>\n",
       "    <tr style=\"text-align: right;\">\n",
       "      <th></th>\n",
       "      <th>valor1</th>\n",
       "    </tr>\n",
       "  </thead>\n",
       "  <tbody>\n",
       "    <tr>\n",
       "      <th>naranja</th>\n",
       "      <td>8</td>\n",
       "    </tr>\n",
       "  </tbody>\n",
       "</table>\n",
       "</div>"
      ],
      "text/plain": [
       "         valor1\n",
       "naranja       8"
      ]
     },
     "execution_count": 59,
     "metadata": {},
     "output_type": "execute_result"
    }
   ],
   "source": [
    "frame4.loc[['naranja'],['valor1']]"
   ]
  },
  {
   "cell_type": "markdown",
   "id": "b06505a5",
   "metadata": {},
   "source": [
    "Selecciones similares con enteros utilizando ***iloc***."
   ]
  },
  {
   "cell_type": "code",
   "execution_count": 63,
   "id": "c5b82e02",
   "metadata": {},
   "outputs": [
    {
     "data": {
      "text/html": [
       "<div>\n",
       "<style scoped>\n",
       "    .dataframe tbody tr th:only-of-type {\n",
       "        vertical-align: middle;\n",
       "    }\n",
       "\n",
       "    .dataframe tbody tr th {\n",
       "        vertical-align: top;\n",
       "    }\n",
       "\n",
       "    .dataframe thead th {\n",
       "        text-align: right;\n",
       "    }\n",
       "</style>\n",
       "<table border=\"1\" class=\"dataframe\">\n",
       "  <thead>\n",
       "    <tr style=\"text-align: right;\">\n",
       "      <th></th>\n",
       "      <th>nombre</th>\n",
       "      <th>valor2</th>\n",
       "      <th>valor1</th>\n",
       "    </tr>\n",
       "  </thead>\n",
       "  <tbody>\n",
       "    <tr>\n",
       "      <th>2</th>\n",
       "      <td>misra</td>\n",
       "      <td>5.0</td>\n",
       "      <td>3.0</td>\n",
       "    </tr>\n",
       "    <tr>\n",
       "      <th>3</th>\n",
       "      <td>jared</td>\n",
       "      <td>2.0</td>\n",
       "      <td>1.0</td>\n",
       "    </tr>\n",
       "  </tbody>\n",
       "</table>\n",
       "</div>"
      ],
      "text/plain": [
       "  nombre  valor2  valor1\n",
       "2  misra     5.0     3.0\n",
       "3  jared     2.0     1.0"
      ]
     },
     "execution_count": 63,
     "metadata": {},
     "output_type": "execute_result"
    }
   ],
   "source": [
    "frame3.iloc[2]\n",
    "frame3.iloc[[1,2]]\n",
    "frame3.iloc[2,[1,2]]\n",
    "frame3.iloc[[1,2],[0,2,1]]"
   ]
  },
  {
   "cell_type": "markdown",
   "id": "8246d665",
   "metadata": {},
   "source": [
    "Sumar 2 ***DatFrame*** da como resultado valores ausentes en las ubicaciones que no se superponen."
   ]
  },
  {
   "cell_type": "code",
   "execution_count": 68,
   "id": "498ca8c6",
   "metadata": {},
   "outputs": [
    {
     "data": {
      "text/html": [
       "<div>\n",
       "<style scoped>\n",
       "    .dataframe tbody tr th:only-of-type {\n",
       "        vertical-align: middle;\n",
       "    }\n",
       "\n",
       "    .dataframe tbody tr th {\n",
       "        vertical-align: top;\n",
       "    }\n",
       "\n",
       "    .dataframe thead th {\n",
       "        text-align: right;\n",
       "    }\n",
       "</style>\n",
       "<table border=\"1\" class=\"dataframe\">\n",
       "  <thead>\n",
       "    <tr style=\"text-align: right;\">\n",
       "      <th></th>\n",
       "      <th>nombre</th>\n",
       "      <th>valor1</th>\n",
       "      <th>valor2</th>\n",
       "    </tr>\n",
       "  </thead>\n",
       "  <tbody>\n",
       "    <tr>\n",
       "      <th>0</th>\n",
       "      <td>NaN</td>\n",
       "      <td>NaN</td>\n",
       "      <td>NaN</td>\n",
       "    </tr>\n",
       "    <tr>\n",
       "      <th>1</th>\n",
       "      <td>misramisra</td>\n",
       "      <td>16.0</td>\n",
       "      <td>8.0</td>\n",
       "    </tr>\n",
       "    <tr>\n",
       "      <th>2</th>\n",
       "      <td>misramisra</td>\n",
       "      <td>6.0</td>\n",
       "      <td>10.0</td>\n",
       "    </tr>\n",
       "    <tr>\n",
       "      <th>3</th>\n",
       "      <td>jaredjared</td>\n",
       "      <td>2.0</td>\n",
       "      <td>4.0</td>\n",
       "    </tr>\n",
       "    <tr>\n",
       "      <th>4</th>\n",
       "      <td>misramisra</td>\n",
       "      <td>12.0</td>\n",
       "      <td>12.0</td>\n",
       "    </tr>\n",
       "    <tr>\n",
       "      <th>5</th>\n",
       "      <td>misramisra</td>\n",
       "      <td>16.0</td>\n",
       "      <td>2.0</td>\n",
       "    </tr>\n",
       "    <tr>\n",
       "      <th>6</th>\n",
       "      <td>misramisra</td>\n",
       "      <td>10.0</td>\n",
       "      <td>16.0</td>\n",
       "    </tr>\n",
       "    <tr>\n",
       "      <th>7</th>\n",
       "      <td>jaredjared</td>\n",
       "      <td>14.0</td>\n",
       "      <td>0.0</td>\n",
       "    </tr>\n",
       "    <tr>\n",
       "      <th>8</th>\n",
       "      <td>jaredjared</td>\n",
       "      <td>8.0</td>\n",
       "      <td>12.0</td>\n",
       "    </tr>\n",
       "    <tr>\n",
       "      <th>9</th>\n",
       "      <td>NaN</td>\n",
       "      <td>NaN</td>\n",
       "      <td>NaN</td>\n",
       "    </tr>\n",
       "    <tr>\n",
       "      <th>10</th>\n",
       "      <td>NaN</td>\n",
       "      <td>NaN</td>\n",
       "      <td>NaN</td>\n",
       "    </tr>\n",
       "  </tbody>\n",
       "</table>\n",
       "</div>"
      ],
      "text/plain": [
       "        nombre  valor1  valor2\n",
       "0          NaN     NaN     NaN\n",
       "1   misramisra    16.0     8.0\n",
       "2   misramisra     6.0    10.0\n",
       "3   jaredjared     2.0     4.0\n",
       "4   misramisra    12.0    12.0\n",
       "5   misramisra    16.0     2.0\n",
       "6   misramisra    10.0    16.0\n",
       "7   jaredjared    14.0     0.0\n",
       "8   jaredjared     8.0    12.0\n",
       "9          NaN     NaN     NaN\n",
       "10         NaN     NaN     NaN"
      ]
     },
     "execution_count": 68,
     "metadata": {},
     "output_type": "execute_result"
    }
   ],
   "source": [
    "frame + frame3"
   ]
  },
  {
   "cell_type": "markdown",
   "id": "88e3d299",
   "metadata": {},
   "source": [
    "Utilizando el método ***add*** en, pasamos df2 y un argumento a *fill_value*, que sustituye el valor pasado por cualquier valor faltante en la operación."
   ]
  },
  {
   "cell_type": "code",
   "execution_count": 71,
   "id": "47a929a7",
   "metadata": {},
   "outputs": [
    {
     "data": {
      "text/html": [
       "<div>\n",
       "<style scoped>\n",
       "    .dataframe tbody tr th:only-of-type {\n",
       "        vertical-align: middle;\n",
       "    }\n",
       "\n",
       "    .dataframe tbody tr th {\n",
       "        vertical-align: top;\n",
       "    }\n",
       "\n",
       "    .dataframe thead th {\n",
       "        text-align: right;\n",
       "    }\n",
       "</style>\n",
       "<table border=\"1\" class=\"dataframe\">\n",
       "  <thead>\n",
       "    <tr style=\"text-align: right;\">\n",
       "      <th></th>\n",
       "      <th>valor1</th>\n",
       "      <th>valor2</th>\n",
       "    </tr>\n",
       "  </thead>\n",
       "  <tbody>\n",
       "    <tr>\n",
       "      <th>0</th>\n",
       "      <td>6.0</td>\n",
       "      <td>5.0</td>\n",
       "    </tr>\n",
       "    <tr>\n",
       "      <th>1</th>\n",
       "      <td>16.0</td>\n",
       "      <td>8.0</td>\n",
       "    </tr>\n",
       "    <tr>\n",
       "      <th>2</th>\n",
       "      <td>6.0</td>\n",
       "      <td>10.0</td>\n",
       "    </tr>\n",
       "    <tr>\n",
       "      <th>3</th>\n",
       "      <td>2.0</td>\n",
       "      <td>4.0</td>\n",
       "    </tr>\n",
       "    <tr>\n",
       "      <th>4</th>\n",
       "      <td>12.0</td>\n",
       "      <td>12.0</td>\n",
       "    </tr>\n",
       "    <tr>\n",
       "      <th>5</th>\n",
       "      <td>16.0</td>\n",
       "      <td>2.0</td>\n",
       "    </tr>\n",
       "    <tr>\n",
       "      <th>6</th>\n",
       "      <td>10.0</td>\n",
       "      <td>16.0</td>\n",
       "    </tr>\n",
       "    <tr>\n",
       "      <th>7</th>\n",
       "      <td>14.0</td>\n",
       "      <td>0.0</td>\n",
       "    </tr>\n",
       "    <tr>\n",
       "      <th>8</th>\n",
       "      <td>8.0</td>\n",
       "      <td>12.0</td>\n",
       "    </tr>\n",
       "    <tr>\n",
       "      <th>9</th>\n",
       "      <td>NaN</td>\n",
       "      <td>NaN</td>\n",
       "    </tr>\n",
       "    <tr>\n",
       "      <th>10</th>\n",
       "      <td>NaN</td>\n",
       "      <td>NaN</td>\n",
       "    </tr>\n",
       "  </tbody>\n",
       "</table>\n",
       "</div>"
      ],
      "text/plain": [
       "    valor1  valor2\n",
       "0      6.0     5.0\n",
       "1     16.0     8.0\n",
       "2      6.0    10.0\n",
       "3      2.0     4.0\n",
       "4     12.0    12.0\n",
       "5     16.0     2.0\n",
       "6     10.0    16.0\n",
       "7     14.0     0.0\n",
       "8      8.0    12.0\n",
       "9      NaN     NaN\n",
       "10     NaN     NaN"
      ]
     },
     "execution_count": 71,
     "metadata": {},
     "output_type": "execute_result"
    }
   ],
   "source": [
    "df1 = frame.drop(columns=['nombre'])\n",
    "df2 = frame3.drop(columns=['nombre'])\n",
    "df1.add(df2, fill_value=0)"
   ]
  },
  {
   "cell_type": "markdown",
   "id": "85d5ef25",
   "metadata": {},
   "source": [
    "Las *ufunes* de NumPyt trabajan tambien con objetos Pandas."
   ]
  },
  {
   "cell_type": "code",
   "execution_count": 72,
   "id": "58781842",
   "metadata": {},
   "outputs": [
    {
     "data": {
      "text/html": [
       "<div>\n",
       "<style scoped>\n",
       "    .dataframe tbody tr th:only-of-type {\n",
       "        vertical-align: middle;\n",
       "    }\n",
       "\n",
       "    .dataframe tbody tr th {\n",
       "        vertical-align: top;\n",
       "    }\n",
       "\n",
       "    .dataframe thead th {\n",
       "        text-align: right;\n",
       "    }\n",
       "</style>\n",
       "<table border=\"1\" class=\"dataframe\">\n",
       "  <thead>\n",
       "    <tr style=\"text-align: right;\">\n",
       "      <th></th>\n",
       "      <th>valor1</th>\n",
       "      <th>valor2</th>\n",
       "    </tr>\n",
       "  </thead>\n",
       "  <tbody>\n",
       "    <tr>\n",
       "      <th>0</th>\n",
       "      <td>6</td>\n",
       "      <td>5</td>\n",
       "    </tr>\n",
       "    <tr>\n",
       "      <th>1</th>\n",
       "      <td>8</td>\n",
       "      <td>4</td>\n",
       "    </tr>\n",
       "    <tr>\n",
       "      <th>2</th>\n",
       "      <td>3</td>\n",
       "      <td>5</td>\n",
       "    </tr>\n",
       "    <tr>\n",
       "      <th>3</th>\n",
       "      <td>1</td>\n",
       "      <td>2</td>\n",
       "    </tr>\n",
       "    <tr>\n",
       "      <th>4</th>\n",
       "      <td>6</td>\n",
       "      <td>6</td>\n",
       "    </tr>\n",
       "    <tr>\n",
       "      <th>5</th>\n",
       "      <td>8</td>\n",
       "      <td>1</td>\n",
       "    </tr>\n",
       "    <tr>\n",
       "      <th>6</th>\n",
       "      <td>5</td>\n",
       "      <td>8</td>\n",
       "    </tr>\n",
       "    <tr>\n",
       "      <th>7</th>\n",
       "      <td>7</td>\n",
       "      <td>0</td>\n",
       "    </tr>\n",
       "    <tr>\n",
       "      <th>8</th>\n",
       "      <td>4</td>\n",
       "      <td>6</td>\n",
       "    </tr>\n",
       "  </tbody>\n",
       "</table>\n",
       "</div>"
      ],
      "text/plain": [
       "   valor1  valor2\n",
       "0       6       5\n",
       "1       8       4\n",
       "2       3       5\n",
       "3       1       2\n",
       "4       6       6\n",
       "5       8       1\n",
       "6       5       8\n",
       "7       7       0\n",
       "8       4       6"
      ]
     },
     "execution_count": 72,
     "metadata": {},
     "output_type": "execute_result"
    }
   ],
   "source": [
    "np.abs(df1)"
   ]
  },
  {
   "cell_type": "markdown",
   "id": "5511db45",
   "metadata": {},
   "source": [
    "Otra función frecuente es aplicar una función de arrays unidimensionales a cada columna o fila. El método *appply* del objeto ***DataFrame*** hace exactamente eso."
   ]
  },
  {
   "cell_type": "code",
   "execution_count": 73,
   "id": "a11e4713",
   "metadata": {},
   "outputs": [
    {
     "data": {
      "text/plain": [
       "valor1    7\n",
       "valor2    8\n",
       "dtype: int64"
      ]
     },
     "execution_count": 73,
     "metadata": {},
     "output_type": "execute_result"
    }
   ],
   "source": [
    "def f1(x):\n",
    "    return x.max() - x.min()\n",
    "\n",
    "df1.apply(f1)"
   ]
  },
  {
   "cell_type": "markdown",
   "id": "1a2c0ee7",
   "metadata": {},
   "source": [
    "Se invoca una vez por columna si se pasa axis='columns' a apply lo que ocurre es que la función se invoca una vez por fila."
   ]
  },
  {
   "cell_type": "code",
   "execution_count": 74,
   "id": "b77a9e1d",
   "metadata": {},
   "outputs": [
    {
     "data": {
      "text/plain": [
       "0    1\n",
       "1    4\n",
       "2    2\n",
       "3    1\n",
       "4    0\n",
       "5    7\n",
       "6    3\n",
       "7    7\n",
       "8    2\n",
       "dtype: int64"
      ]
     },
     "execution_count": 74,
     "metadata": {},
     "output_type": "execute_result"
    }
   ],
   "source": [
    "df1.apply(f1, axis='columns')"
   ]
  },
  {
   "cell_type": "markdown",
   "id": "d79fa0ba",
   "metadata": {},
   "source": [
    "Un ***DataFrame***, se puede ordenar por el índice de cada eje."
   ]
  },
  {
   "cell_type": "code",
   "execution_count": null,
   "id": "898ab263",
   "metadata": {},
   "outputs": [
    {
     "data": {
      "text/html": [
       "<div>\n",
       "<style scoped>\n",
       "    .dataframe tbody tr th:only-of-type {\n",
       "        vertical-align: middle;\n",
       "    }\n",
       "\n",
       "    .dataframe tbody tr th {\n",
       "        vertical-align: top;\n",
       "    }\n",
       "\n",
       "    .dataframe thead th {\n",
       "        text-align: right;\n",
       "    }\n",
       "</style>\n",
       "<table border=\"1\" class=\"dataframe\">\n",
       "  <thead>\n",
       "    <tr style=\"text-align: right;\">\n",
       "      <th></th>\n",
       "      <th>valor1</th>\n",
       "      <th>valor2</th>\n",
       "    </tr>\n",
       "  </thead>\n",
       "  <tbody>\n",
       "    <tr>\n",
       "      <th>0</th>\n",
       "      <td>6</td>\n",
       "      <td>5</td>\n",
       "    </tr>\n",
       "    <tr>\n",
       "      <th>1</th>\n",
       "      <td>8</td>\n",
       "      <td>4</td>\n",
       "    </tr>\n",
       "    <tr>\n",
       "      <th>2</th>\n",
       "      <td>3</td>\n",
       "      <td>5</td>\n",
       "    </tr>\n",
       "    <tr>\n",
       "      <th>3</th>\n",
       "      <td>1</td>\n",
       "      <td>2</td>\n",
       "    </tr>\n",
       "    <tr>\n",
       "      <th>4</th>\n",
       "      <td>6</td>\n",
       "      <td>6</td>\n",
       "    </tr>\n",
       "    <tr>\n",
       "      <th>5</th>\n",
       "      <td>8</td>\n",
       "      <td>1</td>\n",
       "    </tr>\n",
       "    <tr>\n",
       "      <th>6</th>\n",
       "      <td>5</td>\n",
       "      <td>8</td>\n",
       "    </tr>\n",
       "    <tr>\n",
       "      <th>7</th>\n",
       "      <td>7</td>\n",
       "      <td>0</td>\n",
       "    </tr>\n",
       "    <tr>\n",
       "      <th>8</th>\n",
       "      <td>4</td>\n",
       "      <td>6</td>\n",
       "    </tr>\n",
       "  </tbody>\n",
       "</table>\n",
       "</div>"
      ],
      "text/plain": [
       "   valor1  valor2\n",
       "0       6       5\n",
       "1       8       4\n",
       "2       3       5\n",
       "3       1       2\n",
       "4       6       6\n",
       "5       8       1\n",
       "6       5       8\n",
       "7       7       0\n",
       "8       4       6"
      ]
     },
     "execution_count": 77,
     "metadata": {},
     "output_type": "execute_result"
    }
   ],
   "source": [
    "df1.sort_index()\n",
    "df1.sort_index(axis='columns')"
   ]
  },
  {
   "cell_type": "markdown",
   "id": "80d46f6d",
   "metadata": {},
   "source": [
    "Los datos se colocan en orden ascendente de forma predeterminada, pero se puede organizar en orden decendente."
   ]
  },
  {
   "cell_type": "code",
   "execution_count": 78,
   "id": "c280c522",
   "metadata": {},
   "outputs": [
    {
     "data": {
      "text/html": [
       "<div>\n",
       "<style scoped>\n",
       "    .dataframe tbody tr th:only-of-type {\n",
       "        vertical-align: middle;\n",
       "    }\n",
       "\n",
       "    .dataframe tbody tr th {\n",
       "        vertical-align: top;\n",
       "    }\n",
       "\n",
       "    .dataframe thead th {\n",
       "        text-align: right;\n",
       "    }\n",
       "</style>\n",
       "<table border=\"1\" class=\"dataframe\">\n",
       "  <thead>\n",
       "    <tr style=\"text-align: right;\">\n",
       "      <th></th>\n",
       "      <th>valor2</th>\n",
       "      <th>valor1</th>\n",
       "    </tr>\n",
       "  </thead>\n",
       "  <tbody>\n",
       "    <tr>\n",
       "      <th>0</th>\n",
       "      <td>5</td>\n",
       "      <td>6</td>\n",
       "    </tr>\n",
       "    <tr>\n",
       "      <th>1</th>\n",
       "      <td>4</td>\n",
       "      <td>8</td>\n",
       "    </tr>\n",
       "    <tr>\n",
       "      <th>2</th>\n",
       "      <td>5</td>\n",
       "      <td>3</td>\n",
       "    </tr>\n",
       "    <tr>\n",
       "      <th>3</th>\n",
       "      <td>2</td>\n",
       "      <td>1</td>\n",
       "    </tr>\n",
       "    <tr>\n",
       "      <th>4</th>\n",
       "      <td>6</td>\n",
       "      <td>6</td>\n",
       "    </tr>\n",
       "    <tr>\n",
       "      <th>5</th>\n",
       "      <td>1</td>\n",
       "      <td>8</td>\n",
       "    </tr>\n",
       "    <tr>\n",
       "      <th>6</th>\n",
       "      <td>8</td>\n",
       "      <td>5</td>\n",
       "    </tr>\n",
       "    <tr>\n",
       "      <th>7</th>\n",
       "      <td>0</td>\n",
       "      <td>7</td>\n",
       "    </tr>\n",
       "    <tr>\n",
       "      <th>8</th>\n",
       "      <td>6</td>\n",
       "      <td>4</td>\n",
       "    </tr>\n",
       "  </tbody>\n",
       "</table>\n",
       "</div>"
      ],
      "text/plain": [
       "   valor2  valor1\n",
       "0       5       6\n",
       "1       4       8\n",
       "2       5       3\n",
       "3       2       1\n",
       "4       6       6\n",
       "5       1       8\n",
       "6       8       5\n",
       "7       0       7\n",
       "8       6       4"
      ]
     },
     "execution_count": 78,
     "metadata": {},
     "output_type": "execute_result"
    }
   ],
   "source": [
    "df1.sort_index(axis='columns', ascending=False)"
   ]
  },
  {
   "cell_type": "markdown",
   "id": "f0de3255",
   "metadata": {},
   "source": [
    "Para ordenar una serie de valores empleados se método *sort_value*."
   ]
  },
  {
   "cell_type": "code",
   "execution_count": 80,
   "id": "79d10250",
   "metadata": {},
   "outputs": [
    {
     "data": {
      "text/plain": [
       "0    1\n",
       "1    2\n",
       "2    3\n",
       "3    4\n",
       "4    5\n",
       "5    6\n",
       "dtype: int64"
      ]
     },
     "execution_count": 80,
     "metadata": {},
     "output_type": "execute_result"
    }
   ],
   "source": [
    "obj.sort_values()"
   ]
  },
  {
   "cell_type": "markdown",
   "id": "c4f2a47b",
   "metadata": {},
   "source": [
    "**Nota:** Los valores que puedan faltar se ordenan al final de la serie de forma predeterminada."
   ]
  },
  {
   "cell_type": "markdown",
   "id": "e6be29d3",
   "metadata": {},
   "source": [
    "Para los valores ausentes se pueden organizar al principio con la opción *na_possition*."
   ]
  },
  {
   "cell_type": "code",
   "execution_count": 81,
   "id": "28b1979c",
   "metadata": {},
   "outputs": [
    {
     "data": {
      "text/plain": [
       "0    1\n",
       "1    2\n",
       "2    3\n",
       "3    4\n",
       "4    5\n",
       "5    6\n",
       "dtype: int64"
      ]
     },
     "execution_count": 81,
     "metadata": {},
     "output_type": "execute_result"
    }
   ],
   "source": [
    "obj.sort_values(na_position='first')"
   ]
  },
  {
   "cell_type": "markdown",
   "id": "5c0e108e",
   "metadata": {},
   "source": [
    "Al ordenar una ***DataFrame***, es posible emplear los datos de una o varias variables columnas como claves de ordenación. Para ello pasamos uno o varios nombres de columnas a *sort_values*."
   ]
  },
  {
   "cell_type": "code",
   "execution_count": 83,
   "id": "e0e9870e",
   "metadata": {},
   "outputs": [
    {
     "data": {
      "text/html": [
       "<div>\n",
       "<style scoped>\n",
       "    .dataframe tbody tr th:only-of-type {\n",
       "        vertical-align: middle;\n",
       "    }\n",
       "\n",
       "    .dataframe tbody tr th {\n",
       "        vertical-align: top;\n",
       "    }\n",
       "\n",
       "    .dataframe thead th {\n",
       "        text-align: right;\n",
       "    }\n",
       "</style>\n",
       "<table border=\"1\" class=\"dataframe\">\n",
       "  <thead>\n",
       "    <tr style=\"text-align: right;\">\n",
       "      <th></th>\n",
       "      <th>valor1</th>\n",
       "      <th>valor2</th>\n",
       "    </tr>\n",
       "  </thead>\n",
       "  <tbody>\n",
       "    <tr>\n",
       "      <th>7</th>\n",
       "      <td>7</td>\n",
       "      <td>0</td>\n",
       "    </tr>\n",
       "    <tr>\n",
       "      <th>5</th>\n",
       "      <td>8</td>\n",
       "      <td>1</td>\n",
       "    </tr>\n",
       "    <tr>\n",
       "      <th>3</th>\n",
       "      <td>1</td>\n",
       "      <td>2</td>\n",
       "    </tr>\n",
       "    <tr>\n",
       "      <th>1</th>\n",
       "      <td>8</td>\n",
       "      <td>4</td>\n",
       "    </tr>\n",
       "    <tr>\n",
       "      <th>2</th>\n",
       "      <td>3</td>\n",
       "      <td>5</td>\n",
       "    </tr>\n",
       "    <tr>\n",
       "      <th>0</th>\n",
       "      <td>6</td>\n",
       "      <td>5</td>\n",
       "    </tr>\n",
       "    <tr>\n",
       "      <th>4</th>\n",
       "      <td>6</td>\n",
       "      <td>6</td>\n",
       "    </tr>\n",
       "    <tr>\n",
       "      <th>8</th>\n",
       "      <td>4</td>\n",
       "      <td>6</td>\n",
       "    </tr>\n",
       "    <tr>\n",
       "      <th>6</th>\n",
       "      <td>5</td>\n",
       "      <td>8</td>\n",
       "    </tr>\n",
       "  </tbody>\n",
       "</table>\n",
       "</div>"
      ],
      "text/plain": [
       "   valor1  valor2\n",
       "7       7       0\n",
       "5       8       1\n",
       "3       1       2\n",
       "1       8       4\n",
       "2       3       5\n",
       "0       6       5\n",
       "4       6       6\n",
       "8       4       6\n",
       "6       5       8"
      ]
     },
     "execution_count": 83,
     "metadata": {},
     "output_type": "execute_result"
    }
   ],
   "source": [
    "df1.sort_values('valor2')"
   ]
  },
  {
   "cell_type": "markdown",
   "id": "17678753",
   "metadata": {},
   "source": [
    "Para ordenar por varias columnas, pasamos una lista de nombres."
   ]
  },
  {
   "cell_type": "code",
   "execution_count": 84,
   "id": "ce4272d8",
   "metadata": {},
   "outputs": [
    {
     "data": {
      "text/html": [
       "<div>\n",
       "<style scoped>\n",
       "    .dataframe tbody tr th:only-of-type {\n",
       "        vertical-align: middle;\n",
       "    }\n",
       "\n",
       "    .dataframe tbody tr th {\n",
       "        vertical-align: top;\n",
       "    }\n",
       "\n",
       "    .dataframe thead th {\n",
       "        text-align: right;\n",
       "    }\n",
       "</style>\n",
       "<table border=\"1\" class=\"dataframe\">\n",
       "  <thead>\n",
       "    <tr style=\"text-align: right;\">\n",
       "      <th></th>\n",
       "      <th>valor1</th>\n",
       "      <th>valor2</th>\n",
       "    </tr>\n",
       "  </thead>\n",
       "  <tbody>\n",
       "    <tr>\n",
       "      <th>7</th>\n",
       "      <td>7</td>\n",
       "      <td>0</td>\n",
       "    </tr>\n",
       "    <tr>\n",
       "      <th>5</th>\n",
       "      <td>8</td>\n",
       "      <td>1</td>\n",
       "    </tr>\n",
       "    <tr>\n",
       "      <th>3</th>\n",
       "      <td>1</td>\n",
       "      <td>2</td>\n",
       "    </tr>\n",
       "    <tr>\n",
       "      <th>1</th>\n",
       "      <td>8</td>\n",
       "      <td>4</td>\n",
       "    </tr>\n",
       "    <tr>\n",
       "      <th>2</th>\n",
       "      <td>3</td>\n",
       "      <td>5</td>\n",
       "    </tr>\n",
       "    <tr>\n",
       "      <th>0</th>\n",
       "      <td>6</td>\n",
       "      <td>5</td>\n",
       "    </tr>\n",
       "    <tr>\n",
       "      <th>8</th>\n",
       "      <td>4</td>\n",
       "      <td>6</td>\n",
       "    </tr>\n",
       "    <tr>\n",
       "      <th>4</th>\n",
       "      <td>6</td>\n",
       "      <td>6</td>\n",
       "    </tr>\n",
       "    <tr>\n",
       "      <th>6</th>\n",
       "      <td>5</td>\n",
       "      <td>8</td>\n",
       "    </tr>\n",
       "  </tbody>\n",
       "</table>\n",
       "</div>"
      ],
      "text/plain": [
       "   valor1  valor2\n",
       "7       7       0\n",
       "5       8       1\n",
       "3       1       2\n",
       "1       8       4\n",
       "2       3       5\n",
       "0       6       5\n",
       "8       4       6\n",
       "4       6       6\n",
       "6       5       8"
      ]
     },
     "execution_count": 84,
     "metadata": {},
     "output_type": "execute_result"
    }
   ],
   "source": [
    "df1.sort_values(['valor2', 'valor1'])"
   ]
  },
  {
   "cell_type": "markdown",
   "id": "b3229b4a",
   "metadata": {},
   "source": [
    "La propiedad *dis_unique* del índice puede indicar si sus etiquetas son únicas o no."
   ]
  },
  {
   "cell_type": "code",
   "execution_count": 85,
   "id": "06a028cd",
   "metadata": {},
   "outputs": [
    {
     "data": {
      "text/plain": [
       "True"
      ]
     },
     "execution_count": 85,
     "metadata": {},
     "output_type": "execute_result"
    }
   ],
   "source": [
    "df1.index.is_unique"
   ]
  },
  {
   "cell_type": "markdown",
   "id": "61f54a91",
   "metadata": {},
   "source": [
    "Llamar al método *sum* del ***DataFrame*** devuelve una serie que contiene sumas de columna."
   ]
  },
  {
   "cell_type": "code",
   "execution_count": 86,
   "id": "40b33845",
   "metadata": {},
   "outputs": [
    {
     "data": {
      "text/plain": [
       "valor1    48\n",
       "valor2    37\n",
       "dtype: int64"
      ]
     },
     "execution_count": 86,
     "metadata": {},
     "output_type": "execute_result"
    }
   ],
   "source": [
    "df1.sum()"
   ]
  },
  {
   "cell_type": "markdown",
   "id": "324724ca",
   "metadata": {},
   "source": [
    "Sin embargo, pasar *axis='columns'* o *axis=1* suma en todas las columnas."
   ]
  },
  {
   "cell_type": "code",
   "execution_count": 87,
   "id": "5ad7cac4",
   "metadata": {},
   "outputs": [
    {
     "data": {
      "text/plain": [
       "0    11\n",
       "1    12\n",
       "2     8\n",
       "3     3\n",
       "4    12\n",
       "5     9\n",
       "6    13\n",
       "7     7\n",
       "8    10\n",
       "dtype: int64"
      ]
     },
     "execution_count": 87,
     "metadata": {},
     "output_type": "execute_result"
    }
   ],
   "source": [
    "df1.sum(axis='columns')"
   ]
  },
  {
   "cell_type": "markdown",
   "id": "2c0a170d",
   "metadata": {},
   "source": [
    "*idxmax* e *idxmin*, devuelven la estadística indirecta, como el valor de índice en el que se alcanza los valores mínimo o máximo."
   ]
  },
  {
   "cell_type": "code",
   "execution_count": 91,
   "id": "d495a80b",
   "metadata": {},
   "outputs": [
    {
     "name": "stdout",
     "output_type": "stream",
     "text": [
      "idxmax\n",
      "valor1    1\n",
      "valor2    6\n",
      "dtype: int64\n",
      "idxmin\n",
      "valor1    3\n",
      "valor2    7\n",
      "dtype: int64\n"
     ]
    }
   ],
   "source": [
    "print(f'idxmax\\n{df1.idxmax()}')\n",
    "print(f'idxmin\\n{df1.idxmin()}')"
   ]
  },
  {
   "cell_type": "markdown",
   "id": "cc4522f5",
   "metadata": {},
   "source": [
    "*describe()*, produce varias estádisticas de reusmen de una sola vez."
   ]
  },
  {
   "cell_type": "code",
   "execution_count": 93,
   "id": "6b90c74d",
   "metadata": {},
   "outputs": [
    {
     "data": {
      "text/html": [
       "<div>\n",
       "<style scoped>\n",
       "    .dataframe tbody tr th:only-of-type {\n",
       "        vertical-align: middle;\n",
       "    }\n",
       "\n",
       "    .dataframe tbody tr th {\n",
       "        vertical-align: top;\n",
       "    }\n",
       "\n",
       "    .dataframe thead th {\n",
       "        text-align: right;\n",
       "    }\n",
       "</style>\n",
       "<table border=\"1\" class=\"dataframe\">\n",
       "  <thead>\n",
       "    <tr style=\"text-align: right;\">\n",
       "      <th></th>\n",
       "      <th>valor1</th>\n",
       "      <th>valor2</th>\n",
       "    </tr>\n",
       "  </thead>\n",
       "  <tbody>\n",
       "    <tr>\n",
       "      <th>count</th>\n",
       "      <td>9.000000</td>\n",
       "      <td>9.000000</td>\n",
       "    </tr>\n",
       "    <tr>\n",
       "      <th>mean</th>\n",
       "      <td>5.333333</td>\n",
       "      <td>4.111111</td>\n",
       "    </tr>\n",
       "    <tr>\n",
       "      <th>std</th>\n",
       "      <td>2.345208</td>\n",
       "      <td>2.619372</td>\n",
       "    </tr>\n",
       "    <tr>\n",
       "      <th>min</th>\n",
       "      <td>1.000000</td>\n",
       "      <td>0.000000</td>\n",
       "    </tr>\n",
       "    <tr>\n",
       "      <th>25%</th>\n",
       "      <td>4.000000</td>\n",
       "      <td>2.000000</td>\n",
       "    </tr>\n",
       "    <tr>\n",
       "      <th>50%</th>\n",
       "      <td>6.000000</td>\n",
       "      <td>5.000000</td>\n",
       "    </tr>\n",
       "    <tr>\n",
       "      <th>75%</th>\n",
       "      <td>7.000000</td>\n",
       "      <td>6.000000</td>\n",
       "    </tr>\n",
       "    <tr>\n",
       "      <th>max</th>\n",
       "      <td>8.000000</td>\n",
       "      <td>8.000000</td>\n",
       "    </tr>\n",
       "  </tbody>\n",
       "</table>\n",
       "</div>"
      ],
      "text/plain": [
       "         valor1    valor2\n",
       "count  9.000000  9.000000\n",
       "mean   5.333333  4.111111\n",
       "std    2.345208  2.619372\n",
       "min    1.000000  0.000000\n",
       "25%    4.000000  2.000000\n",
       "50%    6.000000  5.000000\n",
       "75%    7.000000  6.000000\n",
       "max    8.000000  8.000000"
      ]
     },
     "execution_count": 93,
     "metadata": {},
     "output_type": "execute_result"
    }
   ],
   "source": [
    "df1.describe()"
   ]
  },
  {
   "cell_type": "markdown",
   "id": "1fcff56e",
   "metadata": {},
   "source": [
    "En datos no númericos, *describe* produce estádisticas de resumenes alternativos."
   ]
  },
  {
   "cell_type": "code",
   "execution_count": 94,
   "id": "c7821c55",
   "metadata": {},
   "outputs": [
    {
     "data": {
      "text/plain": [
       "count     16\n",
       "unique     4\n",
       "top        a\n",
       "freq       4\n",
       "dtype: object"
      ]
     },
     "execution_count": 94,
     "metadata": {},
     "output_type": "execute_result"
    }
   ],
   "source": [
    "obj = pd.Series(['a','b','c','d'] * 4)\n",
    "obj.describe()"
   ]
  },
  {
   "cell_type": "markdown",
   "id": "fdce8d9d",
   "metadata": {},
   "source": [
    "El método ***corr*** del objeto ***Series*** calcula la correlación de los valores superpuestos, no nulos y alineados por índice en dos ***Series***. De forma similar, ***cov*** calcula la covarianza."
   ]
  },
  {
   "cell_type": "code",
   "execution_count": null,
   "id": "b9a276fc",
   "metadata": {},
   "outputs": [],
   "source": [
    "# returns['col1'].corr(returns['col2'])\n",
    "# returns['col1'].cov(returns['col2'])"
   ]
  },
  {
   "cell_type": "markdown",
   "id": "18f3abe5",
   "metadata": {},
   "source": [
    "Los métodos ***corr*** y ***cov*** del objeto ***DatFrame***, por otro lado, devuelven una correlación completa o una matriz de covarianza como un ***DataFrame***, respectivamente."
   ]
  },
  {
   "cell_type": "code",
   "execution_count": null,
   "id": "4a775193",
   "metadata": {},
   "outputs": [],
   "source": [
    "# returns.corr()\n",
    "# returns.cov()"
   ]
  },
  {
   "cell_type": "markdown",
   "id": "18dc22bc",
   "metadata": {},
   "source": [
    "Útilizando el método ***corrwith*** de objeto ***DataFrame*** se puede calcular correlaciones por pares entre las columnas o filas de un ***DataFrame*** con otra ***Serie***\n",
    "o ***DataFrame***. Pasar una ***Serie*** devuelve otra con el valor de correlacióin calculado por cada columna."
   ]
  },
  {
   "cell_type": "code",
   "execution_count": null,
   "id": "28b4c13b",
   "metadata": {},
   "outputs": [],
   "source": [
    "# returns.corrwith(returns['col1'])"
   ]
  },
  {
   "cell_type": "markdown",
   "id": "200f2e70",
   "metadata": {},
   "source": [
    "Pasar un ***DataFrame*** calcula las correlaciones de las nombres de columna conicidentes. En este caso se han calculado las correlaciones de los cambios de porcentaje con volumen."
   ]
  },
  {
   "cell_type": "code",
   "execution_count": null,
   "id": "4cef839e",
   "metadata": {},
   "outputs": [
    {
     "data": {
      "text/plain": [
       "nombre    NaN\n",
       "valor1    NaN\n",
       "valor2    NaN\n",
       "dtype: object"
      ]
     },
     "execution_count": 100,
     "metadata": {},
     "output_type": "execute_result"
    }
   ],
   "source": [
    "# returns.corrwith(volumne)\n",
    "frame.corrwith(frame2)"
   ]
  },
  {
   "cell_type": "markdown",
   "id": "033804c4",
   "metadata": {},
   "source": [
    "Otra clasede métodos asociados extrae información acerca de los valores contenidos en una serie unidimensional."
   ]
  },
  {
   "cell_type": "code",
   "execution_count": 102,
   "id": "f28c72a3",
   "metadata": {},
   "outputs": [
    {
     "data": {
      "text/plain": [
       "array(['a', 'b', 'c', 'd'], dtype=object)"
      ]
     },
     "execution_count": 102,
     "metadata": {},
     "output_type": "execute_result"
    }
   ],
   "source": [
    "uniques = obj.unique()\n",
    "uniques"
   ]
  },
  {
   "cell_type": "markdown",
   "id": "20e224e6",
   "metadata": {},
   "source": [
    "***values_counts*** calcula una serie que contiene frecuencias de valores."
   ]
  },
  {
   "cell_type": "code",
   "execution_count": 103,
   "id": "2001d82e",
   "metadata": {},
   "outputs": [
    {
     "data": {
      "text/plain": [
       "a    4\n",
       "b    4\n",
       "c    4\n",
       "d    4\n",
       "Name: count, dtype: int64"
      ]
     },
     "execution_count": 103,
     "metadata": {},
     "output_type": "execute_result"
    }
   ],
   "source": [
    "obj.value_counts()"
   ]
  },
  {
   "cell_type": "markdown",
   "id": "9c166db8",
   "metadata": {},
   "source": [
    "***isin*** realiza una comprobación de la pertencia a un conjunto vectorizado y pude ser útil al filtrar un conjunto de datos para obtener un subconjunto de valores en una serie o una columna de un ***DataFrame***."
   ]
  },
  {
   "cell_type": "code",
   "execution_count": 107,
   "id": "9c72dc0f",
   "metadata": {},
   "outputs": [
    {
     "data": {
      "text/plain": [
       "1     b\n",
       "2     c\n",
       "5     b\n",
       "6     c\n",
       "9     b\n",
       "10    c\n",
       "13    b\n",
       "14    c\n",
       "dtype: object"
      ]
     },
     "execution_count": 107,
     "metadata": {},
     "output_type": "execute_result"
    }
   ],
   "source": [
    "mask = obj.isin(['b','c'])\n",
    "obj[mask]"
   ]
  },
  {
   "cell_type": "markdown",
   "id": "1927ae3a",
   "metadata": {},
   "source": [
    "Podemos calcular los recuentos de valores para un solo columna."
   ]
  },
  {
   "cell_type": "code",
   "execution_count": 109,
   "id": "83086be9",
   "metadata": {},
   "outputs": [
    {
     "data": {
      "text/plain": [
       "valor1\n",
       "1    1\n",
       "3    1\n",
       "4    1\n",
       "5    1\n",
       "6    2\n",
       "7    1\n",
       "8    2\n",
       "Name: count, dtype: int64"
      ]
     },
     "execution_count": 109,
     "metadata": {},
     "output_type": "execute_result"
    }
   ],
   "source": [
    "frame['valor1'].value_counts().sort_index()"
   ]
  },
  {
   "cell_type": "markdown",
   "id": "f8288428",
   "metadata": {},
   "source": [
    "Para calcular esto para todas las columas pasamos *pd.values_counts* al método *apply* del ***DataFrame***."
   ]
  },
  {
   "cell_type": "code",
   "execution_count": null,
   "id": "31d981d5",
   "metadata": {},
   "outputs": [],
   "source": [
    "result = frame.apply(pd.value_counts).fillna(0)\n",
    "result"
   ]
  },
  {
   "cell_type": "markdown",
   "id": "694001be",
   "metadata": {},
   "source": [
    "Hay también un método ***DataFrame.values_counts()*** pero calcula los recuentos tenidos en cuenta cada fila de ***DataFrame*** como una tupla, para determinar el númerod e aparciones de cada fila diferente."
   ]
  },
  {
   "cell_type": "code",
   "execution_count": 113,
   "id": "333acf90",
   "metadata": {},
   "outputs": [
    {
     "data": {
      "text/plain": [
       "nombre  valor1  valor2\n",
       "jared   1       2         1\n",
       "        4       6         1\n",
       "        7       0         1\n",
       "misra   3       5         1\n",
       "        5       8         1\n",
       "        6       5         1\n",
       "                6         1\n",
       "        8       1         1\n",
       "                4         1\n",
       "Name: count, dtype: int64"
      ]
     },
     "execution_count": 113,
     "metadata": {},
     "output_type": "execute_result"
    }
   ],
   "source": [
    "frame.value_counts()"
   ]
  }
 ],
 "metadata": {
  "kernelspec": {
   "display_name": "venv",
   "language": "python",
   "name": "python3"
  },
  "language_info": {
   "codemirror_mode": {
    "name": "ipython",
    "version": 3
   },
   "file_extension": ".py",
   "mimetype": "text/x-python",
   "name": "python",
   "nbconvert_exporter": "python",
   "pygments_lexer": "ipython3",
   "version": "3.12.1"
  }
 },
 "nbformat": 4,
 "nbformat_minor": 5
}
