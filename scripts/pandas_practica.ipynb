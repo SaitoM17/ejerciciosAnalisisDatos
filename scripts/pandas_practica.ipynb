{
 "cells": [
  {
   "cell_type": "code",
   "execution_count": 1,
   "id": "bcf11c79",
   "metadata": {},
   "outputs": [],
   "source": [
    "# Cargar librerias \n",
    "import pandas as pd\n",
    "import numpy as np"
   ]
  },
  {
   "cell_type": "markdown",
   "id": "980bda67",
   "metadata": {},
   "source": [
    "Una **Serie** es un conjunto unidimensional de estilos array, que contiene una secuencia de valores del mismo tipo, y un array asociado de etioquetas de datos, que corresponde a su índice."
   ]
  },
  {
   "cell_type": "code",
   "execution_count": 2,
   "id": "c41e8bed",
   "metadata": {},
   "outputs": [
    {
     "data": {
      "text/plain": [
       "0    1\n",
       "1    2\n",
       "2    3\n",
       "3    4\n",
       "4    5\n",
       "5    6\n",
       "dtype: int64"
      ]
     },
     "execution_count": 2,
     "metadata": {},
     "output_type": "execute_result"
    }
   ],
   "source": [
    "obj = pd.Series([1,2,3,4,5,6])\n",
    "obj"
   ]
  },
  {
   "cell_type": "markdown",
   "id": "f032aad4",
   "metadata": {},
   "source": [
    "Se puede obtener la representación de en array y el objeto indice de la serie mediantre sus atributos **array** e **index**."
   ]
  },
  {
   "cell_type": "code",
   "execution_count": 3,
   "id": "303dcac3",
   "metadata": {},
   "outputs": [
    {
     "name": "stdout",
     "output_type": "stream",
     "text": [
      "Array: <NumpyExtensionArray>\n",
      "[np.int64(1), np.int64(2), np.int64(3), np.int64(4), np.int64(5), np.int64(6)]\n",
      "Length: 6, dtype: int64\n",
      "Index: RangeIndex(start=0, stop=6, step=1)\n"
     ]
    }
   ],
   "source": [
    "print(f'Array: {obj.array}')\n",
    "print(f'Index: {obj.index}')"
   ]
  },
  {
   "cell_type": "markdown",
   "id": "696c34d2",
   "metadata": {},
   "source": [
    "**Nota:** Cuando no esécificamos un índice para los datos, se crea uno predeterminado, formado por los enteros 0 a ***N***-1 (donde ***N*** es la lomgiyd de los datos)"
   ]
  },
  {
   "cell_type": "markdown",
   "id": "1c86d9ac",
   "metadata": {},
   "source": [
    "Crear una **Serie** con un índice, que identifique cada punto de datos con una etiqueta."
   ]
  },
  {
   "cell_type": "code",
   "execution_count": 4,
   "id": "45dadd8d",
   "metadata": {},
   "outputs": [
    {
     "data": {
      "text/plain": [
       "a    1\n",
       "b    2\n",
       "c    3\n",
       "d    4\n",
       "dtype: int64"
      ]
     },
     "execution_count": 4,
     "metadata": {},
     "output_type": "execute_result"
    }
   ],
   "source": [
    "obj2 = pd.Series([1,2,3,4], index=['a','b','c','d'])\n",
    "obj2"
   ]
  },
  {
   "cell_type": "markdown",
   "id": "f8ba4655",
   "metadata": {},
   "source": [
    "Se puede usar etiquetas en el índice al seleccionar varios valores sencillos o un conjunto de valores."
   ]
  },
  {
   "cell_type": "code",
   "execution_count": 5,
   "id": "54a464d4",
   "metadata": {},
   "outputs": [
    {
     "name": "stdout",
     "output_type": "stream",
     "text": [
      "1\n",
      "10\n",
      "c    10\n",
      "a     1\n",
      "d     4\n",
      "dtype: int64\n"
     ]
    }
   ],
   "source": [
    "print(obj2['a'])\n",
    "obj2['c'] = 10 \n",
    "print(obj2['c'])\n",
    "print(obj2[['c','a','d']])\n",
    "\n",
    "# Se interpreta como una lista de índices"
   ]
  },
  {
   "cell_type": "markdown",
   "id": "c8f55266",
   "metadata": {},
   "source": [
    "Utilizar funciones NumPy u operaciones de estilo NumPy, como el filtro con un array booleano, la multiplicación de escalares o la aplicación de funciones mátematicas, permitirá conservar el vinculo **índice**-**valor**."
   ]
  },
  {
   "cell_type": "code",
   "execution_count": 6,
   "id": "132ed022",
   "metadata": {},
   "outputs": [
    {
     "name": "stdout",
     "output_type": "stream",
     "text": [
      "c    10\n",
      "d     4\n",
      "dtype: int64\n",
      "a     2\n",
      "b     4\n",
      "c    20\n",
      "d     8\n",
      "dtype: int64\n",
      "a        2.718282\n",
      "b        7.389056\n",
      "c    22026.465795\n",
      "d       54.598150\n",
      "dtype: float64\n"
     ]
    }
   ],
   "source": [
    "print(obj2[obj2 > 2])\n",
    "print(obj2 * 2)\n",
    "print(np.exp(obj2))"
   ]
  },
  {
   "cell_type": "markdown",
   "id": "e623649e",
   "metadata": {},
   "source": [
    "Una **Serie** es como un diccionario ordenado de longitud fija, dado que es una asiganación de valores de índice a valores de datos."
   ]
  },
  {
   "cell_type": "code",
   "execution_count": 7,
   "id": "0928151d",
   "metadata": {},
   "outputs": [
    {
     "data": {
      "text/plain": [
       "True"
      ]
     },
     "execution_count": 7,
     "metadata": {},
     "output_type": "execute_result"
    }
   ],
   "source": [
    "'a' in obj2"
   ]
  },
  {
   "cell_type": "markdown",
   "id": "f110614b",
   "metadata": {},
   "source": [
    "Si tenemos un diccionario Python, podemos crear una **Serie** a partir de él pasando el diccionario."
   ]
  },
  {
   "cell_type": "code",
   "execution_count": 8,
   "id": "8356f628",
   "metadata": {},
   "outputs": [
    {
     "data": {
      "text/plain": [
       "a    [1, 2, 3, 4, 5]\n",
       "b    [6, 7, 8.9, 10]\n",
       "dtype: object"
      ]
     },
     "execution_count": 8,
     "metadata": {},
     "output_type": "execute_result"
    }
   ],
   "source": [
    "dic = {\n",
    "    'a': [1,2,3,4,5],\n",
    "    'b': [6,7,8.9,10]\n",
    "}\n",
    "\n",
    "serie = pd.Series(dic)\n",
    "serie"
   ]
  },
  {
   "cell_type": "markdown",
   "id": "21bec250",
   "metadata": {},
   "source": [
    "Una **Serie** se puede convertir de nuevo en un diccionario con su método *to_dict*."
   ]
  },
  {
   "cell_type": "code",
   "execution_count": 9,
   "id": "e3ed984b",
   "metadata": {},
   "outputs": [
    {
     "data": {
      "text/plain": [
       "{'a': [1, 2, 3, 4, 5], 'b': [6, 7, 8.9, 10]}"
      ]
     },
     "execution_count": 9,
     "metadata": {},
     "output_type": "execute_result"
    }
   ],
   "source": [
    "dic_de_nuevo = serie.to_dict()\n",
    "dic_de_nuevo"
   ]
  },
  {
   "cell_type": "markdown",
   "id": "c0403baf",
   "metadata": {},
   "source": [
    "Para detectar datos faltantes o nulos se deben emplear las funciones ***isna*** y ***notna*** de pandas."
   ]
  },
  {
   "cell_type": "code",
   "execution_count": 10,
   "id": "bf71b020",
   "metadata": {},
   "outputs": [
    {
     "name": "stdout",
     "output_type": "stream",
     "text": [
      "Original\n",
      "a     1\n",
      "b     2\n",
      "c    10\n",
      "d     4\n",
      "dtype: int64\n",
      "isna\n",
      "a    False\n",
      "b    False\n",
      "c    False\n",
      "d    False\n",
      "dtype: bool\n",
      "notna\n",
      "a    True\n",
      "b    True\n",
      "c    True\n",
      "d    True\n",
      "dtype: bool\n"
     ]
    }
   ],
   "source": [
    "print(f'Original\\n{obj2}')\n",
    "print(f'isna\\n{pd.isna(obj2)}')\n",
    "print(f'notna\\n{pd.notna(obj2)}')"
   ]
  },
  {
   "cell_type": "markdown",
   "id": "a7dbed3d",
   "metadata": {},
   "source": [
    "Hay muchas formas de construir un ***DataFrame***, auque una de las más habituales es apartir de un diccionario de listas o arrays NumPy de la misma longitud."
   ]
  },
  {
   "cell_type": "code",
   "execution_count": 11,
   "id": "5dc4c39e",
   "metadata": {},
   "outputs": [
    {
     "data": {
      "text/html": [
       "<div>\n",
       "<style scoped>\n",
       "    .dataframe tbody tr th:only-of-type {\n",
       "        vertical-align: middle;\n",
       "    }\n",
       "\n",
       "    .dataframe tbody tr th {\n",
       "        vertical-align: top;\n",
       "    }\n",
       "\n",
       "    .dataframe thead th {\n",
       "        text-align: right;\n",
       "    }\n",
       "</style>\n",
       "<table border=\"1\" class=\"dataframe\">\n",
       "  <thead>\n",
       "    <tr style=\"text-align: right;\">\n",
       "      <th></th>\n",
       "      <th>nombre</th>\n",
       "      <th>valor1</th>\n",
       "      <th>valor2</th>\n",
       "    </tr>\n",
       "  </thead>\n",
       "  <tbody>\n",
       "    <tr>\n",
       "      <th>0</th>\n",
       "      <td>said</td>\n",
       "      <td>0</td>\n",
       "      <td>2</td>\n",
       "    </tr>\n",
       "    <tr>\n",
       "      <th>1</th>\n",
       "      <td>jared</td>\n",
       "      <td>2</td>\n",
       "      <td>5</td>\n",
       "    </tr>\n",
       "    <tr>\n",
       "      <th>2</th>\n",
       "      <td>said</td>\n",
       "      <td>1</td>\n",
       "      <td>4</td>\n",
       "    </tr>\n",
       "    <tr>\n",
       "      <th>3</th>\n",
       "      <td>said</td>\n",
       "      <td>4</td>\n",
       "      <td>2</td>\n",
       "    </tr>\n",
       "    <tr>\n",
       "      <th>4</th>\n",
       "      <td>misra</td>\n",
       "      <td>2</td>\n",
       "      <td>3</td>\n",
       "    </tr>\n",
       "    <tr>\n",
       "      <th>5</th>\n",
       "      <td>said</td>\n",
       "      <td>1</td>\n",
       "      <td>7</td>\n",
       "    </tr>\n",
       "    <tr>\n",
       "      <th>6</th>\n",
       "      <td>misra</td>\n",
       "      <td>0</td>\n",
       "      <td>4</td>\n",
       "    </tr>\n",
       "    <tr>\n",
       "      <th>7</th>\n",
       "      <td>misra</td>\n",
       "      <td>2</td>\n",
       "      <td>5</td>\n",
       "    </tr>\n",
       "    <tr>\n",
       "      <th>8</th>\n",
       "      <td>jared</td>\n",
       "      <td>1</td>\n",
       "      <td>6</td>\n",
       "    </tr>\n",
       "  </tbody>\n",
       "</table>\n",
       "</div>"
      ],
      "text/plain": [
       "  nombre  valor1  valor2\n",
       "0   said       0       2\n",
       "1  jared       2       5\n",
       "2   said       1       4\n",
       "3   said       4       2\n",
       "4  misra       2       3\n",
       "5   said       1       7\n",
       "6  misra       0       4\n",
       "7  misra       2       5\n",
       "8  jared       1       6"
      ]
     },
     "execution_count": 11,
     "metadata": {},
     "output_type": "execute_result"
    }
   ],
   "source": [
    "valor1 = np.arange(9)\n",
    "valor2 = np.arange(9)\n",
    "valor3 = ['said','jared', 'misra']\n",
    "\n",
    "lista_valor1 = [np.random.choice(valor1) for _ in range(9)]\n",
    "lista_valor2 = [np.random.choice(valor2) for _ in range(9)]\n",
    "lista_valor3 = [np.random.choice(valor3) for _ in range(9)]\n",
    "\n",
    "dic_2 = {\n",
    "    'nombre': lista_valor3,\n",
    "    'valor1': lista_valor1,\n",
    "    'valor2': lista_valor2\n",
    "}\n",
    "\n",
    "frame = pd.DataFrame(dic_2)\n",
    "frame"
   ]
  },
  {
   "cell_type": "markdown",
   "id": "2148ec7c",
   "metadata": {},
   "source": [
    "El objeto ***DataFrame*** resultante tendrá su índice asignado de manra automática como una ***Serie*** y las columnas se colocarán de acuerdo con el orden de las claves(dependeran del orden de inserción en el diccionario)."
   ]
  },
  {
   "cell_type": "markdown",
   "id": "4bafd0fb",
   "metadata": {},
   "source": [
    "Para grande ***DataFrame***, el métod *head* selecciona solo los **5** primeras filas."
   ]
  },
  {
   "cell_type": "code",
   "execution_count": 12,
   "id": "b6b0fe23",
   "metadata": {},
   "outputs": [
    {
     "data": {
      "text/html": [
       "<div>\n",
       "<style scoped>\n",
       "    .dataframe tbody tr th:only-of-type {\n",
       "        vertical-align: middle;\n",
       "    }\n",
       "\n",
       "    .dataframe tbody tr th {\n",
       "        vertical-align: top;\n",
       "    }\n",
       "\n",
       "    .dataframe thead th {\n",
       "        text-align: right;\n",
       "    }\n",
       "</style>\n",
       "<table border=\"1\" class=\"dataframe\">\n",
       "  <thead>\n",
       "    <tr style=\"text-align: right;\">\n",
       "      <th></th>\n",
       "      <th>nombre</th>\n",
       "      <th>valor1</th>\n",
       "      <th>valor2</th>\n",
       "    </tr>\n",
       "  </thead>\n",
       "  <tbody>\n",
       "    <tr>\n",
       "      <th>0</th>\n",
       "      <td>said</td>\n",
       "      <td>0</td>\n",
       "      <td>2</td>\n",
       "    </tr>\n",
       "    <tr>\n",
       "      <th>1</th>\n",
       "      <td>jared</td>\n",
       "      <td>2</td>\n",
       "      <td>5</td>\n",
       "    </tr>\n",
       "    <tr>\n",
       "      <th>2</th>\n",
       "      <td>said</td>\n",
       "      <td>1</td>\n",
       "      <td>4</td>\n",
       "    </tr>\n",
       "    <tr>\n",
       "      <th>3</th>\n",
       "      <td>said</td>\n",
       "      <td>4</td>\n",
       "      <td>2</td>\n",
       "    </tr>\n",
       "    <tr>\n",
       "      <th>4</th>\n",
       "      <td>misra</td>\n",
       "      <td>2</td>\n",
       "      <td>3</td>\n",
       "    </tr>\n",
       "  </tbody>\n",
       "</table>\n",
       "</div>"
      ],
      "text/plain": [
       "  nombre  valor1  valor2\n",
       "0   said       0       2\n",
       "1  jared       2       5\n",
       "2   said       1       4\n",
       "3   said       4       2\n",
       "4  misra       2       3"
      ]
     },
     "execution_count": 12,
     "metadata": {},
     "output_type": "execute_result"
    }
   ],
   "source": [
    "frame.head()"
   ]
  },
  {
   "cell_type": "markdown",
   "id": "910303ee",
   "metadata": {},
   "source": [
    "De forma similar, *tail* devuelve los 5 últimos."
   ]
  },
  {
   "cell_type": "code",
   "execution_count": 13,
   "id": "ea839d99",
   "metadata": {},
   "outputs": [
    {
     "data": {
      "text/html": [
       "<div>\n",
       "<style scoped>\n",
       "    .dataframe tbody tr th:only-of-type {\n",
       "        vertical-align: middle;\n",
       "    }\n",
       "\n",
       "    .dataframe tbody tr th {\n",
       "        vertical-align: top;\n",
       "    }\n",
       "\n",
       "    .dataframe thead th {\n",
       "        text-align: right;\n",
       "    }\n",
       "</style>\n",
       "<table border=\"1\" class=\"dataframe\">\n",
       "  <thead>\n",
       "    <tr style=\"text-align: right;\">\n",
       "      <th></th>\n",
       "      <th>nombre</th>\n",
       "      <th>valor1</th>\n",
       "      <th>valor2</th>\n",
       "    </tr>\n",
       "  </thead>\n",
       "  <tbody>\n",
       "    <tr>\n",
       "      <th>4</th>\n",
       "      <td>misra</td>\n",
       "      <td>2</td>\n",
       "      <td>3</td>\n",
       "    </tr>\n",
       "    <tr>\n",
       "      <th>5</th>\n",
       "      <td>said</td>\n",
       "      <td>1</td>\n",
       "      <td>7</td>\n",
       "    </tr>\n",
       "    <tr>\n",
       "      <th>6</th>\n",
       "      <td>misra</td>\n",
       "      <td>0</td>\n",
       "      <td>4</td>\n",
       "    </tr>\n",
       "    <tr>\n",
       "      <th>7</th>\n",
       "      <td>misra</td>\n",
       "      <td>2</td>\n",
       "      <td>5</td>\n",
       "    </tr>\n",
       "    <tr>\n",
       "      <th>8</th>\n",
       "      <td>jared</td>\n",
       "      <td>1</td>\n",
       "      <td>6</td>\n",
       "    </tr>\n",
       "  </tbody>\n",
       "</table>\n",
       "</div>"
      ],
      "text/plain": [
       "  nombre  valor1  valor2\n",
       "4  misra       2       3\n",
       "5   said       1       7\n",
       "6  misra       0       4\n",
       "7  misra       2       5\n",
       "8  jared       1       6"
      ]
     },
     "execution_count": 13,
     "metadata": {},
     "output_type": "execute_result"
    }
   ],
   "source": [
    "frame.tail()"
   ]
  },
  {
   "cell_type": "markdown",
   "id": "5fa1b1c2",
   "metadata": {},
   "source": [
    "Si se especifica una secuencia de columnas, las columnas del ***DataFrame*** se dispondrán en ese orden."
   ]
  },
  {
   "cell_type": "code",
   "execution_count": 14,
   "id": "5a06f435",
   "metadata": {},
   "outputs": [
    {
     "data": {
      "text/html": [
       "<div>\n",
       "<style scoped>\n",
       "    .dataframe tbody tr th:only-of-type {\n",
       "        vertical-align: middle;\n",
       "    }\n",
       "\n",
       "    .dataframe tbody tr th {\n",
       "        vertical-align: top;\n",
       "    }\n",
       "\n",
       "    .dataframe thead th {\n",
       "        text-align: right;\n",
       "    }\n",
       "</style>\n",
       "<table border=\"1\" class=\"dataframe\">\n",
       "  <thead>\n",
       "    <tr style=\"text-align: right;\">\n",
       "      <th></th>\n",
       "      <th>valor1</th>\n",
       "      <th>nombre</th>\n",
       "      <th>valor2</th>\n",
       "    </tr>\n",
       "  </thead>\n",
       "  <tbody>\n",
       "    <tr>\n",
       "      <th>0</th>\n",
       "      <td>0</td>\n",
       "      <td>said</td>\n",
       "      <td>2</td>\n",
       "    </tr>\n",
       "    <tr>\n",
       "      <th>1</th>\n",
       "      <td>2</td>\n",
       "      <td>jared</td>\n",
       "      <td>5</td>\n",
       "    </tr>\n",
       "    <tr>\n",
       "      <th>2</th>\n",
       "      <td>1</td>\n",
       "      <td>said</td>\n",
       "      <td>4</td>\n",
       "    </tr>\n",
       "    <tr>\n",
       "      <th>3</th>\n",
       "      <td>4</td>\n",
       "      <td>said</td>\n",
       "      <td>2</td>\n",
       "    </tr>\n",
       "    <tr>\n",
       "      <th>4</th>\n",
       "      <td>2</td>\n",
       "      <td>misra</td>\n",
       "      <td>3</td>\n",
       "    </tr>\n",
       "    <tr>\n",
       "      <th>5</th>\n",
       "      <td>1</td>\n",
       "      <td>said</td>\n",
       "      <td>7</td>\n",
       "    </tr>\n",
       "    <tr>\n",
       "      <th>6</th>\n",
       "      <td>0</td>\n",
       "      <td>misra</td>\n",
       "      <td>4</td>\n",
       "    </tr>\n",
       "    <tr>\n",
       "      <th>7</th>\n",
       "      <td>2</td>\n",
       "      <td>misra</td>\n",
       "      <td>5</td>\n",
       "    </tr>\n",
       "    <tr>\n",
       "      <th>8</th>\n",
       "      <td>1</td>\n",
       "      <td>jared</td>\n",
       "      <td>6</td>\n",
       "    </tr>\n",
       "  </tbody>\n",
       "</table>\n",
       "</div>"
      ],
      "text/plain": [
       "   valor1 nombre  valor2\n",
       "0       0   said       2\n",
       "1       2  jared       5\n",
       "2       1   said       4\n",
       "3       4   said       2\n",
       "4       2  misra       3\n",
       "5       1   said       7\n",
       "6       0  misra       4\n",
       "7       2  misra       5\n",
       "8       1  jared       6"
      ]
     },
     "execution_count": 14,
     "metadata": {},
     "output_type": "execute_result"
    }
   ],
   "source": [
    "pd.DataFrame(frame, columns=['valor1', 'nombre', 'valor2'])"
   ]
  },
  {
   "cell_type": "markdown",
   "id": "3b070ab8",
   "metadata": {},
   "source": [
    "Si se pasa una columna no contenida en el diccionario, aparecera con valores faltantes en el resultado."
   ]
  },
  {
   "cell_type": "code",
   "execution_count": 15,
   "id": "f1c6e440",
   "metadata": {},
   "outputs": [
    {
     "data": {
      "text/html": [
       "<div>\n",
       "<style scoped>\n",
       "    .dataframe tbody tr th:only-of-type {\n",
       "        vertical-align: middle;\n",
       "    }\n",
       "\n",
       "    .dataframe tbody tr th {\n",
       "        vertical-align: top;\n",
       "    }\n",
       "\n",
       "    .dataframe thead th {\n",
       "        text-align: right;\n",
       "    }\n",
       "</style>\n",
       "<table border=\"1\" class=\"dataframe\">\n",
       "  <thead>\n",
       "    <tr style=\"text-align: right;\">\n",
       "      <th></th>\n",
       "      <th>valor2</th>\n",
       "      <th>valor1</th>\n",
       "      <th>nombre</th>\n",
       "      <th>direccion</th>\n",
       "    </tr>\n",
       "  </thead>\n",
       "  <tbody>\n",
       "    <tr>\n",
       "      <th>0</th>\n",
       "      <td>2</td>\n",
       "      <td>0</td>\n",
       "      <td>said</td>\n",
       "      <td>NaN</td>\n",
       "    </tr>\n",
       "    <tr>\n",
       "      <th>1</th>\n",
       "      <td>5</td>\n",
       "      <td>2</td>\n",
       "      <td>jared</td>\n",
       "      <td>NaN</td>\n",
       "    </tr>\n",
       "    <tr>\n",
       "      <th>2</th>\n",
       "      <td>4</td>\n",
       "      <td>1</td>\n",
       "      <td>said</td>\n",
       "      <td>NaN</td>\n",
       "    </tr>\n",
       "    <tr>\n",
       "      <th>3</th>\n",
       "      <td>2</td>\n",
       "      <td>4</td>\n",
       "      <td>said</td>\n",
       "      <td>NaN</td>\n",
       "    </tr>\n",
       "    <tr>\n",
       "      <th>4</th>\n",
       "      <td>3</td>\n",
       "      <td>2</td>\n",
       "      <td>misra</td>\n",
       "      <td>NaN</td>\n",
       "    </tr>\n",
       "    <tr>\n",
       "      <th>5</th>\n",
       "      <td>7</td>\n",
       "      <td>1</td>\n",
       "      <td>said</td>\n",
       "      <td>NaN</td>\n",
       "    </tr>\n",
       "    <tr>\n",
       "      <th>6</th>\n",
       "      <td>4</td>\n",
       "      <td>0</td>\n",
       "      <td>misra</td>\n",
       "      <td>NaN</td>\n",
       "    </tr>\n",
       "    <tr>\n",
       "      <th>7</th>\n",
       "      <td>5</td>\n",
       "      <td>2</td>\n",
       "      <td>misra</td>\n",
       "      <td>NaN</td>\n",
       "    </tr>\n",
       "    <tr>\n",
       "      <th>8</th>\n",
       "      <td>6</td>\n",
       "      <td>1</td>\n",
       "      <td>jared</td>\n",
       "      <td>NaN</td>\n",
       "    </tr>\n",
       "  </tbody>\n",
       "</table>\n",
       "</div>"
      ],
      "text/plain": [
       "   valor2  valor1 nombre  direccion\n",
       "0       2       0   said        NaN\n",
       "1       5       2  jared        NaN\n",
       "2       4       1   said        NaN\n",
       "3       2       4   said        NaN\n",
       "4       3       2  misra        NaN\n",
       "5       7       1   said        NaN\n",
       "6       4       0  misra        NaN\n",
       "7       5       2  misra        NaN\n",
       "8       6       1  jared        NaN"
      ]
     },
     "execution_count": 15,
     "metadata": {},
     "output_type": "execute_result"
    }
   ],
   "source": [
    "frame2 = pd.DataFrame(frame, columns=['valor2','valor1','nombre','direccion'])\n",
    "frame2"
   ]
  },
  {
   "cell_type": "markdown",
   "id": "2b3786c1",
   "metadata": {},
   "source": [
    "Es posible recuperar una columna de un ***DataFrame*** como una ***Serie*** o bien mediante la notación de estilo diccionario o utilizando la notación de atributo de punto."
   ]
  },
  {
   "cell_type": "code",
   "execution_count": 19,
   "id": "060cdbc5",
   "metadata": {},
   "outputs": [
    {
     "name": "stdout",
     "output_type": "stream",
     "text": [
      "0     said\n",
      "1    jared\n",
      "2     said\n",
      "3     said\n",
      "4    misra\n",
      "5     said\n",
      "6    misra\n",
      "7    misra\n",
      "8    jared\n",
      "Name: nombre, dtype: object\n",
      "\n",
      "0    0\n",
      "1    2\n",
      "2    1\n",
      "3    4\n",
      "4    2\n",
      "5    1\n",
      "6    0\n",
      "7    2\n",
      "8    1\n",
      "Name: valor1, dtype: int64\n"
     ]
    }
   ],
   "source": [
    "print(f'{frame2['nombre']}')\n",
    "print(f'\\n{frame2.valor1}')"
   ]
  },
  {
   "cell_type": "markdown",
   "id": "4673c19b",
   "metadata": {},
   "source": [
    "El método *del* se puede emplear después ára eliminar columnas."
   ]
  },
  {
   "cell_type": "code",
   "execution_count": 20,
   "id": "b6bff90b",
   "metadata": {},
   "outputs": [
    {
     "data": {
      "text/html": [
       "<div>\n",
       "<style scoped>\n",
       "    .dataframe tbody tr th:only-of-type {\n",
       "        vertical-align: middle;\n",
       "    }\n",
       "\n",
       "    .dataframe tbody tr th {\n",
       "        vertical-align: top;\n",
       "    }\n",
       "\n",
       "    .dataframe thead th {\n",
       "        text-align: right;\n",
       "    }\n",
       "</style>\n",
       "<table border=\"1\" class=\"dataframe\">\n",
       "  <thead>\n",
       "    <tr style=\"text-align: right;\">\n",
       "      <th></th>\n",
       "      <th>valor2</th>\n",
       "      <th>valor1</th>\n",
       "      <th>nombre</th>\n",
       "    </tr>\n",
       "  </thead>\n",
       "  <tbody>\n",
       "    <tr>\n",
       "      <th>0</th>\n",
       "      <td>2</td>\n",
       "      <td>0</td>\n",
       "      <td>said</td>\n",
       "    </tr>\n",
       "    <tr>\n",
       "      <th>1</th>\n",
       "      <td>5</td>\n",
       "      <td>2</td>\n",
       "      <td>jared</td>\n",
       "    </tr>\n",
       "    <tr>\n",
       "      <th>2</th>\n",
       "      <td>4</td>\n",
       "      <td>1</td>\n",
       "      <td>said</td>\n",
       "    </tr>\n",
       "    <tr>\n",
       "      <th>3</th>\n",
       "      <td>2</td>\n",
       "      <td>4</td>\n",
       "      <td>said</td>\n",
       "    </tr>\n",
       "    <tr>\n",
       "      <th>4</th>\n",
       "      <td>3</td>\n",
       "      <td>2</td>\n",
       "      <td>misra</td>\n",
       "    </tr>\n",
       "    <tr>\n",
       "      <th>5</th>\n",
       "      <td>7</td>\n",
       "      <td>1</td>\n",
       "      <td>said</td>\n",
       "    </tr>\n",
       "    <tr>\n",
       "      <th>6</th>\n",
       "      <td>4</td>\n",
       "      <td>0</td>\n",
       "      <td>misra</td>\n",
       "    </tr>\n",
       "    <tr>\n",
       "      <th>7</th>\n",
       "      <td>5</td>\n",
       "      <td>2</td>\n",
       "      <td>misra</td>\n",
       "    </tr>\n",
       "    <tr>\n",
       "      <th>8</th>\n",
       "      <td>6</td>\n",
       "      <td>1</td>\n",
       "      <td>jared</td>\n",
       "    </tr>\n",
       "  </tbody>\n",
       "</table>\n",
       "</div>"
      ],
      "text/plain": [
       "   valor2  valor1 nombre\n",
       "0       2       0   said\n",
       "1       5       2  jared\n",
       "2       4       1   said\n",
       "3       2       4   said\n",
       "4       3       2  misra\n",
       "5       7       1   said\n",
       "6       4       0  misra\n",
       "7       5       2  misra\n",
       "8       6       1  jared"
      ]
     },
     "execution_count": 20,
     "metadata": {},
     "output_type": "execute_result"
    }
   ],
   "source": [
    "del frame2['direccion']\n",
    "frame2"
   ]
  },
  {
   "cell_type": "markdown",
   "id": "c127ea02",
   "metadata": {},
   "source": [
    "*reindex* reordena los datos segun el nuevo índice, introduciendo los valores faltantes si algunos valores de índice no estaban ya representados."
   ]
  },
  {
   "cell_type": "code",
   "execution_count": 22,
   "id": "b1a2a150",
   "metadata": {},
   "outputs": [
    {
     "data": {
      "text/plain": [
       "9   NaN\n",
       "8   NaN\n",
       "7   NaN\n",
       "6   NaN\n",
       "dtype: float64"
      ]
     },
     "execution_count": 22,
     "metadata": {},
     "output_type": "execute_result"
    }
   ],
   "source": [
    "obj3 = obj2.reindex([9,8,7,6])\n",
    "obj3"
   ]
  },
  {
   "cell_type": "markdown",
   "id": "990d9e9c",
   "metadata": {},
   "source": [
    "Para ***Series*** ordenadas, como, por ejemplo, las ***Series*** temporales, quizas sea más interesante interpolar o rellenar con valores al reidexar. La opcióin *method*\n",
    "los permite hacer esto, utilizando un método como *ffill* que rellena hacia adelantge los valores."
   ]
  },
  {
   "cell_type": "code",
   "execution_count": 26,
   "id": "5195a202",
   "metadata": {},
   "outputs": [
    {
     "data": {
      "text/plain": [
       "0      NaN\n",
       "1     azul\n",
       "2    verde\n",
       "3     rojo\n",
       "4     rojo\n",
       "5     rojo\n",
       "dtype: object"
      ]
     },
     "execution_count": 26,
     "metadata": {},
     "output_type": "execute_result"
    }
   ],
   "source": [
    "obj3 = pd.Series(['azul','verde','rojo'], index=[1,2,3])\n",
    "obj3.reindex(np.arange(6), method='ffill')"
   ]
  }
 ],
 "metadata": {
  "kernelspec": {
   "display_name": "venv",
   "language": "python",
   "name": "python3"
  },
  "language_info": {
   "codemirror_mode": {
    "name": "ipython",
    "version": 3
   },
   "file_extension": ".py",
   "mimetype": "text/x-python",
   "name": "python",
   "nbconvert_exporter": "python",
   "pygments_lexer": "ipython3",
   "version": "3.12.1"
  }
 },
 "nbformat": 4,
 "nbformat_minor": 5
}
