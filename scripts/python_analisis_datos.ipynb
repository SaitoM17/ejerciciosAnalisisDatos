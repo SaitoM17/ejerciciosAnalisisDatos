{
 "cells": [
  {
   "cell_type": "code",
   "execution_count": 1,
   "id": "8b9011f0",
   "metadata": {},
   "outputs": [],
   "source": [
    "import numpy as np"
   ]
  },
  {
   "cell_type": "code",
   "execution_count": 2,
   "id": "6d6ea23f",
   "metadata": {},
   "outputs": [
    {
     "data": {
      "text/plain": [
       "array([[1, 2, 3, 4],\n",
       "       [5, 6, 7, 8]])"
      ]
     },
     "execution_count": 2,
     "metadata": {},
     "output_type": "execute_result"
    }
   ],
   "source": [
    "# Crear un pequeño array \n",
    "data = np.array([[1,2,3,4],[5,6,7,8]])\n",
    "data"
   ]
  },
  {
   "cell_type": "code",
   "execution_count": 7,
   "id": "afe7614c",
   "metadata": {},
   "outputs": [
    {
     "name": "stdout",
     "output_type": "stream",
     "text": [
      "Operación 1 = [[10 20 30 40]\n",
      " [50 60 70 80]]\n",
      "Operación 2 = [[ 2  4  6  8]\n",
      " [10 12 14 16]]\n"
     ]
    }
   ],
   "source": [
    "# Realizar operaciones matematicas en el array\n",
    "print(f'Operación 1 = {data * 10}')\n",
    "print(f'Operación 2 = {data + data}')"
   ]
  },
  {
   "cell_type": "markdown",
   "id": "e088f4ad",
   "metadata": {},
   "source": [
    "Un ndarray es un contenedor genérico multidimencional para datos gomogéneos; es decir, todos los elementos deben ser del mismo tipo. Cada array tiene un shape, una tupla de indica el tamaño de cada dimensión, y un dtype, un objerto que describe el tipo de datos del array."
   ]
  },
  {
   "cell_type": "code",
   "execution_count": 12,
   "id": "19c3c445",
   "metadata": {},
   "outputs": [
    {
     "name": "stdout",
     "output_type": "stream",
     "text": [
      "Filas:2\n",
      "Columnas:4\n",
      "Tipo de datos en \"data\": int64\n"
     ]
    }
   ],
   "source": [
    "filas, columnas = data.shape\n",
    "print(f'Filas:{filas}\\nColumnas:{columnas}')\n",
    "\n",
    "print(f'Tipo de datos en \"data\": {data.dtype}')"
   ]
  },
  {
   "cell_type": "markdown",
   "id": "4efa9857",
   "metadata": {},
   "source": [
    "La forma más sencilla de crear un arrya en mediente la función ***array***. Esta función acepta cualquier objeto similar a una secuencia (incluyendo otros arrays) y produce un nuevo array NumPy y conteniendo los datos pasados."
   ]
  },
  {
   "cell_type": "code",
   "execution_count": 14,
   "id": "d797ff92",
   "metadata": {},
   "outputs": [
    {
     "data": {
      "text/plain": [
       "array([1, 2, 3, 4, 5, 6])"
      ]
     },
     "execution_count": 14,
     "metadata": {},
     "output_type": "execute_result"
    }
   ],
   "source": [
    "data1 = [1,2,3,4,5,6]\n",
    "arr1 = np.array(data1)\n",
    "arr1"
   ]
  },
  {
   "cell_type": "markdown",
   "id": "8aad4d22",
   "metadata": {},
   "source": [
    "Las secuencias anidadas, una lista de lista de la misma longitud, sera convertidas en un array multidimensional."
   ]
  },
  {
   "cell_type": "code",
   "execution_count": 16,
   "id": "a7402c2b",
   "metadata": {},
   "outputs": [
    {
     "data": {
      "text/plain": [
       "array([[ 1,  2,  3,  4,  5,  6],\n",
       "       [ 7,  8,  9, 10, 11, 12]])"
      ]
     },
     "execution_count": 16,
     "metadata": {},
     "output_type": "execute_result"
    }
   ],
   "source": [
    "data2 = [[1,2,3,4,5,6,],[7,8,9,10,11,12]]\n",
    "arr2 = np.array(data2)\n",
    "arr2"
   ]
  },
  {
   "cell_type": "markdown",
   "id": "84acaf41",
   "metadata": {},
   "source": [
    "Hay una serie de funciones adicionales para crear nuevos arrays. \n",
    "* **numpy.zeros** y **numpy.ones**: crean arrays de ceros y unos, respectivamente, con una determinada longitud o forma.\n",
    "* **numpy.empty**: crea un array sin inicializar sus valores a ningún valor especial."
   ]
  },
  {
   "cell_type": "code",
   "execution_count": 17,
   "id": "95967993",
   "metadata": {},
   "outputs": [
    {
     "data": {
      "text/plain": [
       "array([0., 0., 0., 0., 0., 0., 0., 0., 0., 0.])"
      ]
     },
     "execution_count": 17,
     "metadata": {},
     "output_type": "execute_result"
    }
   ],
   "source": [
    "np.zeros(10)"
   ]
  },
  {
   "cell_type": "code",
   "execution_count": 20,
   "id": "d85a4436",
   "metadata": {},
   "outputs": [
    {
     "data": {
      "text/plain": [
       "array([1., 1., 1., 1., 1., 1., 1., 1., 1., 1.])"
      ]
     },
     "execution_count": 20,
     "metadata": {},
     "output_type": "execute_result"
    }
   ],
   "source": [
    "np.ones(10)"
   ]
  },
  {
   "cell_type": "code",
   "execution_count": 18,
   "id": "a65caa21",
   "metadata": {},
   "outputs": [
    {
     "data": {
      "text/plain": [
       "array([[0., 0., 0., 0., 0., 0.],\n",
       "       [0., 0., 0., 0., 0., 0.],\n",
       "       [0., 0., 0., 0., 0., 0.]])"
      ]
     },
     "execution_count": 18,
     "metadata": {},
     "output_type": "execute_result"
    }
   ],
   "source": [
    "np.zeros((3,6))"
   ]
  },
  {
   "cell_type": "code",
   "execution_count": 23,
   "id": "6b518554",
   "metadata": {},
   "outputs": [
    {
     "data": {
      "text/plain": [
       "array([[1., 1., 1., 1., 1., 1.],\n",
       "       [1., 1., 1., 1., 1., 1.],\n",
       "       [1., 1., 1., 1., 1., 1.]])"
      ]
     },
     "execution_count": 23,
     "metadata": {},
     "output_type": "execute_result"
    }
   ],
   "source": [
    "np.ones((3,6))"
   ]
  },
  {
   "cell_type": "code",
   "execution_count": 26,
   "id": "89c145e5",
   "metadata": {},
   "outputs": [
    {
     "data": {
      "text/plain": [
       "array([[[4.9e-324, 9.9e-324],\n",
       "        [1.5e-323, 2.0e-323],\n",
       "        [2.5e-323, 3.0e-323]],\n",
       "\n",
       "       [[3.5e-323, 4.0e-323],\n",
       "        [4.4e-323, 4.9e-323],\n",
       "        [5.4e-323, 5.9e-323]]])"
      ]
     },
     "execution_count": 26,
     "metadata": {},
     "output_type": "execute_result"
    }
   ],
   "source": [
    "np.empty((2,3,2))"
   ]
  },
  {
   "cell_type": "markdown",
   "id": "1b1ed0de",
   "metadata": {},
   "source": [
    "**np.arange** es un una versión con valores de la función range de python."
   ]
  },
  {
   "cell_type": "code",
   "execution_count": 27,
   "id": "2a068ecd",
   "metadata": {},
   "outputs": [
    {
     "data": {
      "text/plain": [
       "array([ 0,  1,  2,  3,  4,  5,  6,  7,  8,  9, 10, 11, 12, 13, 14])"
      ]
     },
     "execution_count": 27,
     "metadata": {},
     "output_type": "execute_result"
    }
   ],
   "source": [
    "np.arange(15)"
   ]
  },
  {
   "cell_type": "markdown",
   "id": "68c37f20",
   "metadata": {},
   "source": [
    "##### **Aritmética con Array NumPy**\n",
    "\n",
    "Los array son importantes por que permiten operaciones en lotes con datos sin escribir bubles for. Los usuarios de NumPy llaman a estos vertorización. Cualquier operació aritmética entre arrays del mismo tamaño se aplica elemento por elemento.\n",
    "\n",
    "Las operaciones aritméticas con escalares propagan el argumento escalar a cada elemento del array.\n",
    "\n",
    "La comparación entre array del mismo tamaño producen array booleanos."
   ]
  },
  {
   "cell_type": "code",
   "execution_count": null,
   "id": "0ccc8cb3",
   "metadata": {},
   "outputs": [
    {
     "data": {
      "text/plain": [
       "array([[ 1,  4,  9, 16, 25, 36],\n",
       "       [ 7, 16, 27, 40, 55, 72]])"
      ]
     },
     "execution_count": 28,
     "metadata": {},
     "output_type": "execute_result"
    }
   ],
   "source": [
    "# Operaciones aritméticas\n",
    "arr1 * arr2"
   ]
  },
  {
   "cell_type": "code",
   "execution_count": 29,
   "id": "4934ba59",
   "metadata": {},
   "outputs": [
    {
     "data": {
      "text/plain": [
       "array([[1.        , 0.5       , 0.33333333, 0.25      , 0.2       ,\n",
       "        0.16666667],\n",
       "       [0.14285714, 0.125     , 0.11111111, 0.1       , 0.09090909,\n",
       "        0.08333333]])"
      ]
     },
     "execution_count": 29,
     "metadata": {},
     "output_type": "execute_result"
    }
   ],
   "source": [
    "# Operaciones aritméticas con escalar\n",
    "1 / arr2"
   ]
  },
  {
   "cell_type": "code",
   "execution_count": 30,
   "id": "13537b94",
   "metadata": {},
   "outputs": [
    {
     "data": {
      "text/plain": [
       "array([[False, False, False, False, False, False],\n",
       "       [False, False, False, False, False, False]])"
      ]
     },
     "execution_count": 30,
     "metadata": {},
     "output_type": "execute_result"
    }
   ],
   "source": [
    "# Array booleanos\n",
    "arr1 > arr2"
   ]
  },
  {
   "cell_type": "markdown",
   "id": "363f206d",
   "metadata": {},
   "source": [
    "El indexado de array en NumPy es un tema de gran profundidad, ya que hay muchas formas en las que se pueden querer seleccioanr un conjuinto de datos o elemento individuales. Los array unidimensionales son senciilos: a primera vista actuán de forma similar a las listas en Python."
   ]
  },
  {
   "cell_type": "code",
   "execution_count": 34,
   "id": "f0a018bf",
   "metadata": {},
   "outputs": [
    {
     "name": "stdout",
     "output_type": "stream",
     "text": [
      "[5]: 5\n",
      "[5:8][5 6 7]\n"
     ]
    }
   ],
   "source": [
    "arr3 = np.arange(10)\n",
    "print(f'[5]: {arr3[5]}')\n",
    "print(f'[5:8]{arr3[5:8]}')\n"
   ]
  },
  {
   "cell_type": "code",
   "execution_count": 35,
   "id": "096ad464",
   "metadata": {},
   "outputs": [
    {
     "data": {
      "text/plain": [
       "array([5, 6, 7])"
      ]
     },
     "execution_count": 35,
     "metadata": {},
     "output_type": "execute_result"
    }
   ],
   "source": [
    "arr_slice = arr3[5:8]\n",
    "arr_slice"
   ]
  },
  {
   "cell_type": "code",
   "execution_count": 36,
   "id": "e934ef96",
   "metadata": {},
   "outputs": [
    {
     "data": {
      "text/plain": [
       "array([    0,     1,     2,     3,     4,     5, 12345,     7,     8,\n",
       "           9])"
      ]
     },
     "execution_count": 36,
     "metadata": {},
     "output_type": "execute_result"
    }
   ],
   "source": [
    "arr_slice[1] = 12345\n",
    "arr3"
   ]
  },
  {
   "cell_type": "code",
   "execution_count": 38,
   "id": "d5110535",
   "metadata": {},
   "outputs": [
    {
     "data": {
      "text/plain": [
       "array([ 0,  1,  2,  3,  4, 64, 64, 64,  8,  9])"
      ]
     },
     "execution_count": 38,
     "metadata": {},
     "output_type": "execute_result"
    }
   ],
   "source": [
    "arr_slice[:] = 64\n",
    "arr3"
   ]
  },
  {
   "cell_type": "markdown",
   "id": "5b2f8d84",
   "metadata": {},
   "source": [
    "##### Generar números pseudoaleatoria"
   ]
  },
  {
   "cell_type": "code",
   "execution_count": 40,
   "id": "6d2a1e70",
   "metadata": {},
   "outputs": [
    {
     "data": {
      "text/plain": [
       "array([[-0.93623933,  0.62657063,  1.45352753, -1.68253658],\n",
       "       [ 0.26668342,  1.81895265,  1.3875335 , -1.2720463 ],\n",
       "       [ 1.75284694, -0.44035323, -0.38308094, -0.60122777],\n",
       "       [-0.07031809, -0.33558919, -0.31003375,  1.23365377]])"
      ]
     },
     "execution_count": 40,
     "metadata": {},
     "output_type": "execute_result"
    }
   ],
   "source": [
    "samples = np.random.standard_normal(size=(4,4))\n",
    "samples"
   ]
  },
  {
   "cell_type": "markdown",
   "id": "005fe83b",
   "metadata": {},
   "source": [
    "##### Explesar lógica condicional como operaciones de array"
   ]
  },
  {
   "cell_type": "code",
   "execution_count": 44,
   "id": "ec6e468f",
   "metadata": {},
   "outputs": [
    {
     "data": {
      "text/plain": [
       "[np.float64(1.1),\n",
       " np.float64(2.2),\n",
       " np.float64(1.3),\n",
       " np.float64(1.4),\n",
       " np.float64(2.5)]"
      ]
     },
     "execution_count": 44,
     "metadata": {},
     "output_type": "execute_result"
    }
   ],
   "source": [
    "xarr = np.array([1.1,1.2,1.3,1.4,1.5])\n",
    "yarr = np.array([2.1,2.2,2.3,2.4,2.5])\n",
    "cond = np.array([True, False, True, True, False])\n",
    "\n",
    "result = [(x if c else y)\n",
    "            for x, y, c in zip(xarr,yarr,cond)]\n",
    "result\n"
   ]
  },
  {
   "cell_type": "code",
   "execution_count": null,
   "id": "747ba137",
   "metadata": {},
   "outputs": [
    {
     "data": {
      "text/plain": [
       "array([1.1, 2.2, 1.3, 1.4, 2.5])"
      ]
     },
     "execution_count": 48,
     "metadata": {},
     "output_type": "execute_result"
    }
   ],
   "source": [
    "# cond = condicióin, xarr = cunado cumple la condición, yarr = cuando no cumple la condición.\n",
    "result = np.where(cond,xarr,yarr)\n",
    "result"
   ]
  },
  {
   "cell_type": "markdown",
   "id": "4ddc55fe",
   "metadata": {},
   "source": [
    "##### Métodos matemáticos y estadísticos\n",
    "Es posible acceder a un conjunto de funciones matemáticas, que calculan estadísticas sobre un array completo o sobre los datos de un eje, como métodosde la clase array. Se pueden emplear agregaciones (a veces llamadas reducciones) como:\n",
    "* sum\n",
    "* mean\n",
    "* std (desviación estándar)\n",
    "o bien llamando al método de instacia de array o utilizando la función NumPy de máximo nivel. "
   ]
  },
  {
   "cell_type": "code",
   "execution_count": 55,
   "id": "3aef2af4",
   "metadata": {},
   "outputs": [
    {
     "name": "stdout",
     "output_type": "stream",
     "text": [
      "arr.mean(): 0.14885978056462496\n",
      "np.mean(): 0.14885978056462496\n"
     ]
    }
   ],
   "source": [
    "arr = np.random.standard_normal((5,4))\n",
    "arr\n",
    "\n",
    "print(f'arr.mean(): {arr.mean()}')\n",
    "print(f'np.mean(): {np.mean(arr)}')"
   ]
  },
  {
   "cell_type": "code",
   "execution_count": 61,
   "id": "3ca89738",
   "metadata": {},
   "outputs": [],
   "source": [
    "import pandas as pd"
   ]
  },
  {
   "cell_type": "code",
   "execution_count": 65,
   "id": "97833df6",
   "metadata": {},
   "outputs": [
    {
     "data": {
      "text/html": [
       "<div>\n",
       "<style scoped>\n",
       "    .dataframe tbody tr th:only-of-type {\n",
       "        vertical-align: middle;\n",
       "    }\n",
       "\n",
       "    .dataframe tbody tr th {\n",
       "        vertical-align: top;\n",
       "    }\n",
       "\n",
       "    .dataframe thead th {\n",
       "        text-align: right;\n",
       "    }\n",
       "</style>\n",
       "<table border=\"1\" class=\"dataframe\">\n",
       "  <thead>\n",
       "    <tr style=\"text-align: right;\">\n",
       "      <th></th>\n",
       "      <th>col1</th>\n",
       "      <th>col2</th>\n",
       "    </tr>\n",
       "  </thead>\n",
       "  <tbody>\n",
       "    <tr>\n",
       "      <th>0</th>\n",
       "      <td>1</td>\n",
       "      <td>1</td>\n",
       "    </tr>\n",
       "    <tr>\n",
       "      <th>1</th>\n",
       "      <td>2</td>\n",
       "      <td>2</td>\n",
       "    </tr>\n",
       "    <tr>\n",
       "      <th>2</th>\n",
       "      <td>3</td>\n",
       "      <td>3</td>\n",
       "    </tr>\n",
       "    <tr>\n",
       "      <th>3</th>\n",
       "      <td>4</td>\n",
       "      <td>4</td>\n",
       "    </tr>\n",
       "    <tr>\n",
       "      <th>4</th>\n",
       "      <td>5</td>\n",
       "      <td>5</td>\n",
       "    </tr>\n",
       "    <tr>\n",
       "      <th>5</th>\n",
       "      <td>6</td>\n",
       "      <td>6</td>\n",
       "    </tr>\n",
       "    <tr>\n",
       "      <th>6</th>\n",
       "      <td>7</td>\n",
       "      <td>7</td>\n",
       "    </tr>\n",
       "    <tr>\n",
       "      <th>7</th>\n",
       "      <td>8</td>\n",
       "      <td>8</td>\n",
       "    </tr>\n",
       "    <tr>\n",
       "      <th>8</th>\n",
       "      <td>9</td>\n",
       "      <td>9</td>\n",
       "    </tr>\n",
       "    <tr>\n",
       "      <th>9</th>\n",
       "      <td>10</td>\n",
       "      <td>10</td>\n",
       "    </tr>\n",
       "    <tr>\n",
       "      <th>10</th>\n",
       "      <td>11</td>\n",
       "      <td>11</td>\n",
       "    </tr>\n",
       "    <tr>\n",
       "      <th>11</th>\n",
       "      <td>12</td>\n",
       "      <td>12</td>\n",
       "    </tr>\n",
       "    <tr>\n",
       "      <th>12</th>\n",
       "      <td>13</td>\n",
       "      <td>13</td>\n",
       "    </tr>\n",
       "    <tr>\n",
       "      <th>13</th>\n",
       "      <td>14</td>\n",
       "      <td>14</td>\n",
       "    </tr>\n",
       "  </tbody>\n",
       "</table>\n",
       "</div>"
      ],
      "text/plain": [
       "    col1  col2\n",
       "0      1     1\n",
       "1      2     2\n",
       "2      3     3\n",
       "3      4     4\n",
       "4      5     5\n",
       "5      6     6\n",
       "6      7     7\n",
       "7      8     8\n",
       "8      9     9\n",
       "9     10    10\n",
       "10    11    11\n",
       "11    12    12\n",
       "12    13    13\n",
       "13    14    14"
      ]
     },
     "execution_count": 65,
     "metadata": {},
     "output_type": "execute_result"
    }
   ],
   "source": [
    "col1 = np.arange(1,15)\n",
    "col2 = np.arange(1,15)\n",
    "\n",
    "dic = {\n",
    "    'col1': col1,\n",
    "    'col2': col2\n",
    "}\n",
    "\n",
    "df = pd.DataFrame(dic)\n",
    "df"
   ]
  },
  {
   "cell_type": "markdown",
   "id": "273dba28",
   "metadata": {},
   "source": [
    "##### Métodos para Arrays Booleanos"
   ]
  },
  {
   "cell_type": "markdown",
   "id": "53045944",
   "metadata": {},
   "source": [
    "Los valores booleanos son forzados al valor 1(True) y 0(False). De este modos, *sum* se utiliza a menudo como una forma de contar valores **True** en un array booleano "
   ]
  },
  {
   "cell_type": "code",
   "execution_count": 67,
   "id": "6bf61acc",
   "metadata": {},
   "outputs": [
    {
     "name": "stdout",
     "output_type": "stream",
     "text": [
      "Positivos:55\n",
      "Negativos:45\n"
     ]
    }
   ],
   "source": [
    "arr = np.random.standard_normal(100)\n",
    "valores_positivos = (arr > 0).sum()\n",
    "valores_negativos = (arr <= 0).sum()\n",
    "print(f'Positivos:{valores_positivos}\\nNegativos:{valores_negativos}')"
   ]
  },
  {
   "cell_type": "markdown",
   "id": "2b501ba1",
   "metadata": {},
   "source": [
    "Dos métodos adicionales, *any*,*all*, son útiles especialmene para array booleanos. **any()** verifica si uno o varios valores de un array es True, mientras que **all()** comprueba que todos los valores son True."
   ]
  },
  {
   "cell_type": "code",
   "execution_count": 72,
   "id": "d56dc44f",
   "metadata": {},
   "outputs": [
    {
     "name": "stdout",
     "output_type": "stream",
     "text": [
      "True\n",
      "False\n"
     ]
    }
   ],
   "source": [
    "bools = np.array([False, False, False, True, False])\n",
    "\n",
    "print(bools.any())\n",
    "print(bools.all())"
   ]
  },
  {
   "cell_type": "markdown",
   "id": "405e90d2",
   "metadata": {},
   "source": [
    "Estos métodos funcionan también con arrays no booleanos, donde los elementos que no son ceros son tratados como True."
   ]
  },
  {
   "cell_type": "markdown",
   "id": "8e3ee2b2",
   "metadata": {},
   "source": [
    "##### Ordenación\n",
    "\n",
    "Los arrays puede ordenarse en el momento con el método sort."
   ]
  },
  {
   "cell_type": "code",
   "execution_count": 80,
   "id": "98a172d6",
   "metadata": {},
   "outputs": [
    {
     "name": "stdout",
     "output_type": "stream",
     "text": [
      "Original: [-0.19063484  0.76087368 -1.01335829 -0.689798   -0.22771521 -0.04089749]\n"
     ]
    }
   ],
   "source": [
    "arr = np.random.standard_normal(6)\n",
    "print(f'Original: {arr}')"
   ]
  },
  {
   "cell_type": "code",
   "execution_count": 81,
   "id": "f20eee5e",
   "metadata": {},
   "outputs": [
    {
     "data": {
      "text/plain": [
       "array([-1.01335829, -0.689798  , -0.22771521, -0.19063484, -0.04089749,\n",
       "        0.76087368])"
      ]
     },
     "execution_count": 81,
     "metadata": {},
     "output_type": "execute_result"
    }
   ],
   "source": [
    "arr.sort()\n",
    "arr"
   ]
  }
 ],
 "metadata": {
  "kernelspec": {
   "display_name": "venv",
   "language": "python",
   "name": "python3"
  },
  "language_info": {
   "codemirror_mode": {
    "name": "ipython",
    "version": 3
   },
   "file_extension": ".py",
   "mimetype": "text/x-python",
   "name": "python",
   "nbconvert_exporter": "python",
   "pygments_lexer": "ipython3",
   "version": "3.12.1"
  }
 },
 "nbformat": 4,
 "nbformat_minor": 5
}
