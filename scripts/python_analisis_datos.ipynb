{
 "cells": [
  {
   "cell_type": "code",
   "execution_count": 255,
   "id": "8b9011f0",
   "metadata": {},
   "outputs": [],
   "source": [
    "import numpy as np\n",
    "import pandas as pd\n",
    "import seaborn as sns\n",
    "import matplotlib.pyplot as plt\n",
    "import random \n",
    "from datetime import datetime"
   ]
  },
  {
   "cell_type": "code",
   "execution_count": 2,
   "id": "6d6ea23f",
   "metadata": {},
   "outputs": [
    {
     "data": {
      "text/plain": [
       "array([[1, 2, 3, 4],\n",
       "       [5, 6, 7, 8]])"
      ]
     },
     "execution_count": 2,
     "metadata": {},
     "output_type": "execute_result"
    }
   ],
   "source": [
    "# Crear un pequeño array \n",
    "data = np.array([[1,2,3,4],[5,6,7,8]])\n",
    "data"
   ]
  },
  {
   "cell_type": "code",
   "execution_count": 7,
   "id": "afe7614c",
   "metadata": {},
   "outputs": [
    {
     "name": "stdout",
     "output_type": "stream",
     "text": [
      "Operación 1 = [[10 20 30 40]\n",
      " [50 60 70 80]]\n",
      "Operación 2 = [[ 2  4  6  8]\n",
      " [10 12 14 16]]\n"
     ]
    }
   ],
   "source": [
    "# Realizar operaciones matematicas en el array\n",
    "print(f'Operación 1 = {data * 10}')\n",
    "print(f'Operación 2 = {data + data}')"
   ]
  },
  {
   "cell_type": "markdown",
   "id": "e088f4ad",
   "metadata": {},
   "source": [
    "Un ndarray es un contenedor genérico multidimencional para datos gomogéneos; es decir, todos los elementos deben ser del mismo tipo. Cada array tiene un shape, una tupla de indica el tamaño de cada dimensión, y un dtype, un objerto que describe el tipo de datos del array."
   ]
  },
  {
   "cell_type": "code",
   "execution_count": 12,
   "id": "19c3c445",
   "metadata": {},
   "outputs": [
    {
     "name": "stdout",
     "output_type": "stream",
     "text": [
      "Filas:2\n",
      "Columnas:4\n",
      "Tipo de datos en \"data\": int64\n"
     ]
    }
   ],
   "source": [
    "filas, columnas = data.shape\n",
    "print(f'Filas:{filas}\\nColumnas:{columnas}')\n",
    "\n",
    "print(f'Tipo de datos en \"data\": {data.dtype}')"
   ]
  },
  {
   "cell_type": "markdown",
   "id": "4efa9857",
   "metadata": {},
   "source": [
    "La forma más sencilla de crear un arrya en mediente la función ***array***. Esta función acepta cualquier objeto similar a una secuencia (incluyendo otros arrays) y produce un nuevo array NumPy y conteniendo los datos pasados."
   ]
  },
  {
   "cell_type": "code",
   "execution_count": 14,
   "id": "d797ff92",
   "metadata": {},
   "outputs": [
    {
     "data": {
      "text/plain": [
       "array([1, 2, 3, 4, 5, 6])"
      ]
     },
     "execution_count": 14,
     "metadata": {},
     "output_type": "execute_result"
    }
   ],
   "source": [
    "data1 = [1,2,3,4,5,6]\n",
    "arr1 = np.array(data1)\n",
    "arr1"
   ]
  },
  {
   "cell_type": "markdown",
   "id": "8aad4d22",
   "metadata": {},
   "source": [
    "Las secuencias anidadas, una lista de lista de la misma longitud, sera convertidas en un array multidimensional."
   ]
  },
  {
   "cell_type": "code",
   "execution_count": 16,
   "id": "a7402c2b",
   "metadata": {},
   "outputs": [
    {
     "data": {
      "text/plain": [
       "array([[ 1,  2,  3,  4,  5,  6],\n",
       "       [ 7,  8,  9, 10, 11, 12]])"
      ]
     },
     "execution_count": 16,
     "metadata": {},
     "output_type": "execute_result"
    }
   ],
   "source": [
    "data2 = [[1,2,3,4,5,6,],[7,8,9,10,11,12]]\n",
    "arr2 = np.array(data2)\n",
    "arr2"
   ]
  },
  {
   "cell_type": "markdown",
   "id": "84acaf41",
   "metadata": {},
   "source": [
    "Hay una serie de funciones adicionales para crear nuevos arrays. \n",
    "* **numpy.zeros** y **numpy.ones**: crean arrays de ceros y unos, respectivamente, con una determinada longitud o forma.\n",
    "* **numpy.empty**: crea un array sin inicializar sus valores a ningún valor especial."
   ]
  },
  {
   "cell_type": "code",
   "execution_count": 17,
   "id": "95967993",
   "metadata": {},
   "outputs": [
    {
     "data": {
      "text/plain": [
       "array([0., 0., 0., 0., 0., 0., 0., 0., 0., 0.])"
      ]
     },
     "execution_count": 17,
     "metadata": {},
     "output_type": "execute_result"
    }
   ],
   "source": [
    "np.zeros(10)"
   ]
  },
  {
   "cell_type": "code",
   "execution_count": 20,
   "id": "d85a4436",
   "metadata": {},
   "outputs": [
    {
     "data": {
      "text/plain": [
       "array([1., 1., 1., 1., 1., 1., 1., 1., 1., 1.])"
      ]
     },
     "execution_count": 20,
     "metadata": {},
     "output_type": "execute_result"
    }
   ],
   "source": [
    "np.ones(10)"
   ]
  },
  {
   "cell_type": "code",
   "execution_count": 18,
   "id": "a65caa21",
   "metadata": {},
   "outputs": [
    {
     "data": {
      "text/plain": [
       "array([[0., 0., 0., 0., 0., 0.],\n",
       "       [0., 0., 0., 0., 0., 0.],\n",
       "       [0., 0., 0., 0., 0., 0.]])"
      ]
     },
     "execution_count": 18,
     "metadata": {},
     "output_type": "execute_result"
    }
   ],
   "source": [
    "np.zeros((3,6))"
   ]
  },
  {
   "cell_type": "code",
   "execution_count": 23,
   "id": "6b518554",
   "metadata": {},
   "outputs": [
    {
     "data": {
      "text/plain": [
       "array([[1., 1., 1., 1., 1., 1.],\n",
       "       [1., 1., 1., 1., 1., 1.],\n",
       "       [1., 1., 1., 1., 1., 1.]])"
      ]
     },
     "execution_count": 23,
     "metadata": {},
     "output_type": "execute_result"
    }
   ],
   "source": [
    "np.ones((3,6))"
   ]
  },
  {
   "cell_type": "code",
   "execution_count": 26,
   "id": "89c145e5",
   "metadata": {},
   "outputs": [
    {
     "data": {
      "text/plain": [
       "array([[[4.9e-324, 9.9e-324],\n",
       "        [1.5e-323, 2.0e-323],\n",
       "        [2.5e-323, 3.0e-323]],\n",
       "\n",
       "       [[3.5e-323, 4.0e-323],\n",
       "        [4.4e-323, 4.9e-323],\n",
       "        [5.4e-323, 5.9e-323]]])"
      ]
     },
     "execution_count": 26,
     "metadata": {},
     "output_type": "execute_result"
    }
   ],
   "source": [
    "np.empty((2,3,2))"
   ]
  },
  {
   "cell_type": "markdown",
   "id": "1b1ed0de",
   "metadata": {},
   "source": [
    "**np.arange** es un una versión con valores de la función range de python."
   ]
  },
  {
   "cell_type": "code",
   "execution_count": 27,
   "id": "2a068ecd",
   "metadata": {},
   "outputs": [
    {
     "data": {
      "text/plain": [
       "array([ 0,  1,  2,  3,  4,  5,  6,  7,  8,  9, 10, 11, 12, 13, 14])"
      ]
     },
     "execution_count": 27,
     "metadata": {},
     "output_type": "execute_result"
    }
   ],
   "source": [
    "np.arange(15)"
   ]
  },
  {
   "cell_type": "markdown",
   "id": "68c37f20",
   "metadata": {},
   "source": [
    "##### **Aritmética con Array NumPy**\n",
    "\n",
    "Los array son importantes por que permiten operaciones en lotes con datos sin escribir bubles for. Los usuarios de NumPy llaman a estos vertorización. Cualquier operació aritmética entre arrays del mismo tamaño se aplica elemento por elemento.\n",
    "\n",
    "Las operaciones aritméticas con escalares propagan el argumento escalar a cada elemento del array.\n",
    "\n",
    "La comparación entre array del mismo tamaño producen array booleanos."
   ]
  },
  {
   "cell_type": "code",
   "execution_count": null,
   "id": "0ccc8cb3",
   "metadata": {},
   "outputs": [
    {
     "data": {
      "text/plain": [
       "array([[ 1,  4,  9, 16, 25, 36],\n",
       "       [ 7, 16, 27, 40, 55, 72]])"
      ]
     },
     "execution_count": 28,
     "metadata": {},
     "output_type": "execute_result"
    }
   ],
   "source": [
    "# Operaciones aritméticas\n",
    "arr1 * arr2"
   ]
  },
  {
   "cell_type": "code",
   "execution_count": 29,
   "id": "4934ba59",
   "metadata": {},
   "outputs": [
    {
     "data": {
      "text/plain": [
       "array([[1.        , 0.5       , 0.33333333, 0.25      , 0.2       ,\n",
       "        0.16666667],\n",
       "       [0.14285714, 0.125     , 0.11111111, 0.1       , 0.09090909,\n",
       "        0.08333333]])"
      ]
     },
     "execution_count": 29,
     "metadata": {},
     "output_type": "execute_result"
    }
   ],
   "source": [
    "# Operaciones aritméticas con escalar\n",
    "1 / arr2"
   ]
  },
  {
   "cell_type": "code",
   "execution_count": 30,
   "id": "13537b94",
   "metadata": {},
   "outputs": [
    {
     "data": {
      "text/plain": [
       "array([[False, False, False, False, False, False],\n",
       "       [False, False, False, False, False, False]])"
      ]
     },
     "execution_count": 30,
     "metadata": {},
     "output_type": "execute_result"
    }
   ],
   "source": [
    "# Array booleanos\n",
    "arr1 > arr2"
   ]
  },
  {
   "cell_type": "markdown",
   "id": "363f206d",
   "metadata": {},
   "source": [
    "El indexado de array en NumPy es un tema de gran profundidad, ya que hay muchas formas en las que se pueden querer seleccioanr un conjuinto de datos o elemento individuales. Los array unidimensionales son senciilos: a primera vista actuán de forma similar a las listas en Python."
   ]
  },
  {
   "cell_type": "code",
   "execution_count": 34,
   "id": "f0a018bf",
   "metadata": {},
   "outputs": [
    {
     "name": "stdout",
     "output_type": "stream",
     "text": [
      "[5]: 5\n",
      "[5:8][5 6 7]\n"
     ]
    }
   ],
   "source": [
    "arr3 = np.arange(10)\n",
    "print(f'[5]: {arr3[5]}')\n",
    "print(f'[5:8]{arr3[5:8]}')\n"
   ]
  },
  {
   "cell_type": "code",
   "execution_count": 35,
   "id": "096ad464",
   "metadata": {},
   "outputs": [
    {
     "data": {
      "text/plain": [
       "array([5, 6, 7])"
      ]
     },
     "execution_count": 35,
     "metadata": {},
     "output_type": "execute_result"
    }
   ],
   "source": [
    "arr_slice = arr3[5:8]\n",
    "arr_slice"
   ]
  },
  {
   "cell_type": "code",
   "execution_count": 36,
   "id": "e934ef96",
   "metadata": {},
   "outputs": [
    {
     "data": {
      "text/plain": [
       "array([    0,     1,     2,     3,     4,     5, 12345,     7,     8,\n",
       "           9])"
      ]
     },
     "execution_count": 36,
     "metadata": {},
     "output_type": "execute_result"
    }
   ],
   "source": [
    "arr_slice[1] = 12345\n",
    "arr3"
   ]
  },
  {
   "cell_type": "code",
   "execution_count": 38,
   "id": "d5110535",
   "metadata": {},
   "outputs": [
    {
     "data": {
      "text/plain": [
       "array([ 0,  1,  2,  3,  4, 64, 64, 64,  8,  9])"
      ]
     },
     "execution_count": 38,
     "metadata": {},
     "output_type": "execute_result"
    }
   ],
   "source": [
    "arr_slice[:] = 64\n",
    "arr3"
   ]
  },
  {
   "cell_type": "markdown",
   "id": "5b2f8d84",
   "metadata": {},
   "source": [
    "##### Generar números pseudoaleatoria"
   ]
  },
  {
   "cell_type": "code",
   "execution_count": 40,
   "id": "6d2a1e70",
   "metadata": {},
   "outputs": [
    {
     "data": {
      "text/plain": [
       "array([[-0.93623933,  0.62657063,  1.45352753, -1.68253658],\n",
       "       [ 0.26668342,  1.81895265,  1.3875335 , -1.2720463 ],\n",
       "       [ 1.75284694, -0.44035323, -0.38308094, -0.60122777],\n",
       "       [-0.07031809, -0.33558919, -0.31003375,  1.23365377]])"
      ]
     },
     "execution_count": 40,
     "metadata": {},
     "output_type": "execute_result"
    }
   ],
   "source": [
    "samples = np.random.standard_normal(size=(4,4))\n",
    "samples"
   ]
  },
  {
   "cell_type": "markdown",
   "id": "005fe83b",
   "metadata": {},
   "source": [
    "##### Explesar lógica condicional como operaciones de array"
   ]
  },
  {
   "cell_type": "code",
   "execution_count": 44,
   "id": "ec6e468f",
   "metadata": {},
   "outputs": [
    {
     "data": {
      "text/plain": [
       "[np.float64(1.1),\n",
       " np.float64(2.2),\n",
       " np.float64(1.3),\n",
       " np.float64(1.4),\n",
       " np.float64(2.5)]"
      ]
     },
     "execution_count": 44,
     "metadata": {},
     "output_type": "execute_result"
    }
   ],
   "source": [
    "xarr = np.array([1.1,1.2,1.3,1.4,1.5])\n",
    "yarr = np.array([2.1,2.2,2.3,2.4,2.5])\n",
    "cond = np.array([True, False, True, True, False])\n",
    "\n",
    "result = [(x if c else y)\n",
    "            for x, y, c in zip(xarr,yarr,cond)]\n",
    "result\n"
   ]
  },
  {
   "cell_type": "code",
   "execution_count": null,
   "id": "747ba137",
   "metadata": {},
   "outputs": [
    {
     "data": {
      "text/plain": [
       "array([1.1, 2.2, 1.3, 1.4, 2.5])"
      ]
     },
     "execution_count": 48,
     "metadata": {},
     "output_type": "execute_result"
    }
   ],
   "source": [
    "# cond = condicióin, xarr = cunado cumple la condición, yarr = cuando no cumple la condición.\n",
    "result = np.where(cond,xarr,yarr)\n",
    "result"
   ]
  },
  {
   "cell_type": "markdown",
   "id": "4ddc55fe",
   "metadata": {},
   "source": [
    "##### Métodos matemáticos y estadísticos\n",
    "Es posible acceder a un conjunto de funciones matemáticas, que calculan estadísticas sobre un array completo o sobre los datos de un eje, como métodosde la clase array. Se pueden emplear agregaciones (a veces llamadas reducciones) como:\n",
    "* sum\n",
    "* mean\n",
    "* std (desviación estándar)\n",
    "o bien llamando al método de instacia de array o utilizando la función NumPy de máximo nivel. "
   ]
  },
  {
   "cell_type": "code",
   "execution_count": 55,
   "id": "3aef2af4",
   "metadata": {},
   "outputs": [
    {
     "name": "stdout",
     "output_type": "stream",
     "text": [
      "arr.mean(): 0.14885978056462496\n",
      "np.mean(): 0.14885978056462496\n"
     ]
    }
   ],
   "source": [
    "arr = np.random.standard_normal((5,4))\n",
    "arr\n",
    "\n",
    "print(f'arr.mean(): {arr.mean()}')\n",
    "print(f'np.mean(): {np.mean(arr)}')"
   ]
  },
  {
   "cell_type": "code",
   "execution_count": 65,
   "id": "97833df6",
   "metadata": {},
   "outputs": [
    {
     "data": {
      "text/html": [
       "<div>\n",
       "<style scoped>\n",
       "    .dataframe tbody tr th:only-of-type {\n",
       "        vertical-align: middle;\n",
       "    }\n",
       "\n",
       "    .dataframe tbody tr th {\n",
       "        vertical-align: top;\n",
       "    }\n",
       "\n",
       "    .dataframe thead th {\n",
       "        text-align: right;\n",
       "    }\n",
       "</style>\n",
       "<table border=\"1\" class=\"dataframe\">\n",
       "  <thead>\n",
       "    <tr style=\"text-align: right;\">\n",
       "      <th></th>\n",
       "      <th>col1</th>\n",
       "      <th>col2</th>\n",
       "    </tr>\n",
       "  </thead>\n",
       "  <tbody>\n",
       "    <tr>\n",
       "      <th>0</th>\n",
       "      <td>1</td>\n",
       "      <td>1</td>\n",
       "    </tr>\n",
       "    <tr>\n",
       "      <th>1</th>\n",
       "      <td>2</td>\n",
       "      <td>2</td>\n",
       "    </tr>\n",
       "    <tr>\n",
       "      <th>2</th>\n",
       "      <td>3</td>\n",
       "      <td>3</td>\n",
       "    </tr>\n",
       "    <tr>\n",
       "      <th>3</th>\n",
       "      <td>4</td>\n",
       "      <td>4</td>\n",
       "    </tr>\n",
       "    <tr>\n",
       "      <th>4</th>\n",
       "      <td>5</td>\n",
       "      <td>5</td>\n",
       "    </tr>\n",
       "    <tr>\n",
       "      <th>5</th>\n",
       "      <td>6</td>\n",
       "      <td>6</td>\n",
       "    </tr>\n",
       "    <tr>\n",
       "      <th>6</th>\n",
       "      <td>7</td>\n",
       "      <td>7</td>\n",
       "    </tr>\n",
       "    <tr>\n",
       "      <th>7</th>\n",
       "      <td>8</td>\n",
       "      <td>8</td>\n",
       "    </tr>\n",
       "    <tr>\n",
       "      <th>8</th>\n",
       "      <td>9</td>\n",
       "      <td>9</td>\n",
       "    </tr>\n",
       "    <tr>\n",
       "      <th>9</th>\n",
       "      <td>10</td>\n",
       "      <td>10</td>\n",
       "    </tr>\n",
       "    <tr>\n",
       "      <th>10</th>\n",
       "      <td>11</td>\n",
       "      <td>11</td>\n",
       "    </tr>\n",
       "    <tr>\n",
       "      <th>11</th>\n",
       "      <td>12</td>\n",
       "      <td>12</td>\n",
       "    </tr>\n",
       "    <tr>\n",
       "      <th>12</th>\n",
       "      <td>13</td>\n",
       "      <td>13</td>\n",
       "    </tr>\n",
       "    <tr>\n",
       "      <th>13</th>\n",
       "      <td>14</td>\n",
       "      <td>14</td>\n",
       "    </tr>\n",
       "  </tbody>\n",
       "</table>\n",
       "</div>"
      ],
      "text/plain": [
       "    col1  col2\n",
       "0      1     1\n",
       "1      2     2\n",
       "2      3     3\n",
       "3      4     4\n",
       "4      5     5\n",
       "5      6     6\n",
       "6      7     7\n",
       "7      8     8\n",
       "8      9     9\n",
       "9     10    10\n",
       "10    11    11\n",
       "11    12    12\n",
       "12    13    13\n",
       "13    14    14"
      ]
     },
     "execution_count": 65,
     "metadata": {},
     "output_type": "execute_result"
    }
   ],
   "source": [
    "col1 = np.arange(1,15)\n",
    "col2 = np.arange(1,15)\n",
    "\n",
    "dic = {\n",
    "    'col1': col1,\n",
    "    'col2': col2\n",
    "}\n",
    "\n",
    "df = pd.DataFrame(dic)\n",
    "df"
   ]
  },
  {
   "cell_type": "markdown",
   "id": "273dba28",
   "metadata": {},
   "source": [
    "##### Métodos para Arrays Booleanos"
   ]
  },
  {
   "cell_type": "markdown",
   "id": "53045944",
   "metadata": {},
   "source": [
    "Los valores booleanos son forzados al valor 1(True) y 0(False). De este modos, *sum* se utiliza a menudo como una forma de contar valores **True** en un array booleano "
   ]
  },
  {
   "cell_type": "code",
   "execution_count": 67,
   "id": "6bf61acc",
   "metadata": {},
   "outputs": [
    {
     "name": "stdout",
     "output_type": "stream",
     "text": [
      "Positivos:55\n",
      "Negativos:45\n"
     ]
    }
   ],
   "source": [
    "arr = np.random.standard_normal(100)\n",
    "valores_positivos = (arr > 0).sum()\n",
    "valores_negativos = (arr <= 0).sum()\n",
    "print(f'Positivos:{valores_positivos}\\nNegativos:{valores_negativos}')"
   ]
  },
  {
   "cell_type": "markdown",
   "id": "2b501ba1",
   "metadata": {},
   "source": [
    "Dos métodos adicionales, *any*,*all*, son útiles especialmene para array booleanos. **any()** verifica si uno o varios valores de un array es True, mientras que **all()** comprueba que todos los valores son True."
   ]
  },
  {
   "cell_type": "code",
   "execution_count": 72,
   "id": "d56dc44f",
   "metadata": {},
   "outputs": [
    {
     "name": "stdout",
     "output_type": "stream",
     "text": [
      "True\n",
      "False\n"
     ]
    }
   ],
   "source": [
    "bools = np.array([False, False, False, True, False])\n",
    "\n",
    "print(bools.any())\n",
    "print(bools.all())"
   ]
  },
  {
   "cell_type": "markdown",
   "id": "405e90d2",
   "metadata": {},
   "source": [
    "Estos métodos funcionan también con arrays no booleanos, donde los elementos que no son ceros son tratados como True."
   ]
  },
  {
   "cell_type": "markdown",
   "id": "8e3ee2b2",
   "metadata": {},
   "source": [
    "##### Ordenación\n",
    "\n",
    "Los arrays puede ordenarse en el momento con el método sort."
   ]
  },
  {
   "cell_type": "code",
   "execution_count": 80,
   "id": "98a172d6",
   "metadata": {},
   "outputs": [
    {
     "name": "stdout",
     "output_type": "stream",
     "text": [
      "Original: [-0.19063484  0.76087368 -1.01335829 -0.689798   -0.22771521 -0.04089749]\n"
     ]
    }
   ],
   "source": [
    "arr = np.random.standard_normal(6)\n",
    "print(f'Original: {arr}')"
   ]
  },
  {
   "cell_type": "code",
   "execution_count": 81,
   "id": "f20eee5e",
   "metadata": {},
   "outputs": [
    {
     "data": {
      "text/plain": [
       "array([-1.01335829, -0.689798  , -0.22771521, -0.19063484, -0.04089749,\n",
       "        0.76087368])"
      ]
     },
     "execution_count": 81,
     "metadata": {},
     "output_type": "execute_result"
    }
   ],
   "source": [
    "arr.sort()\n",
    "arr"
   ]
  },
  {
   "cell_type": "markdown",
   "id": "6e35f2af",
   "metadata": {},
   "source": [
    "##### **Crear datos aleatorios**"
   ]
  },
  {
   "cell_type": "code",
   "execution_count": null,
   "id": "3d2f3581",
   "metadata": {},
   "outputs": [
    {
     "data": {
      "text/html": [
       "<div>\n",
       "<style scoped>\n",
       "    .dataframe tbody tr th:only-of-type {\n",
       "        vertical-align: middle;\n",
       "    }\n",
       "\n",
       "    .dataframe tbody tr th {\n",
       "        vertical-align: top;\n",
       "    }\n",
       "\n",
       "    .dataframe thead th {\n",
       "        text-align: right;\n",
       "    }\n",
       "</style>\n",
       "<table border=\"1\" class=\"dataframe\">\n",
       "  <thead>\n",
       "    <tr style=\"text-align: right;\">\n",
       "      <th></th>\n",
       "      <th>Vendedor</th>\n",
       "      <th>Cantidad</th>\n",
       "      <th>estado</th>\n",
       "      <th>canal_venta</th>\n",
       "      <th>fecha</th>\n",
       "    </tr>\n",
       "  </thead>\n",
       "  <tbody>\n",
       "    <tr>\n",
       "      <th>0</th>\n",
       "      <td>Sam</td>\n",
       "      <td>464</td>\n",
       "      <td>Pendiente</td>\n",
       "      <td>Tienda Física</td>\n",
       "      <td>2024-05-12</td>\n",
       "    </tr>\n",
       "    <tr>\n",
       "      <th>1</th>\n",
       "      <td>Simba</td>\n",
       "      <td>468</td>\n",
       "      <td>Completado</td>\n",
       "      <td>Tienda Física</td>\n",
       "      <td>2024-01-07</td>\n",
       "    </tr>\n",
       "    <tr>\n",
       "      <th>2</th>\n",
       "      <td>Jared</td>\n",
       "      <td>368</td>\n",
       "      <td>Pendiente</td>\n",
       "      <td>Línea</td>\n",
       "      <td>2024-07-20</td>\n",
       "    </tr>\n",
       "    <tr>\n",
       "      <th>3</th>\n",
       "      <td>Said</td>\n",
       "      <td>427</td>\n",
       "      <td>Pendiente</td>\n",
       "      <td>Tienda Física</td>\n",
       "      <td>2024-09-06</td>\n",
       "    </tr>\n",
       "    <tr>\n",
       "      <th>4</th>\n",
       "      <td>Simba</td>\n",
       "      <td>441</td>\n",
       "      <td>Cancelado</td>\n",
       "      <td>Línea</td>\n",
       "      <td>2024-06-18</td>\n",
       "    </tr>\n",
       "    <tr>\n",
       "      <th>...</th>\n",
       "      <td>...</td>\n",
       "      <td>...</td>\n",
       "      <td>...</td>\n",
       "      <td>...</td>\n",
       "      <td>...</td>\n",
       "    </tr>\n",
       "    <tr>\n",
       "      <th>195</th>\n",
       "      <td>Sam</td>\n",
       "      <td>260</td>\n",
       "      <td>Pendiente</td>\n",
       "      <td>Tienda Física</td>\n",
       "      <td>2024-08-08</td>\n",
       "    </tr>\n",
       "    <tr>\n",
       "      <th>196</th>\n",
       "      <td>Sam</td>\n",
       "      <td>372</td>\n",
       "      <td>Completado</td>\n",
       "      <td>Línea</td>\n",
       "      <td>2024-03-05</td>\n",
       "    </tr>\n",
       "    <tr>\n",
       "      <th>197</th>\n",
       "      <td>Simba</td>\n",
       "      <td>466</td>\n",
       "      <td>Cancelado</td>\n",
       "      <td>Tienda Física</td>\n",
       "      <td>2024-11-27</td>\n",
       "    </tr>\n",
       "    <tr>\n",
       "      <th>198</th>\n",
       "      <td>Simba</td>\n",
       "      <td>302</td>\n",
       "      <td>Cancelado</td>\n",
       "      <td>Tienda Física</td>\n",
       "      <td>2024-07-21</td>\n",
       "    </tr>\n",
       "    <tr>\n",
       "      <th>199</th>\n",
       "      <td>Simba</td>\n",
       "      <td>428</td>\n",
       "      <td>Completado</td>\n",
       "      <td>Tienda Física</td>\n",
       "      <td>2024-10-11</td>\n",
       "    </tr>\n",
       "  </tbody>\n",
       "</table>\n",
       "<p>200 rows × 5 columns</p>\n",
       "</div>"
      ],
      "text/plain": [
       "    Vendedor  Cantidad      estado    canal_venta       fecha\n",
       "0        Sam       464   Pendiente  Tienda Física  2024-05-12\n",
       "1      Simba       468  Completado  Tienda Física  2024-01-07\n",
       "2      Jared       368   Pendiente          Línea  2024-07-20\n",
       "3       Said       427   Pendiente  Tienda Física  2024-09-06\n",
       "4      Simba       441   Cancelado          Línea  2024-06-18\n",
       "..       ...       ...         ...            ...         ...\n",
       "195      Sam       260   Pendiente  Tienda Física  2024-08-08\n",
       "196      Sam       372  Completado          Línea  2024-03-05\n",
       "197    Simba       466   Cancelado  Tienda Física  2024-11-27\n",
       "198    Simba       302   Cancelado  Tienda Física  2024-07-21\n",
       "199    Simba       428  Completado  Tienda Física  2024-10-11\n",
       "\n",
       "[200 rows x 5 columns]"
      ]
     },
     "execution_count": 162,
     "metadata": {},
     "output_type": "execute_result"
    }
   ],
   "source": [
    "vendedor_nombre = ['Said','Jared', 'Misra', 'Simba','Sam']\n",
    "cantidad = np.arange(200,500)\n",
    "\n",
    "dia = np.arange(1,30)\n",
    "mes = np.arange(1,13)\n",
    "anio = 2024\n",
    "\n",
    "canal_venta = ['Tienda Física', 'Línea']\n",
    "estado = ['Completado', 'Pendiente', 'Cancelado']\n",
    "\n",
    "lista_numeros = [random.choice(cantidad) for _ in range(0,200)]\n",
    "lista_nombres = [random.choice(vendedor_nombre) for _ in range(0,200)]\n",
    "lista_canal_venta = [random.choice(canal_venta) for _ in range(0,200)]\n",
    "lista_estado = [random.choice(estado) for _ in range(0,200)]\n",
    "lista_fecha = []\n",
    "\n",
    "\n",
    "for i in range(0,200):\n",
    "    dia_aleatorio = random.choice(dia)\n",
    "    mes_aleatorio = random.choice(mes)\n",
    "    fecha = datetime(anio, mes_aleatorio, dia_aleatorio).date()\n",
    "    lista_fecha.append(fecha)\n",
    "\n",
    "data = {\n",
    "    'Vendedor': lista_nombres,\n",
    "    'Cantidad': lista_numeros,\n",
    "    'estado': lista_estado,\n",
    "    'canal_venta': lista_canal_venta, \n",
    "    'fecha': lista_fecha\n",
    "}\n",
    "\n",
    "df = pd.DataFrame(data)\n",
    "df"
   ]
  },
  {
   "cell_type": "code",
   "execution_count": 164,
   "id": "ccefec1d",
   "metadata": {},
   "outputs": [
    {
     "name": "stdout",
     "output_type": "stream",
     "text": [
      "<class 'pandas.core.frame.DataFrame'>\n",
      "RangeIndex: 200 entries, 0 to 199\n",
      "Data columns (total 5 columns):\n",
      " #   Column       Non-Null Count  Dtype \n",
      "---  ------       --------------  ----- \n",
      " 0   Vendedor     200 non-null    object\n",
      " 1   Cantidad     200 non-null    int64 \n",
      " 2   estado       200 non-null    object\n",
      " 3   canal_venta  200 non-null    object\n",
      " 4   fecha        200 non-null    object\n",
      "dtypes: int64(1), object(4)\n",
      "memory usage: 7.9+ KB\n"
     ]
    }
   ],
   "source": [
    "df.info()"
   ]
  },
  {
   "cell_type": "code",
   "execution_count": 165,
   "id": "a6d06caa",
   "metadata": {},
   "outputs": [
    {
     "name": "stdout",
     "output_type": "stream",
     "text": [
      "<class 'pandas.core.frame.DataFrame'>\n",
      "RangeIndex: 200 entries, 0 to 199\n",
      "Data columns (total 5 columns):\n",
      " #   Column       Non-Null Count  Dtype         \n",
      "---  ------       --------------  -----         \n",
      " 0   Vendedor     200 non-null    object        \n",
      " 1   Cantidad     200 non-null    int64         \n",
      " 2   estado       200 non-null    object        \n",
      " 3   canal_venta  200 non-null    object        \n",
      " 4   fecha        200 non-null    datetime64[ns]\n",
      "dtypes: datetime64[ns](1), int64(1), object(3)\n",
      "memory usage: 7.9+ KB\n"
     ]
    }
   ],
   "source": [
    "df['fecha'] = pd.to_datetime(df['fecha'])\n",
    "df.info()"
   ]
  },
  {
   "cell_type": "markdown",
   "id": "715c44c9",
   "metadata": {},
   "source": [
    "### 🟢 Nivel Básico (Exploración y estadísticas)"
   ]
  },
  {
   "cell_type": "markdown",
   "id": "8dc154ba",
   "metadata": {},
   "source": [
    "***1.-¿Cuál es la cantidad total vendida en todos el año?***"
   ]
  },
  {
   "cell_type": "code",
   "execution_count": 170,
   "id": "7698bebe",
   "metadata": {},
   "outputs": [
    {
     "name": "stdout",
     "output_type": "stream",
     "text": [
      "Cantidad Vendidad en el año 2024: $69057\n"
     ]
    }
   ],
   "source": [
    "venta_2024 = df[df['fecha'].dt.year == 2024]\n",
    "cantidad_total_2024 = venta_2024['Cantidad'].sum()\n",
    "print(f'Cantidad Vendidad en el año 2024: ${cantidad_total_2024}')"
   ]
  },
  {
   "cell_type": "markdown",
   "id": "baea6531",
   "metadata": {},
   "source": [
    "***2.-¿Qué vendedor tiene más ventas acumuladas?***"
   ]
  },
  {
   "cell_type": "code",
   "execution_count": 174,
   "id": "575bb734",
   "metadata": {},
   "outputs": [
    {
     "data": {
      "text/plain": [
       "Vendedor\n",
       "Simba    18160\n",
       "Name: Cantidad, dtype: int64"
      ]
     },
     "execution_count": 174,
     "metadata": {},
     "output_type": "execute_result"
    }
   ],
   "source": [
    "vendedor_mas_ventas = df.groupby('Vendedor')['Cantidad'].sum()\n",
    "vendedor_mas_ventas.sort_values(ascending=False).head(1)"
   ]
  },
  {
   "cell_type": "markdown",
   "id": "3674b51b",
   "metadata": {},
   "source": [
    "***3.-¿Cuántas ventas hay por estado (Pendiente, Completado, Cancelado)?***"
   ]
  },
  {
   "cell_type": "code",
   "execution_count": null,
   "id": "a6035b95",
   "metadata": {},
   "outputs": [
    {
     "data": {
      "text/plain": [
       "estado\n",
       "Cancelado     73\n",
       "Completado    70\n",
       "Pendiente     57\n",
       "Name: count, dtype: int64"
      ]
     },
     "execution_count": 176,
     "metadata": {},
     "output_type": "execute_result"
    }
   ],
   "source": [
    "ventas_estado = df['estado'].value_counts()\n",
    "ventas_estado"
   ]
  },
  {
   "cell_type": "markdown",
   "id": "b4cd7f09",
   "metadata": {},
   "source": [
    "***4.-¿Cuál es la cantidad promedio por venta?***"
   ]
  },
  {
   "cell_type": "code",
   "execution_count": 180,
   "id": "8de56334",
   "metadata": {},
   "outputs": [
    {
     "name": "stdout",
     "output_type": "stream",
     "text": [
      "Cantidad promedio por venta: $345.29\n"
     ]
    }
   ],
   "source": [
    "promedio_venta = df['Cantidad'].mean()\n",
    "print(f'Cantidad promedio por venta: ${promedio_venta:.2f}')"
   ]
  },
  {
   "cell_type": "markdown",
   "id": "9c189df0",
   "metadata": {},
   "source": [
    "***5.-¿Qué canal de venta tuvo más ventas?***"
   ]
  },
  {
   "cell_type": "code",
   "execution_count": 183,
   "id": "be13f9e8",
   "metadata": {},
   "outputs": [
    {
     "data": {
      "text/plain": [
       "canal_venta\n",
       "Línea    103\n",
       "Name: count, dtype: int64"
      ]
     },
     "execution_count": 183,
     "metadata": {},
     "output_type": "execute_result"
    }
   ],
   "source": [
    "canal_venta = df['canal_venta'].value_counts()\n",
    "canal_venta.sort_values(ascending=False).head(1)"
   ]
  },
  {
   "cell_type": "code",
   "execution_count": null,
   "id": "be22c854",
   "metadata": {},
   "outputs": [
    {
     "data": {
      "text/html": [
       "<div>\n",
       "<style scoped>\n",
       "    .dataframe tbody tr th:only-of-type {\n",
       "        vertical-align: middle;\n",
       "    }\n",
       "\n",
       "    .dataframe tbody tr th {\n",
       "        vertical-align: top;\n",
       "    }\n",
       "\n",
       "    .dataframe thead th {\n",
       "        text-align: right;\n",
       "    }\n",
       "</style>\n",
       "<table border=\"1\" class=\"dataframe\">\n",
       "  <thead>\n",
       "    <tr style=\"text-align: right;\">\n",
       "      <th></th>\n",
       "      <th>Vendedor</th>\n",
       "      <th>Cantidad</th>\n",
       "      <th>estado</th>\n",
       "      <th>canal_venta</th>\n",
       "      <th>fecha</th>\n",
       "      <th>mes</th>\n",
       "      <th>mes_nombre</th>\n",
       "      <th>dia</th>\n",
       "    </tr>\n",
       "  </thead>\n",
       "  <tbody>\n",
       "    <tr>\n",
       "      <th>0</th>\n",
       "      <td>Sam</td>\n",
       "      <td>464</td>\n",
       "      <td>Pendiente</td>\n",
       "      <td>Tienda Física</td>\n",
       "      <td>2024-05-12</td>\n",
       "      <td>5</td>\n",
       "      <td>Mayo</td>\n",
       "      <td>12</td>\n",
       "    </tr>\n",
       "    <tr>\n",
       "      <th>1</th>\n",
       "      <td>Simba</td>\n",
       "      <td>468</td>\n",
       "      <td>Completado</td>\n",
       "      <td>Tienda Física</td>\n",
       "      <td>2024-01-07</td>\n",
       "      <td>1</td>\n",
       "      <td>Enero</td>\n",
       "      <td>7</td>\n",
       "    </tr>\n",
       "    <tr>\n",
       "      <th>2</th>\n",
       "      <td>Jared</td>\n",
       "      <td>368</td>\n",
       "      <td>Pendiente</td>\n",
       "      <td>Línea</td>\n",
       "      <td>2024-07-20</td>\n",
       "      <td>7</td>\n",
       "      <td>Julio</td>\n",
       "      <td>20</td>\n",
       "    </tr>\n",
       "    <tr>\n",
       "      <th>3</th>\n",
       "      <td>Said</td>\n",
       "      <td>427</td>\n",
       "      <td>Pendiente</td>\n",
       "      <td>Tienda Física</td>\n",
       "      <td>2024-09-06</td>\n",
       "      <td>9</td>\n",
       "      <td>Septiembre</td>\n",
       "      <td>6</td>\n",
       "    </tr>\n",
       "    <tr>\n",
       "      <th>4</th>\n",
       "      <td>Simba</td>\n",
       "      <td>441</td>\n",
       "      <td>Cancelado</td>\n",
       "      <td>Línea</td>\n",
       "      <td>2024-06-18</td>\n",
       "      <td>6</td>\n",
       "      <td>Junio</td>\n",
       "      <td>18</td>\n",
       "    </tr>\n",
       "    <tr>\n",
       "      <th>...</th>\n",
       "      <td>...</td>\n",
       "      <td>...</td>\n",
       "      <td>...</td>\n",
       "      <td>...</td>\n",
       "      <td>...</td>\n",
       "      <td>...</td>\n",
       "      <td>...</td>\n",
       "      <td>...</td>\n",
       "    </tr>\n",
       "    <tr>\n",
       "      <th>195</th>\n",
       "      <td>Sam</td>\n",
       "      <td>260</td>\n",
       "      <td>Pendiente</td>\n",
       "      <td>Tienda Física</td>\n",
       "      <td>2024-08-08</td>\n",
       "      <td>8</td>\n",
       "      <td>Agosto</td>\n",
       "      <td>8</td>\n",
       "    </tr>\n",
       "    <tr>\n",
       "      <th>196</th>\n",
       "      <td>Sam</td>\n",
       "      <td>372</td>\n",
       "      <td>Completado</td>\n",
       "      <td>Línea</td>\n",
       "      <td>2024-03-05</td>\n",
       "      <td>3</td>\n",
       "      <td>Marzo</td>\n",
       "      <td>5</td>\n",
       "    </tr>\n",
       "    <tr>\n",
       "      <th>197</th>\n",
       "      <td>Simba</td>\n",
       "      <td>466</td>\n",
       "      <td>Cancelado</td>\n",
       "      <td>Tienda Física</td>\n",
       "      <td>2024-11-27</td>\n",
       "      <td>11</td>\n",
       "      <td>Noviembre</td>\n",
       "      <td>27</td>\n",
       "    </tr>\n",
       "    <tr>\n",
       "      <th>198</th>\n",
       "      <td>Simba</td>\n",
       "      <td>302</td>\n",
       "      <td>Cancelado</td>\n",
       "      <td>Tienda Física</td>\n",
       "      <td>2024-07-21</td>\n",
       "      <td>7</td>\n",
       "      <td>Julio</td>\n",
       "      <td>21</td>\n",
       "    </tr>\n",
       "    <tr>\n",
       "      <th>199</th>\n",
       "      <td>Simba</td>\n",
       "      <td>428</td>\n",
       "      <td>Completado</td>\n",
       "      <td>Tienda Física</td>\n",
       "      <td>2024-10-11</td>\n",
       "      <td>10</td>\n",
       "      <td>Octubre</td>\n",
       "      <td>11</td>\n",
       "    </tr>\n",
       "  </tbody>\n",
       "</table>\n",
       "<p>200 rows × 8 columns</p>\n",
       "</div>"
      ],
      "text/plain": [
       "    Vendedor  Cantidad      estado    canal_venta      fecha  mes  mes_nombre  \\\n",
       "0        Sam       464   Pendiente  Tienda Física 2024-05-12    5        Mayo   \n",
       "1      Simba       468  Completado  Tienda Física 2024-01-07    1       Enero   \n",
       "2      Jared       368   Pendiente          Línea 2024-07-20    7       Julio   \n",
       "3       Said       427   Pendiente  Tienda Física 2024-09-06    9  Septiembre   \n",
       "4      Simba       441   Cancelado          Línea 2024-06-18    6       Junio   \n",
       "..       ...       ...         ...            ...        ...  ...         ...   \n",
       "195      Sam       260   Pendiente  Tienda Física 2024-08-08    8      Agosto   \n",
       "196      Sam       372  Completado          Línea 2024-03-05    3       Marzo   \n",
       "197    Simba       466   Cancelado  Tienda Física 2024-11-27   11   Noviembre   \n",
       "198    Simba       302   Cancelado  Tienda Física 2024-07-21    7       Julio   \n",
       "199    Simba       428  Completado  Tienda Física 2024-10-11   10     Octubre   \n",
       "\n",
       "     dia  \n",
       "0     12  \n",
       "1      7  \n",
       "2     20  \n",
       "3      6  \n",
       "4     18  \n",
       "..   ...  \n",
       "195    8  \n",
       "196    5  \n",
       "197   27  \n",
       "198   21  \n",
       "199   11  \n",
       "\n",
       "[200 rows x 8 columns]"
      ]
     },
     "execution_count": 238,
     "metadata": {},
     "output_type": "execute_result"
    }
   ],
   "source": [
    "# Crear un columna mes\n",
    "df['mes'] = df['fecha'].dt.month\n",
    "\n",
    "# Crear una columna dia\n",
    "df['dia'] = df['fecha'].dt.day\n",
    "\n",
    "# Transformamos los numeros a meses\n",
    "meses_nombre = {\n",
    "    1: 'Enero',\n",
    "    2: 'Febrero',\n",
    "    3: 'Marzo',\n",
    "    4: 'Abril',\n",
    "    5: 'Mayo',\n",
    "    6: 'Junio',\n",
    "    7: 'Julio',\n",
    "    8: 'Agosto',\n",
    "    9: 'Septiembre',\n",
    "    10: 'Octubre',\n",
    "    11: 'Noviembre',\n",
    "    12: 'Diciembre'\n",
    "}\n",
    "\n",
    "\n",
    "df['mes_nombre'] = df['mes'].replace(meses_nombre)\n",
    "df\n"
   ]
  },
  {
   "cell_type": "markdown",
   "id": "cc7a2ba6",
   "metadata": {},
   "source": [
    "### 🟡 Nivel Intermedio (Agrupamientos y fechas)"
   ]
  },
  {
   "cell_type": "markdown",
   "id": "9df3a0c1",
   "metadata": {},
   "source": [
    "***6.-Ventas por mes: ¿Cuántas ventas hubo en cada mes?***"
   ]
  },
  {
   "cell_type": "code",
   "execution_count": 199,
   "id": "4dc488d9",
   "metadata": {},
   "outputs": [
    {
     "data": {
      "text/plain": [
       "mes_nombre\n",
       "Junio    26\n",
       "Name: count, dtype: int64"
      ]
     },
     "execution_count": 199,
     "metadata": {},
     "output_type": "execute_result"
    }
   ],
   "source": [
    "ventas_por_mes = df['mes_nombre'].value_counts()\n",
    "ventas_por_mes.sort_values(ascending=False).head(1)"
   ]
  },
  {
   "cell_type": "markdown",
   "id": "ab438aa6",
   "metadata": {},
   "source": [
    "***7.-Cantidad total vendida por canal y estado (tabla cruzada)?***"
   ]
  },
  {
   "cell_type": "code",
   "execution_count": 217,
   "id": "071218c5",
   "metadata": {},
   "outputs": [
    {
     "data": {
      "text/plain": [
       "canal_venta    estado    \n",
       "Línea          Cancelado     12944\n",
       "               Completado    12316\n",
       "               Pendiente     10545\n",
       "Tienda Física  Cancelado     12611\n",
       "               Completado    11282\n",
       "               Pendiente      9359\n",
       "Name: Cantidad, dtype: int64"
      ]
     },
     "execution_count": 217,
     "metadata": {},
     "output_type": "execute_result"
    }
   ],
   "source": [
    "cantidad_total_canal_estado = df.groupby(['canal_venta','estado'])['Cantidad'].sum()\n",
    "cantidad_total_canal_estado"
   ]
  },
  {
   "cell_type": "code",
   "execution_count": 216,
   "id": "5fd609a9",
   "metadata": {},
   "outputs": [
    {
     "name": "stdout",
     "output_type": "stream",
     "text": [
      "\n",
      "Tabla cruzada de cantidad total vendida por canal y estado (usando pivot_table):\n",
      "estado         Cancelado  Completado  Pendiente\n",
      "canal_venta                                    \n",
      "Línea              12944       12316      10545\n",
      "Tienda Física      12611       11282       9359\n"
     ]
    }
   ],
   "source": [
    "tabla_cruzada_ventas = pd.pivot_table(df,\n",
    "                                      values='Cantidad',\n",
    "                                      index='canal_venta',\n",
    "                                      columns='estado',\n",
    "                                      aggfunc='sum',\n",
    "                                      fill_value=0) # Rellena los valores NaN con 0\n",
    "print(\"\\nTabla cruzada de cantidad total vendida por canal y estado (usando pivot_table):\")\n",
    "print(tabla_cruzada_ventas)"
   ]
  },
  {
   "cell_type": "markdown",
   "id": "2e5e9b8f",
   "metadata": {},
   "source": [
    "***8.-Ranking de vendedores por cantidad total vendida.***"
   ]
  },
  {
   "cell_type": "code",
   "execution_count": 225,
   "id": "a61b33af",
   "metadata": {},
   "outputs": [
    {
     "data": {
      "text/plain": [
       "Vendedor\n",
       "Simba    18160\n",
       "Said     13552\n",
       "Misra    13446\n",
       "Jared    12523\n",
       "Sam      11376\n",
       "Name: Cantidad, dtype: int64"
      ]
     },
     "execution_count": 225,
     "metadata": {},
     "output_type": "execute_result"
    }
   ],
   "source": [
    "vendedor_ranking = df.groupby('Vendedor')['Cantidad'].sum()\n",
    "vendedor_ranking.sort_values(ascending=False)"
   ]
  },
  {
   "cell_type": "markdown",
   "id": "bb2475e6",
   "metadata": {},
   "source": [
    "***9.-Filtra las ventas del segundo trimestre (abril-junio).***"
   ]
  },
  {
   "cell_type": "code",
   "execution_count": 237,
   "id": "32fb9d35",
   "metadata": {},
   "outputs": [
    {
     "data": {
      "text/html": [
       "<div>\n",
       "<style scoped>\n",
       "    .dataframe tbody tr th:only-of-type {\n",
       "        vertical-align: middle;\n",
       "    }\n",
       "\n",
       "    .dataframe tbody tr th {\n",
       "        vertical-align: top;\n",
       "    }\n",
       "\n",
       "    .dataframe thead th {\n",
       "        text-align: right;\n",
       "    }\n",
       "</style>\n",
       "<table border=\"1\" class=\"dataframe\">\n",
       "  <thead>\n",
       "    <tr style=\"text-align: right;\">\n",
       "      <th></th>\n",
       "      <th>Vendedor</th>\n",
       "      <th>Cantidad</th>\n",
       "      <th>estado</th>\n",
       "      <th>canal_venta</th>\n",
       "      <th>fecha</th>\n",
       "      <th>mes</th>\n",
       "      <th>mes_nombre</th>\n",
       "    </tr>\n",
       "  </thead>\n",
       "  <tbody>\n",
       "    <tr>\n",
       "      <th>0</th>\n",
       "      <td>Sam</td>\n",
       "      <td>464</td>\n",
       "      <td>Pendiente</td>\n",
       "      <td>Tienda Física</td>\n",
       "      <td>2024-05-12</td>\n",
       "      <td>5</td>\n",
       "      <td>Mayo</td>\n",
       "    </tr>\n",
       "    <tr>\n",
       "      <th>4</th>\n",
       "      <td>Simba</td>\n",
       "      <td>441</td>\n",
       "      <td>Cancelado</td>\n",
       "      <td>Línea</td>\n",
       "      <td>2024-06-18</td>\n",
       "      <td>6</td>\n",
       "      <td>Junio</td>\n",
       "    </tr>\n",
       "    <tr>\n",
       "      <th>5</th>\n",
       "      <td>Jared</td>\n",
       "      <td>402</td>\n",
       "      <td>Pendiente</td>\n",
       "      <td>Tienda Física</td>\n",
       "      <td>2024-06-21</td>\n",
       "      <td>6</td>\n",
       "      <td>Junio</td>\n",
       "    </tr>\n",
       "    <tr>\n",
       "      <th>13</th>\n",
       "      <td>Misra</td>\n",
       "      <td>448</td>\n",
       "      <td>Cancelado</td>\n",
       "      <td>Tienda Física</td>\n",
       "      <td>2024-06-14</td>\n",
       "      <td>6</td>\n",
       "      <td>Junio</td>\n",
       "    </tr>\n",
       "    <tr>\n",
       "      <th>14</th>\n",
       "      <td>Misra</td>\n",
       "      <td>491</td>\n",
       "      <td>Pendiente</td>\n",
       "      <td>Tienda Física</td>\n",
       "      <td>2024-05-27</td>\n",
       "      <td>5</td>\n",
       "      <td>Mayo</td>\n",
       "    </tr>\n",
       "    <tr>\n",
       "      <th>...</th>\n",
       "      <td>...</td>\n",
       "      <td>...</td>\n",
       "      <td>...</td>\n",
       "      <td>...</td>\n",
       "      <td>...</td>\n",
       "      <td>...</td>\n",
       "      <td>...</td>\n",
       "    </tr>\n",
       "    <tr>\n",
       "      <th>170</th>\n",
       "      <td>Misra</td>\n",
       "      <td>297</td>\n",
       "      <td>Completado</td>\n",
       "      <td>Tienda Física</td>\n",
       "      <td>2024-06-13</td>\n",
       "      <td>6</td>\n",
       "      <td>Junio</td>\n",
       "    </tr>\n",
       "    <tr>\n",
       "      <th>175</th>\n",
       "      <td>Jared</td>\n",
       "      <td>467</td>\n",
       "      <td>Completado</td>\n",
       "      <td>Línea</td>\n",
       "      <td>2024-04-05</td>\n",
       "      <td>4</td>\n",
       "      <td>Abril</td>\n",
       "    </tr>\n",
       "    <tr>\n",
       "      <th>176</th>\n",
       "      <td>Simba</td>\n",
       "      <td>407</td>\n",
       "      <td>Completado</td>\n",
       "      <td>Línea</td>\n",
       "      <td>2024-04-25</td>\n",
       "      <td>4</td>\n",
       "      <td>Abril</td>\n",
       "    </tr>\n",
       "    <tr>\n",
       "      <th>179</th>\n",
       "      <td>Simba</td>\n",
       "      <td>480</td>\n",
       "      <td>Cancelado</td>\n",
       "      <td>Línea</td>\n",
       "      <td>2024-06-14</td>\n",
       "      <td>6</td>\n",
       "      <td>Junio</td>\n",
       "    </tr>\n",
       "    <tr>\n",
       "      <th>189</th>\n",
       "      <td>Misra</td>\n",
       "      <td>464</td>\n",
       "      <td>Pendiente</td>\n",
       "      <td>Tienda Física</td>\n",
       "      <td>2024-06-16</td>\n",
       "      <td>6</td>\n",
       "      <td>Junio</td>\n",
       "    </tr>\n",
       "  </tbody>\n",
       "</table>\n",
       "<p>63 rows × 7 columns</p>\n",
       "</div>"
      ],
      "text/plain": [
       "    Vendedor  Cantidad      estado    canal_venta      fecha  mes mes_nombre\n",
       "0        Sam       464   Pendiente  Tienda Física 2024-05-12    5       Mayo\n",
       "4      Simba       441   Cancelado          Línea 2024-06-18    6      Junio\n",
       "5      Jared       402   Pendiente  Tienda Física 2024-06-21    6      Junio\n",
       "13     Misra       448   Cancelado  Tienda Física 2024-06-14    6      Junio\n",
       "14     Misra       491   Pendiente  Tienda Física 2024-05-27    5       Mayo\n",
       "..       ...       ...         ...            ...        ...  ...        ...\n",
       "170    Misra       297  Completado  Tienda Física 2024-06-13    6      Junio\n",
       "175    Jared       467  Completado          Línea 2024-04-05    4      Abril\n",
       "176    Simba       407  Completado          Línea 2024-04-25    4      Abril\n",
       "179    Simba       480   Cancelado          Línea 2024-06-14    6      Junio\n",
       "189    Misra       464   Pendiente  Tienda Física 2024-06-16    6      Junio\n",
       "\n",
       "[63 rows x 7 columns]"
      ]
     },
     "execution_count": 237,
     "metadata": {},
     "output_type": "execute_result"
    }
   ],
   "source": [
    "meses_filtro = ['Abril','Mayo','Junio']\n",
    "ventas_abril_a_julio = df[df['mes_nombre'].isin(meses_filtro)]\n",
    "ventas_abril_a_julio"
   ]
  },
  {
   "cell_type": "markdown",
   "id": "04e0f04f",
   "metadata": {},
   "source": [
    "***10.-¿Qué día tuvo la mayor cantidad de ventas realizadas?***"
   ]
  },
  {
   "cell_type": "code",
   "execution_count": 240,
   "id": "5bd64e29",
   "metadata": {},
   "outputs": [
    {
     "data": {
      "text/plain": [
       "dia\n",
       "9    4596\n",
       "Name: Cantidad, dtype: int64"
      ]
     },
     "execution_count": 240,
     "metadata": {},
     "output_type": "execute_result"
    }
   ],
   "source": [
    "dia_mas_ventas = df.groupby(['dia'])['Cantidad'].sum()\n",
    "dia_mas_ventas.sort_values(ascending=False).head(1)"
   ]
  },
  {
   "cell_type": "markdown",
   "id": "79da2177",
   "metadata": {},
   "source": [
    "### 🔵 Nivel Avanzado (Transformación y lógica de negocio)"
   ]
  },
  {
   "cell_type": "markdown",
   "id": "d6c0f4b4",
   "metadata": {},
   "source": [
    "***11.-Crea una columna mes a partir de la fecha, y agrupa ventas por mes y canal.***"
   ]
  },
  {
   "cell_type": "code",
   "execution_count": 242,
   "id": "e61002fc",
   "metadata": {},
   "outputs": [
    {
     "data": {
      "text/plain": [
       "mes  mes_nombre  canal_venta  \n",
       "1    Enero       Línea            4083\n",
       "                 Tienda Física    3100\n",
       "2    Febrero     Línea            4584\n",
       "                 Tienda Física    3265\n",
       "3    Marzo       Línea            3045\n",
       "                 Tienda Física    1899\n",
       "4    Abril       Línea            3457\n",
       "                 Tienda Física    2610\n",
       "5    Mayo        Línea            3480\n",
       "                 Tienda Física    2888\n",
       "6    Junio       Línea            4424\n",
       "                 Tienda Física    4723\n",
       "7    Julio       Línea            2416\n",
       "                 Tienda Física    3407\n",
       "8    Agosto      Línea            2941\n",
       "                 Tienda Física    2537\n",
       "9    Septiembre  Línea            2654\n",
       "                 Tienda Física    4593\n",
       "10   Octubre     Línea            2247\n",
       "                 Tienda Física    1325\n",
       "11   Noviembre   Línea            2474\n",
       "                 Tienda Física    2905\n",
       "Name: Cantidad, dtype: int64"
      ]
     },
     "execution_count": 242,
     "metadata": {},
     "output_type": "execute_result"
    }
   ],
   "source": [
    "# La columna mes ya existe\n",
    "ventas_mes_canal = df.groupby(['mes','mes_nombre','canal_venta'])['Cantidad'].sum()\n",
    "ventas_mes_canal"
   ]
  },
  {
   "cell_type": "markdown",
   "id": "4565b0a6",
   "metadata": {},
   "source": [
    "***12.-Agrega una columna objetivo_logrado si la cantidad es mayor a 400.***"
   ]
  },
  {
   "cell_type": "code",
   "execution_count": 243,
   "id": "995aee21",
   "metadata": {},
   "outputs": [
    {
     "data": {
      "text/html": [
       "<div>\n",
       "<style scoped>\n",
       "    .dataframe tbody tr th:only-of-type {\n",
       "        vertical-align: middle;\n",
       "    }\n",
       "\n",
       "    .dataframe tbody tr th {\n",
       "        vertical-align: top;\n",
       "    }\n",
       "\n",
       "    .dataframe thead th {\n",
       "        text-align: right;\n",
       "    }\n",
       "</style>\n",
       "<table border=\"1\" class=\"dataframe\">\n",
       "  <thead>\n",
       "    <tr style=\"text-align: right;\">\n",
       "      <th></th>\n",
       "      <th>Vendedor</th>\n",
       "      <th>Cantidad</th>\n",
       "      <th>estado</th>\n",
       "      <th>canal_venta</th>\n",
       "      <th>fecha</th>\n",
       "      <th>mes</th>\n",
       "      <th>mes_nombre</th>\n",
       "      <th>dia</th>\n",
       "      <th>objetivo_logrado</th>\n",
       "    </tr>\n",
       "  </thead>\n",
       "  <tbody>\n",
       "    <tr>\n",
       "      <th>0</th>\n",
       "      <td>Sam</td>\n",
       "      <td>464</td>\n",
       "      <td>Pendiente</td>\n",
       "      <td>Tienda Física</td>\n",
       "      <td>2024-05-12</td>\n",
       "      <td>5</td>\n",
       "      <td>Mayo</td>\n",
       "      <td>12</td>\n",
       "      <td>Logrado</td>\n",
       "    </tr>\n",
       "    <tr>\n",
       "      <th>1</th>\n",
       "      <td>Simba</td>\n",
       "      <td>468</td>\n",
       "      <td>Completado</td>\n",
       "      <td>Tienda Física</td>\n",
       "      <td>2024-01-07</td>\n",
       "      <td>1</td>\n",
       "      <td>Enero</td>\n",
       "      <td>7</td>\n",
       "      <td>Logrado</td>\n",
       "    </tr>\n",
       "    <tr>\n",
       "      <th>2</th>\n",
       "      <td>Jared</td>\n",
       "      <td>368</td>\n",
       "      <td>Pendiente</td>\n",
       "      <td>Línea</td>\n",
       "      <td>2024-07-20</td>\n",
       "      <td>7</td>\n",
       "      <td>Julio</td>\n",
       "      <td>20</td>\n",
       "      <td>No logrado</td>\n",
       "    </tr>\n",
       "    <tr>\n",
       "      <th>3</th>\n",
       "      <td>Said</td>\n",
       "      <td>427</td>\n",
       "      <td>Pendiente</td>\n",
       "      <td>Tienda Física</td>\n",
       "      <td>2024-09-06</td>\n",
       "      <td>9</td>\n",
       "      <td>Septiembre</td>\n",
       "      <td>6</td>\n",
       "      <td>Logrado</td>\n",
       "    </tr>\n",
       "    <tr>\n",
       "      <th>4</th>\n",
       "      <td>Simba</td>\n",
       "      <td>441</td>\n",
       "      <td>Cancelado</td>\n",
       "      <td>Línea</td>\n",
       "      <td>2024-06-18</td>\n",
       "      <td>6</td>\n",
       "      <td>Junio</td>\n",
       "      <td>18</td>\n",
       "      <td>Logrado</td>\n",
       "    </tr>\n",
       "    <tr>\n",
       "      <th>...</th>\n",
       "      <td>...</td>\n",
       "      <td>...</td>\n",
       "      <td>...</td>\n",
       "      <td>...</td>\n",
       "      <td>...</td>\n",
       "      <td>...</td>\n",
       "      <td>...</td>\n",
       "      <td>...</td>\n",
       "      <td>...</td>\n",
       "    </tr>\n",
       "    <tr>\n",
       "      <th>195</th>\n",
       "      <td>Sam</td>\n",
       "      <td>260</td>\n",
       "      <td>Pendiente</td>\n",
       "      <td>Tienda Física</td>\n",
       "      <td>2024-08-08</td>\n",
       "      <td>8</td>\n",
       "      <td>Agosto</td>\n",
       "      <td>8</td>\n",
       "      <td>No logrado</td>\n",
       "    </tr>\n",
       "    <tr>\n",
       "      <th>196</th>\n",
       "      <td>Sam</td>\n",
       "      <td>372</td>\n",
       "      <td>Completado</td>\n",
       "      <td>Línea</td>\n",
       "      <td>2024-03-05</td>\n",
       "      <td>3</td>\n",
       "      <td>Marzo</td>\n",
       "      <td>5</td>\n",
       "      <td>No logrado</td>\n",
       "    </tr>\n",
       "    <tr>\n",
       "      <th>197</th>\n",
       "      <td>Simba</td>\n",
       "      <td>466</td>\n",
       "      <td>Cancelado</td>\n",
       "      <td>Tienda Física</td>\n",
       "      <td>2024-11-27</td>\n",
       "      <td>11</td>\n",
       "      <td>Noviembre</td>\n",
       "      <td>27</td>\n",
       "      <td>Logrado</td>\n",
       "    </tr>\n",
       "    <tr>\n",
       "      <th>198</th>\n",
       "      <td>Simba</td>\n",
       "      <td>302</td>\n",
       "      <td>Cancelado</td>\n",
       "      <td>Tienda Física</td>\n",
       "      <td>2024-07-21</td>\n",
       "      <td>7</td>\n",
       "      <td>Julio</td>\n",
       "      <td>21</td>\n",
       "      <td>No logrado</td>\n",
       "    </tr>\n",
       "    <tr>\n",
       "      <th>199</th>\n",
       "      <td>Simba</td>\n",
       "      <td>428</td>\n",
       "      <td>Completado</td>\n",
       "      <td>Tienda Física</td>\n",
       "      <td>2024-10-11</td>\n",
       "      <td>10</td>\n",
       "      <td>Octubre</td>\n",
       "      <td>11</td>\n",
       "      <td>Logrado</td>\n",
       "    </tr>\n",
       "  </tbody>\n",
       "</table>\n",
       "<p>200 rows × 9 columns</p>\n",
       "</div>"
      ],
      "text/plain": [
       "    Vendedor  Cantidad      estado    canal_venta      fecha  mes  mes_nombre  \\\n",
       "0        Sam       464   Pendiente  Tienda Física 2024-05-12    5        Mayo   \n",
       "1      Simba       468  Completado  Tienda Física 2024-01-07    1       Enero   \n",
       "2      Jared       368   Pendiente          Línea 2024-07-20    7       Julio   \n",
       "3       Said       427   Pendiente  Tienda Física 2024-09-06    9  Septiembre   \n",
       "4      Simba       441   Cancelado          Línea 2024-06-18    6       Junio   \n",
       "..       ...       ...         ...            ...        ...  ...         ...   \n",
       "195      Sam       260   Pendiente  Tienda Física 2024-08-08    8      Agosto   \n",
       "196      Sam       372  Completado          Línea 2024-03-05    3       Marzo   \n",
       "197    Simba       466   Cancelado  Tienda Física 2024-11-27   11   Noviembre   \n",
       "198    Simba       302   Cancelado  Tienda Física 2024-07-21    7       Julio   \n",
       "199    Simba       428  Completado  Tienda Física 2024-10-11   10     Octubre   \n",
       "\n",
       "     dia objetivo_logrado  \n",
       "0     12          Logrado  \n",
       "1      7          Logrado  \n",
       "2     20       No logrado  \n",
       "3      6          Logrado  \n",
       "4     18          Logrado  \n",
       "..   ...              ...  \n",
       "195    8       No logrado  \n",
       "196    5       No logrado  \n",
       "197   27          Logrado  \n",
       "198   21       No logrado  \n",
       "199   11          Logrado  \n",
       "\n",
       "[200 rows x 9 columns]"
      ]
     },
     "execution_count": 243,
     "metadata": {},
     "output_type": "execute_result"
    }
   ],
   "source": [
    "df['objetivo_logrado'] = np.where(df['Cantidad'] > 400, 'Logrado', 'No logrado')\n",
    "df"
   ]
  },
  {
   "cell_type": "markdown",
   "id": "7ae25972",
   "metadata": {},
   "source": [
    "***13.-Calcula el porcentaje de ventas canceladas por cada vendedor.***"
   ]
  },
  {
   "cell_type": "code",
   "execution_count": 252,
   "id": "1fe4a4be",
   "metadata": {},
   "outputs": [
    {
     "data": {
      "text/plain": [
       "Vendedor\n",
       "Jared    4575\n",
       "Misra    4519\n",
       "Said     5046\n",
       "Sam      4094\n",
       "Simba    7321\n",
       "Name: Cantidad, dtype: int64"
      ]
     },
     "execution_count": 252,
     "metadata": {},
     "output_type": "execute_result"
    }
   ],
   "source": [
    "mask_cancelado = df['estado'] == 'Cancelado'\n",
    "df_cancelado = df[mask_cancelado]\n",
    "ventas_canceladas = df_cancelado.groupby('Vendedor')['Cantidad'].sum()\n",
    "ventas_canceladas"
   ]
  },
  {
   "cell_type": "markdown",
   "id": "6e415d3a",
   "metadata": {},
   "source": [
    "***14.-Simula precios por unidad aleatorios y calcula una columna monto_total = cantidad × precio_unitario.***"
   ]
  },
  {
   "cell_type": "code",
   "execution_count": 253,
   "id": "a4c29c86",
   "metadata": {},
   "outputs": [
    {
     "data": {
      "text/html": [
       "<div>\n",
       "<style scoped>\n",
       "    .dataframe tbody tr th:only-of-type {\n",
       "        vertical-align: middle;\n",
       "    }\n",
       "\n",
       "    .dataframe tbody tr th {\n",
       "        vertical-align: top;\n",
       "    }\n",
       "\n",
       "    .dataframe thead th {\n",
       "        text-align: right;\n",
       "    }\n",
       "</style>\n",
       "<table border=\"1\" class=\"dataframe\">\n",
       "  <thead>\n",
       "    <tr style=\"text-align: right;\">\n",
       "      <th></th>\n",
       "      <th>Vendedor</th>\n",
       "      <th>Cantidad</th>\n",
       "      <th>estado</th>\n",
       "      <th>canal_venta</th>\n",
       "      <th>fecha</th>\n",
       "      <th>mes</th>\n",
       "      <th>mes_nombre</th>\n",
       "      <th>dia</th>\n",
       "      <th>objetivo_logrado</th>\n",
       "      <th>monto_total</th>\n",
       "    </tr>\n",
       "  </thead>\n",
       "  <tbody>\n",
       "    <tr>\n",
       "      <th>0</th>\n",
       "      <td>Sam</td>\n",
       "      <td>464</td>\n",
       "      <td>Pendiente</td>\n",
       "      <td>Tienda Física</td>\n",
       "      <td>2024-05-12</td>\n",
       "      <td>5</td>\n",
       "      <td>Mayo</td>\n",
       "      <td>12</td>\n",
       "      <td>Logrado</td>\n",
       "      <td>5568</td>\n",
       "    </tr>\n",
       "    <tr>\n",
       "      <th>1</th>\n",
       "      <td>Simba</td>\n",
       "      <td>468</td>\n",
       "      <td>Completado</td>\n",
       "      <td>Tienda Física</td>\n",
       "      <td>2024-01-07</td>\n",
       "      <td>1</td>\n",
       "      <td>Enero</td>\n",
       "      <td>7</td>\n",
       "      <td>Logrado</td>\n",
       "      <td>3276</td>\n",
       "    </tr>\n",
       "    <tr>\n",
       "      <th>2</th>\n",
       "      <td>Jared</td>\n",
       "      <td>368</td>\n",
       "      <td>Pendiente</td>\n",
       "      <td>Línea</td>\n",
       "      <td>2024-07-20</td>\n",
       "      <td>7</td>\n",
       "      <td>Julio</td>\n",
       "      <td>20</td>\n",
       "      <td>No logrado</td>\n",
       "      <td>7360</td>\n",
       "    </tr>\n",
       "    <tr>\n",
       "      <th>3</th>\n",
       "      <td>Said</td>\n",
       "      <td>427</td>\n",
       "      <td>Pendiente</td>\n",
       "      <td>Tienda Física</td>\n",
       "      <td>2024-09-06</td>\n",
       "      <td>9</td>\n",
       "      <td>Septiembre</td>\n",
       "      <td>6</td>\n",
       "      <td>Logrado</td>\n",
       "      <td>2562</td>\n",
       "    </tr>\n",
       "    <tr>\n",
       "      <th>4</th>\n",
       "      <td>Simba</td>\n",
       "      <td>441</td>\n",
       "      <td>Cancelado</td>\n",
       "      <td>Línea</td>\n",
       "      <td>2024-06-18</td>\n",
       "      <td>6</td>\n",
       "      <td>Junio</td>\n",
       "      <td>18</td>\n",
       "      <td>Logrado</td>\n",
       "      <td>7938</td>\n",
       "    </tr>\n",
       "    <tr>\n",
       "      <th>...</th>\n",
       "      <td>...</td>\n",
       "      <td>...</td>\n",
       "      <td>...</td>\n",
       "      <td>...</td>\n",
       "      <td>...</td>\n",
       "      <td>...</td>\n",
       "      <td>...</td>\n",
       "      <td>...</td>\n",
       "      <td>...</td>\n",
       "      <td>...</td>\n",
       "    </tr>\n",
       "    <tr>\n",
       "      <th>195</th>\n",
       "      <td>Sam</td>\n",
       "      <td>260</td>\n",
       "      <td>Pendiente</td>\n",
       "      <td>Tienda Física</td>\n",
       "      <td>2024-08-08</td>\n",
       "      <td>8</td>\n",
       "      <td>Agosto</td>\n",
       "      <td>8</td>\n",
       "      <td>No logrado</td>\n",
       "      <td>2080</td>\n",
       "    </tr>\n",
       "    <tr>\n",
       "      <th>196</th>\n",
       "      <td>Sam</td>\n",
       "      <td>372</td>\n",
       "      <td>Completado</td>\n",
       "      <td>Línea</td>\n",
       "      <td>2024-03-05</td>\n",
       "      <td>3</td>\n",
       "      <td>Marzo</td>\n",
       "      <td>5</td>\n",
       "      <td>No logrado</td>\n",
       "      <td>1860</td>\n",
       "    </tr>\n",
       "    <tr>\n",
       "      <th>197</th>\n",
       "      <td>Simba</td>\n",
       "      <td>466</td>\n",
       "      <td>Cancelado</td>\n",
       "      <td>Tienda Física</td>\n",
       "      <td>2024-11-27</td>\n",
       "      <td>11</td>\n",
       "      <td>Noviembre</td>\n",
       "      <td>27</td>\n",
       "      <td>Logrado</td>\n",
       "      <td>12582</td>\n",
       "    </tr>\n",
       "    <tr>\n",
       "      <th>198</th>\n",
       "      <td>Simba</td>\n",
       "      <td>302</td>\n",
       "      <td>Cancelado</td>\n",
       "      <td>Tienda Física</td>\n",
       "      <td>2024-07-21</td>\n",
       "      <td>7</td>\n",
       "      <td>Julio</td>\n",
       "      <td>21</td>\n",
       "      <td>No logrado</td>\n",
       "      <td>6342</td>\n",
       "    </tr>\n",
       "    <tr>\n",
       "      <th>199</th>\n",
       "      <td>Simba</td>\n",
       "      <td>428</td>\n",
       "      <td>Completado</td>\n",
       "      <td>Tienda Física</td>\n",
       "      <td>2024-10-11</td>\n",
       "      <td>10</td>\n",
       "      <td>Octubre</td>\n",
       "      <td>11</td>\n",
       "      <td>Logrado</td>\n",
       "      <td>4708</td>\n",
       "    </tr>\n",
       "  </tbody>\n",
       "</table>\n",
       "<p>200 rows × 10 columns</p>\n",
       "</div>"
      ],
      "text/plain": [
       "    Vendedor  Cantidad      estado    canal_venta      fecha  mes  mes_nombre  \\\n",
       "0        Sam       464   Pendiente  Tienda Física 2024-05-12    5        Mayo   \n",
       "1      Simba       468  Completado  Tienda Física 2024-01-07    1       Enero   \n",
       "2      Jared       368   Pendiente          Línea 2024-07-20    7       Julio   \n",
       "3       Said       427   Pendiente  Tienda Física 2024-09-06    9  Septiembre   \n",
       "4      Simba       441   Cancelado          Línea 2024-06-18    6       Junio   \n",
       "..       ...       ...         ...            ...        ...  ...         ...   \n",
       "195      Sam       260   Pendiente  Tienda Física 2024-08-08    8      Agosto   \n",
       "196      Sam       372  Completado          Línea 2024-03-05    3       Marzo   \n",
       "197    Simba       466   Cancelado  Tienda Física 2024-11-27   11   Noviembre   \n",
       "198    Simba       302   Cancelado  Tienda Física 2024-07-21    7       Julio   \n",
       "199    Simba       428  Completado  Tienda Física 2024-10-11   10     Octubre   \n",
       "\n",
       "     dia objetivo_logrado  monto_total  \n",
       "0     12          Logrado         5568  \n",
       "1      7          Logrado         3276  \n",
       "2     20       No logrado         7360  \n",
       "3      6          Logrado         2562  \n",
       "4     18          Logrado         7938  \n",
       "..   ...              ...          ...  \n",
       "195    8       No logrado         2080  \n",
       "196    5       No logrado         1860  \n",
       "197   27          Logrado        12582  \n",
       "198   21       No logrado         6342  \n",
       "199   11          Logrado         4708  \n",
       "\n",
       "[200 rows x 10 columns]"
      ]
     },
     "execution_count": 253,
     "metadata": {},
     "output_type": "execute_result"
    }
   ],
   "source": [
    "# No existe una columna \"cantidaa\" por lo que ocupare la de dia para simular cantidad\n",
    "df['monto_total'] = df['Cantidad'] * df['dia']\n",
    "df"
   ]
  },
  {
   "cell_type": "markdown",
   "id": "7ae59623",
   "metadata": {},
   "source": [
    "***15.-Agrega una columna con la categoría de venta:***\n",
    "\n",
    "* Alta si la cantidad > 450\n",
    "* Media si está entre 350–450\n",
    "* Baja si < 350\n"
   ]
  },
  {
   "cell_type": "code",
   "execution_count": 254,
   "id": "89e7a16d",
   "metadata": {},
   "outputs": [
    {
     "data": {
      "text/html": [
       "<div>\n",
       "<style scoped>\n",
       "    .dataframe tbody tr th:only-of-type {\n",
       "        vertical-align: middle;\n",
       "    }\n",
       "\n",
       "    .dataframe tbody tr th {\n",
       "        vertical-align: top;\n",
       "    }\n",
       "\n",
       "    .dataframe thead th {\n",
       "        text-align: right;\n",
       "    }\n",
       "</style>\n",
       "<table border=\"1\" class=\"dataframe\">\n",
       "  <thead>\n",
       "    <tr style=\"text-align: right;\">\n",
       "      <th></th>\n",
       "      <th>Vendedor</th>\n",
       "      <th>Cantidad</th>\n",
       "      <th>estado</th>\n",
       "      <th>canal_venta</th>\n",
       "      <th>fecha</th>\n",
       "      <th>mes</th>\n",
       "      <th>mes_nombre</th>\n",
       "      <th>dia</th>\n",
       "      <th>objetivo_logrado</th>\n",
       "      <th>monto_total</th>\n",
       "      <th>venta</th>\n",
       "    </tr>\n",
       "  </thead>\n",
       "  <tbody>\n",
       "    <tr>\n",
       "      <th>0</th>\n",
       "      <td>Sam</td>\n",
       "      <td>464</td>\n",
       "      <td>Pendiente</td>\n",
       "      <td>Tienda Física</td>\n",
       "      <td>2024-05-12</td>\n",
       "      <td>5</td>\n",
       "      <td>Mayo</td>\n",
       "      <td>12</td>\n",
       "      <td>Logrado</td>\n",
       "      <td>5568</td>\n",
       "      <td>Alta</td>\n",
       "    </tr>\n",
       "    <tr>\n",
       "      <th>1</th>\n",
       "      <td>Simba</td>\n",
       "      <td>468</td>\n",
       "      <td>Completado</td>\n",
       "      <td>Tienda Física</td>\n",
       "      <td>2024-01-07</td>\n",
       "      <td>1</td>\n",
       "      <td>Enero</td>\n",
       "      <td>7</td>\n",
       "      <td>Logrado</td>\n",
       "      <td>3276</td>\n",
       "      <td>Alta</td>\n",
       "    </tr>\n",
       "    <tr>\n",
       "      <th>2</th>\n",
       "      <td>Jared</td>\n",
       "      <td>368</td>\n",
       "      <td>Pendiente</td>\n",
       "      <td>Línea</td>\n",
       "      <td>2024-07-20</td>\n",
       "      <td>7</td>\n",
       "      <td>Julio</td>\n",
       "      <td>20</td>\n",
       "      <td>No logrado</td>\n",
       "      <td>7360</td>\n",
       "      <td>Media</td>\n",
       "    </tr>\n",
       "    <tr>\n",
       "      <th>3</th>\n",
       "      <td>Said</td>\n",
       "      <td>427</td>\n",
       "      <td>Pendiente</td>\n",
       "      <td>Tienda Física</td>\n",
       "      <td>2024-09-06</td>\n",
       "      <td>9</td>\n",
       "      <td>Septiembre</td>\n",
       "      <td>6</td>\n",
       "      <td>Logrado</td>\n",
       "      <td>2562</td>\n",
       "      <td>Media</td>\n",
       "    </tr>\n",
       "    <tr>\n",
       "      <th>4</th>\n",
       "      <td>Simba</td>\n",
       "      <td>441</td>\n",
       "      <td>Cancelado</td>\n",
       "      <td>Línea</td>\n",
       "      <td>2024-06-18</td>\n",
       "      <td>6</td>\n",
       "      <td>Junio</td>\n",
       "      <td>18</td>\n",
       "      <td>Logrado</td>\n",
       "      <td>7938</td>\n",
       "      <td>Media</td>\n",
       "    </tr>\n",
       "    <tr>\n",
       "      <th>...</th>\n",
       "      <td>...</td>\n",
       "      <td>...</td>\n",
       "      <td>...</td>\n",
       "      <td>...</td>\n",
       "      <td>...</td>\n",
       "      <td>...</td>\n",
       "      <td>...</td>\n",
       "      <td>...</td>\n",
       "      <td>...</td>\n",
       "      <td>...</td>\n",
       "      <td>...</td>\n",
       "    </tr>\n",
       "    <tr>\n",
       "      <th>195</th>\n",
       "      <td>Sam</td>\n",
       "      <td>260</td>\n",
       "      <td>Pendiente</td>\n",
       "      <td>Tienda Física</td>\n",
       "      <td>2024-08-08</td>\n",
       "      <td>8</td>\n",
       "      <td>Agosto</td>\n",
       "      <td>8</td>\n",
       "      <td>No logrado</td>\n",
       "      <td>2080</td>\n",
       "      <td>Baja</td>\n",
       "    </tr>\n",
       "    <tr>\n",
       "      <th>196</th>\n",
       "      <td>Sam</td>\n",
       "      <td>372</td>\n",
       "      <td>Completado</td>\n",
       "      <td>Línea</td>\n",
       "      <td>2024-03-05</td>\n",
       "      <td>3</td>\n",
       "      <td>Marzo</td>\n",
       "      <td>5</td>\n",
       "      <td>No logrado</td>\n",
       "      <td>1860</td>\n",
       "      <td>Media</td>\n",
       "    </tr>\n",
       "    <tr>\n",
       "      <th>197</th>\n",
       "      <td>Simba</td>\n",
       "      <td>466</td>\n",
       "      <td>Cancelado</td>\n",
       "      <td>Tienda Física</td>\n",
       "      <td>2024-11-27</td>\n",
       "      <td>11</td>\n",
       "      <td>Noviembre</td>\n",
       "      <td>27</td>\n",
       "      <td>Logrado</td>\n",
       "      <td>12582</td>\n",
       "      <td>Alta</td>\n",
       "    </tr>\n",
       "    <tr>\n",
       "      <th>198</th>\n",
       "      <td>Simba</td>\n",
       "      <td>302</td>\n",
       "      <td>Cancelado</td>\n",
       "      <td>Tienda Física</td>\n",
       "      <td>2024-07-21</td>\n",
       "      <td>7</td>\n",
       "      <td>Julio</td>\n",
       "      <td>21</td>\n",
       "      <td>No logrado</td>\n",
       "      <td>6342</td>\n",
       "      <td>Baja</td>\n",
       "    </tr>\n",
       "    <tr>\n",
       "      <th>199</th>\n",
       "      <td>Simba</td>\n",
       "      <td>428</td>\n",
       "      <td>Completado</td>\n",
       "      <td>Tienda Física</td>\n",
       "      <td>2024-10-11</td>\n",
       "      <td>10</td>\n",
       "      <td>Octubre</td>\n",
       "      <td>11</td>\n",
       "      <td>Logrado</td>\n",
       "      <td>4708</td>\n",
       "      <td>Media</td>\n",
       "    </tr>\n",
       "  </tbody>\n",
       "</table>\n",
       "<p>200 rows × 11 columns</p>\n",
       "</div>"
      ],
      "text/plain": [
       "    Vendedor  Cantidad      estado    canal_venta      fecha  mes  mes_nombre  \\\n",
       "0        Sam       464   Pendiente  Tienda Física 2024-05-12    5        Mayo   \n",
       "1      Simba       468  Completado  Tienda Física 2024-01-07    1       Enero   \n",
       "2      Jared       368   Pendiente          Línea 2024-07-20    7       Julio   \n",
       "3       Said       427   Pendiente  Tienda Física 2024-09-06    9  Septiembre   \n",
       "4      Simba       441   Cancelado          Línea 2024-06-18    6       Junio   \n",
       "..       ...       ...         ...            ...        ...  ...         ...   \n",
       "195      Sam       260   Pendiente  Tienda Física 2024-08-08    8      Agosto   \n",
       "196      Sam       372  Completado          Línea 2024-03-05    3       Marzo   \n",
       "197    Simba       466   Cancelado  Tienda Física 2024-11-27   11   Noviembre   \n",
       "198    Simba       302   Cancelado  Tienda Física 2024-07-21    7       Julio   \n",
       "199    Simba       428  Completado  Tienda Física 2024-10-11   10     Octubre   \n",
       "\n",
       "     dia objetivo_logrado  monto_total  venta  \n",
       "0     12          Logrado         5568   Alta  \n",
       "1      7          Logrado         3276   Alta  \n",
       "2     20       No logrado         7360  Media  \n",
       "3      6          Logrado         2562  Media  \n",
       "4     18          Logrado         7938  Media  \n",
       "..   ...              ...          ...    ...  \n",
       "195    8       No logrado         2080   Baja  \n",
       "196    5       No logrado         1860  Media  \n",
       "197   27          Logrado        12582   Alta  \n",
       "198   21       No logrado         6342   Baja  \n",
       "199   11          Logrado         4708  Media  \n",
       "\n",
       "[200 rows x 11 columns]"
      ]
     },
     "execution_count": 254,
     "metadata": {},
     "output_type": "execute_result"
    }
   ],
   "source": [
    "# Definir las condiciones\n",
    "condiciones = [\n",
    "    df['Cantidad'] > 450,                             \n",
    "    (df['Cantidad'] >= 350) & (df['Cantidad'] <= 450)\n",
    "]\n",
    "\n",
    "# Definir las opciones correspondientes a cada condición\n",
    "opciones = ['Alta', 'Media']\n",
    "\n",
    "# Crear la columna 'venta' usando np.select()\n",
    "# El valor 'Baja' será el default si ninguna de las condiciones anteriores se cumple\n",
    "df['venta'] = np.select(condiciones, opciones, default='Baja')\n",
    "\n",
    "df"
   ]
  },
  {
   "cell_type": "markdown",
   "id": "486f6139",
   "metadata": {},
   "source": [
    "### 🔴 Nivel Experto (Storytelling y visualización)"
   ]
  },
  {
   "cell_type": "markdown",
   "id": "9137f380",
   "metadata": {},
   "source": [
    "***16.-¿Cómo se comportan las ventas a lo largo del año? Grafica una serie temporal.***"
   ]
  },
  {
   "cell_type": "code",
   "execution_count": 290,
   "id": "f91ff1ee",
   "metadata": {},
   "outputs": [
    {
     "name": "stdout",
     "output_type": "stream",
     "text": [
      "mes_nombre\n",
      "Enero         7183\n",
      "Febrero       7849\n",
      "Marzo         4944\n",
      "Abril         6067\n",
      "Mayo          6368\n",
      "Junio         9147\n",
      "Julio         5823\n",
      "Agosto        5478\n",
      "Septiembre    7247\n",
      "Octubre       3572\n",
      "Noviembre     5379\n",
      "Diciembre        0\n",
      "Name: Cantidad, dtype: int64\n",
      "mes\n",
      "1     7183\n",
      "2     7849\n",
      "3     4944\n",
      "4     6067\n",
      "5     6368\n",
      "6     9147\n",
      "7     5823\n",
      "8     5478\n",
      "9     7247\n",
      "10    3572\n",
      "11    5379\n",
      "Name: Cantidad, dtype: int64\n"
     ]
    },
    {
     "name": "stderr",
     "output_type": "stream",
     "text": [
      "C:\\Users\\52771\\AppData\\Local\\Temp\\ipykernel_10332\\1064103317.py:10: FutureWarning: The default of observed=False is deprecated and will be changed to True in a future version of pandas. Pass observed=False to retain current behavior or observed=True to adopt the future default and silence this warning.\n",
      "  largo_del_anio = df.groupby(['mes_nombre'])['Cantidad'].sum()\n"
     ]
    }
   ],
   "source": [
    "# Lista con los meses ordenados cronologicamente\n",
    "orden_meses = [\n",
    "    'Enero', 'Febrero', 'Marzo', 'Abril', 'Mayo', 'Junio',\n",
    "    'Julio', 'Agosto', 'Septiembre', 'Octubre', 'Noviembre', 'Diciembre'\n",
    "]\n",
    "\n",
    "# Convertir la columna 'mes_nombre' a tipo categórico ordenado\n",
    "df['mes_nombre'] = pd.Categorical(df['mes_nombre'], categories=orden_meses, ordered=True)\n",
    "\n",
    "largo_del_anio = df.groupby(['mes_nombre'])['Cantidad'].sum()\n",
    "ass = df.groupby(['mes'])['Cantidad'].sum()\n",
    "print(largo_del_anio)\n",
    "print(ass)\n",
    "# largo_del_anio\n",
    "# print(f'index: {largo_del_anio.index}')\n",
    "# print('\\n')\n",
    "# print(f'value: {largo_del_anio.values}')\n",
    "\n",
    "# plt.figure(figsize=(15,8))\n",
    "# plt.plot(largo_del_anio.index, largo_del_anio.values)\n",
    "# plt.show()"
   ]
  }
 ],
 "metadata": {
  "kernelspec": {
   "display_name": "venv",
   "language": "python",
   "name": "python3"
  },
  "language_info": {
   "codemirror_mode": {
    "name": "ipython",
    "version": 3
   },
   "file_extension": ".py",
   "mimetype": "text/x-python",
   "name": "python",
   "nbconvert_exporter": "python",
   "pygments_lexer": "ipython3",
   "version": "3.12.1"
  }
 },
 "nbformat": 4,
 "nbformat_minor": 5
}
